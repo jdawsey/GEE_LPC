{
 "cells": [
  {
   "cell_type": "markdown",
   "id": "64eca540-f83b-4795-abfd-bd54e7454113",
   "metadata": {},
   "source": [
    "Vector to raster"
   ]
  },
  {
   "cell_type": "markdown",
   "id": "ae84b3b0-38a8-4373-9b39-89a026d889c8",
   "metadata": {},
   "source": [
    "One option: \\\n",
    "https://towardsdatascience.com/use-python-to-convert-polygons-to-raster-with-gdal-rasterizelayer-b0de1ec3267"
   ]
  },
  {
   "cell_type": "code",
   "execution_count": null,
   "id": "d28b32da-3e30-4f37-9457-ca2240297ca9",
   "metadata": {},
   "outputs": [],
   "source": [
    "import gdal \n",
    "import ogr"
   ]
  },
  {
   "cell_type": "code",
   "execution_count": null,
   "id": "e674773f-ce04-4566-9402-2f7596641d3b",
   "metadata": {},
   "outputs": [],
   "source": [
    "fn_ras = 'path/to/raster'\n",
    "fn_vec = 'path/to/vector' ras_ds = gdal.Open(fn_ras) \n",
    "vec_ds = gdal.Open(fn_vec) lyr = vec_ds.GetLayer() geot = ras_ds.GetGeoTransform()"
   ]
  },
  {
   "cell_type": "code",
   "execution_count": null,
   "id": "6e91c739-282d-4d56-bcff-5f1d4ae17715",
   "metadata": {},
   "outputs": [],
   "source": [
    "drv_tiff = gdal.GetDriverByName(\"GTiff\") \n",
    "chn_ras_ds = drv_tiff.Create(out_net, ras_ds.RasterXSize, ras_ds.RasterYSize, 1, gdal.GDT_Float32)\n",
    "chn_ras_ds.SetGeoTransform(geot)"
   ]
  },
  {
   "cell_type": "code",
   "execution_count": null,
   "id": "1ee8321e-559e-4b61-ba40-a1ee62119da4",
   "metadata": {},
   "outputs": [],
   "source": [
    "gdal.RasterizeLayer(chn_ras_ds, [1], lyr, options=['ATTRIBUTE=chn_id'])\n",
    "chn_ras_ds.GetRasterBand(1).SetNoDataValue(0.0) \n",
    "chn_ras_ds = None"
   ]
  },
  {
   "cell_type": "markdown",
   "id": "c802f020-b111-4261-bbfa-cdb99a41d002",
   "metadata": {},
   "source": [
    "Another option: \\\n",
    "https://pygis.io/docs/e_raster_rasterize.html"
   ]
  },
  {
   "cell_type": "code",
   "execution_count": null,
   "id": "45af9186-9613-493c-9f36-c25011768017",
   "metadata": {},
   "outputs": [],
   "source": []
  },
  {
   "cell_type": "markdown",
   "id": "4363d1a8-9096-48b9-8609-fa9c9e5cc957",
   "metadata": {},
   "source": [
    "Last option from chatgpt"
   ]
  },
  {
   "cell_type": "code",
   "execution_count": 1,
   "id": "3a27377d-246c-4bda-86e1-790f6fda0d38",
   "metadata": {},
   "outputs": [
    {
     "ename": "ModuleNotFoundError",
     "evalue": "No module named 'rasterio'",
     "output_type": "error",
     "traceback": [
      "\u001b[1;31m---------------------------------------------------------------------------\u001b[0m",
      "\u001b[1;31mModuleNotFoundError\u001b[0m                       Traceback (most recent call last)",
      "Cell \u001b[1;32mIn[1], line 2\u001b[0m\n\u001b[0;32m      1\u001b[0m \u001b[38;5;28;01mimport\u001b[39;00m \u001b[38;5;21;01mgeopandas\u001b[39;00m \u001b[38;5;28;01mas\u001b[39;00m \u001b[38;5;21;01mgpd\u001b[39;00m\n\u001b[1;32m----> 2\u001b[0m \u001b[38;5;28;01mimport\u001b[39;00m \u001b[38;5;21;01mrasterio\u001b[39;00m\n\u001b[0;32m      3\u001b[0m \u001b[38;5;28;01mfrom\u001b[39;00m \u001b[38;5;21;01mrasterio\u001b[39;00m\u001b[38;5;21;01m.\u001b[39;00m\u001b[38;5;21;01mfeatures\u001b[39;00m \u001b[38;5;28;01mimport\u001b[39;00m rasterize\n\u001b[0;32m      4\u001b[0m \u001b[38;5;28;01mfrom\u001b[39;00m \u001b[38;5;21;01mshapely\u001b[39;00m\u001b[38;5;21;01m.\u001b[39;00m\u001b[38;5;21;01mgeometry\u001b[39;00m \u001b[38;5;28;01mimport\u001b[39;00m box\n",
      "\u001b[1;31mModuleNotFoundError\u001b[0m: No module named 'rasterio'"
     ]
    }
   ],
   "source": [
    "import geopandas as gpd\n",
    "import rasterio\n",
    "from rasterio.features import rasterize\n",
    "from shapely.geometry import box"
   ]
  },
  {
   "cell_type": "code",
   "execution_count": null,
   "id": "3fa81a95-fc91-4cb3-ad84-3423bb06cb73",
   "metadata": {},
   "outputs": [],
   "source": [
    "# Load the polygon data\n",
    "gdf = gpd.read_file('path_to_your_polygon_file.shp')\n",
    "\n",
    "# Define the raster properties\n",
    "transform = rasterio.transform.from_origin(west=gdf.total_bounds[0],\n",
    "                                           north=gdf.total_bounds[3],\n",
    "                                           xsize=1, ysize=1)  # Adjust cell size as needed\n",
    "width = int((gdf.total_bounds[2] - gdf.total_bounds[0]) / 30)\n",
    "height = int((gdf.total_bounds[3] - gdf.total_bounds[1]) / 30)\n",
    "\n",
    "# Create an empty array for the raster data\n",
    "raster = rasterize(\n",
    "    ((geom, value) for geom, value in zip(gdf.geometry, gdf['your_attribute'])),\n",
    "    out_shape=(height, width),\n",
    "    transform=transform,\n",
    "    fill=0,  # Value to fill for areas not covered by any polygons\n",
    "    dtype='int32'\n",
    ")\n",
    "\n",
    "# Save the raster to a file\n",
    "with rasterio.open(\n",
    "    'output_raster.tif',\n",
    "    'w',\n",
    "    driver='GTiff',\n",
    "    height=raster.shape[0],\n",
    "    width=raster.shape[1],\n",
    "    count=1,\n",
    "    dtype=rasterio.int32,\n",
    "    crs=gdf.crs,\n",
    "    transform=transform,\n",
    ") as dst:\n",
    "    dst.write(raster, 1)\n",
    "\n",
    "print(\"Rasterization complete.\")"
   ]
  },
  {
   "cell_type": "markdown",
   "id": "e7923674-b0ff-4042-bdcd-8730af842634",
   "metadata": {},
   "source": [
    "Displaying"
   ]
  },
  {
   "cell_type": "code",
   "execution_count": null,
   "id": "b2cc2232-9181-4147-b0db-96bab96c5b1b",
   "metadata": {},
   "outputs": [],
   "source": [
    "import rasterio\n",
    "import matplotlib.pyplot as plt\n",
    "\n",
    "# Open the raster file\n",
    "raster_file = 'output_raster.tif'\n",
    "with rasterio.open(raster_file) as src:\n",
    "    raster_data = src.read(1)  # Read the first band\n",
    "    extent = (src.bounds.left, src.bounds.right, src.bounds.bottom, src.bounds.top)\n",
    "\n",
    "# Display the raster data\n",
    "plt.figure(figsize=(10, 10))\n",
    "plt.imshow(raster_data, cmap='viridis', extent=extent)\n",
    "plt.colorbar(label='Attribute Value')\n",
    "plt.title('Rasterized Attribute')\n",
    "plt.xlabel('Longitude')\n",
    "plt.ylabel('Latitude')\n",
    "plt.grid(True)\n",
    "plt.show()"
   ]
  }
 ],
 "metadata": {
  "kernelspec": {
   "display_name": "Python 3 (ipykernel)",
   "language": "python",
   "name": "python3"
  },
  "language_info": {
   "codemirror_mode": {
    "name": "ipython",
    "version": 3
   },
   "file_extension": ".py",
   "mimetype": "text/x-python",
   "name": "python",
   "nbconvert_exporter": "python",
   "pygments_lexer": "ipython3",
   "version": "3.12.1"
  }
 },
 "nbformat": 4,
 "nbformat_minor": 5
}
