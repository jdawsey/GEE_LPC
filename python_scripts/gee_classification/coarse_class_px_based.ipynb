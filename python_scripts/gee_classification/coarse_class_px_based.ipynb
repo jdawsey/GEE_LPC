{
 "cells": [
  {
   "cell_type": "code",
   "execution_count": 13,
   "id": "08d6f26b-09a2-4b3c-b4d6-2d8f060b832d",
   "metadata": {},
   "outputs": [
    {
     "data": {
      "text/html": [
       "\n",
       "            <style>\n",
       "                .geemap-dark {\n",
       "                    --jp-widgets-color: white;\n",
       "                    --jp-widgets-label-color: white;\n",
       "                    --jp-ui-font-color1: white;\n",
       "                    --jp-layout-color2: #454545;\n",
       "                    background-color: #383838;\n",
       "                }\n",
       "                    \n",
       "                .geemap-dark .jupyter-button {\n",
       "                    --jp-layout-color3: #383838;\n",
       "                }\n",
       "                \n",
       "                .geemap-colab {\n",
       "                    background-color: var(--colab-primary-surface-color, white);\n",
       "                }\n",
       "                    \n",
       "                .geemap-colab .jupyter-button {\n",
       "                    --jp-layout-color3: var(--colab-primary-surface-color, white);\n",
       "                }\n",
       "            </style>\n",
       "            "
      ],
      "text/plain": [
       "<IPython.core.display.HTML object>"
      ]
     },
     "metadata": {},
     "output_type": "display_data"
    }
   ],
   "source": [
    "import ee\n",
    "import geemap\n",
    "import json\n",
    "import os\n",
    "#from geemap import geojson_to_ee\n",
    "from ipyleaflet import GeoJSON\n",
    "import segment_testing_my_gee_functions as mgf\n",
    "import simple_fishnet as fish"
   ]
  },
  {
   "cell_type": "code",
   "execution_count": 3,
   "id": "0d6d9225-371a-4336-91ee-0cfc88fd7c65",
   "metadata": {},
   "outputs": [
    {
     "data": {
      "text/html": [
       "\n",
       "            <style>\n",
       "                .geemap-dark {\n",
       "                    --jp-widgets-color: white;\n",
       "                    --jp-widgets-label-color: white;\n",
       "                    --jp-ui-font-color1: white;\n",
       "                    --jp-layout-color2: #454545;\n",
       "                    background-color: #383838;\n",
       "                }\n",
       "                    \n",
       "                .geemap-dark .jupyter-button {\n",
       "                    --jp-layout-color3: #383838;\n",
       "                }\n",
       "                \n",
       "                .geemap-colab {\n",
       "                    background-color: var(--colab-primary-surface-color, white);\n",
       "                }\n",
       "                    \n",
       "                .geemap-colab .jupyter-button {\n",
       "                    --jp-layout-color3: var(--colab-primary-surface-color, white);\n",
       "                }\n",
       "            </style>\n",
       "            "
      ],
      "text/plain": [
       "<IPython.core.display.HTML object>"
      ]
     },
     "metadata": {},
     "output_type": "display_data"
    }
   ],
   "source": [
    "ee.Authenticate()\n",
    "#Initializing the ee project\n",
    "\n",
    "ee.Initialize(project = 'ee-jdawsey')"
   ]
  },
  {
   "cell_type": "code",
   "execution_count": 10,
   "id": "569d871f-1285-4dfc-838b-ab3fc570b5ac",
   "metadata": {},
   "outputs": [
    {
     "data": {
      "text/html": [
       "\n",
       "            <style>\n",
       "                .geemap-dark {\n",
       "                    --jp-widgets-color: white;\n",
       "                    --jp-widgets-label-color: white;\n",
       "                    --jp-ui-font-color1: white;\n",
       "                    --jp-layout-color2: #454545;\n",
       "                    background-color: #383838;\n",
       "                }\n",
       "                    \n",
       "                .geemap-dark .jupyter-button {\n",
       "                    --jp-layout-color3: #383838;\n",
       "                }\n",
       "                \n",
       "                .geemap-colab {\n",
       "                    background-color: var(--colab-primary-surface-color, white);\n",
       "                }\n",
       "                    \n",
       "                .geemap-colab .jupyter-button {\n",
       "                    --jp-layout-color3: var(--colab-primary-surface-color, white);\n",
       "                }\n",
       "            </style>\n",
       "            "
      ],
      "text/plain": [
       "<IPython.core.display.HTML object>"
      ]
     },
     "metadata": {},
     "output_type": "display_data"
    }
   ],
   "source": [
    "shp_folder_path = 'E:/!!Research/!!!Data/example_data/example_data_py/example_data_shp/'\n",
    "#shp_file = 'example_data.shp'\n",
    "#shp_file = 'ex_data_med.shp'\n",
    "shp_file = 'ex_data_large.shp'\n",
    "example_data = geemap.shp_to_ee(f'{shp_folder_path}{shp_file}')"
   ]
  },
  {
   "cell_type": "code",
   "execution_count": 5,
   "id": "33a140cf-4095-4610-8a06-b86607ca915a",
   "metadata": {},
   "outputs": [
    {
     "data": {
      "text/html": [
       "\n",
       "            <style>\n",
       "                .geemap-dark {\n",
       "                    --jp-widgets-color: white;\n",
       "                    --jp-widgets-label-color: white;\n",
       "                    --jp-ui-font-color1: white;\n",
       "                    --jp-layout-color2: #454545;\n",
       "                    background-color: #383838;\n",
       "                }\n",
       "                    \n",
       "                .geemap-dark .jupyter-button {\n",
       "                    --jp-layout-color3: #383838;\n",
       "                }\n",
       "                \n",
       "                .geemap-colab {\n",
       "                    background-color: var(--colab-primary-surface-color, white);\n",
       "                }\n",
       "                    \n",
       "                .geemap-colab .jupyter-button {\n",
       "                    --jp-layout-color3: var(--colab-primary-surface-color, white);\n",
       "                }\n",
       "            </style>\n",
       "            "
      ],
      "text/plain": [
       "<IPython.core.display.HTML object>"
      ]
     },
     "metadata": {},
     "output_type": "display_data"
    },
    {
     "data": {
      "application/vnd.jupyter.widget-view+json": {
       "model_id": "88ab1718c94149e9ba2b21ca13809237",
       "version_major": 2,
       "version_minor": 0
      },
      "text/plain": [
       "Map(center=[0, 0], controls=(WidgetControl(options=['position', 'transparent_bg'], widget=SearchDataGUI(childr…"
      ]
     },
     "execution_count": 5,
     "metadata": {},
     "output_type": "execute_result"
    }
   ],
   "source": [
    "Map = geemap.Map()\n",
    "Map"
   ]
  },
  {
   "cell_type": "code",
   "execution_count": 11,
   "id": "88ffa009-67b2-4e34-bb03-6be262434918",
   "metadata": {},
   "outputs": [
    {
     "data": {
      "text/html": [
       "\n",
       "            <style>\n",
       "                .geemap-dark {\n",
       "                    --jp-widgets-color: white;\n",
       "                    --jp-widgets-label-color: white;\n",
       "                    --jp-ui-font-color1: white;\n",
       "                    --jp-layout-color2: #454545;\n",
       "                    background-color: #383838;\n",
       "                }\n",
       "                    \n",
       "                .geemap-dark .jupyter-button {\n",
       "                    --jp-layout-color3: #383838;\n",
       "                }\n",
       "                \n",
       "                .geemap-colab {\n",
       "                    background-color: var(--colab-primary-surface-color, white);\n",
       "                }\n",
       "                    \n",
       "                .geemap-colab .jupyter-button {\n",
       "                    --jp-layout-color3: var(--colab-primary-surface-color, white);\n",
       "                }\n",
       "            </style>\n",
       "            "
      ],
      "text/plain": [
       "<IPython.core.display.HTML object>"
      ]
     },
     "metadata": {},
     "output_type": "display_data"
    }
   ],
   "source": [
    "# checking that the imported layer loadedn\n",
    "Map.addLayer(example_data)"
   ]
  },
  {
   "cell_type": "code",
   "execution_count": 12,
   "id": "a491b484-ff92-4524-addb-d1d3ae170917",
   "metadata": {},
   "outputs": [
    {
     "data": {
      "text/html": [
       "\n",
       "            <style>\n",
       "                .geemap-dark {\n",
       "                    --jp-widgets-color: white;\n",
       "                    --jp-widgets-label-color: white;\n",
       "                    --jp-ui-font-color1: white;\n",
       "                    --jp-layout-color2: #454545;\n",
       "                    background-color: #383838;\n",
       "                }\n",
       "                    \n",
       "                .geemap-dark .jupyter-button {\n",
       "                    --jp-layout-color3: #383838;\n",
       "                }\n",
       "                \n",
       "                .geemap-colab {\n",
       "                    background-color: var(--colab-primary-surface-color, white);\n",
       "                }\n",
       "                    \n",
       "                .geemap-colab .jupyter-button {\n",
       "                    --jp-layout-color3: var(--colab-primary-surface-color, white);\n",
       "                }\n",
       "            </style>\n",
       "            "
      ],
      "text/plain": [
       "<IPython.core.display.HTML object>"
      ]
     },
     "metadata": {},
     "output_type": "display_data"
    },
    {
     "name": "stdout",
     "output_type": "stream",
     "text": [
      "Generating URL ...\n",
      "Downloading data from https://earthengine.googleapis.com/v1/projects/ee-jdawsey/thumbnails/e0b337549ee15824dc68d6dd4804eda3-483723dc501ec5b4d53165f82e90a378:getPixels\n",
      "Please wait ...\n",
      "Data downloaded to E:\\!!Research\\!!!Data\\example_data\\example_data_py\\classified\\ex_naip.tif\n"
     ]
    }
   ],
   "source": [
    "shp = example_data\n",
    "shp_geom = shp.geometry()\n",
    "exp_file_dir_naip = 'E:/!!Research/!!!Data/example_data/example_data_py/naip/ex_naip.tif'\n",
    "\n",
    "geemap.ee_export_image(\n",
    "    naip, filename = exp_file_dir_naip, scale=1, region=shp_geom, file_per_band=False\n",
    ")"
   ]
  },
  {
   "cell_type": "markdown",
   "id": "d4e1c202-eae9-4bbc-a450-98a43589663b",
   "metadata": {},
   "source": [
    "Testing pixel-based classification"
   ]
  },
  {
   "cell_type": "code",
   "execution_count": 12,
   "id": "f39b745a-1efd-4fdf-821d-4a18a476d69a",
   "metadata": {},
   "outputs": [
    {
     "data": {
      "text/html": [
       "\n",
       "            <style>\n",
       "                .geemap-dark {\n",
       "                    --jp-widgets-color: white;\n",
       "                    --jp-widgets-label-color: white;\n",
       "                    --jp-ui-font-color1: white;\n",
       "                    --jp-layout-color2: #454545;\n",
       "                    background-color: #383838;\n",
       "                }\n",
       "                    \n",
       "                .geemap-dark .jupyter-button {\n",
       "                    --jp-layout-color3: #383838;\n",
       "                }\n",
       "                \n",
       "                .geemap-colab {\n",
       "                    background-color: var(--colab-primary-surface-color, white);\n",
       "                }\n",
       "                    \n",
       "                .geemap-colab .jupyter-button {\n",
       "                    --jp-layout-color3: var(--colab-primary-surface-color, white);\n",
       "                }\n",
       "            </style>\n",
       "            "
      ],
      "text/plain": [
       "<IPython.core.display.HTML object>"
      ]
     },
     "metadata": {},
     "output_type": "display_data"
    },
    {
     "ename": "EEException",
     "evalue": "Computation timed out.",
     "output_type": "error",
     "traceback": [
      "\u001b[1;31m---------------------------------------------------------------------------\u001b[0m",
      "\u001b[1;31mHttpError\u001b[0m                                 Traceback (most recent call last)",
      "File \u001b[1;32m~\\miniconda3\\envs\\gee_env\\Lib\\site-packages\\ee\\data.py:394\u001b[0m, in \u001b[0;36m_execute_cloud_call\u001b[1;34m(call, num_retries)\u001b[0m\n\u001b[0;32m    393\u001b[0m \u001b[38;5;28;01mtry\u001b[39;00m:\n\u001b[1;32m--> 394\u001b[0m   \u001b[38;5;28;01mreturn\u001b[39;00m \u001b[43mcall\u001b[49m\u001b[38;5;241;43m.\u001b[39;49m\u001b[43mexecute\u001b[49m\u001b[43m(\u001b[49m\u001b[43mnum_retries\u001b[49m\u001b[38;5;241;43m=\u001b[39;49m\u001b[43mnum_retries\u001b[49m\u001b[43m)\u001b[49m\n\u001b[0;32m    395\u001b[0m \u001b[38;5;28;01mexcept\u001b[39;00m googleapiclient\u001b[38;5;241m.\u001b[39merrors\u001b[38;5;241m.\u001b[39mHttpError \u001b[38;5;28;01mas\u001b[39;00m e:\n",
      "File \u001b[1;32m~\\miniconda3\\envs\\gee_env\\Lib\\site-packages\\googleapiclient\\_helpers.py:130\u001b[0m, in \u001b[0;36mpositional.<locals>.positional_decorator.<locals>.positional_wrapper\u001b[1;34m(*args, **kwargs)\u001b[0m\n\u001b[0;32m    129\u001b[0m         logger\u001b[38;5;241m.\u001b[39mwarning(message)\n\u001b[1;32m--> 130\u001b[0m \u001b[38;5;28;01mreturn\u001b[39;00m \u001b[43mwrapped\u001b[49m\u001b[43m(\u001b[49m\u001b[38;5;241;43m*\u001b[39;49m\u001b[43margs\u001b[49m\u001b[43m,\u001b[49m\u001b[43m \u001b[49m\u001b[38;5;241;43m*\u001b[39;49m\u001b[38;5;241;43m*\u001b[39;49m\u001b[43mkwargs\u001b[49m\u001b[43m)\u001b[49m\n",
      "File \u001b[1;32m~\\miniconda3\\envs\\gee_env\\Lib\\site-packages\\googleapiclient\\http.py:938\u001b[0m, in \u001b[0;36mHttpRequest.execute\u001b[1;34m(self, http, num_retries)\u001b[0m\n\u001b[0;32m    937\u001b[0m \u001b[38;5;28;01mif\u001b[39;00m resp\u001b[38;5;241m.\u001b[39mstatus \u001b[38;5;241m>\u001b[39m\u001b[38;5;241m=\u001b[39m \u001b[38;5;241m300\u001b[39m:\n\u001b[1;32m--> 938\u001b[0m     \u001b[38;5;28;01mraise\u001b[39;00m HttpError(resp, content, uri\u001b[38;5;241m=\u001b[39m\u001b[38;5;28mself\u001b[39m\u001b[38;5;241m.\u001b[39muri)\n\u001b[0;32m    939\u001b[0m \u001b[38;5;28;01mreturn\u001b[39;00m \u001b[38;5;28mself\u001b[39m\u001b[38;5;241m.\u001b[39mpostproc(resp, content)\n",
      "\u001b[1;31mHttpError\u001b[0m: <HttpError 400 when requesting https://earthengine.googleapis.com/v1/projects/ee-jdawsey/maps?fields=name&alt=json returned \"Computation timed out.\". Details: \"Computation timed out.\">",
      "\nDuring handling of the above exception, another exception occurred:\n",
      "\u001b[1;31mEEException\u001b[0m                               Traceback (most recent call last)",
      "Cell \u001b[1;32mIn[12], line 94\u001b[0m\n\u001b[0;32m     91\u001b[0m obj_palette \u001b[38;5;241m=\u001b[39m [\u001b[38;5;124m'\u001b[39m\u001b[38;5;124m#000000\u001b[39m\u001b[38;5;124m'\u001b[39m,\u001b[38;5;124m'\u001b[39m\u001b[38;5;124m#a6cee3\u001b[39m\u001b[38;5;124m'\u001b[39m, \u001b[38;5;124m'\u001b[39m\u001b[38;5;124m#1f78b4\u001b[39m\u001b[38;5;124m'\u001b[39m, \u001b[38;5;124m'\u001b[39m\u001b[38;5;124m#b2df8a\u001b[39m\u001b[38;5;124m'\u001b[39m, \u001b[38;5;124m'\u001b[39m\u001b[38;5;124m#33a02c\u001b[39m\u001b[38;5;124m'\u001b[39m, \u001b[38;5;124m'\u001b[39m\u001b[38;5;124m#fb9a99\u001b[39m\u001b[38;5;124m'\u001b[39m, \u001b[38;5;124m'\u001b[39m\u001b[38;5;124m#e31a1c\u001b[39m\u001b[38;5;124m'\u001b[39m, \n\u001b[0;32m     92\u001b[0m                \u001b[38;5;124m'\u001b[39m\u001b[38;5;124m#fdbf6f\u001b[39m\u001b[38;5;124m'\u001b[39m, \u001b[38;5;124m'\u001b[39m\u001b[38;5;124m#ff7f00\u001b[39m\u001b[38;5;124m'\u001b[39m, \u001b[38;5;124m'\u001b[39m\u001b[38;5;124m#cab2d6\u001b[39m\u001b[38;5;124m'\u001b[39m, \u001b[38;5;124m'\u001b[39m\u001b[38;5;124m#6a3d9a\u001b[39m\u001b[38;5;124m'\u001b[39m, \u001b[38;5;124m'\u001b[39m\u001b[38;5;124m#ffff99\u001b[39m\u001b[38;5;124m'\u001b[39m, \u001b[38;5;124m'\u001b[39m\u001b[38;5;124m#b15928\u001b[39m\u001b[38;5;124m'\u001b[39m]\n\u001b[0;32m     93\u001b[0m pb_vis \u001b[38;5;241m=\u001b[39m {\u001b[38;5;124m'\u001b[39m\u001b[38;5;124mmin\u001b[39m\u001b[38;5;124m'\u001b[39m : \u001b[38;5;241m0\u001b[39m, \u001b[38;5;124m'\u001b[39m\u001b[38;5;124mmax\u001b[39m\u001b[38;5;124m'\u001b[39m : \u001b[38;5;241m12\u001b[39m, \u001b[38;5;124m'\u001b[39m\u001b[38;5;124mpalette\u001b[39m\u001b[38;5;124m'\u001b[39m : obj_palette}\n\u001b[1;32m---> 94\u001b[0m \u001b[43mMap\u001b[49m\u001b[38;5;241;43m.\u001b[39;49m\u001b[43maddLayer\u001b[49m\u001b[43m(\u001b[49m\u001b[43mpb_classed\u001b[49m\u001b[43m,\u001b[49m\u001b[43m \u001b[49m\u001b[43mpb_vis\u001b[49m\u001b[43m,\u001b[49m\u001b[43m \u001b[49m\u001b[38;5;124;43mf\u001b[39;49m\u001b[38;5;124;43m'\u001b[39;49m\u001b[38;5;124;43mpixel-based classification with poly_1 and \u001b[39;49m\u001b[38;5;132;43;01m{\u001b[39;49;00m\u001b[43mmax_clusters\u001b[49m\u001b[38;5;132;43;01m}\u001b[39;49;00m\u001b[38;5;124;43m clusters\u001b[39;49m\u001b[38;5;124;43m'\u001b[39;49m\u001b[43m)\u001b[49m\n",
      "File \u001b[1;32m~\\miniconda3\\envs\\gee_env\\Lib\\site-packages\\geemap\\geemap.py:342\u001b[0m, in \u001b[0;36mMap.add_ee_layer\u001b[1;34m(self, ee_object, vis_params, name, shown, opacity)\u001b[0m\n\u001b[0;32m    337\u001b[0m         \u001b[38;5;28;01mif\u001b[39;00m has_plot_dropdown:\n\u001b[0;32m    338\u001b[0m             \u001b[38;5;28mself\u001b[39m\u001b[38;5;241m.\u001b[39m_plot_dropdown_widget\u001b[38;5;241m.\u001b[39moptions \u001b[38;5;241m=\u001b[39m \u001b[38;5;28mlist\u001b[39m(\n\u001b[0;32m    339\u001b[0m                 \u001b[38;5;28mself\u001b[39m\u001b[38;5;241m.\u001b[39mee_raster_layers\u001b[38;5;241m.\u001b[39mkeys()\n\u001b[0;32m    340\u001b[0m             )\n\u001b[1;32m--> 342\u001b[0m \u001b[38;5;28;43msuper\u001b[39;49m\u001b[43m(\u001b[49m\u001b[43m)\u001b[49m\u001b[38;5;241;43m.\u001b[39;49m\u001b[43madd_layer\u001b[49m\u001b[43m(\u001b[49m\u001b[43mee_object\u001b[49m\u001b[43m,\u001b[49m\u001b[43m \u001b[49m\u001b[43mvis_params\u001b[49m\u001b[43m,\u001b[49m\u001b[43m \u001b[49m\u001b[43mname\u001b[49m\u001b[43m,\u001b[49m\u001b[43m \u001b[49m\u001b[43mshown\u001b[49m\u001b[43m,\u001b[49m\u001b[43m \u001b[49m\u001b[43mopacity\u001b[49m\u001b[43m)\u001b[49m\n\u001b[0;32m    344\u001b[0m \u001b[38;5;28;01mif\u001b[39;00m \u001b[38;5;28misinstance\u001b[39m(ee_object, (ee\u001b[38;5;241m.\u001b[39mImage, ee\u001b[38;5;241m.\u001b[39mImageCollection)):\n\u001b[0;32m    345\u001b[0m     \u001b[38;5;28;01mif\u001b[39;00m has_plot_dropdown:\n",
      "File \u001b[1;32m~\\miniconda3\\envs\\gee_env\\Lib\\site-packages\\geemap\\core.py:754\u001b[0m, in \u001b[0;36mMap.add_layer\u001b[1;34m(self, ee_object, vis_params, name, shown, opacity)\u001b[0m\n\u001b[0;32m    752\u001b[0m \u001b[38;5;28;01mif\u001b[39;00m name \u001b[38;5;129;01mis\u001b[39;00m \u001b[38;5;28;01mNone\u001b[39;00m:\n\u001b[0;32m    753\u001b[0m     name \u001b[38;5;241m=\u001b[39m \u001b[38;5;124mf\u001b[39m\u001b[38;5;124m\"\u001b[39m\u001b[38;5;124mLayer \u001b[39m\u001b[38;5;132;01m{\u001b[39;00m\u001b[38;5;28mlen\u001b[39m(\u001b[38;5;28mself\u001b[39m\u001b[38;5;241m.\u001b[39mee_layers)\u001b[38;5;250m \u001b[39m\u001b[38;5;241m+\u001b[39m\u001b[38;5;250m \u001b[39m\u001b[38;5;241m1\u001b[39m\u001b[38;5;132;01m}\u001b[39;00m\u001b[38;5;124m\"\u001b[39m\n\u001b[1;32m--> 754\u001b[0m tile_layer \u001b[38;5;241m=\u001b[39m \u001b[43mee_tile_layers\u001b[49m\u001b[38;5;241;43m.\u001b[39;49m\u001b[43mEELeafletTileLayer\u001b[49m\u001b[43m(\u001b[49m\n\u001b[0;32m    755\u001b[0m \u001b[43m    \u001b[49m\u001b[43mee_object\u001b[49m\u001b[43m,\u001b[49m\u001b[43m \u001b[49m\u001b[43mvis_params\u001b[49m\u001b[43m,\u001b[49m\u001b[43m \u001b[49m\u001b[43mname\u001b[49m\u001b[43m,\u001b[49m\u001b[43m \u001b[49m\u001b[43mshown\u001b[49m\u001b[43m,\u001b[49m\u001b[43m \u001b[49m\u001b[43mopacity\u001b[49m\n\u001b[0;32m    756\u001b[0m \u001b[43m\u001b[49m\u001b[43m)\u001b[49m\n\u001b[0;32m    758\u001b[0m \u001b[38;5;66;03m# Remove the layer if it already exists.\u001b[39;00m\n\u001b[0;32m    759\u001b[0m \u001b[38;5;28mself\u001b[39m\u001b[38;5;241m.\u001b[39mremove(name)\n",
      "File \u001b[1;32m~\\miniconda3\\envs\\gee_env\\Lib\\site-packages\\geemap\\ee_tile_layers.py:144\u001b[0m, in \u001b[0;36mEELeafletTileLayer.__init__\u001b[1;34m(self, ee_object, vis_params, name, shown, opacity, **kwargs)\u001b[0m\n\u001b[0;32m    134\u001b[0m \u001b[38;5;250m\u001b[39m\u001b[38;5;124;03m\"\"\"Initialize the ipyleaflet tile layer.\u001b[39;00m\n\u001b[0;32m    135\u001b[0m \n\u001b[0;32m    136\u001b[0m \u001b[38;5;124;03mArgs:\u001b[39;00m\n\u001b[1;32m   (...)\u001b[0m\n\u001b[0;32m    141\u001b[0m \u001b[38;5;124;03m    opacity (float, optional): The layer's opacity represented as a number between 0 and 1. Defaults to 1.\u001b[39;00m\n\u001b[0;32m    142\u001b[0m \u001b[38;5;124;03m\"\"\"\u001b[39;00m\n\u001b[0;32m    143\u001b[0m \u001b[38;5;28mself\u001b[39m\u001b[38;5;241m.\u001b[39m_ee_object \u001b[38;5;241m=\u001b[39m ee_object\n\u001b[1;32m--> 144\u001b[0m \u001b[38;5;28mself\u001b[39m\u001b[38;5;241m.\u001b[39murl_format \u001b[38;5;241m=\u001b[39m \u001b[43m_get_tile_url_format\u001b[49m\u001b[43m(\u001b[49m\n\u001b[0;32m    145\u001b[0m \u001b[43m    \u001b[49m\u001b[43mee_object\u001b[49m\u001b[43m,\u001b[49m\u001b[43m \u001b[49m\u001b[43m_validate_vis_params\u001b[49m\u001b[43m(\u001b[49m\u001b[43mvis_params\u001b[49m\u001b[43m)\u001b[49m\n\u001b[0;32m    146\u001b[0m \u001b[43m\u001b[49m\u001b[43m)\u001b[49m\n\u001b[0;32m    147\u001b[0m \u001b[38;5;28msuper\u001b[39m()\u001b[38;5;241m.\u001b[39m\u001b[38;5;21m__init__\u001b[39m(\n\u001b[0;32m    148\u001b[0m     url\u001b[38;5;241m=\u001b[39m\u001b[38;5;28mself\u001b[39m\u001b[38;5;241m.\u001b[39murl_format,\n\u001b[0;32m    149\u001b[0m     attribution\u001b[38;5;241m=\u001b[39m\u001b[38;5;124m\"\u001b[39m\u001b[38;5;124mGoogle Earth Engine\u001b[39m\u001b[38;5;124m\"\u001b[39m,\n\u001b[1;32m   (...)\u001b[0m\n\u001b[0;32m    154\u001b[0m     \u001b[38;5;241m*\u001b[39m\u001b[38;5;241m*\u001b[39mkwargs,\n\u001b[0;32m    155\u001b[0m )\n",
      "File \u001b[1;32m~\\miniconda3\\envs\\gee_env\\Lib\\site-packages\\geemap\\ee_tile_layers.py:19\u001b[0m, in \u001b[0;36m_get_tile_url_format\u001b[1;34m(ee_object, vis_params)\u001b[0m\n\u001b[0;32m     17\u001b[0m \u001b[38;5;28;01mdef\u001b[39;00m \u001b[38;5;21m_get_tile_url_format\u001b[39m(ee_object, vis_params):\n\u001b[0;32m     18\u001b[0m     image \u001b[38;5;241m=\u001b[39m _ee_object_to_image(ee_object, vis_params)\n\u001b[1;32m---> 19\u001b[0m     map_id_dict \u001b[38;5;241m=\u001b[39m \u001b[43mee\u001b[49m\u001b[38;5;241;43m.\u001b[39;49m\u001b[43mImage\u001b[49m\u001b[43m(\u001b[49m\u001b[43mimage\u001b[49m\u001b[43m)\u001b[49m\u001b[38;5;241;43m.\u001b[39;49m\u001b[43mgetMapId\u001b[49m\u001b[43m(\u001b[49m\u001b[43mvis_params\u001b[49m\u001b[43m)\u001b[49m\n\u001b[0;32m     20\u001b[0m     \u001b[38;5;28;01mreturn\u001b[39;00m map_id_dict[\u001b[38;5;124m\"\u001b[39m\u001b[38;5;124mtile_fetcher\u001b[39m\u001b[38;5;124m\"\u001b[39m]\u001b[38;5;241m.\u001b[39murl_format\n",
      "File \u001b[1;32m~\\miniconda3\\envs\\gee_env\\Lib\\site-packages\\ee\\image.py:129\u001b[0m, in \u001b[0;36mImage.getMapId\u001b[1;34m(self, vis_params)\u001b[0m\n\u001b[0;32m    127\u001b[0m vis_image, request \u001b[38;5;241m=\u001b[39m \u001b[38;5;28mself\u001b[39m\u001b[38;5;241m.\u001b[39m_apply_visualization(vis_params)\n\u001b[0;32m    128\u001b[0m request[\u001b[38;5;124m'\u001b[39m\u001b[38;5;124mimage\u001b[39m\u001b[38;5;124m'\u001b[39m] \u001b[38;5;241m=\u001b[39m vis_image\n\u001b[1;32m--> 129\u001b[0m response \u001b[38;5;241m=\u001b[39m \u001b[43mdata\u001b[49m\u001b[38;5;241;43m.\u001b[39;49m\u001b[43mgetMapId\u001b[49m\u001b[43m(\u001b[49m\u001b[43mrequest\u001b[49m\u001b[43m)\u001b[49m\n\u001b[0;32m    130\u001b[0m response[\u001b[38;5;124m'\u001b[39m\u001b[38;5;124mimage\u001b[39m\u001b[38;5;124m'\u001b[39m] \u001b[38;5;241m=\u001b[39m \u001b[38;5;28mself\u001b[39m\n\u001b[0;32m    131\u001b[0m \u001b[38;5;28;01mreturn\u001b[39;00m response\n",
      "File \u001b[1;32m~\\miniconda3\\envs\\gee_env\\Lib\\site-packages\\ee\\data.py:716\u001b[0m, in \u001b[0;36mgetMapId\u001b[1;34m(params)\u001b[0m\n\u001b[0;32m    711\u001b[0m queryParams \u001b[38;5;241m=\u001b[39m {\n\u001b[0;32m    712\u001b[0m     \u001b[38;5;124m'\u001b[39m\u001b[38;5;124mfields\u001b[39m\u001b[38;5;124m'\u001b[39m: \u001b[38;5;124m'\u001b[39m\u001b[38;5;124mname\u001b[39m\u001b[38;5;124m'\u001b[39m,\n\u001b[0;32m    713\u001b[0m     \u001b[38;5;124m'\u001b[39m\u001b[38;5;124mbody\u001b[39m\u001b[38;5;124m'\u001b[39m: request,\n\u001b[0;32m    714\u001b[0m }\n\u001b[0;32m    715\u001b[0m _maybe_populate_workload_tag(queryParams)\n\u001b[1;32m--> 716\u001b[0m result \u001b[38;5;241m=\u001b[39m \u001b[43m_execute_cloud_call\u001b[49m\u001b[43m(\u001b[49m\n\u001b[0;32m    717\u001b[0m \u001b[43m    \u001b[49m\u001b[43m_get_cloud_projects\u001b[49m\u001b[43m(\u001b[49m\u001b[43m)\u001b[49m\n\u001b[0;32m    718\u001b[0m \u001b[43m    \u001b[49m\u001b[38;5;241;43m.\u001b[39;49m\u001b[43mmaps\u001b[49m\u001b[43m(\u001b[49m\u001b[43m)\u001b[49m\n\u001b[0;32m    719\u001b[0m \u001b[43m    \u001b[49m\u001b[38;5;241;43m.\u001b[39;49m\u001b[43mcreate\u001b[49m\u001b[43m(\u001b[49m\u001b[43mparent\u001b[49m\u001b[38;5;241;43m=\u001b[39;49m\u001b[43m_get_projects_path\u001b[49m\u001b[43m(\u001b[49m\u001b[43m)\u001b[49m\u001b[43m,\u001b[49m\u001b[43m \u001b[49m\u001b[38;5;241;43m*\u001b[39;49m\u001b[38;5;241;43m*\u001b[39;49m\u001b[43mqueryParams\u001b[49m\u001b[43m)\u001b[49m\n\u001b[0;32m    720\u001b[0m \u001b[43m\u001b[49m\u001b[43m)\u001b[49m\n\u001b[0;32m    721\u001b[0m map_name \u001b[38;5;241m=\u001b[39m result[\u001b[38;5;124m'\u001b[39m\u001b[38;5;124mname\u001b[39m\u001b[38;5;124m'\u001b[39m]\n\u001b[0;32m    722\u001b[0m url_format \u001b[38;5;241m=\u001b[39m \u001b[38;5;124m'\u001b[39m\u001b[38;5;132;01m%s\u001b[39;00m\u001b[38;5;124m/\u001b[39m\u001b[38;5;132;01m%s\u001b[39;00m\u001b[38;5;124m/\u001b[39m\u001b[38;5;132;01m%s\u001b[39;00m\u001b[38;5;124m/tiles/\u001b[39m\u001b[38;5;132;01m{z}\u001b[39;00m\u001b[38;5;124m/\u001b[39m\u001b[38;5;132;01m{x}\u001b[39;00m\u001b[38;5;124m/\u001b[39m\u001b[38;5;132;01m{y}\u001b[39;00m\u001b[38;5;124m'\u001b[39m \u001b[38;5;241m%\u001b[39m (\n\u001b[0;32m    723\u001b[0m     _tile_base_url, _cloud_api_utils\u001b[38;5;241m.\u001b[39mVERSION, map_name)\n",
      "File \u001b[1;32m~\\miniconda3\\envs\\gee_env\\Lib\\site-packages\\ee\\data.py:396\u001b[0m, in \u001b[0;36m_execute_cloud_call\u001b[1;34m(call, num_retries)\u001b[0m\n\u001b[0;32m    394\u001b[0m   \u001b[38;5;28;01mreturn\u001b[39;00m call\u001b[38;5;241m.\u001b[39mexecute(num_retries\u001b[38;5;241m=\u001b[39mnum_retries)\n\u001b[0;32m    395\u001b[0m \u001b[38;5;28;01mexcept\u001b[39;00m googleapiclient\u001b[38;5;241m.\u001b[39merrors\u001b[38;5;241m.\u001b[39mHttpError \u001b[38;5;28;01mas\u001b[39;00m e:\n\u001b[1;32m--> 396\u001b[0m   \u001b[38;5;28;01mraise\u001b[39;00m _translate_cloud_exception(e)\n",
      "\u001b[1;31mEEException\u001b[0m: Computation timed out."
     ]
    }
   ],
   "source": [
    "naip = mgf.naip_func(example_data)\n",
    "\n",
    "vis_param_naip = {'bands' : ['R', 'G', 'B'], \n",
    "               'min' : 0, \n",
    "               'max' : 256,\n",
    "               'gamma' : 1}\n",
    "\n",
    "### checking that image was smoothed. Rename as needed\n",
    "Map.addLayer(naip, vis_param_naip, f'naip')\n",
    "\n",
    "savi = mgf.naip_savi_endvi(naip)\n",
    "vis_param_savi = {'bands' : ['savi'], \n",
    "               'min' : 0, \n",
    "               'max' : 1,\n",
    "               'gamma' : 1}\n",
    "\n",
    "\"\"\"\n",
    "endvi = mgf.naip_endvi(savi)\n",
    "vis_param_savi = {'bands' : ['endvi'], \n",
    "               'min' : 0, \n",
    "               'max' : 1,\n",
    "               'gamma' : 1}\n",
    "\"\"\"\n",
    "#Map.addLayer(savi, vis_param_savi, f'savi')\n",
    "\n",
    "def gauss_three_func(given_image):\n",
    "    ### gaussian smoothing\n",
    "    gaussianKernel = ee.Kernel.gaussian(\n",
    "      radius = 3, # was originally 3, also tested 10\n",
    "      units = 'pixels'\n",
    "    )\n",
    "    \n",
    "    gaussian_smooth = given_image.convolve(gaussianKernel)\n",
    "    return gaussian_smooth\n",
    "\n",
    "gauss = gauss_three_func(savi)\n",
    "vis_param_smooth = {'bands' : ['R', 'G', 'B'], \n",
    "               'min' : 0, \n",
    "               'max' : 256,\n",
    "               'gamma' : 1}\n",
    "#Map.addLayer(gauss_three, vis_param_smooth, f'smoothed three')\n",
    "\n",
    "grayscale = naip.expression(\n",
    "      '(0.3 * R) + (0.59 * G) + (0.11 * B)', {\n",
    "      'R': naip.select(['R']),\n",
    "      'G': naip.select(['G']),\n",
    "      'B': naip.select(['B'])\n",
    "})\n",
    "\n",
    "vis_param_gray = {#'bands' : ['R', 'G', 'B'], \n",
    "               'min' : 0, \n",
    "               'max' : 256,\n",
    "               'gamma' : 1}\n",
    "\n",
    "### checking that image was smoothed. Rename as needed\n",
    "#Map.addLayer(grayscale, vis_param_gray, f'gray')\n",
    "\n",
    "# if wanting to use a grayscale image\n",
    "int_gray = grayscale.int()\n",
    "glcmTexture = int_gray.glcmTexture(5)\n",
    "\n",
    "# if not wanting to use a grayscaled image\n",
    "#int_naip = naip.int()\n",
    "#glcmTexture = int_naip.glcmTexture(10)\n",
    "\n",
    "imp_glcm_bands = glcmTexture.select(['constant_savg', 'constant_contrast'])\n",
    "contrastVis = {\n",
    "   'bands' : ['constant_savg', 'constant_contrast']\n",
    "}\n",
    "\n",
    "#Map.addLayer(imp_glcm_bands, contrastVis, 'contrast')\n",
    "\n",
    "glcm_segment = imp_glcm_bands.addBands(gauss, ['R', 'G', 'B', 'N', 'savi']) #may need to include 'savi' and 'endvi'\n",
    "contrastVis_rgb = {\n",
    "   'bands' : ['R', 'G', 'B']\n",
    "}\n",
    "\n",
    "#Map.addLayer(glcm_segment, contrastVis_rgb, 'contrast_rgb')\n",
    "\n",
    "standardized = mgf.stdrd_func(glcm_segment, example_data)\n",
    "vis_param_std = {'bands' : ['N', 'R', 'constant_savg'], \n",
    "               'min' : -1.5, \n",
    "               'max' : 2,\n",
    "               'gamma' : 1}\n",
    "#Map.addLayer(standardized, vis_param_std, 'standardized')\n",
    "\n",
    "# point-based algorithm\n",
    "max_clusters = 10 # tested with 10\n",
    "\n",
    "pb_classed = mgf.pb_class(example_data, standardized, max_clusters)\n",
    "obj_palette = ['#000000','#a6cee3', '#1f78b4', '#b2df8a', '#33a02c', '#fb9a99', '#e31a1c', \n",
    "               '#fdbf6f', '#ff7f00', '#cab2d6', '#6a3d9a', '#ffff99', '#b15928']\n",
    "pb_vis = {'min' : 0, 'max' : 12, 'palette' : obj_palette}\n",
    "Map.addLayer(pb_classed, pb_vis, f'pixel-based classification with poly_1 and {max_clusters} clusters')"
   ]
  },
  {
   "cell_type": "code",
   "execution_count": null,
   "id": "ea8f52f6-6e27-452f-b616-a2624989cdc9",
   "metadata": {},
   "outputs": [],
   "source": [
    "shp = example_data\n",
    "shp_geom = shp.geometry()\n",
    "exp_file_dir_pb = 'E:/!!Research/!!!Data/example_data/example_data_py/classified/ex_pb_classed_10_no_savi.tif'\n",
    "\n",
    "geemap.ee_export_image(\n",
    "    pb_classed, filename = exp_file_dir_pb, scale=2, region=shp_geom, file_per_band=False\n",
    ")"
   ]
  }
 ],
 "metadata": {
  "kernelspec": {
   "display_name": "Python 3 (ipykernel)",
   "language": "python",
   "name": "python3"
  },
  "language_info": {
   "codemirror_mode": {
    "name": "ipython",
    "version": 3
   },
   "file_extension": ".py",
   "mimetype": "text/x-python",
   "name": "python",
   "nbconvert_exporter": "python",
   "pygments_lexer": "ipython3",
   "version": "3.12.1"
  }
 },
 "nbformat": 4,
 "nbformat_minor": 5
}
