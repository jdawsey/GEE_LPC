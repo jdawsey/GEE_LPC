{
 "cells": [
  {
   "cell_type": "code",
   "execution_count": 1,
   "id": "63dbdb0d-af0d-4e17-b5e0-748642d48cc9",
   "metadata": {},
   "outputs": [],
   "source": [
    "import ee\n",
    "import geemap\n",
    "import json\n",
    "import os"
   ]
  },
  {
   "cell_type": "code",
   "execution_count": 2,
   "id": "5c934798-7214-46f3-9cc0-f7f9c60e4145",
   "metadata": {},
   "outputs": [
    {
     "data": {
      "text/html": [
       "\n",
       "            <style>\n",
       "                .geemap-dark {\n",
       "                    --jp-widgets-color: white;\n",
       "                    --jp-widgets-label-color: white;\n",
       "                    --jp-ui-font-color1: white;\n",
       "                    --jp-layout-color2: #454545;\n",
       "                    background-color: #383838;\n",
       "                }\n",
       "                    \n",
       "                .geemap-dark .jupyter-button {\n",
       "                    --jp-layout-color3: #383838;\n",
       "                }\n",
       "                \n",
       "                .geemap-colab {\n",
       "                    background-color: var(--colab-primary-surface-color, white);\n",
       "                }\n",
       "                    \n",
       "                .geemap-colab .jupyter-button {\n",
       "                    --jp-layout-color3: var(--colab-primary-surface-color, white);\n",
       "                }\n",
       "            </style>\n",
       "            "
      ],
      "text/plain": [
       "<IPython.core.display.HTML object>"
      ]
     },
     "metadata": {},
     "output_type": "display_data"
    },
    {
     "data": {
      "text/html": [
       "<p>To authorize access needed by Earth Engine, open the following\n",
       "        URL in a web browser and follow the instructions:</p>\n",
       "        <p><a href=https://code.earthengine.google.com/client-auth?scopes=https%3A//www.googleapis.com/auth/earthengine%20https%3A//www.googleapis.com/auth/cloud-platform%20https%3A//www.googleapis.com/auth/devstorage.full_control&request_id=BM4lq0hcHl4GKV-1kSADpZZkE_L4Eh2DQrnJKq0mZuc&tc=GcoNGEqSN-9Zwl8zUIo__JW7y4B-LG1tB9ZIFZ3AGA8&cc=n1ZC0NqiN7Q34uzAkUxcKbBNVO0DD3tfFl8MnJi8Hi4>https://code.earthengine.google.com/client-auth?scopes=https%3A//www.googleapis.com/auth/earthengine%20https%3A//www.googleapis.com/auth/cloud-platform%20https%3A//www.googleapis.com/auth/devstorage.full_control&request_id=BM4lq0hcHl4GKV-1kSADpZZkE_L4Eh2DQrnJKq0mZuc&tc=GcoNGEqSN-9Zwl8zUIo__JW7y4B-LG1tB9ZIFZ3AGA8&cc=n1ZC0NqiN7Q34uzAkUxcKbBNVO0DD3tfFl8MnJi8Hi4</a></p>\n",
       "        <p>The authorization workflow will generate a code, which you should paste in the box below.</p>\n",
       "        "
      ],
      "text/plain": [
       "<IPython.core.display.HTML object>"
      ]
     },
     "metadata": {},
     "output_type": "display_data"
    },
    {
     "name": "stdin",
     "output_type": "stream",
     "text": [
      "Enter verification code:  4/1ATx3LY5knZNT7ZkA08ZK7-qHN_WVMCg7i3Bt_swIKwYwMDL3k3fl4Dac034\n"
     ]
    },
    {
     "name": "stdout",
     "output_type": "stream",
     "text": [
      "\n",
      "Successfully saved authorization token.\n"
     ]
    }
   ],
   "source": [
    "ee.Authenticate()\n",
    "ee.Initialize(project = 'ee-jdawsey')"
   ]
  },
  {
   "cell_type": "code",
   "execution_count": 3,
   "id": "157203fd-55c5-40ea-971d-2da20a48cff2",
   "metadata": {},
   "outputs": [
    {
     "data": {
      "text/html": [
       "\n",
       "            <style>\n",
       "                .geemap-dark {\n",
       "                    --jp-widgets-color: white;\n",
       "                    --jp-widgets-label-color: white;\n",
       "                    --jp-ui-font-color1: white;\n",
       "                    --jp-layout-color2: #454545;\n",
       "                    background-color: #383838;\n",
       "                }\n",
       "                    \n",
       "                .geemap-dark .jupyter-button {\n",
       "                    --jp-layout-color3: #383838;\n",
       "                }\n",
       "                \n",
       "                .geemap-colab {\n",
       "                    background-color: var(--colab-primary-surface-color, white);\n",
       "                }\n",
       "                    \n",
       "                .geemap-colab .jupyter-button {\n",
       "                    --jp-layout-color3: var(--colab-primary-surface-color, white);\n",
       "                }\n",
       "            </style>\n",
       "            "
      ],
      "text/plain": [
       "<IPython.core.display.HTML object>"
      ]
     },
     "metadata": {},
     "output_type": "display_data"
    },
    {
     "data": {
      "application/vnd.jupyter.widget-view+json": {
       "model_id": "c9d34523768d4781b73ee551db9a44b9",
       "version_major": 2,
       "version_minor": 0
      },
      "text/plain": [
       "Map(center=[0, 0], controls=(WidgetControl(options=['position', 'transparent_bg'], widget=SearchDataGUI(childr…"
      ]
     },
     "execution_count": 3,
     "metadata": {},
     "output_type": "execute_result"
    }
   ],
   "source": [
    "Map = geemap.Map()\n",
    "Map"
   ]
  },
  {
   "cell_type": "code",
   "execution_count": 13,
   "id": "42658ae4-a92c-4fb6-822a-07c039d587f8",
   "metadata": {
    "scrolled": true
   },
   "outputs": [
    {
     "data": {
      "text/html": [
       "\n",
       "            <style>\n",
       "                .geemap-dark {\n",
       "                    --jp-widgets-color: white;\n",
       "                    --jp-widgets-label-color: white;\n",
       "                    --jp-ui-font-color1: white;\n",
       "                    --jp-layout-color2: #454545;\n",
       "                    background-color: #383838;\n",
       "                }\n",
       "                    \n",
       "                .geemap-dark .jupyter-button {\n",
       "                    --jp-layout-color3: #383838;\n",
       "                }\n",
       "                \n",
       "                .geemap-colab {\n",
       "                    background-color: var(--colab-primary-surface-color, white);\n",
       "                }\n",
       "                    \n",
       "                .geemap-colab .jupyter-button {\n",
       "                    --jp-layout-color3: var(--colab-primary-surface-color, white);\n",
       "                }\n",
       "            </style>\n",
       "            "
      ],
      "text/plain": [
       "<IPython.core.display.HTML object>"
      ]
     },
     "metadata": {},
     "output_type": "display_data"
    },
    {
     "ename": "EEException",
     "evalue": "Invalid argument for ee.Reducer(): ({'reducer': <ee.Reducer object at 0x000001B2F7534830>, 'geometry': ee.Geometry({\n  \"functionInvocationValue\": {\n    \"functionName\": \"Geometry.bounds\",\n    \"arguments\": {\n      \"geometry\": {\n        \"functionInvocationValue\": {\n          \"functionName\": \"Feature.geometry\",\n          \"arguments\": {\n            \"feature\": {\n              \"functionInvocationValue\": {\n                \"functionName\": \"Collection.first\",\n                \"arguments\": {\n                  \"collection\": {\n                    \"functionInvocationValue\": {\n                      \"functionName\": \"Collection.union\",\n                      \"arguments\": {\n                        \"collection\": {\n                          \"functionInvocationValue\": {\n                            \"functionName\": \"Collection.filter\",\n                            \"arguments\": {\n                              \"collection\": {\n                                \"functionInvocationValue\": {\n                                  \"functionName\": \"Collection.loadTable\",\n                                  \"arguments\": {\n                                    \"tableId\": {\n                                      \"constantValue\": \"USDOS/LSIB_SIMPLE/2017\"\n                                    }\n                                  }\n                                }\n                              },\n                              \"filter\": {\n                                \"functionInvocationValue\": {\n                                  \"functionName\": \"Filter.listContains\",\n                                  \"arguments\": {\n                                    \"leftValue\": {\n                                      \"constantValue\": [\n                                        \"Germany\",\n                                        \"Poland\",\n                                        \"Czechia\",\n                                        \"Slovakia\",\n                                        \"Austria\",\n                                        \"Hungary\"\n                                      ]\n                                    },\n                                    \"rightField\": {\n                                      \"constantValue\": \"country_na\"\n                                    }\n                                  }\n                                }\n                              }\n                            }\n                          }\n                        }\n                      }\n                    }\n                  }\n                }\n              }\n            }\n          }\n        }\n      }\n    }\n  }\n}), 'scale': 1000, 'bestEffort': True},).  Must be a ComputedObject.",
     "output_type": "error",
     "traceback": [
      "\u001b[1;31m---------------------------------------------------------------------------\u001b[0m",
      "\u001b[1;31mEEException\u001b[0m                               Traceback (most recent call last)",
      "Cell \u001b[1;32mIn[13], line 24\u001b[0m\n\u001b[0;32m     19\u001b[0m cnt \u001b[38;5;241m=\u001b[39m ee\u001b[38;5;241m.\u001b[39mFeatureCollection(s1)\u001b[38;5;241m.\u001b[39mreduceToImage([\u001b[38;5;124m'\u001b[39m\u001b[38;5;124msystem:index\u001b[39m\u001b[38;5;124m'\u001b[39m], ee\u001b[38;5;241m.\u001b[39mReducer\u001b[38;5;241m.\u001b[39mcount())\n\u001b[0;32m     20\u001b[0m   \u001b[38;5;66;03m# uncomment next line if you want to be specific\u001b[39;00m\n\u001b[0;32m     21\u001b[0m   \u001b[38;5;66;03m# filterMetadata('orbitProperties_pass', 'equals', 'ASCENDING').\u001b[39;00m\n\u001b[1;32m---> 24\u001b[0m upper \u001b[38;5;241m=\u001b[39m \u001b[43mcnt\u001b[49m\u001b[38;5;241;43m.\u001b[39;49m\u001b[43mreduceRegion\u001b[49m\u001b[43m(\u001b[49m\n\u001b[0;32m     25\u001b[0m \u001b[43m  \u001b[49m\u001b[43m{\u001b[49m\u001b[38;5;124;43m'\u001b[39;49m\u001b[38;5;124;43mreducer\u001b[39;49m\u001b[38;5;124;43m'\u001b[39;49m\u001b[43m:\u001b[49m\u001b[43m \u001b[49m\u001b[43mee\u001b[49m\u001b[38;5;241;43m.\u001b[39;49m\u001b[43mReducer\u001b[49m\u001b[38;5;241;43m.\u001b[39;49m\u001b[43mmax\u001b[49m\u001b[43m(\u001b[49m\u001b[43m)\u001b[49m\u001b[43m,\u001b[49m\u001b[43m \u001b[49m\u001b[38;5;124;43m'\u001b[39;49m\u001b[38;5;124;43mgeometry\u001b[39;49m\u001b[38;5;124;43m'\u001b[39;49m\u001b[43m:\u001b[49m\u001b[43m \u001b[49m\u001b[43maoi\u001b[49m\u001b[43m,\u001b[49m\u001b[43m \u001b[49m\u001b[38;5;124;43m'\u001b[39;49m\u001b[38;5;124;43mscale\u001b[39;49m\u001b[38;5;124;43m'\u001b[39;49m\u001b[43m:\u001b[49m\u001b[43m \u001b[49m\u001b[38;5;241;43m1000\u001b[39;49m\u001b[43m,\u001b[49m\u001b[43m \u001b[49m\u001b[38;5;124;43m'\u001b[39;49m\u001b[38;5;124;43mbestEffort\u001b[39;49m\u001b[38;5;124;43m'\u001b[39;49m\u001b[43m:\u001b[49m\u001b[43m \u001b[49m\u001b[38;5;28;43;01mTrue\u001b[39;49;00m\u001b[43m}\u001b[49m\n\u001b[0;32m     26\u001b[0m \u001b[43m)\u001b[49m\n\u001b[0;32m     28\u001b[0m \u001b[38;5;28mprint\u001b[39m(\u001b[38;5;124m'\u001b[39m\u001b[38;5;124mMax count:\u001b[39m\u001b[38;5;124m'\u001b[39m, upper\u001b[38;5;241m.\u001b[39mget(\u001b[38;5;124m'\u001b[39m\u001b[38;5;124mcount\u001b[39m\u001b[38;5;124m'\u001b[39m))\n\u001b[0;32m     30\u001b[0m \u001b[38;5;66;03m# Define red to green pseudo color palette\u001b[39;00m\n",
      "File \u001b[1;32m~\\miniconda3\\envs\\gee_env\\Lib\\site-packages\\ee\\apifunction.py:220\u001b[0m, in \u001b[0;36mApiFunction.importApi.<locals>.MakeBoundFunction.<locals>.<lambda>\u001b[1;34m(*args, **kwargs)\u001b[0m\n\u001b[0;32m    217\u001b[0m \u001b[38;5;28;01mdef\u001b[39;00m \u001b[38;5;21mMakeBoundFunction\u001b[39m(func):\n\u001b[0;32m    218\u001b[0m   \u001b[38;5;66;03m# We need the lambda to capture \"func\" from the enclosing scope.\u001b[39;00m\n\u001b[0;32m    219\u001b[0m   \u001b[38;5;66;03m# pylint: disable-next=unnecessary-lambda\u001b[39;00m\n\u001b[1;32m--> 220\u001b[0m   \u001b[38;5;28;01mreturn\u001b[39;00m \u001b[38;5;28;01mlambda\u001b[39;00m \u001b[38;5;241m*\u001b[39margs, \u001b[38;5;241m*\u001b[39m\u001b[38;5;241m*\u001b[39mkwargs: \u001b[43mfunc\u001b[49m\u001b[38;5;241;43m.\u001b[39;49m\u001b[43mcall\u001b[49m\u001b[43m(\u001b[49m\u001b[38;5;241;43m*\u001b[39;49m\u001b[43margs\u001b[49m\u001b[43m,\u001b[49m\u001b[43m \u001b[49m\u001b[38;5;241;43m*\u001b[39;49m\u001b[38;5;241;43m*\u001b[39;49m\u001b[43mkwargs\u001b[49m\u001b[43m)\u001b[49m\n",
      "File \u001b[1;32m~\\miniconda3\\envs\\gee_env\\Lib\\site-packages\\ee\\function.py:61\u001b[0m, in \u001b[0;36mFunction.call\u001b[1;34m(self, *args, **kwargs)\u001b[0m\n\u001b[0;32m     49\u001b[0m \u001b[38;5;28;01mdef\u001b[39;00m \u001b[38;5;21mcall\u001b[39m(\u001b[38;5;28mself\u001b[39m, \u001b[38;5;241m*\u001b[39margs, \u001b[38;5;241m*\u001b[39m\u001b[38;5;241m*\u001b[39mkwargs):\n\u001b[0;32m     50\u001b[0m \u001b[38;5;250m  \u001b[39m\u001b[38;5;124;03m\"\"\"Calls the function with the given positional and keyword arguments.\u001b[39;00m\n\u001b[0;32m     51\u001b[0m \n\u001b[0;32m     52\u001b[0m \u001b[38;5;124;03m  Args:\u001b[39;00m\n\u001b[1;32m   (...)\u001b[0m\n\u001b[0;32m     59\u001b[0m \u001b[38;5;124;03m    to that type.\u001b[39;00m\n\u001b[0;32m     60\u001b[0m \u001b[38;5;124;03m  \"\"\"\u001b[39;00m\n\u001b[1;32m---> 61\u001b[0m   \u001b[38;5;28;01mreturn\u001b[39;00m \u001b[38;5;28;43mself\u001b[39;49m\u001b[38;5;241;43m.\u001b[39;49m\u001b[43mapply\u001b[49m\u001b[43m(\u001b[49m\u001b[38;5;28;43mself\u001b[39;49m\u001b[38;5;241;43m.\u001b[39;49m\u001b[43mnameArgs\u001b[49m\u001b[43m(\u001b[49m\u001b[43margs\u001b[49m\u001b[43m,\u001b[49m\u001b[43m \u001b[49m\u001b[43mkwargs\u001b[49m\u001b[43m)\u001b[49m\u001b[43m)\u001b[49m\n",
      "File \u001b[1;32m~\\miniconda3\\envs\\gee_env\\Lib\\site-packages\\ee\\function.py:74\u001b[0m, in \u001b[0;36mFunction.apply\u001b[1;34m(self, named_args)\u001b[0m\n\u001b[0;32m     63\u001b[0m \u001b[38;5;28;01mdef\u001b[39;00m \u001b[38;5;21mapply\u001b[39m(\u001b[38;5;28mself\u001b[39m, named_args):\n\u001b[0;32m     64\u001b[0m \u001b[38;5;250m  \u001b[39m\u001b[38;5;124;03m\"\"\"Calls the function with a dictionary of named arguments.\u001b[39;00m\n\u001b[0;32m     65\u001b[0m \n\u001b[0;32m     66\u001b[0m \u001b[38;5;124;03m  Args:\u001b[39;00m\n\u001b[1;32m   (...)\u001b[0m\n\u001b[0;32m     72\u001b[0m \u001b[38;5;124;03m    to that type.\u001b[39;00m\n\u001b[0;32m     73\u001b[0m \u001b[38;5;124;03m  \"\"\"\u001b[39;00m\n\u001b[1;32m---> 74\u001b[0m   result \u001b[38;5;241m=\u001b[39m computedobject\u001b[38;5;241m.\u001b[39mComputedObject(\u001b[38;5;28mself\u001b[39m, \u001b[38;5;28;43mself\u001b[39;49m\u001b[38;5;241;43m.\u001b[39;49m\u001b[43mpromoteArgs\u001b[49m\u001b[43m(\u001b[49m\u001b[43mnamed_args\u001b[49m\u001b[43m)\u001b[49m)\n\u001b[0;32m     75\u001b[0m   \u001b[38;5;28;01mreturn\u001b[39;00m Function\u001b[38;5;241m.\u001b[39m_promoter(result, \u001b[38;5;28mself\u001b[39m\u001b[38;5;241m.\u001b[39mgetReturnType())\n",
      "File \u001b[1;32m~\\miniconda3\\envs\\gee_env\\Lib\\site-packages\\ee\\function.py:102\u001b[0m, in \u001b[0;36mFunction.promoteArgs\u001b[1;34m(self, args)\u001b[0m\n\u001b[0;32m    100\u001b[0m name \u001b[38;5;241m=\u001b[39m arg_spec[\u001b[38;5;124m'\u001b[39m\u001b[38;5;124mname\u001b[39m\u001b[38;5;124m'\u001b[39m]\n\u001b[0;32m    101\u001b[0m \u001b[38;5;28;01mif\u001b[39;00m name \u001b[38;5;129;01min\u001b[39;00m args:\n\u001b[1;32m--> 102\u001b[0m   promoted_args[name] \u001b[38;5;241m=\u001b[39m \u001b[43mFunction\u001b[49m\u001b[38;5;241;43m.\u001b[39;49m\u001b[43m_promoter\u001b[49m\u001b[43m(\u001b[49m\u001b[43margs\u001b[49m\u001b[43m[\u001b[49m\u001b[43mname\u001b[49m\u001b[43m]\u001b[49m\u001b[43m,\u001b[49m\u001b[43m \u001b[49m\u001b[43marg_spec\u001b[49m\u001b[43m[\u001b[49m\u001b[38;5;124;43m'\u001b[39;49m\u001b[38;5;124;43mtype\u001b[39;49m\u001b[38;5;124;43m'\u001b[39;49m\u001b[43m]\u001b[49m\u001b[43m)\u001b[49m\n\u001b[0;32m    103\u001b[0m \u001b[38;5;28;01melif\u001b[39;00m \u001b[38;5;129;01mnot\u001b[39;00m arg_spec\u001b[38;5;241m.\u001b[39mget(\u001b[38;5;124m'\u001b[39m\u001b[38;5;124moptional\u001b[39m\u001b[38;5;124m'\u001b[39m):\n\u001b[0;32m    104\u001b[0m   \u001b[38;5;28;01mraise\u001b[39;00m ee_exception\u001b[38;5;241m.\u001b[39mEEException(\n\u001b[0;32m    105\u001b[0m       \u001b[38;5;124m'\u001b[39m\u001b[38;5;124mRequired argument (\u001b[39m\u001b[38;5;132;01m%s\u001b[39;00m\u001b[38;5;124m) missing to function: \u001b[39m\u001b[38;5;132;01m%s\u001b[39;00m\u001b[38;5;124m'\u001b[39m\n\u001b[0;32m    106\u001b[0m       \u001b[38;5;241m%\u001b[39m (name, signature\u001b[38;5;241m.\u001b[39mget(\u001b[38;5;124m'\u001b[39m\u001b[38;5;124mname\u001b[39m\u001b[38;5;124m'\u001b[39m)))\n",
      "File \u001b[1;32m~\\miniconda3\\envs\\gee_env\\Lib\\site-packages\\ee\\__init__.py:331\u001b[0m, in \u001b[0;36m_Promote\u001b[1;34m(arg, a_class)\u001b[0m\n\u001b[0;32m    328\u001b[0m       \u001b[38;5;28;01mraise\u001b[39;00m EEException(\u001b[38;5;124m'\u001b[39m\u001b[38;5;124mUnknown algorithm: \u001b[39m\u001b[38;5;132;01m{0}\u001b[39;00m\u001b[38;5;124m.\u001b[39m\u001b[38;5;132;01m{1}\u001b[39;00m\u001b[38;5;124m'\u001b[39m\u001b[38;5;241m.\u001b[39mformat(a_class, arg))\n\u001b[0;32m    329\u001b[0m   \u001b[38;5;28;01melse\u001b[39;00m:\n\u001b[0;32m    330\u001b[0m     \u001b[38;5;66;03m# Client-side cast.\u001b[39;00m\n\u001b[1;32m--> 331\u001b[0m     \u001b[38;5;28;01mreturn\u001b[39;00m \u001b[38;5;28;43mcls\u001b[39;49m\u001b[43m(\u001b[49m\u001b[43marg\u001b[49m\u001b[43m)\u001b[49m\n\u001b[0;32m    332\u001b[0m \u001b[38;5;28;01melse\u001b[39;00m:\n\u001b[0;32m    333\u001b[0m   \u001b[38;5;28;01mreturn\u001b[39;00m arg\n",
      "File \u001b[1;32m~\\miniconda3\\envs\\gee_env\\Lib\\site-packages\\ee\\computedobject.py:28\u001b[0m, in \u001b[0;36mComputedObjectMetaclass.__call__\u001b[1;34m(cls, *args, **kwargs)\u001b[0m\n\u001b[0;32m     26\u001b[0m   \u001b[38;5;28;01mreturn\u001b[39;00m args[\u001b[38;5;241m0\u001b[39m]\n\u001b[0;32m     27\u001b[0m \u001b[38;5;28;01melse\u001b[39;00m:\n\u001b[1;32m---> 28\u001b[0m   \u001b[38;5;28;01mreturn\u001b[39;00m \u001b[38;5;28;43mtype\u001b[39;49m\u001b[38;5;241;43m.\u001b[39;49m\u001b[38;5;21;43m__call__\u001b[39;49m\u001b[43m(\u001b[49m\u001b[38;5;28;43mcls\u001b[39;49m\u001b[43m,\u001b[49m\u001b[43m \u001b[49m\u001b[38;5;241;43m*\u001b[39;49m\u001b[43margs\u001b[49m\u001b[43m,\u001b[49m\u001b[43m \u001b[49m\u001b[38;5;241;43m*\u001b[39;49m\u001b[38;5;241;43m*\u001b[39;49m\u001b[43mkwargs\u001b[49m\u001b[43m)\u001b[49m\n",
      "File \u001b[1;32m~\\miniconda3\\envs\\gee_env\\Lib\\site-packages\\ee\\__init__.py:439\u001b[0m, in \u001b[0;36m_MakeClass.<locals>.init\u001b[1;34m(self, *args, **kwargs)\u001b[0m\n\u001b[0;32m    435\u001b[0m   \u001b[38;5;28;01mraise\u001b[39;00m EEException(\n\u001b[0;32m    436\u001b[0m       \u001b[38;5;124m'\u001b[39m\u001b[38;5;124mToo many arguments for ee.\u001b[39m\u001b[38;5;132;01m{0}\u001b[39;00m\u001b[38;5;124m(): \u001b[39m\u001b[38;5;132;01m{1}\u001b[39;00m\u001b[38;5;124m'\u001b[39m\u001b[38;5;241m.\u001b[39mformat(name, args))\n\u001b[0;32m    437\u001b[0m \u001b[38;5;28;01melif\u001b[39;00m firstArgIsPrimitive:\n\u001b[0;32m    438\u001b[0m   \u001b[38;5;66;03m# Can't cast a primitive.\u001b[39;00m\n\u001b[1;32m--> 439\u001b[0m   \u001b[38;5;28;01mraise\u001b[39;00m EEException(\n\u001b[0;32m    440\u001b[0m       \u001b[38;5;124m'\u001b[39m\u001b[38;5;124mInvalid argument for ee.\u001b[39m\u001b[38;5;132;01m{0}\u001b[39;00m\u001b[38;5;124m(): \u001b[39m\u001b[38;5;132;01m{1}\u001b[39;00m\u001b[38;5;124m.  \u001b[39m\u001b[38;5;124m'\u001b[39m\n\u001b[0;32m    441\u001b[0m       \u001b[38;5;124m'\u001b[39m\u001b[38;5;124mMust be a ComputedObject.\u001b[39m\u001b[38;5;124m'\u001b[39m\u001b[38;5;241m.\u001b[39mformat(name, args))\n\u001b[0;32m    443\u001b[0m result \u001b[38;5;241m=\u001b[39m args[\u001b[38;5;241m0\u001b[39m]\n\u001b[0;32m    444\u001b[0m ComputedObject\u001b[38;5;241m.\u001b[39m\u001b[38;5;21m__init__\u001b[39m(\u001b[38;5;28mself\u001b[39m, result\u001b[38;5;241m.\u001b[39mfunc, result\u001b[38;5;241m.\u001b[39margs, result\u001b[38;5;241m.\u001b[39mvarName)\n",
      "\u001b[1;31mEEException\u001b[0m: Invalid argument for ee.Reducer(): ({'reducer': <ee.Reducer object at 0x000001B2F7534830>, 'geometry': ee.Geometry({\n  \"functionInvocationValue\": {\n    \"functionName\": \"Geometry.bounds\",\n    \"arguments\": {\n      \"geometry\": {\n        \"functionInvocationValue\": {\n          \"functionName\": \"Feature.geometry\",\n          \"arguments\": {\n            \"feature\": {\n              \"functionInvocationValue\": {\n                \"functionName\": \"Collection.first\",\n                \"arguments\": {\n                  \"collection\": {\n                    \"functionInvocationValue\": {\n                      \"functionName\": \"Collection.union\",\n                      \"arguments\": {\n                        \"collection\": {\n                          \"functionInvocationValue\": {\n                            \"functionName\": \"Collection.filter\",\n                            \"arguments\": {\n                              \"collection\": {\n                                \"functionInvocationValue\": {\n                                  \"functionName\": \"Collection.loadTable\",\n                                  \"arguments\": {\n                                    \"tableId\": {\n                                      \"constantValue\": \"USDOS/LSIB_SIMPLE/2017\"\n                                    }\n                                  }\n                                }\n                              },\n                              \"filter\": {\n                                \"functionInvocationValue\": {\n                                  \"functionName\": \"Filter.listContains\",\n                                  \"arguments\": {\n                                    \"leftValue\": {\n                                      \"constantValue\": [\n                                        \"Germany\",\n                                        \"Poland\",\n                                        \"Czechia\",\n                                        \"Slovakia\",\n                                        \"Austria\",\n                                        \"Hungary\"\n                                      ]\n                                    },\n                                    \"rightField\": {\n                                      \"constantValue\": \"country_na\"\n                                    }\n                                  }\n                                }\n                              }\n                            }\n                          }\n                        }\n                      }\n                    }\n                  }\n                }\n              }\n            }\n          }\n        }\n      }\n    }\n  }\n}), 'scale': 1000, 'bestEffort': True},).  Must be a ComputedObject."
     ]
    }
   ],
   "source": [
    "import ee\n",
    "\n",
    "countries = ee.FeatureCollection('USDOS/LSIB_SIMPLE/2017')\n",
    "\n",
    "# Comment/uncomment the lists of countries to highlight differences in regional S1 revisit\n",
    "aoi = ee.Feature(countries.filter(ee.Filter.inList('country_na',\n",
    "  ['Germany', 'Poland', 'Czechia', 'Slovakia', 'Austria', 'Hungary'] # European\n",
    "  # ['Ethiopia', 'Somalia', 'Kenya'] # Near the Equator\n",
    "  # ['India'] # 12 days revisit, mostly\n",
    "  )).union().first()).geometry().bounds(); # get bounds to simplify geometry\n",
    "\n",
    "# Define time period\n",
    "startDate = '2020-06-01'\n",
    "endDate = '2020-06-16'\n",
    "\n",
    "# Select S1 IW images in area of interest and time period\n",
    "s1 = ee.ImageCollection('COPERNICUS/S1_GRD').filterMetadata('instrumentMode', 'equals', 'IW').filterBounds(aoi).filterDate(startDate, endDate)\n",
    "\n",
    "cnt = ee.FeatureCollection(s1).reduceToImage(['system:index'], ee.Reducer.count())\n",
    "  # uncomment next line if you want to be specific\n",
    "  # filterMetadata('orbitProperties_pass', 'equals', 'ASCENDING').\n",
    "  \n",
    "\n",
    "upper = cnt.reduceRegion(\n",
    "  {'reducer': ee.Reducer.max(), 'geometry': aoi, 'scale': 1000, 'bestEffort': True}\n",
    ")\n",
    "\n",
    "print('Max count:', upper.get('count'))\n",
    "\n",
    "# Define red to green pseudo color palette\n",
    "red2green = ['a50026', 'd73027', 'f46d43', 'fdae61', 'fee08b', 'ffffbf',\n",
    "  'd9ef8b', 'a6d96a', '66bd63', '1a9850', '006837']\n",
    "\n",
    "m.addLayer(cnt.updateMask(cnt.gt(0)).clip(aoi),\n",
    "  {'min': 1, 'max': upper.get('count').getInfo(), 'palette': red2green}, 'All')\n",
    "\n",
    "m.centerObject(aoi, 5)\n",
    "\n",
    "Map"
   ]
  },
  {
   "cell_type": "code",
   "execution_count": null,
   "id": "4f68d1df-76c5-40d7-953b-a06630e1e855",
   "metadata": {},
   "outputs": [],
   "source": [
    "# Define red to green pseudo color palette\n",
    "red2green = ['a50026', 'd73027', 'f46d43', 'fdae61', 'fee08b', 'ffffbf',\n",
    "  'd9ef8b', 'a6d96a', '66bd63', '1a9850', '006837']\n",
    "\n",
    "Map.addLayer(cnt.updateMask(cnt.gt(0)).clip(aoi),\n",
    "  {min: 1, max: upper.get('count').getInfo(), palette: red2green}, 'All')\n",
    "\n",
    "Map.centerObject(aoi, 5)"
   ]
  }
 ],
 "metadata": {
  "kernelspec": {
   "display_name": "Python 3 (ipykernel)",
   "language": "python",
   "name": "python3"
  },
  "language_info": {
   "codemirror_mode": {
    "name": "ipython",
    "version": 3
   },
   "file_extension": ".py",
   "mimetype": "text/x-python",
   "name": "python",
   "nbconvert_exporter": "python",
   "pygments_lexer": "ipython3",
   "version": "3.12.1"
  }
 },
 "nbformat": 4,
 "nbformat_minor": 5
}
