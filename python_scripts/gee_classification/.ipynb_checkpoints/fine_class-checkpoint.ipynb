{
 "cells": [
  {
   "cell_type": "code",
   "execution_count": 1,
   "id": "08d6f26b-09a2-4b3c-b4d6-2d8f060b832d",
   "metadata": {},
   "outputs": [],
   "source": [
    "import ee\n",
    "import geemap\n",
    "import json\n",
    "import os\n",
    "#from geemap import geojson_to_ee\n",
    "from ipyleaflet import GeoJSON\n",
    "import segment_testing_my_gee_functions as mgf"
   ]
  },
  {
   "cell_type": "code",
   "execution_count": 2,
   "id": "0d6d9225-371a-4336-91ee-0cfc88fd7c65",
   "metadata": {},
   "outputs": [
    {
     "data": {
      "text/html": [
       "\n",
       "            <style>\n",
       "                .geemap-dark {\n",
       "                    --jp-widgets-color: white;\n",
       "                    --jp-widgets-label-color: white;\n",
       "                    --jp-ui-font-color1: white;\n",
       "                    --jp-layout-color2: #454545;\n",
       "                    background-color: #383838;\n",
       "                }\n",
       "                    \n",
       "                .geemap-dark .jupyter-button {\n",
       "                    --jp-layout-color3: #383838;\n",
       "                }\n",
       "                \n",
       "                .geemap-colab {\n",
       "                    background-color: var(--colab-primary-surface-color, white);\n",
       "                }\n",
       "                    \n",
       "                .geemap-colab .jupyter-button {\n",
       "                    --jp-layout-color3: var(--colab-primary-surface-color, white);\n",
       "                }\n",
       "            </style>\n",
       "            "
      ],
      "text/plain": [
       "<IPython.core.display.HTML object>"
      ]
     },
     "metadata": {},
     "output_type": "display_data"
    }
   ],
   "source": [
    "ee.Authenticate()\n",
    "#Initializing the ee project\n",
    "\n",
    "ee.Initialize(project = 'ee-jdawsey')"
   ]
  },
  {
   "cell_type": "code",
   "execution_count": 3,
   "id": "569d871f-1285-4dfc-838b-ab3fc570b5ac",
   "metadata": {},
   "outputs": [
    {
     "data": {
      "text/html": [
       "\n",
       "            <style>\n",
       "                .geemap-dark {\n",
       "                    --jp-widgets-color: white;\n",
       "                    --jp-widgets-label-color: white;\n",
       "                    --jp-ui-font-color1: white;\n",
       "                    --jp-layout-color2: #454545;\n",
       "                    background-color: #383838;\n",
       "                }\n",
       "                    \n",
       "                .geemap-dark .jupyter-button {\n",
       "                    --jp-layout-color3: #383838;\n",
       "                }\n",
       "                \n",
       "                .geemap-colab {\n",
       "                    background-color: var(--colab-primary-surface-color, white);\n",
       "                }\n",
       "                    \n",
       "                .geemap-colab .jupyter-button {\n",
       "                    --jp-layout-color3: var(--colab-primary-surface-color, white);\n",
       "                }\n",
       "            </style>\n",
       "            "
      ],
      "text/plain": [
       "<IPython.core.display.HTML object>"
      ]
     },
     "metadata": {},
     "output_type": "display_data"
    }
   ],
   "source": [
    "shp_folder_path = 'E:/!!Research/!!!Data/example_data/example_data_py/example_data_shp/'\n",
    "shp_file = 'example_data.shp'\n",
    "example_data = geemap.shp_to_ee(f'{shp_folder_path}{shp_file}')"
   ]
  },
  {
   "cell_type": "code",
   "execution_count": 4,
   "id": "33a140cf-4095-4610-8a06-b86607ca915a",
   "metadata": {},
   "outputs": [
    {
     "data": {
      "text/html": [
       "\n",
       "            <style>\n",
       "                .geemap-dark {\n",
       "                    --jp-widgets-color: white;\n",
       "                    --jp-widgets-label-color: white;\n",
       "                    --jp-ui-font-color1: white;\n",
       "                    --jp-layout-color2: #454545;\n",
       "                    background-color: #383838;\n",
       "                }\n",
       "                    \n",
       "                .geemap-dark .jupyter-button {\n",
       "                    --jp-layout-color3: #383838;\n",
       "                }\n",
       "                \n",
       "                .geemap-colab {\n",
       "                    background-color: var(--colab-primary-surface-color, white);\n",
       "                }\n",
       "                    \n",
       "                .geemap-colab .jupyter-button {\n",
       "                    --jp-layout-color3: var(--colab-primary-surface-color, white);\n",
       "                }\n",
       "            </style>\n",
       "            "
      ],
      "text/plain": [
       "<IPython.core.display.HTML object>"
      ]
     },
     "metadata": {},
     "output_type": "display_data"
    },
    {
     "data": {
      "application/vnd.jupyter.widget-view+json": {
       "model_id": "ba7ac9f702fc45f0885d5792c9dc2fcd",
       "version_major": 2,
       "version_minor": 0
      },
      "text/plain": [
       "Map(center=[0, 0], controls=(WidgetControl(options=['position', 'transparent_bg'], widget=SearchDataGUI(childr…"
      ]
     },
     "execution_count": 4,
     "metadata": {},
     "output_type": "execute_result"
    }
   ],
   "source": [
    "Map = geemap.Map()\n",
    "Map"
   ]
  },
  {
   "cell_type": "code",
   "execution_count": 5,
   "id": "88ffa009-67b2-4e34-bb03-6be262434918",
   "metadata": {},
   "outputs": [
    {
     "data": {
      "text/html": [
       "\n",
       "            <style>\n",
       "                .geemap-dark {\n",
       "                    --jp-widgets-color: white;\n",
       "                    --jp-widgets-label-color: white;\n",
       "                    --jp-ui-font-color1: white;\n",
       "                    --jp-layout-color2: #454545;\n",
       "                    background-color: #383838;\n",
       "                }\n",
       "                    \n",
       "                .geemap-dark .jupyter-button {\n",
       "                    --jp-layout-color3: #383838;\n",
       "                }\n",
       "                \n",
       "                .geemap-colab {\n",
       "                    background-color: var(--colab-primary-surface-color, white);\n",
       "                }\n",
       "                    \n",
       "                .geemap-colab .jupyter-button {\n",
       "                    --jp-layout-color3: var(--colab-primary-surface-color, white);\n",
       "                }\n",
       "            </style>\n",
       "            "
      ],
      "text/plain": [
       "<IPython.core.display.HTML object>"
      ]
     },
     "metadata": {},
     "output_type": "display_data"
    }
   ],
   "source": [
    "# checking that the imported layer loadedn\n",
    "Map.addLayer(example_data)"
   ]
  },
  {
   "cell_type": "code",
   "execution_count": 6,
   "id": "6a90a32b-53dd-4465-aced-d9d954c87123",
   "metadata": {},
   "outputs": [
    {
     "data": {
      "text/html": [
       "\n",
       "            <style>\n",
       "                .geemap-dark {\n",
       "                    --jp-widgets-color: white;\n",
       "                    --jp-widgets-label-color: white;\n",
       "                    --jp-ui-font-color1: white;\n",
       "                    --jp-layout-color2: #454545;\n",
       "                    background-color: #383838;\n",
       "                }\n",
       "                    \n",
       "                .geemap-dark .jupyter-button {\n",
       "                    --jp-layout-color3: #383838;\n",
       "                }\n",
       "                \n",
       "                .geemap-colab {\n",
       "                    background-color: var(--colab-primary-surface-color, white);\n",
       "                }\n",
       "                    \n",
       "                .geemap-colab .jupyter-button {\n",
       "                    --jp-layout-color3: var(--colab-primary-surface-color, white);\n",
       "                }\n",
       "            </style>\n",
       "            "
      ],
      "text/plain": [
       "<IPython.core.display.HTML object>"
      ]
     },
     "metadata": {},
     "output_type": "display_data"
    }
   ],
   "source": [
    "naip = mgf.naip_func(example_data)\n",
    "\n",
    "vis_param_naip = {'bands' : ['R', 'G', 'B'], \n",
    "               'min' : 0, \n",
    "               'max' : 256,\n",
    "               'gamma' : 1}\n",
    "\n",
    "### checking that image was smoothed. Rename as needed\n",
    "Map.addLayer(naip, vis_param_naip, f'naip')\n",
    "\n",
    "savi = mgf.naip_savi_endvi(naip)\n",
    "vis_param_savi = {'bands' : ['savi'], \n",
    "               'min' : 0, \n",
    "               'max' : 1,\n",
    "               'gamma' : 1}\n",
    "\n",
    "#Map.addLayer(savi, vis_param_savi, f'savi')"
   ]
  },
  {
   "cell_type": "markdown",
   "id": "0587957f-3e40-40c2-8aa1-06735364822d",
   "metadata": {},
   "source": [
    "Testing the gaussian filter"
   ]
  },
  {
   "cell_type": "code",
   "execution_count": 7,
   "id": "aac1a9e1-e9fe-40cb-9e83-49938adb7c12",
   "metadata": {},
   "outputs": [
    {
     "data": {
      "text/html": [
       "\n",
       "            <style>\n",
       "                .geemap-dark {\n",
       "                    --jp-widgets-color: white;\n",
       "                    --jp-widgets-label-color: white;\n",
       "                    --jp-ui-font-color1: white;\n",
       "                    --jp-layout-color2: #454545;\n",
       "                    background-color: #383838;\n",
       "                }\n",
       "                    \n",
       "                .geemap-dark .jupyter-button {\n",
       "                    --jp-layout-color3: #383838;\n",
       "                }\n",
       "                \n",
       "                .geemap-colab {\n",
       "                    background-color: var(--colab-primary-surface-color, white);\n",
       "                }\n",
       "                    \n",
       "                .geemap-colab .jupyter-button {\n",
       "                    --jp-layout-color3: var(--colab-primary-surface-color, white);\n",
       "                }\n",
       "            </style>\n",
       "            "
      ],
      "text/plain": [
       "<IPython.core.display.HTML object>"
      ]
     },
     "metadata": {},
     "output_type": "display_data"
    }
   ],
   "source": [
    "dog = mgf.dog_sharp(savi)\n",
    "\n",
    "def gauss_func(given_image):\n",
    "    ### gaussian smoothing\n",
    "    gaussianKernel = ee.Kernel.gaussian(\n",
    "      radius = 3, # was originally 3, also tested 10\n",
    "      units = 'pixels'\n",
    "    )\n",
    "    \n",
    "    gaussian_smooth = given_image.convolve(gaussianKernel)\n",
    "    return gaussian_smooth\n",
    "\n",
    "gauss = gauss_func(dog)\n",
    "vis_param_smooth = {'bands' : ['R', 'G', 'B'], \n",
    "               'min' : 0, \n",
    "               'max' : 256,\n",
    "               'gamma' : 1}\n",
    "Map.addLayer(gauss, vis_param_smooth, f'smoothed')"
   ]
  },
  {
   "cell_type": "markdown",
   "id": "7eb4ee21-947d-465b-9e83-64f4dec89727",
   "metadata": {},
   "source": [
    "conversion of color NAIP to radiance grayscale image"
   ]
  },
  {
   "cell_type": "code",
   "execution_count": 30,
   "id": "a0aaebdb-eea4-47f0-b076-def211283a1f",
   "metadata": {},
   "outputs": [
    {
     "data": {
      "text/html": [
       "\n",
       "            <style>\n",
       "                .geemap-dark {\n",
       "                    --jp-widgets-color: white;\n",
       "                    --jp-widgets-label-color: white;\n",
       "                    --jp-ui-font-color1: white;\n",
       "                    --jp-layout-color2: #454545;\n",
       "                    background-color: #383838;\n",
       "                }\n",
       "                    \n",
       "                .geemap-dark .jupyter-button {\n",
       "                    --jp-layout-color3: #383838;\n",
       "                }\n",
       "                \n",
       "                .geemap-colab {\n",
       "                    background-color: var(--colab-primary-surface-color, white);\n",
       "                }\n",
       "                    \n",
       "                .geemap-colab .jupyter-button {\n",
       "                    --jp-layout-color3: var(--colab-primary-surface-color, white);\n",
       "                }\n",
       "            </style>\n",
       "            "
      ],
      "text/plain": [
       "<IPython.core.display.HTML object>"
      ]
     },
     "metadata": {},
     "output_type": "display_data"
    }
   ],
   "source": [
    "grayscale = naip.expression(\n",
    "      '(0.3 * R) + (0.59 * G) + (0.11 * B)', {\n",
    "      'R': naip.select(['R']),\n",
    "      'G': naip.select(['G']),\n",
    "      'B': naip.select(['B'])\n",
    "})\n",
    "\n",
    "vis_param_gray = {#'bands' : ['R', 'G', 'B'], \n",
    "               'min' : 0, \n",
    "               'max' : 256,\n",
    "               'gamma' : 1}\n",
    "\n",
    "### checking that image was smoothed. Rename as needed\n",
    "Map.addLayer(grayscale, vis_param_gray, f'gray')\n",
    "\n",
    "# if wanting to use a grayscale image\n",
    "int_gray = grayscale.int()\n",
    "glcmTexture = int_gray.glcmTexture(5)\n",
    "\n",
    "# if not wanting to use a grayscaled image\n",
    "#int_naip = naip.int()\n",
    "#glcmTexture = int_naip.glcmTexture(10)\n",
    "\n",
    "imp_glcm_bands = glcmTexture.select(['constant_savg', 'constant_contrast', 'constant_ent'])\n",
    "contrastVis = {\n",
    "   'bands' : ['constant_savg', 'constant_contrast', 'constant_ent']\n",
    "}\n",
    "\n",
    "#Map.addLayer(imp_glcm_bands, contrastVis, 'contrast')\n",
    "\n",
    "glcm_segment = imp_glcm_bands.addBands(gauss, ['R', 'G', 'B', 'N', 'savi', 'endvi'])\n",
    "contrastVis_rgb = {\n",
    "   'bands' : ['R', 'G', 'B']\n",
    "}\n",
    "\n",
    "#Map.addLayer(glcm_segment, contrastVis_rgb, 'contrast_rgb')\n",
    "\n",
    "standardized = mgf.stdrd_func(glcm_segment, example_data)\n",
    "vis_param_std = {'bands' : ['N', 'R', 'constant_savg'], \n",
    "               'min' : -1.5, \n",
    "               'max' : 2,\n",
    "               'gamma' : 1}\n",
    "Map.addLayer(standardized, vis_param_std, 'standardized')"
   ]
  },
  {
   "cell_type": "code",
   "execution_count": 31,
   "id": "5adeeb79-a25c-4f27-94a9-d2d77486527b",
   "metadata": {},
   "outputs": [
    {
     "data": {
      "text/html": [
       "\n",
       "            <style>\n",
       "                .geemap-dark {\n",
       "                    --jp-widgets-color: white;\n",
       "                    --jp-widgets-label-color: white;\n",
       "                    --jp-ui-font-color1: white;\n",
       "                    --jp-layout-color2: #454545;\n",
       "                    background-color: #383838;\n",
       "                }\n",
       "                    \n",
       "                .geemap-dark .jupyter-button {\n",
       "                    --jp-layout-color3: #383838;\n",
       "                }\n",
       "                \n",
       "                .geemap-colab {\n",
       "                    background-color: var(--colab-primary-surface-color, white);\n",
       "                }\n",
       "                    \n",
       "                .geemap-colab .jupyter-button {\n",
       "                    --jp-layout-color3: var(--colab-primary-surface-color, white);\n",
       "                }\n",
       "            </style>\n",
       "            "
      ],
      "text/plain": [
       "<IPython.core.display.HTML object>"
      ]
     },
     "metadata": {},
     "output_type": "display_data"
    }
   ],
   "source": [
    "def segmentation_func(stdrd_image, seed_spacing = 5, snic_compactness = 0, snic_connectivity = 4, seed_grid_shape = 'hex'):\n",
    "    \"\"\"\n",
    "    Creates a segmented image using the script shown in the GEE workshop video.\n",
    "    May add the option to change the SNIC function settings\"\"\"\n",
    "    #standardized = stdrd_image\n",
    "    #gauss = gauss_smooth_func(standardized)\n",
    "    #gauss = dog_sharp(gauss)\n",
    "    \n",
    "    bands = ['constant_savg', 'constant_contrast', 'constant_ent', \n",
    "             #'r_edge', 'g_edge', 'b_edge', 'n_edge', 'savi_edge', 'endvi_edge',\n",
    "             'R', 'G', 'B', 'N', 'savi', 'endvi']\n",
    "    # seed_spacing default is now 5\n",
    "    # seed_grid_shape now defaults to 'hex'\n",
    "    seeds = ee.Algorithms.Image.Segmentation.seedGrid(seed_spacing, seed_grid_shape)\n",
    "    \n",
    "    # Run SNIC on the regular square grid.\n",
    "    snic = ee.Algorithms.Image.Segmentation.SNIC(\n",
    "      image = stdrd_image,\n",
    "      #size = 4, # shouldn't matter since have seed image\n",
    "      compactness = snic_compactness, # spatial weighting not taken into account at 0. More compact at higher values\n",
    "      connectivity = snic_connectivity, # 4 or 8\n",
    "      neighborhoodSize = 2 * seed_spacing,\n",
    "      seeds = seeds # the \"seedGrid\" given\n",
    "    ).select(['constant_savg_mean', 'constant_contrast_mean', 'constant_ent_mean',\n",
    "              #'r_edge_mean', 'g_edge_mean', 'b_edge_mean', 'n_edge_mean', 'savi_edge_mean', 'endvi_edge_mean',\n",
    "              'R_mean', 'G_mean', 'B_mean', 'N_mean', 'savi_mean', 'endvi_mean', 'clusters'], \n",
    "             ['constant_savg', 'constant_contrast', 'constant_ent',\n",
    "              #'r_edge', 'g_edge', 'b_edge', 'n_edge', 'savi_edge', 'endvi_edge',\n",
    "              'R', 'G', 'B', 'N', 'savi', 'endvi', 'clusters'])\n",
    "    \n",
    "    clusters = snic.select('clusters')\n",
    "    stdDev = stdrd_image.addBands(clusters).reduceConnectedComponents(ee.Reducer.stdDev(), 'clusters', 256)\n",
    "    area = ee.Image.pixelArea().addBands(clusters).reduceConnectedComponents(ee.Reducer.sum(), 'clusters', 256)\n",
    "    minMax = clusters.reduceNeighborhood(ee.Reducer.minMax(), ee.Kernel.square(1))\n",
    "    perimeterPixels = minMax.select(0).neq(minMax.select(1)).rename('perimeter')\n",
    "    perimeter = perimeterPixels.addBands(clusters) \\\n",
    "        .reduceConnectedComponents(ee.Reducer.sum(), 'clusters', 256)\n",
    "    sizes = ee.Image.pixelLonLat().addBands(clusters).reduceConnectedComponents(ee.Reducer.minMax(), 'clusters', 256)\n",
    "    width = sizes.select('longitude_max').subtract(sizes.select('longitude_min')).rename('width')\n",
    "    height = sizes.select('latitude_max').subtract(sizes.select('latitude_min')).rename('height')\n",
    "    objectPropertiesImage = ee.Image.cat([\n",
    "      snic.select(bands),\n",
    "      stdDev,\n",
    "      area,\n",
    "      perimeter,\n",
    "      width,\n",
    "      height\n",
    "    ]).float()\n",
    "    return objectPropertiesImage"
   ]
  },
  {
   "cell_type": "markdown",
   "id": "6e1783df-233a-4460-9d38-4b277f7f89c0",
   "metadata": {},
   "source": [
    "Using the above function"
   ]
  },
  {
   "cell_type": "code",
   "execution_count": 32,
   "id": "d3cbf22f-782c-421d-896d-9a16d7541ca6",
   "metadata": {},
   "outputs": [
    {
     "data": {
      "text/html": [
       "\n",
       "            <style>\n",
       "                .geemap-dark {\n",
       "                    --jp-widgets-color: white;\n",
       "                    --jp-widgets-label-color: white;\n",
       "                    --jp-ui-font-color1: white;\n",
       "                    --jp-layout-color2: #454545;\n",
       "                    background-color: #383838;\n",
       "                }\n",
       "                    \n",
       "                .geemap-dark .jupyter-button {\n",
       "                    --jp-layout-color3: #383838;\n",
       "                }\n",
       "                \n",
       "                .geemap-colab {\n",
       "                    background-color: var(--colab-primary-surface-color, white);\n",
       "                }\n",
       "                    \n",
       "                .geemap-colab .jupyter-button {\n",
       "                    --jp-layout-color3: var(--colab-primary-surface-color, white);\n",
       "                }\n",
       "            </style>\n",
       "            "
      ],
      "text/plain": [
       "<IPython.core.display.HTML object>"
      ]
     },
     "metadata": {},
     "output_type": "display_data"
    }
   ],
   "source": [
    "segmented_image = segmentation_func(standardized, seed_spacing = 5, snic_compactness = 0, \n",
    "                                                     snic_connectivity = 8, seed_grid_shape = 'hex')\n",
    "#Map.addLayer(segmented_image.randomVisualizer(), {}, 'clusters')"
   ]
  },
  {
   "cell_type": "code",
   "execution_count": 33,
   "id": "ebc25536-28ee-43c6-b262-0eedb945f34e",
   "metadata": {},
   "outputs": [
    {
     "data": {
      "text/html": [
       "\n",
       "            <style>\n",
       "                .geemap-dark {\n",
       "                    --jp-widgets-color: white;\n",
       "                    --jp-widgets-label-color: white;\n",
       "                    --jp-ui-font-color1: white;\n",
       "                    --jp-layout-color2: #454545;\n",
       "                    background-color: #383838;\n",
       "                }\n",
       "                    \n",
       "                .geemap-dark .jupyter-button {\n",
       "                    --jp-layout-color3: #383838;\n",
       "                }\n",
       "                \n",
       "                .geemap-colab {\n",
       "                    background-color: var(--colab-primary-surface-color, white);\n",
       "                }\n",
       "                    \n",
       "                .geemap-colab .jupyter-button {\n",
       "                    --jp-layout-color3: var(--colab-primary-surface-color, white);\n",
       "                }\n",
       "            </style>\n",
       "            "
      ],
      "text/plain": [
       "<IPython.core.display.HTML object>"
      ]
     },
     "metadata": {},
     "output_type": "display_data"
    }
   ],
   "source": [
    "max_clusters = 15 # tested with 10\n",
    "obj_classed = mgf.obj_class(example_data, segmented_image, \n",
    "                                         train_scale = 1, train_pixels = 10000, #default was 10000\n",
    "                                         max_clusters = max_clusters, tilescale = 5, segmented_as_bands = False, \n",
    "                                         band_list = None)\n",
    "obj_palette = ['#000000','#a6cee3', '#1f78b4', '#b2df8a', '#33a02c', '#fb9a99', '#e31a1c', '#fdbf6f', '#ff7f00', '#cab2d6', '#6a3d9a', '#ffff99', '#b15928']\n",
    "obj_vis = {'min' : 0, 'max' : 12, 'palette' : obj_palette}\n",
    "#Map.addLayer(obj_classed, obj_vis, f'object based classification with poly_1 and {max_clusters} clusters')"
   ]
  },
  {
   "cell_type": "code",
   "execution_count": null,
   "id": "f0db8a0e-0b2a-4f20-9232-dd2aa2bd5f01",
   "metadata": {},
   "outputs": [
    {
     "data": {
      "text/html": [
       "\n",
       "            <style>\n",
       "                .geemap-dark {\n",
       "                    --jp-widgets-color: white;\n",
       "                    --jp-widgets-label-color: white;\n",
       "                    --jp-ui-font-color1: white;\n",
       "                    --jp-layout-color2: #454545;\n",
       "                    background-color: #383838;\n",
       "                }\n",
       "                    \n",
       "                .geemap-dark .jupyter-button {\n",
       "                    --jp-layout-color3: #383838;\n",
       "                }\n",
       "                \n",
       "                .geemap-colab {\n",
       "                    background-color: var(--colab-primary-surface-color, white);\n",
       "                }\n",
       "                    \n",
       "                .geemap-colab .jupyter-button {\n",
       "                    --jp-layout-color3: var(--colab-primary-surface-color, white);\n",
       "                }\n",
       "            </style>\n",
       "            "
      ],
      "text/plain": [
       "<IPython.core.display.HTML object>"
      ]
     },
     "metadata": {},
     "output_type": "display_data"
    },
    {
     "name": "stdout",
     "output_type": "stream",
     "text": [
      "Generating URL ...\n",
      "Downloading data from https://earthengine.googleapis.com/v1/projects/ee-jdawsey/thumbnails/d6d0a5e7b2901c4b431b91c62ddee80c-0b168a8da58dcf4db767696dc2423691:getPixels\n",
      "Please wait ...\n"
     ]
    }
   ],
   "source": [
    "shp = example_data\n",
    "shp_geom = shp.geometry()\n",
    "exp_file_dir = 'E:/!!Research/!!!Data/example_data/example_data_py/classified/ex_obj_classed_15.tif'\n",
    "\n",
    "geemap.ee_export_image(\n",
    "    obj_classed, filename = exp_file_dir, scale=1, region=shp_geom, file_per_band=False\n",
    ")"
   ]
  },
  {
   "cell_type": "code",
   "execution_count": 23,
   "id": "89631189-6f85-4456-b203-e04e1999a0a6",
   "metadata": {},
   "outputs": [
    {
     "data": {
      "text/html": [
       "\n",
       "            <style>\n",
       "                .geemap-dark {\n",
       "                    --jp-widgets-color: white;\n",
       "                    --jp-widgets-label-color: white;\n",
       "                    --jp-ui-font-color1: white;\n",
       "                    --jp-layout-color2: #454545;\n",
       "                    background-color: #383838;\n",
       "                }\n",
       "                    \n",
       "                .geemap-dark .jupyter-button {\n",
       "                    --jp-layout-color3: #383838;\n",
       "                }\n",
       "                \n",
       "                .geemap-colab {\n",
       "                    background-color: var(--colab-primary-surface-color, white);\n",
       "                }\n",
       "                    \n",
       "                .geemap-colab .jupyter-button {\n",
       "                    --jp-layout-color3: var(--colab-primary-surface-color, white);\n",
       "                }\n",
       "            </style>\n",
       "            "
      ],
      "text/plain": [
       "<IPython.core.display.HTML object>"
      ]
     },
     "metadata": {},
     "output_type": "display_data"
    }
   ],
   "source": [
    "shp = example_data\n",
    "shp_geom = shp.geometry()\n",
    "task_obj = ee.batch.Export.image.toDrive(\n",
    "    image = obj_classed,\n",
    "    description = f'obj_classed_ex_data',\n",
    "    folder = '!imagery',\n",
    "    region = shp_geom,\n",
    "    scale = 1,\n",
    "    #crs = 'EPSG:6350',\n",
    "    maxPixels = 130000000\n",
    ")\n",
    "task_obj.start()"
   ]
  }
 ],
 "metadata": {
  "kernelspec": {
   "display_name": "Python 3 (ipykernel)",
   "language": "python",
   "name": "python3"
  },
  "language_info": {
   "codemirror_mode": {
    "name": "ipython",
    "version": 3
   },
   "file_extension": ".py",
   "mimetype": "text/x-python",
   "name": "python",
   "nbconvert_exporter": "python",
   "pygments_lexer": "ipython3",
   "version": "3.12.1"
  }
 },
 "nbformat": 4,
 "nbformat_minor": 5
}
