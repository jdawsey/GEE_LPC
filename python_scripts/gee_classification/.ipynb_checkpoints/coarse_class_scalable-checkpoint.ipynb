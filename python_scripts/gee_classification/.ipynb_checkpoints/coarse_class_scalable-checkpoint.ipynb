{
 "cells": [
  {
   "cell_type": "code",
   "execution_count": 1,
   "id": "08d6f26b-09a2-4b3c-b4d6-2d8f060b832d",
   "metadata": {},
   "outputs": [],
   "source": [
    "import ee\n",
    "import geemap\n",
    "import json\n",
    "import os\n",
    "#from geemap import geojson_to_ee\n",
    "from ipyleaflet import GeoJSON\n",
    "import segment_testing_my_gee_functions as mgf\n",
    "import simple_fishnet as fish\n",
    "import classification_loop as cloop"
   ]
  },
  {
   "cell_type": "code",
   "execution_count": 2,
   "id": "0d6d9225-371a-4336-91ee-0cfc88fd7c65",
   "metadata": {},
   "outputs": [
    {
     "data": {
      "text/html": [
       "\n",
       "            <style>\n",
       "                .geemap-dark {\n",
       "                    --jp-widgets-color: white;\n",
       "                    --jp-widgets-label-color: white;\n",
       "                    --jp-ui-font-color1: white;\n",
       "                    --jp-layout-color2: #454545;\n",
       "                    background-color: #383838;\n",
       "                }\n",
       "                    \n",
       "                .geemap-dark .jupyter-button {\n",
       "                    --jp-layout-color3: #383838;\n",
       "                }\n",
       "                \n",
       "                .geemap-colab {\n",
       "                    background-color: var(--colab-primary-surface-color, white);\n",
       "                }\n",
       "                    \n",
       "                .geemap-colab .jupyter-button {\n",
       "                    --jp-layout-color3: var(--colab-primary-surface-color, white);\n",
       "                }\n",
       "            </style>\n",
       "            "
      ],
      "text/plain": [
       "<IPython.core.display.HTML object>"
      ]
     },
     "metadata": {},
     "output_type": "display_data"
    }
   ],
   "source": [
    "ee.Authenticate()\n",
    "#Initializing the ee project\n",
    "\n",
    "ee.Initialize(project = 'ee-jdawsey')"
   ]
  },
  {
   "cell_type": "code",
   "execution_count": 10,
   "id": "569d871f-1285-4dfc-838b-ab3fc570b5ac",
   "metadata": {},
   "outputs": [
    {
     "data": {
      "text/html": [
       "\n",
       "            <style>\n",
       "                .geemap-dark {\n",
       "                    --jp-widgets-color: white;\n",
       "                    --jp-widgets-label-color: white;\n",
       "                    --jp-ui-font-color1: white;\n",
       "                    --jp-layout-color2: #454545;\n",
       "                    background-color: #383838;\n",
       "                }\n",
       "                    \n",
       "                .geemap-dark .jupyter-button {\n",
       "                    --jp-layout-color3: #383838;\n",
       "                }\n",
       "                \n",
       "                .geemap-colab {\n",
       "                    background-color: var(--colab-primary-surface-color, white);\n",
       "                }\n",
       "                    \n",
       "                .geemap-colab .jupyter-button {\n",
       "                    --jp-layout-color3: var(--colab-primary-surface-color, white);\n",
       "                }\n",
       "            </style>\n",
       "            "
      ],
      "text/plain": [
       "<IPython.core.display.HTML object>"
      ]
     },
     "metadata": {},
     "output_type": "display_data"
    }
   ],
   "source": [
    "shp_folder_path = 'E:/!!Research/!!!Data/example_data/example_data_py/example_data_shp/'\n",
    "#shp_file = 'example_data.shp'\n",
    "#shp_file = 'ex_data_med.shp'\n",
    "shp_file = 'ex_data_large.shp'\n",
    "example_data = geemap.shp_to_ee(f'{shp_folder_path}{shp_file}')"
   ]
  },
  {
   "cell_type": "code",
   "execution_count": 5,
   "id": "33a140cf-4095-4610-8a06-b86607ca915a",
   "metadata": {},
   "outputs": [
    {
     "data": {
      "text/html": [
       "\n",
       "            <style>\n",
       "                .geemap-dark {\n",
       "                    --jp-widgets-color: white;\n",
       "                    --jp-widgets-label-color: white;\n",
       "                    --jp-ui-font-color1: white;\n",
       "                    --jp-layout-color2: #454545;\n",
       "                    background-color: #383838;\n",
       "                }\n",
       "                    \n",
       "                .geemap-dark .jupyter-button {\n",
       "                    --jp-layout-color3: #383838;\n",
       "                }\n",
       "                \n",
       "                .geemap-colab {\n",
       "                    background-color: var(--colab-primary-surface-color, white);\n",
       "                }\n",
       "                    \n",
       "                .geemap-colab .jupyter-button {\n",
       "                    --jp-layout-color3: var(--colab-primary-surface-color, white);\n",
       "                }\n",
       "            </style>\n",
       "            "
      ],
      "text/plain": [
       "<IPython.core.display.HTML object>"
      ]
     },
     "metadata": {},
     "output_type": "display_data"
    },
    {
     "data": {
      "application/vnd.jupyter.widget-view+json": {
       "model_id": "88ab1718c94149e9ba2b21ca13809237",
       "version_major": 2,
       "version_minor": 0
      },
      "text/plain": [
       "Map(center=[0, 0], controls=(WidgetControl(options=['position', 'transparent_bg'], widget=SearchDataGUI(childr…"
      ]
     },
     "execution_count": 5,
     "metadata": {},
     "output_type": "execute_result"
    }
   ],
   "source": [
    "Map = geemap.Map()\n",
    "Map"
   ]
  },
  {
   "cell_type": "code",
   "execution_count": 11,
   "id": "88ffa009-67b2-4e34-bb03-6be262434918",
   "metadata": {},
   "outputs": [
    {
     "data": {
      "text/html": [
       "\n",
       "            <style>\n",
       "                .geemap-dark {\n",
       "                    --jp-widgets-color: white;\n",
       "                    --jp-widgets-label-color: white;\n",
       "                    --jp-ui-font-color1: white;\n",
       "                    --jp-layout-color2: #454545;\n",
       "                    background-color: #383838;\n",
       "                }\n",
       "                    \n",
       "                .geemap-dark .jupyter-button {\n",
       "                    --jp-layout-color3: #383838;\n",
       "                }\n",
       "                \n",
       "                .geemap-colab {\n",
       "                    background-color: var(--colab-primary-surface-color, white);\n",
       "                }\n",
       "                    \n",
       "                .geemap-colab .jupyter-button {\n",
       "                    --jp-layout-color3: var(--colab-primary-surface-color, white);\n",
       "                }\n",
       "            </style>\n",
       "            "
      ],
      "text/plain": [
       "<IPython.core.display.HTML object>"
      ]
     },
     "metadata": {},
     "output_type": "display_data"
    }
   ],
   "source": [
    "# checking that the imported layer loadedn\n",
    "Map.addLayer(example_data)"
   ]
  },
  {
   "cell_type": "code",
   "execution_count": null,
   "id": "a491b484-ff92-4524-addb-d1d3ae170917",
   "metadata": {},
   "outputs": [],
   "source": [
    "shp = example_data\n",
    "shp_geom = shp.geometry()\n",
    "exp_file_dir_naip = 'E:/!!Research/!!!Data/example_data/example_data_py/naip/ex_naip.tif'\n",
    "\n",
    "geemap.ee_export_image(\n",
    "    naip, filename = exp_file_dir_naip, scale=1, region=shp_geom, file_per_band=False\n",
    ")"
   ]
  },
  {
   "cell_type": "markdown",
   "id": "d4e1c202-eae9-4bbc-a450-98a43589663b",
   "metadata": {},
   "source": [
    "Testing pixel-based classification"
   ]
  },
  {
   "cell_type": "code",
   "execution_count": null,
   "id": "ae0a5970-1174-46dd-a885-f5402994c6ac",
   "metadata": {},
   "outputs": [],
   "source": [
    "folder_dir = 'E:/!!Research/!!!Data/example_data/example_data_py'\n",
    "data_dir = f'fishnet_classified'\n",
    "shp_dir = f'{folder_dir}/ex_data_fishnet'\n",
    "\n",
    "cloop.download_classified(folder_dir, data_dir, shp_dir)"
   ]
  },
  {
   "cell_type": "code",
   "execution_count": null,
   "id": "f39b745a-1efd-4fdf-821d-4a18a476d69a",
   "metadata": {},
   "outputs": [],
   "source": [
    "def pixel_based_classify():\n",
    "    naip = mgf.naip_func(example_data)\n",
    "    \n",
    "    savi = mgf.naip_savi_endvi(naip)\n",
    "    \n",
    "    def gauss_three_func(given_image):\n",
    "        ### gaussian smoothing\n",
    "        gaussianKernel = ee.Kernel.gaussian(\n",
    "          radius = 3, # was originally 3, also tested 10\n",
    "          units = 'pixels'\n",
    "        )\n",
    "        \n",
    "        gaussian_smooth = given_image.convolve(gaussianKernel)\n",
    "        return gaussian_smooth\n",
    "    \n",
    "    gauss = gauss_three_func(savi)\n",
    "    vis_param_smooth = {'bands' : ['R', 'G', 'B'], \n",
    "                   'min' : 0, \n",
    "                   'max' : 256,\n",
    "                   'gamma' : 1}\n",
    "    \n",
    "    grayscale = naip.expression(\n",
    "          '(0.3 * R) + (0.59 * G) + (0.11 * B)', {\n",
    "          'R': naip.select(['R']),\n",
    "          'G': naip.select(['G']),\n",
    "          'B': naip.select(['B'])\n",
    "    })\n",
    "    \n",
    "    # if wanting to use a grayscale image\n",
    "    int_gray = grayscale.int()\n",
    "    glcmTexture = int_gray.glcmTexture(5)\n",
    "    \n",
    "    imp_glcm_bands = glcmTexture.select(['constant_savg', 'constant_contrast'])\n",
    "    \n",
    "    glcm_segment = imp_glcm_bands.addBands(gauss, ['R', 'G', 'B', 'N', 'savi']) #may need to include 'savi' and 'endvi'\n",
    "    \n",
    "    standardized = mgf.stdrd_func(glcm_segment, example_data)\n",
    "    \n",
    "    # point-based algorithm\n",
    "    max_clusters = 10 # tested with 10\n",
    "    \n",
    "    pb_classed = mgf.pb_class(example_data, standardized, max_clusters)"
   ]
  },
  {
   "cell_type": "code",
   "execution_count": null,
   "id": "ea8f52f6-6e27-452f-b616-a2624989cdc9",
   "metadata": {},
   "outputs": [],
   "source": [
    "shp = example_data\n",
    "shp_geom = shp.geometry()\n",
    "exp_file_dir_pb = 'E:/!!Research/!!!Data/example_data/example_data_py/classified/ex_pb_classed_10_no_savi.tif'\n",
    "\n",
    "geemap.ee_export_image(\n",
    "    pb_classed, filename = exp_file_dir_pb, scale=2, region=shp_geom, file_per_band=False\n",
    ")"
   ]
  }
 ],
 "metadata": {
  "kernelspec": {
   "display_name": "Python 3 (ipykernel)",
   "language": "python",
   "name": "python3"
  },
  "language_info": {
   "codemirror_mode": {
    "name": "ipython",
    "version": 3
   },
   "file_extension": ".py",
   "mimetype": "text/x-python",
   "name": "python",
   "nbconvert_exporter": "python",
   "pygments_lexer": "ipython3",
   "version": "3.12.1"
  }
 },
 "nbformat": 4,
 "nbformat_minor": 5
}
