{
 "cells": [
  {
   "cell_type": "code",
   "execution_count": 1,
   "id": "08d6f26b-09a2-4b3c-b4d6-2d8f060b832d",
   "metadata": {},
   "outputs": [],
   "source": [
    "import ee\n",
    "import geemap\n",
    "import json\n",
    "import os\n",
    "#from geemap import geojson_to_ee\n",
    "from ipyleaflet import GeoJSON\n",
    "import segment_testing_my_gee_functions as mgf"
   ]
  },
  {
   "cell_type": "code",
   "execution_count": 2,
   "id": "0d6d9225-371a-4336-91ee-0cfc88fd7c65",
   "metadata": {},
   "outputs": [
    {
     "data": {
      "text/html": [
       "\n",
       "            <style>\n",
       "                .geemap-dark {\n",
       "                    --jp-widgets-color: white;\n",
       "                    --jp-widgets-label-color: white;\n",
       "                    --jp-ui-font-color1: white;\n",
       "                    --jp-layout-color2: #454545;\n",
       "                    background-color: #383838;\n",
       "                }\n",
       "                    \n",
       "                .geemap-dark .jupyter-button {\n",
       "                    --jp-layout-color3: #383838;\n",
       "                }\n",
       "                \n",
       "                .geemap-colab {\n",
       "                    background-color: var(--colab-primary-surface-color, white);\n",
       "                }\n",
       "                    \n",
       "                .geemap-colab .jupyter-button {\n",
       "                    --jp-layout-color3: var(--colab-primary-surface-color, white);\n",
       "                }\n",
       "            </style>\n",
       "            "
      ],
      "text/plain": [
       "<IPython.core.display.HTML object>"
      ]
     },
     "metadata": {},
     "output_type": "display_data"
    }
   ],
   "source": [
    "ee.Authenticate()\n",
    "#Initializing the ee project\n",
    "\n",
    "ee.Initialize(project = 'ee-jdawsey')"
   ]
  },
  {
   "cell_type": "code",
   "execution_count": 3,
   "id": "569d871f-1285-4dfc-838b-ab3fc570b5ac",
   "metadata": {},
   "outputs": [
    {
     "data": {
      "text/html": [
       "\n",
       "            <style>\n",
       "                .geemap-dark {\n",
       "                    --jp-widgets-color: white;\n",
       "                    --jp-widgets-label-color: white;\n",
       "                    --jp-ui-font-color1: white;\n",
       "                    --jp-layout-color2: #454545;\n",
       "                    background-color: #383838;\n",
       "                }\n",
       "                    \n",
       "                .geemap-dark .jupyter-button {\n",
       "                    --jp-layout-color3: #383838;\n",
       "                }\n",
       "                \n",
       "                .geemap-colab {\n",
       "                    background-color: var(--colab-primary-surface-color, white);\n",
       "                }\n",
       "                    \n",
       "                .geemap-colab .jupyter-button {\n",
       "                    --jp-layout-color3: var(--colab-primary-surface-color, white);\n",
       "                }\n",
       "            </style>\n",
       "            "
      ],
      "text/plain": [
       "<IPython.core.display.HTML object>"
      ]
     },
     "metadata": {},
     "output_type": "display_data"
    }
   ],
   "source": [
    "shp_folder_path = 'E:/!!Research/!!!Data/example_data/example_data_py/example_data_shp/'\n",
    "shp_file = 'example_data.shp'\n",
    "example_data = geemap.shp_to_ee(f'{shp_folder_path}{shp_file}')"
   ]
  },
  {
   "cell_type": "code",
   "execution_count": 4,
   "id": "33a140cf-4095-4610-8a06-b86607ca915a",
   "metadata": {},
   "outputs": [
    {
     "data": {
      "text/html": [
       "\n",
       "            <style>\n",
       "                .geemap-dark {\n",
       "                    --jp-widgets-color: white;\n",
       "                    --jp-widgets-label-color: white;\n",
       "                    --jp-ui-font-color1: white;\n",
       "                    --jp-layout-color2: #454545;\n",
       "                    background-color: #383838;\n",
       "                }\n",
       "                    \n",
       "                .geemap-dark .jupyter-button {\n",
       "                    --jp-layout-color3: #383838;\n",
       "                }\n",
       "                \n",
       "                .geemap-colab {\n",
       "                    background-color: var(--colab-primary-surface-color, white);\n",
       "                }\n",
       "                    \n",
       "                .geemap-colab .jupyter-button {\n",
       "                    --jp-layout-color3: var(--colab-primary-surface-color, white);\n",
       "                }\n",
       "            </style>\n",
       "            "
      ],
      "text/plain": [
       "<IPython.core.display.HTML object>"
      ]
     },
     "metadata": {},
     "output_type": "display_data"
    },
    {
     "data": {
      "application/vnd.jupyter.widget-view+json": {
       "model_id": "ecf3af9c4b24432f9c5da1d41b07052d",
       "version_major": 2,
       "version_minor": 0
      },
      "text/plain": [
       "Map(center=[0, 0], controls=(WidgetControl(options=['position', 'transparent_bg'], widget=SearchDataGUI(childr…"
      ]
     },
     "execution_count": 4,
     "metadata": {},
     "output_type": "execute_result"
    }
   ],
   "source": [
    "Map = geemap.Map()\n",
    "Map"
   ]
  },
  {
   "cell_type": "code",
   "execution_count": 5,
   "id": "88ffa009-67b2-4e34-bb03-6be262434918",
   "metadata": {},
   "outputs": [
    {
     "data": {
      "text/html": [
       "\n",
       "            <style>\n",
       "                .geemap-dark {\n",
       "                    --jp-widgets-color: white;\n",
       "                    --jp-widgets-label-color: white;\n",
       "                    --jp-ui-font-color1: white;\n",
       "                    --jp-layout-color2: #454545;\n",
       "                    background-color: #383838;\n",
       "                }\n",
       "                    \n",
       "                .geemap-dark .jupyter-button {\n",
       "                    --jp-layout-color3: #383838;\n",
       "                }\n",
       "                \n",
       "                .geemap-colab {\n",
       "                    background-color: var(--colab-primary-surface-color, white);\n",
       "                }\n",
       "                    \n",
       "                .geemap-colab .jupyter-button {\n",
       "                    --jp-layout-color3: var(--colab-primary-surface-color, white);\n",
       "                }\n",
       "            </style>\n",
       "            "
      ],
      "text/plain": [
       "<IPython.core.display.HTML object>"
      ]
     },
     "metadata": {},
     "output_type": "display_data"
    }
   ],
   "source": [
    "# checking that the imported layer loadedn\n",
    "Map.addLayer(example_data)"
   ]
  },
  {
   "cell_type": "code",
   "execution_count": 6,
   "id": "6a90a32b-53dd-4465-aced-d9d954c87123",
   "metadata": {},
   "outputs": [
    {
     "data": {
      "text/html": [
       "\n",
       "            <style>\n",
       "                .geemap-dark {\n",
       "                    --jp-widgets-color: white;\n",
       "                    --jp-widgets-label-color: white;\n",
       "                    --jp-ui-font-color1: white;\n",
       "                    --jp-layout-color2: #454545;\n",
       "                    background-color: #383838;\n",
       "                }\n",
       "                    \n",
       "                .geemap-dark .jupyter-button {\n",
       "                    --jp-layout-color3: #383838;\n",
       "                }\n",
       "                \n",
       "                .geemap-colab {\n",
       "                    background-color: var(--colab-primary-surface-color, white);\n",
       "                }\n",
       "                    \n",
       "                .geemap-colab .jupyter-button {\n",
       "                    --jp-layout-color3: var(--colab-primary-surface-color, white);\n",
       "                }\n",
       "            </style>\n",
       "            "
      ],
      "text/plain": [
       "<IPython.core.display.HTML object>"
      ]
     },
     "metadata": {},
     "output_type": "display_data"
    }
   ],
   "source": [
    "naip = mgf.naip_func(example_data)\n",
    "\n",
    "vis_param_naip = {'bands' : ['R', 'G', 'B'], \n",
    "               'min' : 0, \n",
    "               'max' : 256,\n",
    "               'gamma' : 1}\n",
    "\n",
    "### checking that image was smoothed. Rename as needed\n",
    "Map.addLayer(naip, vis_param_naip, f'naip')"
   ]
  },
  {
   "cell_type": "code",
   "execution_count": 8,
   "id": "67b25bdf-e03c-4489-b25a-fa5ffef31d12",
   "metadata": {},
   "outputs": [
    {
     "data": {
      "text/html": [
       "\n",
       "            <style>\n",
       "                .geemap-dark {\n",
       "                    --jp-widgets-color: white;\n",
       "                    --jp-widgets-label-color: white;\n",
       "                    --jp-ui-font-color1: white;\n",
       "                    --jp-layout-color2: #454545;\n",
       "                    background-color: #383838;\n",
       "                }\n",
       "                    \n",
       "                .geemap-dark .jupyter-button {\n",
       "                    --jp-layout-color3: #383838;\n",
       "                }\n",
       "                \n",
       "                .geemap-colab {\n",
       "                    background-color: var(--colab-primary-surface-color, white);\n",
       "                }\n",
       "                    \n",
       "                .geemap-colab .jupyter-button {\n",
       "                    --jp-layout-color3: var(--colab-primary-surface-color, white);\n",
       "                }\n",
       "            </style>\n",
       "            "
      ],
      "text/plain": [
       "<IPython.core.display.HTML object>"
      ]
     },
     "metadata": {},
     "output_type": "display_data"
    }
   ],
   "source": [
    "savi = mgf.naip_savi_endvi(naip)\n",
    "vis_param_savi = {'bands' : ['savi'], \n",
    "               'min' : 0, \n",
    "               'max' : 1,\n",
    "               'gamma' : 1}\n",
    "\n",
    "#Map.addLayer(savi, vis_param_savi, f'savi')"
   ]
  },
  {
   "cell_type": "code",
   "execution_count": 9,
   "id": "2439f136-f144-430d-b938-2aa5ddde59d4",
   "metadata": {},
   "outputs": [
    {
     "data": {
      "text/html": [
       "\n",
       "            <style>\n",
       "                .geemap-dark {\n",
       "                    --jp-widgets-color: white;\n",
       "                    --jp-widgets-label-color: white;\n",
       "                    --jp-ui-font-color1: white;\n",
       "                    --jp-layout-color2: #454545;\n",
       "                    background-color: #383838;\n",
       "                }\n",
       "                    \n",
       "                .geemap-dark .jupyter-button {\n",
       "                    --jp-layout-color3: #383838;\n",
       "                }\n",
       "                \n",
       "                .geemap-colab {\n",
       "                    background-color: var(--colab-primary-surface-color, white);\n",
       "                }\n",
       "                    \n",
       "                .geemap-colab .jupyter-button {\n",
       "                    --jp-layout-color3: var(--colab-primary-surface-color, white);\n",
       "                }\n",
       "            </style>\n",
       "            "
      ],
      "text/plain": [
       "<IPython.core.display.HTML object>"
      ]
     },
     "metadata": {},
     "output_type": "display_data"
    }
   ],
   "source": [
    "#from my_gee_functions_c import stdrd_ref_func\n",
    "# Uncomment the below lines if using an item list\n",
    "#poly_num = 14\n",
    "#standardized = stdrd_ref_func(ee_items[poly_num])\n",
    "\n",
    "standardized = mgf.stdrd_func(savi, example_data)\n",
    "vis_param_std = {'bands' : ['N', 'R', 'G'], \n",
    "               'min' : -1.5, \n",
    "               'max' : 2,\n",
    "               'gamma' : 1}\n",
    "\n",
    "#Map.addLayer(standardized, vis_param_std, f'dunbar_park_bounds')"
   ]
  },
  {
   "cell_type": "markdown",
   "id": "0587957f-3e40-40c2-8aa1-06735364822d",
   "metadata": {},
   "source": [
    "Testing the gaussian filter"
   ]
  },
  {
   "cell_type": "code",
   "execution_count": 12,
   "id": "aac1a9e1-e9fe-40cb-9e83-49938adb7c12",
   "metadata": {},
   "outputs": [
    {
     "data": {
      "text/html": [
       "\n",
       "            <style>\n",
       "                .geemap-dark {\n",
       "                    --jp-widgets-color: white;\n",
       "                    --jp-widgets-label-color: white;\n",
       "                    --jp-ui-font-color1: white;\n",
       "                    --jp-layout-color2: #454545;\n",
       "                    background-color: #383838;\n",
       "                }\n",
       "                    \n",
       "                .geemap-dark .jupyter-button {\n",
       "                    --jp-layout-color3: #383838;\n",
       "                }\n",
       "                \n",
       "                .geemap-colab {\n",
       "                    background-color: var(--colab-primary-surface-color, white);\n",
       "                }\n",
       "                    \n",
       "                .geemap-colab .jupyter-button {\n",
       "                    --jp-layout-color3: var(--colab-primary-surface-color, white);\n",
       "                }\n",
       "            </style>\n",
       "            "
      ],
      "text/plain": [
       "<IPython.core.display.HTML object>"
      ]
     },
     "metadata": {},
     "output_type": "display_data"
    }
   ],
   "source": [
    "#dog = mgf.dog_sharp(naip)\n",
    "\n",
    "def gauss_func(given_image):\n",
    "    ### gaussian smoothing\n",
    "    gaussianKernel = ee.Kernel.gaussian(\n",
    "      radius = 10, # was originally 3\n",
    "      units = 'pixels'\n",
    "    )\n",
    "    \n",
    "    gaussian_smooth = given_image.convolve(gaussianKernel)\n",
    "    return gaussian_smooth\n",
    "\n",
    "gauss = gauss_func(standardized)\n",
    "vis_param_smooth = {'bands' : ['R', 'G', 'B'], \n",
    "               'min' : -1.5, \n",
    "               'max' : 2,\n",
    "               'gamma' : 1}\n",
    "Map.addLayer(gauss, vis_param_smooth, f'smoothed')"
   ]
  },
  {
   "cell_type": "markdown",
   "id": "1abee9a2-f78f-4c5d-82bc-33bcc7e50465",
   "metadata": {},
   "source": [
    "Testing the median filter"
   ]
  },
  {
   "cell_type": "code",
   "execution_count": 21,
   "id": "a3f3342a-ae5b-4c25-a06a-0786b0a308e4",
   "metadata": {},
   "outputs": [
    {
     "data": {
      "text/html": [
       "\n",
       "            <style>\n",
       "                .geemap-dark {\n",
       "                    --jp-widgets-color: white;\n",
       "                    --jp-widgets-label-color: white;\n",
       "                    --jp-ui-font-color1: white;\n",
       "                    --jp-layout-color2: #454545;\n",
       "                    background-color: #383838;\n",
       "                }\n",
       "                    \n",
       "                .geemap-dark .jupyter-button {\n",
       "                    --jp-layout-color3: #383838;\n",
       "                }\n",
       "                \n",
       "                .geemap-colab {\n",
       "                    background-color: var(--colab-primary-surface-color, white);\n",
       "                }\n",
       "                    \n",
       "                .geemap-colab .jupyter-button {\n",
       "                    --jp-layout-color3: var(--colab-primary-surface-color, white);\n",
       "                }\n",
       "            </style>\n",
       "            "
      ],
      "text/plain": [
       "<IPython.core.display.HTML object>"
      ]
     },
     "metadata": {},
     "output_type": "display_data"
    }
   ],
   "source": [
    "uniformKernel = ee.Kernel.square(\n",
    "   radius = 10,\n",
    "   units = 'pixels',\n",
    ")\n",
    "\n",
    "median = standardized.reduceNeighborhood(\n",
    "   reducer = ee.Reducer.median(),\n",
    "   kernel = uniformKernel\n",
    ")\n",
    "\n",
    "median = median.rename(['R', 'G', 'B', 'N', 'savi', 'endvi'])\n",
    "vis_param_median = {'bands' : ['R', 'G', 'B'], \n",
    "               'min' : -1.5, \n",
    "               'max' : 2,\n",
    "               'gamma' : 1}\n",
    "Map.addLayer(median, vis_param_median, f'median')"
   ]
  },
  {
   "cell_type": "code",
   "execution_count": 14,
   "id": "fe48a24e-cf51-4722-81b8-c0b8c53d902b",
   "metadata": {},
   "outputs": [
    {
     "data": {
      "text/html": [
       "\n",
       "            <style>\n",
       "                .geemap-dark {\n",
       "                    --jp-widgets-color: white;\n",
       "                    --jp-widgets-label-color: white;\n",
       "                    --jp-ui-font-color1: white;\n",
       "                    --jp-layout-color2: #454545;\n",
       "                    background-color: #383838;\n",
       "                }\n",
       "                    \n",
       "                .geemap-dark .jupyter-button {\n",
       "                    --jp-layout-color3: #383838;\n",
       "                }\n",
       "                \n",
       "                .geemap-colab {\n",
       "                    background-color: var(--colab-primary-surface-color, white);\n",
       "                }\n",
       "                    \n",
       "                .geemap-colab .jupyter-button {\n",
       "                    --jp-layout-color3: var(--colab-primary-surface-color, white);\n",
       "                }\n",
       "            </style>\n",
       "            "
      ],
      "text/plain": [
       "<IPython.core.display.HTML object>"
      ]
     },
     "metadata": {},
     "output_type": "display_data"
    }
   ],
   "source": [
    "edges = gauss.convolve(ee.Kernel.laplacian8())\n",
    "\n",
    "vis_param_edge = {'bands' : ['savi'], \n",
    "               'min' : -1.5, \n",
    "               'max' : 2,\n",
    "               'gamma' : 1}\n",
    "\n",
    "### checking that image was smoothed. Rename as needed\n",
    "Map.addLayer(edges, vis_param_edge, f'edge')"
   ]
  },
  {
   "cell_type": "markdown",
   "id": "7eb4ee21-947d-465b-9e83-64f4dec89727",
   "metadata": {},
   "source": [
    "conversion of color NAIP to radiance grayscale image"
   ]
  },
  {
   "cell_type": "code",
   "execution_count": 15,
   "id": "a0aaebdb-eea4-47f0-b076-def211283a1f",
   "metadata": {},
   "outputs": [
    {
     "data": {
      "text/html": [
       "\n",
       "            <style>\n",
       "                .geemap-dark {\n",
       "                    --jp-widgets-color: white;\n",
       "                    --jp-widgets-label-color: white;\n",
       "                    --jp-ui-font-color1: white;\n",
       "                    --jp-layout-color2: #454545;\n",
       "                    background-color: #383838;\n",
       "                }\n",
       "                    \n",
       "                .geemap-dark .jupyter-button {\n",
       "                    --jp-layout-color3: #383838;\n",
       "                }\n",
       "                \n",
       "                .geemap-colab {\n",
       "                    background-color: var(--colab-primary-surface-color, white);\n",
       "                }\n",
       "                    \n",
       "                .geemap-colab .jupyter-button {\n",
       "                    --jp-layout-color3: var(--colab-primary-surface-color, white);\n",
       "                }\n",
       "            </style>\n",
       "            "
      ],
      "text/plain": [
       "<IPython.core.display.HTML object>"
      ]
     },
     "metadata": {},
     "output_type": "display_data"
    }
   ],
   "source": [
    "grayscale = naip.expression(\n",
    "      '(0.3 * R) + (0.59 * G) + (0.11 * B)', {\n",
    "      'R': naip.select(['R']),\n",
    "      'G': naip.select(['G']),\n",
    "      'B': naip.select(['B'])\n",
    "})\n",
    "\n",
    "vis_param_gray = {#'bands' : ['R', 'G', 'B'], \n",
    "               'min' : 0, \n",
    "               'max' : 256,\n",
    "               'gamma' : 1}\n",
    "\n",
    "### checking that image was smoothed. Rename as needed\n",
    "Map.addLayer(grayscale, vis_param_gray, f'gray')"
   ]
  },
  {
   "cell_type": "code",
   "execution_count": 16,
   "id": "b659c26f-5bde-4aed-897f-7593dfe99071",
   "metadata": {},
   "outputs": [
    {
     "data": {
      "text/html": [
       "\n",
       "            <style>\n",
       "                .geemap-dark {\n",
       "                    --jp-widgets-color: white;\n",
       "                    --jp-widgets-label-color: white;\n",
       "                    --jp-ui-font-color1: white;\n",
       "                    --jp-layout-color2: #454545;\n",
       "                    background-color: #383838;\n",
       "                }\n",
       "                    \n",
       "                .geemap-dark .jupyter-button {\n",
       "                    --jp-layout-color3: #383838;\n",
       "                }\n",
       "                \n",
       "                .geemap-colab {\n",
       "                    background-color: var(--colab-primary-surface-color, white);\n",
       "                }\n",
       "                    \n",
       "                .geemap-colab .jupyter-button {\n",
       "                    --jp-layout-color3: var(--colab-primary-surface-color, white);\n",
       "                }\n",
       "            </style>\n",
       "            "
      ],
      "text/plain": [
       "<IPython.core.display.HTML object>"
      ]
     },
     "metadata": {},
     "output_type": "display_data"
    }
   ],
   "source": [
    "# if wanting to use a grayscale image\n",
    "int_gray = grayscale.int()\n",
    "glcmTexture = int_gray.glcmTexture(5)\n",
    "\n",
    "# if not wanting to use a grayscaled image\n",
    "#int_naip = naip.int()\n",
    "#glcmTexture = int_naip.glcmTexture(10)"
   ]
  },
  {
   "cell_type": "markdown",
   "id": "7b506cf8-898f-4f2e-b698-3b246b5c9f9a",
   "metadata": {},
   "source": [
    "band names for gray : \\\n",
    "constant_asm, constant_contrast, constant_corr, constant_var, constant_idm, constant_savg, constant_svar, constant_sent, constant_ent, constant_dvar, constant_dent, constant_imcorr1, constant_imcorr2, constant_maxcorr, constant_diss, constant_inertia, constant_shade, constant_prom\n",
    "\n",
    "band names for rgb : \\\n",
    "R_asm, R_contrast, R_corr, R_var, R_idm, R_savg, R_svar, R_sent, R_ent, R_dvar, R_dent, R_imcorr1, R_imcorr2, R_maxcorr, R_diss,\n",
    "R_inertia, R_shade, R_prom, \\\n",
    "G_asm, G_contrast, G_corr, G_var, G_idm, G_savg, G_svar, G_sent, G_ent, G_dvar, G_dent, G_imcorr1, G_imcorr2, G_maxcorr, G_diss, G_inertia, G_shade, G_prom, \\\n",
    "B_asm, B_contrast, B_corr, B_var, B_idm, B_savg, B_svar, B_sent, B_ent, B_dvar, B_dent, B_imcorr1, B_imcorr2, B_maxcorr, B_diss, B_inertia, B_shade, B_prom, \\\n",
    "N_asm, N_contrast, N_corr, N_var, N_idm, N_savg, N_svar, N_sent, N_ent, N_dvar, N_dent, N_imcorr1, N_imcorr2, N_maxcorr, N_diss, N_inertia, N_shade, N_prom"
   ]
  },
  {
   "cell_type": "code",
   "execution_count": null,
   "id": "693e93c9-b763-4e42-9223-75f841c97016",
   "metadata": {},
   "outputs": [],
   "source": [
    "contrastVis = {\n",
    "   'bands' : ['r']\n",
    "}\n",
    "\n",
    "Map.addLayer(glcmTexture, contrastVis, 'contrast')"
   ]
  },
  {
   "cell_type": "markdown",
   "id": "e28adc66-afb9-4963-83d0-23b0073d7d06",
   "metadata": {},
   "source": [
    "For PCA tests"
   ]
  },
  {
   "cell_type": "code",
   "execution_count": 17,
   "id": "9f589b07-47bf-47df-b987-aca91a50a05a",
   "metadata": {},
   "outputs": [
    {
     "data": {
      "text/html": [
       "\n",
       "            <style>\n",
       "                .geemap-dark {\n",
       "                    --jp-widgets-color: white;\n",
       "                    --jp-widgets-label-color: white;\n",
       "                    --jp-ui-font-color1: white;\n",
       "                    --jp-layout-color2: #454545;\n",
       "                    background-color: #383838;\n",
       "                }\n",
       "                    \n",
       "                .geemap-dark .jupyter-button {\n",
       "                    --jp-layout-color3: #383838;\n",
       "                }\n",
       "                \n",
       "                .geemap-colab {\n",
       "                    background-color: var(--colab-primary-surface-color, white);\n",
       "                }\n",
       "                    \n",
       "                .geemap-colab .jupyter-button {\n",
       "                    --jp-layout-color3: var(--colab-primary-surface-color, white);\n",
       "                }\n",
       "            </style>\n",
       "            "
      ],
      "text/plain": [
       "<IPython.core.display.HTML object>"
      ]
     },
     "metadata": {},
     "output_type": "display_data"
    }
   ],
   "source": [
    "region = example_data\n",
    "image = glcmTexture\n",
    "\n",
    "# Set some information about the input to be used later.\n",
    "scale = 1\n",
    "bandNames = image.bandNames()\n",
    "\n",
    "# Mean center the data to enable a faster covariance reducer\n",
    "# and an SD stretch of the principal components.\n",
    "meanDict = image.reduceRegion(**{\n",
    "    'reducer': ee.Reducer.mean(),\n",
    "    'geometry': region,\n",
    "    'scale': scale,\n",
    "    'maxPixels': 1e9\n",
    "})\n",
    "means = ee.Image.constant(meanDict.values(bandNames))\n",
    "centered = image.subtract(means)\n",
    "\n",
    "# This helper function returns a list of new band names.\n",
    "def getNewBandNames(prefix):\n",
    "  seq = ee.List.sequence(1, bandNames.length())\n",
    "  return seq.map(lambda b: ee.String(prefix).cat(ee.Number(b).int().format()))\n",
    "\n",
    "\n",
    "# This function accepts mean centered imagery, a scale and\n",
    "# a region in which to perform the analysis.  It returns the\n",
    "# Principal Components (PC) in the region as a new image.\n",
    "def getPrincipalComponents(centered, scale, region):\n",
    "  # Collapse the bands of the image into a 1D array per pixel.\n",
    "  arrays = centered.toArray()\n",
    "\n",
    "  # Compute the covariance of the bands within the region.\n",
    "  covar= arrays.reduceRegion(**{\n",
    "    'reducer': ee.Reducer.centeredCovariance(),\n",
    "    'geometry': region,\n",
    "    'scale': scale,\n",
    "    'maxPixels': 1e9\n",
    "  })\n",
    "\n",
    "  # Get the 'array' covariance result and cast to an array.\n",
    "  # This represents the band-to-band covariance within the region.\n",
    "  covarArray = ee.Array(covar.get('array'))\n",
    "\n",
    "  # Perform an eigen analysis and slice apart the values and vectors.\n",
    "  eigens = covarArray.eigen()\n",
    "\n",
    "  # This is a P-length vector of Eigenvalues.\n",
    "  eigenValues = eigens.slice(1, 0, 1)\n",
    "  # This is a PxP matrix with eigenvectors in rows.\n",
    "  eigenVectors = eigens.slice(1, 1)\n",
    "\n",
    "  # Convert the array image to 2D arrays for matrix computations.\n",
    "  arrayImage = arrays.toArray(1)\n",
    "\n",
    "  # Left multiply the image array by the matrix of eigenvectors.\n",
    "  principalComponents = ee.Image(eigenVectors).matrixMultiply(arrayImage)\n",
    "\n",
    "  # Turn the square roots of the Eigenvalues into a P-band image.\n",
    "  sdImage = ee.Image(eigenValues.sqrt()) \\\n",
    "    .arrayProject([0]).arrayFlatten([getNewBandNames('sd')])\n",
    "\n",
    "  # Turn the PCs into a P-band image, normalized by SD.\n",
    "  return principalComponents \\\n",
    "    .arrayProject([0]) \\\n",
    "    .arrayFlatten([getNewBandNames('pc')]) \\\n",
    "    .divide(sdImage) \\\n",
    "\n",
    "\n",
    "# Get the PCs at the specified scale and in the specified region\n",
    "pcImage = getPrincipalComponents(centered, scale, region)\n",
    "\n"
   ]
  },
  {
   "cell_type": "code",
   "execution_count": null,
   "id": "e70337e3-8870-4232-afe5-ebb843780588",
   "metadata": {},
   "outputs": [],
   "source": [
    "pcVis = {\n",
    "   'bands' : ['r']\n",
    "}\n",
    "Map.addLayer(pcImage, pcVis, 'pca')"
   ]
  },
  {
   "cell_type": "code",
   "execution_count": 17,
   "id": "9e2d078b-cc4a-49e4-9a0c-7ced63019285",
   "metadata": {},
   "outputs": [
    {
     "data": {
      "text/html": [
       "\n",
       "            <style>\n",
       "                .geemap-dark {\n",
       "                    --jp-widgets-color: white;\n",
       "                    --jp-widgets-label-color: white;\n",
       "                    --jp-ui-font-color1: white;\n",
       "                    --jp-layout-color2: #454545;\n",
       "                    background-color: #383838;\n",
       "                }\n",
       "                    \n",
       "                .geemap-dark .jupyter-button {\n",
       "                    --jp-layout-color3: #383838;\n",
       "                }\n",
       "                \n",
       "                .geemap-colab {\n",
       "                    background-color: var(--colab-primary-surface-color, white);\n",
       "                }\n",
       "                    \n",
       "                .geemap-colab .jupyter-button {\n",
       "                    --jp-layout-color3: var(--colab-primary-surface-color, white);\n",
       "                }\n",
       "            </style>\n",
       "            "
      ],
      "text/plain": [
       "<IPython.core.display.HTML object>"
      ]
     },
     "metadata": {},
     "output_type": "display_data"
    }
   ],
   "source": [
    "segmented_image = mgf.segmentation_func(median, seed_spacing = 64, snic_compactness = 0, \n",
    "                                                     snic_connectivity = 4, seed_grid_shape = 'square')\n",
    "Map.addLayer(segmented_image.randomVisualizer(), {}, 'clusters')"
   ]
  },
  {
   "cell_type": "code",
   "execution_count": 19,
   "id": "ebc25536-28ee-43c6-b262-0eedb945f34e",
   "metadata": {},
   "outputs": [
    {
     "data": {
      "text/html": [
       "\n",
       "            <style>\n",
       "                .geemap-dark {\n",
       "                    --jp-widgets-color: white;\n",
       "                    --jp-widgets-label-color: white;\n",
       "                    --jp-ui-font-color1: white;\n",
       "                    --jp-layout-color2: #454545;\n",
       "                    background-color: #383838;\n",
       "                }\n",
       "                    \n",
       "                .geemap-dark .jupyter-button {\n",
       "                    --jp-layout-color3: #383838;\n",
       "                }\n",
       "                \n",
       "                .geemap-colab {\n",
       "                    background-color: var(--colab-primary-surface-color, white);\n",
       "                }\n",
       "                    \n",
       "                .geemap-colab .jupyter-button {\n",
       "                    --jp-layout-color3: var(--colab-primary-surface-color, white);\n",
       "                }\n",
       "            </style>\n",
       "            "
      ],
      "text/plain": [
       "<IPython.core.display.HTML object>"
      ]
     },
     "metadata": {},
     "output_type": "display_data"
    }
   ],
   "source": [
    "max_clusters = 10\n",
    "obj_classed = mgf.obj_class(example_data, segmented_image, \n",
    "                                         train_scale = 1, train_pixels = 10000, #default was 10000\n",
    "                                         max_clusters = max_clusters, tilescale = 5, segmented_as_bands = False, \n",
    "                                         band_list = None)\n",
    "obj_palette = ['#000000','#a6cee3', '#1f78b4', '#b2df8a', '#33a02c', '#fb9a99', '#e31a1c', '#fdbf6f', '#ff7f00', '#cab2d6', '#6a3d9a', '#ffff99', '#b15928']\n",
    "obj_vis = {'min' : 0, 'max' : 12, 'palette' : obj_palette}\n",
    "Map.addLayer(obj_classed, obj_vis, f'object based classification with poly_1 and {max_clusters} clusters')"
   ]
  },
  {
   "cell_type": "code",
   "execution_count": 14,
   "id": "89631189-6f85-4456-b203-e04e1999a0a6",
   "metadata": {},
   "outputs": [
    {
     "data": {
      "text/html": [
       "\n",
       "            <style>\n",
       "                .geemap-dark {\n",
       "                    --jp-widgets-color: white;\n",
       "                    --jp-widgets-label-color: white;\n",
       "                    --jp-ui-font-color1: white;\n",
       "                    --jp-layout-color2: #454545;\n",
       "                    background-color: #383838;\n",
       "                }\n",
       "                    \n",
       "                .geemap-dark .jupyter-button {\n",
       "                    --jp-layout-color3: #383838;\n",
       "                }\n",
       "                \n",
       "                .geemap-colab {\n",
       "                    background-color: var(--colab-primary-surface-color, white);\n",
       "                }\n",
       "                    \n",
       "                .geemap-colab .jupyter-button {\n",
       "                    --jp-layout-color3: var(--colab-primary-surface-color, white);\n",
       "                }\n",
       "            </style>\n",
       "            "
      ],
      "text/plain": [
       "<IPython.core.display.HTML object>"
      ]
     },
     "metadata": {},
     "output_type": "display_data"
    }
   ],
   "source": [
    "shp = example_data\n",
    "shp_geom = shp.geometry()\n",
    "task_obj = ee.batch.Export.image.toDrive(\n",
    "    image = pcImage,\n",
    "    description = f'pca_image',\n",
    "    folder = '!imagery',\n",
    "    region = shp_geom,\n",
    "    scale = 1,\n",
    "    #crs = 'EPSG:6350',\n",
    "    maxPixels = 130000000\n",
    ")\n",
    "task_obj.start()"
   ]
  }
 ],
 "metadata": {
  "kernelspec": {
   "display_name": "Python 3 (ipykernel)",
   "language": "python",
   "name": "python3"
  },
  "language_info": {
   "codemirror_mode": {
    "name": "ipython",
    "version": 3
   },
   "file_extension": ".py",
   "mimetype": "text/x-python",
   "name": "python",
   "nbconvert_exporter": "python",
   "pygments_lexer": "ipython3",
   "version": "3.12.1"
  }
 },
 "nbformat": 4,
 "nbformat_minor": 5
}
