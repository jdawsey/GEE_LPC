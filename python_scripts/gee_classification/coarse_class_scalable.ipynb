{
 "cells": [
  {
   "cell_type": "code",
   "execution_count": 2,
   "id": "08d6f26b-09a2-4b3c-b4d6-2d8f060b832d",
   "metadata": {},
   "outputs": [
    {
     "data": {
      "text/html": [
       "\n",
       "            <style>\n",
       "                .geemap-dark {\n",
       "                    --jp-widgets-color: white;\n",
       "                    --jp-widgets-label-color: white;\n",
       "                    --jp-ui-font-color1: white;\n",
       "                    --jp-layout-color2: #454545;\n",
       "                    background-color: #383838;\n",
       "                }\n",
       "                    \n",
       "                .geemap-dark .jupyter-button {\n",
       "                    --jp-layout-color3: #383838;\n",
       "                }\n",
       "                \n",
       "                .geemap-colab {\n",
       "                    background-color: var(--colab-primary-surface-color, white);\n",
       "                }\n",
       "                    \n",
       "                .geemap-colab .jupyter-button {\n",
       "                    --jp-layout-color3: var(--colab-primary-surface-color, white);\n",
       "                }\n",
       "            </style>\n",
       "            "
      ],
      "text/plain": [
       "<IPython.core.display.HTML object>"
      ]
     },
     "metadata": {},
     "output_type": "display_data"
    }
   ],
   "source": [
    "import ee\n",
    "import geemap\n",
    "import json\n",
    "import os\n",
    "#from geemap import geojson_to_ee\n",
    "from ipyleaflet import GeoJSON\n",
    "import segment_testing_my_gee_functions as mgf\n",
    "import polygon_processing as fish\n",
    "import classification_loop as cloop\n",
    "import geopandas as gpd"
   ]
  },
  {
   "cell_type": "code",
   "execution_count": 3,
   "id": "0d6d9225-371a-4336-91ee-0cfc88fd7c65",
   "metadata": {},
   "outputs": [
    {
     "data": {
      "text/html": [
       "\n",
       "            <style>\n",
       "                .geemap-dark {\n",
       "                    --jp-widgets-color: white;\n",
       "                    --jp-widgets-label-color: white;\n",
       "                    --jp-ui-font-color1: white;\n",
       "                    --jp-layout-color2: #454545;\n",
       "                    background-color: #383838;\n",
       "                }\n",
       "                    \n",
       "                .geemap-dark .jupyter-button {\n",
       "                    --jp-layout-color3: #383838;\n",
       "                }\n",
       "                \n",
       "                .geemap-colab {\n",
       "                    background-color: var(--colab-primary-surface-color, white);\n",
       "                }\n",
       "                    \n",
       "                .geemap-colab .jupyter-button {\n",
       "                    --jp-layout-color3: var(--colab-primary-surface-color, white);\n",
       "                }\n",
       "            </style>\n",
       "            "
      ],
      "text/plain": [
       "<IPython.core.display.HTML object>"
      ]
     },
     "metadata": {},
     "output_type": "display_data"
    }
   ],
   "source": [
    "ee.Authenticate()\n",
    "#Initializing the ee project\n",
    "\n",
    "ee.Initialize(project = 'ee-jdawsey')"
   ]
  },
  {
   "cell_type": "markdown",
   "id": "1dd3d8d1-870d-4ddc-9eb6-4c74df88ee68",
   "metadata": {},
   "source": [
    "Only run if main area has not already been fishnet."
   ]
  },
  {
   "cell_type": "code",
   "execution_count": 3,
   "id": "0adc50ac-948c-46b3-bbfd-2a41e63a454e",
   "metadata": {},
   "outputs": [
    {
     "data": {
      "text/html": [
       "\n",
       "            <style>\n",
       "                .geemap-dark {\n",
       "                    --jp-widgets-color: white;\n",
       "                    --jp-widgets-label-color: white;\n",
       "                    --jp-ui-font-color1: white;\n",
       "                    --jp-layout-color2: #454545;\n",
       "                    background-color: #383838;\n",
       "                }\n",
       "                    \n",
       "                .geemap-dark .jupyter-button {\n",
       "                    --jp-layout-color3: #383838;\n",
       "                }\n",
       "                \n",
       "                .geemap-colab {\n",
       "                    background-color: var(--colab-primary-surface-color, white);\n",
       "                }\n",
       "                    \n",
       "                .geemap-colab .jupyter-button {\n",
       "                    --jp-layout-color3: var(--colab-primary-surface-color, white);\n",
       "                }\n",
       "            </style>\n",
       "            "
      ],
      "text/plain": [
       "<IPython.core.display.HTML object>"
      ]
     },
     "metadata": {},
     "output_type": "display_data"
    }
   ],
   "source": [
    "# Pulling in the shapefile\n",
    "shapefile_path = 'E:/!!Research/!!!Data/example_data/example_data_py/example_data_shp/ex_data_large.shp'\n",
    "#shapefile_path = 'E:/!!Research/!!!Data/example_data/example_data_py/example_data_shp/ex_data_med.shp'\n",
    "unprojected = gpd.read_file(shapefile_path)\n",
    "# Projecting it\n",
    "crs = 'EPSG:6350'\n",
    "# And exporting it\n",
    "projected = unprojected.to_crs(crs)\n",
    "projected.to_file('E:/!!Research/!!!Data/example_data/example_data_py/example_data_shp/ex_data_large_proj.shp')\n",
    "\n",
    "# Re-pulling in the now projected shapefile so that it can make cells in meters rather than degrees\n",
    "crs = 'EPSG:6350'\n",
    "shp_path = 'E:/!!Research/!!!Data/example_data/example_data_py/example_data_shp/ex_data_large_proj.shp'\n",
    "#shp_path = 'E:/!!Research/!!!Data/example_data/example_data_py/example_data_shp/ex_data_med_proj.shp'\n",
    "poly = fish.PolyToGDF(shp_path)\n",
    "poly_gdf = poly.poly_to_gdf(crs)\n",
    "\n",
    "# Calculate bounds of the polygon\n",
    "bounds = poly_gdf.total_bounds  # (xmin, ymin, xmax, ymax)\n",
    "# Defining cell size\n",
    "cell_size = 20000 # length of side of cell determined by projection, so could be degrees, meters, or feet.\n",
    "\n",
    "# Initialize the fishnet class with calculated bounds and specified CRS\n",
    "fishnet = fish.PolygonFishnet(bounds, cell_size, crs)\n",
    "\n",
    "# Exporting the final grid cells\n",
    "output_folder_fishnet = f\"E:/!!Research/!!!Data/example_data/example_data_py/ex_data_fishnet\"\n",
    "fishnet.export_fishnet_cells(output_folder_fishnet)"
   ]
  },
  {
   "cell_type": "markdown",
   "id": "d4e1c202-eae9-4bbc-a450-98a43589663b",
   "metadata": {},
   "source": [
    "Testing pixel-based classification download to personal computer"
   ]
  },
  {
   "cell_type": "code",
   "execution_count": null,
   "id": "ae0a5970-1174-46dd-a885-f5402994c6ac",
   "metadata": {},
   "outputs": [],
   "source": [
    "folder_dir = 'E:/!!Research/!!!Data/example_data/example_data_py'\n",
    "data_dir = f'fishnet_classified'\n",
    "shp_dir = f'{folder_dir}/ex_data_fishnet'\n",
    "\n",
    "cloop.download_classified_thumbnail(folder_dir, data_dir, shp_dir, max_clusters = 10, fishnet_rows = 5, \n",
    "                                   fishnet_cols = 5, scale = 1, error_log = False)"
   ]
  },
  {
   "cell_type": "markdown",
   "id": "597169f0-195c-423d-9b81-34dab9a95382",
   "metadata": {},
   "source": [
    "Testing pixel-based classification download to google drive"
   ]
  },
  {
   "cell_type": "code",
   "execution_count": 5,
   "id": "f0084565-3eae-487c-8139-bba9fb6f46bc",
   "metadata": {},
   "outputs": [
    {
     "data": {
      "text/html": [
       "\n",
       "            <style>\n",
       "                .geemap-dark {\n",
       "                    --jp-widgets-color: white;\n",
       "                    --jp-widgets-label-color: white;\n",
       "                    --jp-ui-font-color1: white;\n",
       "                    --jp-layout-color2: #454545;\n",
       "                    background-color: #383838;\n",
       "                }\n",
       "                    \n",
       "                .geemap-dark .jupyter-button {\n",
       "                    --jp-layout-color3: #383838;\n",
       "                }\n",
       "                \n",
       "                .geemap-colab {\n",
       "                    background-color: var(--colab-primary-surface-color, white);\n",
       "                }\n",
       "                    \n",
       "                .geemap-colab .jupyter-button {\n",
       "                    --jp-layout-color3: var(--colab-primary-surface-color, white);\n",
       "                }\n",
       "            </style>\n",
       "            "
      ],
      "text/plain": [
       "<IPython.core.display.HTML object>"
      ]
     },
     "metadata": {},
     "output_type": "display_data"
    },
    {
     "name": "stdout",
     "output_type": "stream",
     "text": [
      "Downloading data for 1 files\n",
      "Export task started for cell_0_classified.\n"
     ]
    }
   ],
   "source": [
    "folder_dir = 'E:/!!Research/!!!Data/example_data/example_data_py'\n",
    "data_dir = f'fishnet_classified'\n",
    "shp_dir = f'{folder_dir}/ex_data_fishnet'\n",
    "\n",
    "cloop.download_classified_drive(folder_dir, data_dir, shp_dir, n_clusters = 15, scale = 1, max_pixels = 1700000000)"
   ]
  }
 ],
 "metadata": {
  "kernelspec": {
   "display_name": "Python 3 (ipykernel)",
   "language": "python",
   "name": "python3"
  },
  "language_info": {
   "codemirror_mode": {
    "name": "ipython",
    "version": 3
   },
   "file_extension": ".py",
   "mimetype": "text/x-python",
   "name": "python",
   "nbconvert_exporter": "python",
   "pygments_lexer": "ipython3",
   "version": "3.12.1"
  }
 },
 "nbformat": 4,
 "nbformat_minor": 5
}
