{
 "cells": [
  {
   "cell_type": "code",
   "execution_count": 3,
   "id": "7922efd4-585f-41b8-9d39-4aae9a9250ea",
   "metadata": {},
   "outputs": [],
   "source": [
    "import pandas as pd\n",
    "import geopandas as gpd\n",
    "import rasterio\n",
    "#from rasterio.features import rasterize\n",
    "#from rasterio.mask import mask\n",
    "from rasterio.merge import merge\n",
    "#from rasterio.plot import show\n",
    "#from shapely.geometry import Polygon, Point, mapping, box\n",
    "#import matplotlib.pyplot as plt\n",
    "#import gee_data_acq as gda\n",
    "#from osgeo import gdal, ogr, osr\n",
    "#import fiona\n",
    "#from time import sleep\n",
    "import os\n",
    "\n",
    "# Folder path\n",
    "#directory_path = 'D:/!!Research/!!!Data/ArcGIS_Projects/buffers_tifs/raster_processing_tests/'"
   ]
  },
  {
   "cell_type": "code",
   "execution_count": 4,
   "id": "47d382ed-f22b-4a2f-9867-655317d47e02",
   "metadata": {},
   "outputs": [
    {
     "ename": "MemoryError",
     "evalue": "Unable to allocate 66.1 GiB for an array with shape (1, 119077, 148987) and data type int32",
     "output_type": "error",
     "traceback": [
      "\u001b[1;31m---------------------------------------------------------------------------\u001b[0m",
      "\u001b[1;31mMemoryError\u001b[0m                               Traceback (most recent call last)",
      "Cell \u001b[1;32mIn[4], line 17\u001b[0m\n\u001b[0;32m     14\u001b[0m     src_files_to_mosaic\u001b[38;5;241m.\u001b[39mappend(src)\n\u001b[0;32m     16\u001b[0m \u001b[38;5;66;03m# Merge the rasters\u001b[39;00m\n\u001b[1;32m---> 17\u001b[0m mosaic, out_trans \u001b[38;5;241m=\u001b[39m \u001b[43mmerge\u001b[49m\u001b[43m(\u001b[49m\u001b[43msrc_files_to_mosaic\u001b[49m\u001b[43m)\u001b[49m\n\u001b[0;32m     19\u001b[0m \u001b[38;5;66;03m# Update the metadata\u001b[39;00m\n\u001b[0;32m     20\u001b[0m out_meta \u001b[38;5;241m=\u001b[39m src\u001b[38;5;241m.\u001b[39mmeta\u001b[38;5;241m.\u001b[39mcopy()\n",
      "File \u001b[1;32m~\\miniconda3\\envs\\gee_env\\Lib\\site-packages\\rasterio\\merge.py:295\u001b[0m, in \u001b[0;36mmerge\u001b[1;34m(datasets, bounds, res, nodata, dtype, precision, indexes, output_count, resampling, method, target_aligned_pixels, dst_path, dst_kwds)\u001b[0m\n\u001b[0;32m    292\u001b[0m     out_profile[\u001b[38;5;124m\"\u001b[39m\u001b[38;5;124mnodata\u001b[39m\u001b[38;5;124m\"\u001b[39m] \u001b[38;5;241m=\u001b[39m nodata\n\u001b[0;32m    294\u001b[0m \u001b[38;5;66;03m# create destination array\u001b[39;00m\n\u001b[1;32m--> 295\u001b[0m dest \u001b[38;5;241m=\u001b[39m \u001b[43mnp\u001b[49m\u001b[38;5;241;43m.\u001b[39;49m\u001b[43mzeros\u001b[49m\u001b[43m(\u001b[49m\u001b[43m(\u001b[49m\u001b[43moutput_count\u001b[49m\u001b[43m,\u001b[49m\u001b[43m \u001b[49m\u001b[43moutput_height\u001b[49m\u001b[43m,\u001b[49m\u001b[43m \u001b[49m\u001b[43moutput_width\u001b[49m\u001b[43m)\u001b[49m\u001b[43m,\u001b[49m\u001b[43m \u001b[49m\u001b[43mdtype\u001b[49m\u001b[38;5;241;43m=\u001b[39;49m\u001b[43mdt\u001b[49m\u001b[43m)\u001b[49m\n\u001b[0;32m    297\u001b[0m \u001b[38;5;28;01mif\u001b[39;00m nodata \u001b[38;5;129;01mis\u001b[39;00m \u001b[38;5;129;01mnot\u001b[39;00m \u001b[38;5;28;01mNone\u001b[39;00m:\n\u001b[0;32m    298\u001b[0m     nodataval \u001b[38;5;241m=\u001b[39m nodata\n",
      "\u001b[1;31mMemoryError\u001b[0m: Unable to allocate 66.1 GiB for an array with shape (1, 119077, 148987) and data type int32"
     ]
    }
   ],
   "source": [
    "main_dir = 'E:/!!Research/!!!Data/lek_landcover_class/lek_landcover_py/classified'\n",
    "# Define the directory containing the .tif files\n",
    "tif_dir = f'{main_dir}/nm_classified/nm_middle'\n",
    "#tif_dir = f'{main_dir}/nm_classified/nm_north'\n",
    "#tif_dir = f'{main_dir}/nm_classified/nm_south'\n",
    "\n",
    "# List all the .tif files in the directory\n",
    "tif_files = [os.path.join(tif_dir, f) for f in os.listdir(tif_dir) if f.endswith('.tif')]\n",
    "\n",
    "# Open all the .tif files\n",
    "src_files_to_mosaic = []\n",
    "for fp in tif_files:\n",
    "    src = rasterio.open(fp)\n",
    "    src_files_to_mosaic.append(src)\n",
    "\n",
    "# Merge the rasters\n",
    "mosaic, out_trans = merge(src_files_to_mosaic)\n",
    "\n",
    "# Update the metadata\n",
    "out_meta = src.meta.copy()\n",
    "out_meta.update({\n",
    "    \"driver\": \"GTiff\",\n",
    "    \"height\": mosaic.shape[1],\n",
    "    \"width\": mosaic.shape[2],\n",
    "    \"transform\": out_trans\n",
    "})\n",
    "\n",
    "# Write the merged raster to a new file\n",
    "output_tif = f'{main_dir}/nm_classfied/merged/nm_middle.tif'\n",
    "with rasterio.open(output_tif, \"w\", **out_meta) as dest:\n",
    "    dest.write(mosaic)"
   ]
  }
 ],
 "metadata": {
  "kernelspec": {
   "display_name": "Python 3 (ipykernel)",
   "language": "python",
   "name": "python3"
  },
  "language_info": {
   "codemirror_mode": {
    "name": "ipython",
    "version": 3
   },
   "file_extension": ".py",
   "mimetype": "text/x-python",
   "name": "python",
   "nbconvert_exporter": "python",
   "pygments_lexer": "ipython3",
   "version": "3.12.1"
  }
 },
 "nbformat": 4,
 "nbformat_minor": 5
}
