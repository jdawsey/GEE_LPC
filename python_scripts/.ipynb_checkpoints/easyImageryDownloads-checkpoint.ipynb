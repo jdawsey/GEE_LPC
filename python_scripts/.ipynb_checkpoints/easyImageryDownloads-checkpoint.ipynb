{
 "cells": [
  {
   "cell_type": "code",
   "execution_count": 1,
   "id": "6b82ac15-66d1-41f3-bd84-3e33734581a3",
   "metadata": {},
   "outputs": [],
   "source": [
    "import ee\n",
    "import geemap\n",
    "import json\n",
    "import os\n",
    "#from geemap import geojson_to_ee\n",
    "from ipyleaflet import GeoJSON\n",
    "\"\"\"\n",
    "from my_gee_functions_c import file_address_func\n",
    "from my_gee_functions_c import ee_list_func\n",
    "from my_gee_functions_c import naip_savi_endvi\n",
    "from my_gee_functions_c import stdrd_func\n",
    "from my_gee_functions_c import gauss_smooth_func\n",
    "from my_gee_functions_c import dog_sharp\n",
    "from my_gee_functions_c import segmentation_func\n",
    "from my_gee_functions_c import obj_class\n",
    "from my_gee_functions_c import pb_class\n",
    "\"\"\"\n",
    "import my_gee_functions"
   ]
  },
  {
   "cell_type": "code",
   "execution_count": 2,
   "id": "dd1c85a9-79c8-4260-88ea-a0c6f6a1bb42",
   "metadata": {},
   "outputs": [
    {
     "data": {
      "text/html": [
       "\n",
       "            <style>\n",
       "                .geemap-dark {\n",
       "                    --jp-widgets-color: white;\n",
       "                    --jp-widgets-label-color: white;\n",
       "                    --jp-ui-font-color1: white;\n",
       "                    --jp-layout-color2: #454545;\n",
       "                    background-color: #383838;\n",
       "                }\n",
       "                    \n",
       "                .geemap-dark .jupyter-button {\n",
       "                    --jp-layout-color3: #383838;\n",
       "                }\n",
       "                \n",
       "                .geemap-colab {\n",
       "                    background-color: var(--colab-primary-surface-color, white);\n",
       "                }\n",
       "                    \n",
       "                .geemap-colab .jupyter-button {\n",
       "                    --jp-layout-color3: var(--colab-primary-surface-color, white);\n",
       "                }\n",
       "            </style>\n",
       "            "
      ],
      "text/plain": [
       "<IPython.core.display.HTML object>"
      ]
     },
     "metadata": {},
     "output_type": "display_data"
    },
    {
     "data": {
      "text/html": [
       "<p>To authorize access needed by Earth Engine, open the following\n",
       "        URL in a web browser and follow the instructions:</p>\n",
       "        <p><a href=https://code.earthengine.google.com/client-auth?scopes=https%3A//www.googleapis.com/auth/earthengine%20https%3A//www.googleapis.com/auth/cloud-platform%20https%3A//www.googleapis.com/auth/devstorage.full_control&request_id=x0DoQk-ng4s1N24wrEipd_YgPVFBlIoOv-mqGcbOLj0&tc=P9yYKrywC3tv-2GsGMj8zmKO-J5xpXeKnbgls2nS9Mg&cc=cMGqFPYQ_f5zMsw5HbmOp0rhy9Yo2DuUonxBYBahjCc>https://code.earthengine.google.com/client-auth?scopes=https%3A//www.googleapis.com/auth/earthengine%20https%3A//www.googleapis.com/auth/cloud-platform%20https%3A//www.googleapis.com/auth/devstorage.full_control&request_id=x0DoQk-ng4s1N24wrEipd_YgPVFBlIoOv-mqGcbOLj0&tc=P9yYKrywC3tv-2GsGMj8zmKO-J5xpXeKnbgls2nS9Mg&cc=cMGqFPYQ_f5zMsw5HbmOp0rhy9Yo2DuUonxBYBahjCc</a></p>\n",
       "        <p>The authorization workflow will generate a code, which you should paste in the box below.</p>\n",
       "        "
      ],
      "text/plain": [
       "<IPython.core.display.HTML object>"
      ]
     },
     "metadata": {},
     "output_type": "display_data"
    },
    {
     "name": "stdin",
     "output_type": "stream",
     "text": [
      "Enter verification code:  4/1ATx3LY7HIEVNXQm0vu7_HTq25LRWYVuNHpxWpotcWnKQDJTqyIj6GWpNvTk\n"
     ]
    },
    {
     "name": "stdout",
     "output_type": "stream",
     "text": [
      "\n",
      "Successfully saved authorization token.\n"
     ]
    }
   ],
   "source": [
    "ee.Authenticate()"
   ]
  },
  {
   "cell_type": "code",
   "execution_count": 2,
   "id": "01d3f7cd-48cc-4ad7-8856-5aa0df92db59",
   "metadata": {},
   "outputs": [
    {
     "data": {
      "text/html": [
       "\n",
       "            <style>\n",
       "                .geemap-dark {\n",
       "                    --jp-widgets-color: white;\n",
       "                    --jp-widgets-label-color: white;\n",
       "                    --jp-ui-font-color1: white;\n",
       "                    --jp-layout-color2: #454545;\n",
       "                    background-color: #383838;\n",
       "                }\n",
       "                    \n",
       "                .geemap-dark .jupyter-button {\n",
       "                    --jp-layout-color3: #383838;\n",
       "                }\n",
       "                \n",
       "                .geemap-colab {\n",
       "                    background-color: var(--colab-primary-surface-color, white);\n",
       "                }\n",
       "                    \n",
       "                .geemap-colab .jupyter-button {\n",
       "                    --jp-layout-color3: var(--colab-primary-surface-color, white);\n",
       "                }\n",
       "            </style>\n",
       "            "
      ],
      "text/plain": [
       "<IPython.core.display.HTML object>"
      ]
     },
     "metadata": {},
     "output_type": "display_data"
    }
   ],
   "source": [
    "#Initializing the ee project\n",
    "\n",
    "ee.Initialize(project = 'ee-jdawsey')"
   ]
  },
  {
   "cell_type": "markdown",
   "id": "e0c714eb-09ed-4e50-8ece-c58baa2f1b3e",
   "metadata": {},
   "source": [
    "### Run this if pulling a group of geojson files and saving them as a list of ee items to iterate through"
   ]
  },
  {
   "cell_type": "code",
   "execution_count": 3,
   "id": "fe1c5e58-be52-4835-a712-c3b4ac31583c",
   "metadata": {},
   "outputs": [
    {
     "data": {
      "text/html": [
       "\n",
       "            <style>\n",
       "                .geemap-dark {\n",
       "                    --jp-widgets-color: white;\n",
       "                    --jp-widgets-label-color: white;\n",
       "                    --jp-ui-font-color1: white;\n",
       "                    --jp-layout-color2: #454545;\n",
       "                    background-color: #383838;\n",
       "                }\n",
       "                    \n",
       "                .geemap-dark .jupyter-button {\n",
       "                    --jp-layout-color3: #383838;\n",
       "                }\n",
       "                \n",
       "                .geemap-colab {\n",
       "                    background-color: var(--colab-primary-surface-color, white);\n",
       "                }\n",
       "                    \n",
       "                .geemap-colab .jupyter-button {\n",
       "                    --jp-layout-color3: var(--colab-primary-surface-color, white);\n",
       "                }\n",
       "            </style>\n",
       "            "
      ],
      "text/plain": [
       "<IPython.core.display.HTML object>"
      ]
     },
     "metadata": {},
     "output_type": "display_data"
    },
    {
     "data": {
      "text/html": [
       "<div><style>:root {\n",
       "  --font-color-primary: var(--jp-content-font-color0, rgba(0, 0, 0, 1));\n",
       "  --font-color-secondary: var(--jp-content-font-color2, rgba(0, 0, 0, 0.6));\n",
       "  --font-color-accent: rgba(123, 31, 162, 1);\n",
       "  --border-color: var(--jp-border-color2, #e0e0e0);\n",
       "  --background-color: var(--jp-layout-color0, white);\n",
       "  --background-color-row-even: var(--jp-layout-color1, white);\n",
       "  --background-color-row-odd: var(--jp-layout-color2, #eeeeee);\n",
       "}\n",
       "\n",
       "html[theme=\"dark\"],\n",
       "body[data-theme=\"dark\"],\n",
       "body.vscode-dark {\n",
       "  --font-color-primary: rgba(255, 255, 255, 1);\n",
       "  --font-color-secondary: rgba(255, 255, 255, 0.6);\n",
       "  --font-color-accent: rgb(173, 132, 190);\n",
       "  --border-color: #2e2e2e;\n",
       "  --background-color: #111111;\n",
       "  --background-color-row-even: #111111;\n",
       "  --background-color-row-odd: #313131;\n",
       "}\n",
       "\n",
       ".ee {\n",
       "  padding: 1em;\n",
       "  line-height: 1.5em;\n",
       "  min-width: 300px;\n",
       "  max-width: 1200px;\n",
       "  overflow-y: scroll;\n",
       "  max-height: 600px;\n",
       "  border: 1px solid var(--border-color);\n",
       "  font-family: monospace;\n",
       "}\n",
       "\n",
       ".ee li {\n",
       "  list-style-type: none;\n",
       "}\n",
       "\n",
       ".ee ul {\n",
       "  padding-left: 1.5em !important;\n",
       "  margin: 0;\n",
       "}\n",
       "\n",
       ".ee > ul {\n",
       "  padding-left: 0 !important;\n",
       "}\n",
       "\n",
       ".ee-open,\n",
       ".ee-shut {\n",
       "  color: var(--font-color-secondary);\n",
       "  cursor: pointer;\n",
       "  margin: 0;\n",
       "}\n",
       "\n",
       ".ee-open:hover,\n",
       ".ee-shut:hover {\n",
       "  color: var(--font-color-primary);\n",
       "}\n",
       "\n",
       ".ee-k {\n",
       "  color: var(--font-color-accent);\n",
       "  margin-right: 6px;\n",
       "}\n",
       "\n",
       ".ee-v {\n",
       "  color: var(--font-color-primary);\n",
       "}\n",
       "\n",
       ".ee-toggle {\n",
       "  display: none;\n",
       "}\n",
       "\n",
       ".ee-shut + ul {\n",
       "  display: none;\n",
       "}\n",
       "\n",
       ".ee-open + ul {\n",
       "  display: block;\n",
       "}\n",
       "\n",
       ".ee-shut::before {\n",
       "  display: inline-block;\n",
       "  content: \"▼\";\n",
       "  margin-right: 6px;\n",
       "  transform: rotate(-90deg);\n",
       "  transition: transform 0.2s;\n",
       "}\n",
       "\n",
       ".ee-open::before {\n",
       "  transform: rotate(0deg);\n",
       "  display: inline-block;\n",
       "  content: \"▼\";\n",
       "  margin-right: 6px;\n",
       "  transition: transform 0.2s;\n",
       "}\n",
       "</style><div class='ee'><ul><li><label class='ee-shut'>FeatureCollection (1 element, 1 column)<input type='checkbox' class='ee-toggle'></label><ul><li><span class='ee-k'>type:</span><span class='ee-v'>FeatureCollection</span></li><li><label class='ee-shut'>columns: Object (1 property)<input type='checkbox' class='ee-toggle'></label><ul><li><span class='ee-k'>system:index:</span><span class='ee-v'>String</span></li></ul></li><li><label class='ee-shut'>features: List (1 element)<input type='checkbox' class='ee-toggle'></label><ul><li><label class='ee-shut'>0: Feature (MultiPolygon, 0 properties)<input type='checkbox' class='ee-toggle'></label><ul><li><span class='ee-k'>type:</span><span class='ee-v'>Feature</span></li><li><span class='ee-k'>id:</span><span class='ee-v'>0</span></li><li><label class='ee-shut'>geometry: MultiPolygon (81 vertices)<input type='checkbox' class='ee-toggle'></label><ul><li><span class='ee-k'>type:</span><span class='ee-v'>MultiPolygon</span></li><li><label class='ee-shut'>coordinates: List (1 element)<input type='checkbox' class='ee-toggle'></label><ul><li><label class='ee-shut'>0: List (1 element)<input type='checkbox' class='ee-toggle'></label><ul><li><label class='ee-shut'>0: List (81 elements)<input type='checkbox' class='ee-toggle'></label><ul><li><label class='ee-shut'>0: [-103.24730699500515, 34.04352165860669]<input type='checkbox' class='ee-toggle'></label><ul><li><span class='ee-k'>0:</span><span class='ee-v'>-103.24730699500515</span></li><li><span class='ee-k'>1:</span><span class='ee-v'>34.04352165860669</span></li></ul></li><li><label class='ee-shut'>1: [-103.24754666631884, 34.039987647729056]<input type='checkbox' class='ee-toggle'></label><ul><li><span class='ee-k'>0:</span><span class='ee-v'>-103.24754666631884</span></li><li><span class='ee-k'>1:</span><span class='ee-v'>34.039987647729056</span></li></ul></li><li><label class='ee-shut'>2: [-103.24811863182317, 34.03648017909694]<input type='checkbox' class='ee-toggle'></label><ul><li><span class='ee-k'>0:</span><span class='ee-v'>-103.24811863182317</span></li><li><span class='ee-k'>1:</span><span class='ee-v'>34.03648017909694</span></li></ul></li><li><label class='ee-shut'>3: [-103.24901932449708, 34.03302087321704]<input type='checkbox' class='ee-toggle'></label><ul><li><span class='ee-k'>0:</span><span class='ee-v'>-103.24901932449708</span></li><li><span class='ee-k'>1:</span><span class='ee-v'>34.03302087321704</span></li></ul></li><li><label class='ee-shut'>4: [-103.25024315372133, 34.0296310494721]<input type='checkbox' class='ee-toggle'></label><ul><li><span class='ee-k'>0:</span><span class='ee-v'>-103.25024315372133</span></li><li><span class='ee-k'>1:</span><span class='ee-v'>34.0296310494721</span></li></ul></li><li><label class='ee-shut'>5: [-103.25178253786332, 34.02633159471235]<input type='checkbox' class='ee-toggle'></label><ul><li><span class='ee-k'>0:</span><span class='ee-v'>-103.25178253786332</span></li><li><span class='ee-k'>1:</span><span class='ee-v'>34.02633159471235</span></li></ul></li><li><label class='ee-shut'>6: [-103.2536279588366, 34.023142839701535]<input type='checkbox' class='ee-toggle'></label><ul><li><span class='ee-k'>0:</span><span class='ee-v'>-103.2536279588366</span></li><li><span class='ee-k'>1:</span><span class='ee-v'>34.023142839701535</span></li></ul></li><li><label class='ee-shut'>7: [-103.25576801508184, 34.02008443133276]<input type='checkbox' class='ee-toggle'></label><ul><li><span class='ee-k'>0:</span><span class='ee-v'>-103.25576801508184</span></li><li><span class='ee-k'>1:</span><span class='ee-v'>34.02008443133276</span></li></ul></li><li><label class='ee-shut'>8: [-103.2581894934525, 34.01717520957594]<input type='checkbox' class='ee-toggle'></label><ul><li><span class='ee-k'>0:</span><span class='ee-v'>-103.2581894934525</span></li><li><span class='ee-k'>1:</span><span class='ee-v'>34.01717520957594</span></li></ul></li><li><label class='ee-shut'>9: [-103.26087745011777, 34.014433093704845]<input type='checkbox' class='ee-toggle'></label><ul><li><span class='ee-k'>0:</span><span class='ee-v'>-103.26087745011777</span></li><li><span class='ee-k'>1:</span><span class='ee-v'>34.014433093704845</span></li></ul></li><li><label class='ee-shut'>10: [-103.2638153085029, 34.01187497324115]<input type='checkbox' class='ee-toggle'></label><ul><li><span class='ee-k'>0:</span><span class='ee-v'>-103.2638153085029</span></li><li><span class='ee-k'>1:</span><span class='ee-v'>34.01187497324115</span></li></ul></li><li><label class='ee-shut'>11: [-103.26698495257898, 34.00951660342007]<input type='checkbox' class='ee-toggle'></label><ul><li><span class='ee-k'>0:</span><span class='ee-v'>-103.26698495257898</span></li><li><span class='ee-k'>1:</span><span class='ee-v'>34.00951660342007</span></li></ul></li><li><label class='ee-shut'>12: [-103.27036684910837, 34.007372507329656]<input type='checkbox' class='ee-toggle'></label><ul><li><span class='ee-k'>0:</span><span class='ee-v'>-103.27036684910837</span></li><li><span class='ee-k'>1:</span><span class='ee-v'>34.007372507329656</span></li></ul></li><li><label class='ee-shut'>13: [-103.27394015859313, 34.005455886918995]<input type='checkbox' class='ee-toggle'></label><ul><li><span class='ee-k'>0:</span><span class='ee-v'>-103.27394015859313</span></li><li><span class='ee-k'>1:</span><span class='ee-v'>34.005455886918995</span></li></ul></li><li><label class='ee-shut'>14: [-103.27768287076549, 34.00377854515664]<input type='checkbox' class='ee-toggle'></label><ul><li><span class='ee-k'>0:</span><span class='ee-v'>-103.27768287076549</span></li><li><span class='ee-k'>1:</span><span class='ee-v'>34.00377854515664</span></li></ul></li><li><label class='ee-shut'>15: [-103.28157193224804, 34.002350809836614]<input type='checkbox' class='ee-toggle'></label><ul><li><span class='ee-k'>0:</span><span class='ee-v'>-103.28157193224804</span></li><li><span class='ee-k'>1:</span><span class='ee-v'>34.002350809836614</span></li></ul></li><li><label class='ee-shut'>16: [-103.28558339650566, 34.001181471173055]<input type='checkbox' class='ee-toggle'></label><ul><li><span class='ee-k'>0:</span><span class='ee-v'>-103.28558339650566</span></li><li><span class='ee-k'>1:</span><span class='ee-v'>34.001181471173055</span></li></ul></li><li><label class='ee-shut'>17: [-103.28969256369197, 34.000277728233726]<input type='checkbox' class='ee-toggle'></label><ul><li><span class='ee-k'>0:</span><span class='ee-v'>-103.28969256369197</span></li><li><span class='ee-k'>1:</span><span class='ee-v'>34.000277728233726</span></li></ul></li><li><label class='ee-shut'>18: [-103.29387413758798, 33.99964514769498]<input type='checkbox' class='ee-toggle'></label><ul><li><span class='ee-k'>0:</span><span class='ee-v'>-103.29387413758798</span></li><li><span class='ee-k'>1:</span><span class='ee-v'>33.99964514769498</span></li></ul></li><li><label class='ee-shut'>19: [-103.2981023764962, 33.99928762425001]<input type='checkbox' class='ee-toggle'></label><ul><li><span class='ee-k'>0:</span><span class='ee-v'>-103.2981023764962</span></li><li><span class='ee-k'>1:</span><span class='ee-v'>33.99928762425001</span></li></ul></li><li><label class='ee-shut'>20: [-103.30235125186923, 33.99920735782909]<input type='checkbox' class='ee-toggle'></label><ul><li><span class='ee-k'>0:</span><span class='ee-v'>-103.30235125186923</span></li><li><span class='ee-k'>1:</span><span class='ee-v'>33.99920735782909</span></li></ul></li><li><label class='ee-shut'>21: [-103.30659460862857, 33.9994048462202]<input type='checkbox' class='ee-toggle'></label><ul><li><span class='ee-k'>0:</span><span class='ee-v'>-103.30659460862857</span></li><li><span class='ee-k'>1:</span><span class='ee-v'>33.9994048462202</span></li></ul></li><li><label class='ee-shut'>22: [-103.31080632858885, 33.99987887259068]<input type='checkbox' class='ee-toggle'></label><ul><li><span class='ee-k'>0:</span><span class='ee-v'>-103.31080632858885</span></li><li><span class='ee-k'>1:</span><span class='ee-v'>33.99987887259068</span></li></ul></li><li><label class='ee-shut'>23: [-103.31496048289198, 34.00062652270511]<input type='checkbox' class='ee-toggle'></label><ul><li><span class='ee-k'>0:</span><span class='ee-v'>-103.31496048289198</span></li><li><span class='ee-k'>1:</span><span class='ee-v'>34.00062652270511</span></li></ul></li><li><label class='ee-shut'>24: [-103.3190314966904, 34.00164319506332]<input type='checkbox' class='ee-toggle'></label><ul><li><span class='ee-k'>0:</span><span class='ee-v'>-103.3190314966904</span></li><li><span class='ee-k'>1:</span><span class='ee-v'>34.00164319506332</span></li></ul></li><li><label class='ee-shut'>25: [-103.32299430589187, 34.00292263019743]<input type='checkbox' class='ee-toggle'></label><ul><li><span class='ee-k'>0:</span><span class='ee-v'>-103.32299430589187</span></li><li><span class='ee-k'>1:</span><span class='ee-v'>34.00292263019743</span></li></ul></li><li><label class='ee-shut'>26: [-103.32682450793726, 34.00445695302565]<input type='checkbox' class='ee-toggle'></label><ul><li><span class='ee-k'>0:</span><span class='ee-v'>-103.32682450793726</span></li><li><span class='ee-k'>1:</span><span class='ee-v'>34.00445695302565</span></li></ul></li><li><label class='ee-shut'>27: [-103.3304985115311, 34.00623671856985]<input type='checkbox' class='ee-toggle'></label><ul><li><span class='ee-k'>0:</span><span class='ee-v'>-103.3304985115311</span></li><li><span class='ee-k'>1:</span><span class='ee-v'>34.00623671856985</span></li></ul></li><li><label class='ee-shut'>28: [-103.33399368521631, 34.008250969452014]<input type='checkbox' class='ee-toggle'></label><ul><li><span class='ee-k'>0:</span><span class='ee-v'>-103.33399368521631</span></li><li><span class='ee-k'>1:</span><span class='ee-v'>34.008250969452014</span></li></ul></li><li><label class='ee-shut'>29: [-103.33728849411051, 34.01048730222032]<input type='checkbox' class='ee-toggle'></label><ul><li><span class='ee-k'>0:</span><span class='ee-v'>-103.33728849411051</span></li><li><span class='ee-k'>1:</span><span class='ee-v'>34.01048730222032</span></li></ul></li><li><label class='ee-shut'>30: [-103.34036263106987, 34.01293194708686]<input type='checkbox' class='ee-toggle'></label><ul><li><span class='ee-k'>0:</span><span class='ee-v'>-103.34036263106987</span></li><li><span class='ee-k'>1:</span><span class='ee-v'>34.01293194708686</span></li></ul></li><li><label class='ee-shut'>31: [-103.34319714265966, 34.015569849365]<input type='checkbox' class='ee-toggle'></label><ul><li><span class='ee-k'>0:</span><span class='ee-v'>-103.34319714265966</span></li><li><span class='ee-k'>1:</span><span class='ee-v'>34.015569849365</span></li></ul></li><li><label class='ee-shut'>32: [-103.34577454754647, 34.018384761620425]<input type='checkbox' class='ee-toggle'></label><ul><li><span class='ee-k'>0:</span><span class='ee-v'>-103.34577454754647</span></li><li><span class='ee-k'>1:</span><span class='ee-v'>34.018384761620425</span></li></ul></li><li><label class='ee-shut'>33: [-103.3480789440489, 34.02135934471727]<input type='checkbox' class='ee-toggle'></label><ul><li><span class='ee-k'>0:</span><span class='ee-v'>-103.3480789440489</span></li><li><span class='ee-k'>1:</span><span class='ee-v'>34.02135934471727</span></li></ul></li><li><label class='ee-shut'>34: [-103.35009610481615, 34.02447527496763]<input type='checkbox' class='ee-toggle'></label><ul><li><span class='ee-k'>0:</span><span class='ee-v'>-103.35009610481615</span></li><li><span class='ee-k'>1:</span><span class='ee-v'>34.02447527496763</span></li></ul></li><li><label class='ee-shut'>35: [-103.35181356943605, 34.027713355852626]<input type='checkbox' class='ee-toggle'></label><ul><li><span class='ee-k'>0:</span><span class='ee-v'>-103.35181356943605</span></li><li><span class='ee-k'>1:</span><span class='ee-v'>34.027713355852626</span></li></ul></li><li><label class='ee-shut'>36: [-103.35322072087835, 34.031053634012764]<input type='checkbox' class='ee-toggle'></label><ul><li><span class='ee-k'>0:</span><span class='ee-v'>-103.35322072087835</span></li><li><span class='ee-k'>1:</span><span class='ee-v'>34.031053634012764</span></li></ul></li><li><label class='ee-shut'>37: [-103.35430885109766, 34.0344755251416]<input type='checkbox' class='ee-toggle'></label><ul><li><span class='ee-k'>0:</span><span class='ee-v'>-103.35430885109766</span></li><li><span class='ee-k'>1:</span><span class='ee-v'>34.0344755251416</span></li></ul></li><li><label class='ee-shut'>38: [-103.35507121268866, 34.037957940553426]<input type='checkbox' class='ee-toggle'></label><ul><li><span class='ee-k'>0:</span><span class='ee-v'>-103.35507121268866</span></li><li><span class='ee-k'>1:</span><span class='ee-v'>34.037957940553426</span></li></ul></li><li><label class='ee-shut'>39: [-103.35550306624917, 34.04147941477716]<input type='checkbox' class='ee-toggle'></label><ul><li><span class='ee-k'>0:</span><span class='ee-v'>-103.35550306624917</span></li><li><span class='ee-k'>1:</span><span class='ee-v'>34.04147941477716</span></li></ul></li><li><label class='ee-shut'>40: [-103.35560171049029, 34.045018237401926]<input type='checkbox' class='ee-toggle'></label><ul><li><span class='ee-k'>0:</span><span class='ee-v'>-103.35560171049029</span></li><li><span class='ee-k'>1:</span><span class='ee-v'>34.045018237401926</span></li></ul></li><li><label class='ee-shut'>41: [-103.35536649269703, 34.04855259201913]<input type='checkbox' class='ee-toggle'></label><ul><li><span class='ee-k'>0:</span><span class='ee-v'>-103.35536649269703</span></li><li><span class='ee-k'>1:</span><span class='ee-v'>34.04855259201913</span></li></ul></li><li><label class='ee-shut'>42: [-103.35479882489224, 34.05206068448718]<input type='checkbox' class='ee-toggle'></label><ul><li><span class='ee-k'>0:</span><span class='ee-v'>-103.35479882489224</span></li><li><span class='ee-k'>1:</span><span class='ee-v'>34.05206068448718</span></li></ul></li><li><label class='ee-shut'>43: [-103.35390216510127, 34.05552087979828]<input type='checkbox' class='ee-toggle'></label><ul><li><span class='ee-k'>0:</span><span class='ee-v'>-103.35390216510127</span></li><li><span class='ee-k'>1:</span><span class='ee-v'>34.05552087979828</span></li></ul></li><li><label class='ee-shut'>44: [-103.35268200409668, 34.05891183645453]<input type='checkbox' class='ee-toggle'></label><ul><li><span class='ee-k'>0:</span><span class='ee-v'>-103.35268200409668</span></li><li><span class='ee-k'>1:</span><span class='ee-v'>34.05891183645453</span></li></ul></li><li><label class='ee-shut'>45: [-103.35114583254055, 34.06221263877057]<input type='checkbox' class='ee-toggle'></label><ul><li><span class='ee-k'>0:</span><span class='ee-v'>-103.35114583254055</span></li><li><span class='ee-k'>1:</span><span class='ee-v'>34.06221263877057</span></li></ul></li><li><label class='ee-shut'>46: [-103.34930309088584, 34.0654029228069]<input type='checkbox' class='ee-toggle'></label><ul><li><span class='ee-k'>0:</span><span class='ee-v'>-103.34930309088584</span></li><li><span class='ee-k'>1:</span><span class='ee-v'>34.0654029228069</span></li></ul></li><li><label class='ee-shut'>47: [-103.34716511467447, 34.06846300670744]<input type='checkbox' class='ee-toggle'></label><ul><li><span class='ee-k'>0:</span><span class='ee-v'>-103.34716511467447</span></li><li><span class='ee-k'>1:</span><span class='ee-v'>34.06846300670744</span></li></ul></li><li><label class='ee-shut'>48: [-103.344745065883, 34.071374006559196]<input type='checkbox' class='ee-toggle'></label><ul><li><span class='ee-k'>0:</span><span class='ee-v'>-103.344745065883</span></li><li><span class='ee-k'>1:</span><span class='ee-v'>34.071374006559196</span></li></ul></li><li><label class='ee-shut'>49: [-103.34205785312524, 34.0741179602075]<input type='checkbox' class='ee-toggle'></label><ul><li><span class='ee-k'>0:</span><span class='ee-v'>-103.34205785312524</span></li><li><span class='ee-k'>1:</span><span class='ee-v'>34.0741179602075</span></li></ul></li><li><label class='ee-shut'>50: [-103.33912003574615, 34.07667793289483]<input type='checkbox' class='ee-toggle'></label><ul><li><span class='ee-k'>0:</span><span class='ee-v'>-103.33912003574615</span></li><li><span class='ee-k'>1:</span><span class='ee-v'>34.07667793289483</span></li></ul></li><li><label class='ee-shut'>51: [-103.33594972552318, 34.07903812372815]<input type='checkbox' class='ee-toggle'></label><ul><li><span class='ee-k'>0:</span><span class='ee-v'>-103.33594972552318</span></li><li><span class='ee-k'>1:</span><span class='ee-v'>34.07903812372815</span></li></ul></li><li><label class='ee-shut'>52: [-103.33256647533783, 34.081183964838104]<input type='checkbox' class='ee-toggle'></label><ul><li><span class='ee-k'>0:</span><span class='ee-v'>-103.33256647533783</span></li><li><span class='ee-k'>1:</span><span class='ee-v'>34.081183964838104</span></li></ul></li><li><label class='ee-shut'>53: [-103.32899115693678, 34.08310221127483]<input type='checkbox' class='ee-toggle'></label><ul><li><span class='ee-k'>0:</span><span class='ee-v'>-103.32899115693678</span></li><li><span class='ee-k'>1:</span><span class='ee-v'>34.08310221127483</span></li></ul></li><li><label class='ee-shut'>54: [-103.32524583112058, 34.084781020059694]<input type='checkbox' class='ee-toggle'></label><ul><li><span class='ee-k'>0:</span><span class='ee-v'>-103.32524583112058</span></li><li><span class='ee-k'>1:</span><span class='ee-v'>34.084781020059694</span></li></ul></li><li><label class='ee-shut'>55: [-103.32135361241278, 34.08621002723091]<input type='checkbox' class='ee-toggle'></label><ul><li><span class='ee-k'>0:</span><span class='ee-v'>-103.32135361241278</span></li><li><span class='ee-k'>1:</span><span class='ee-v'>34.08621002723091</span></li></ul></li><li><label class='ee-shut'>56: [-103.31733852831168, 34.08738041129308]<input type='checkbox' class='ee-toggle'></label><ul><li><span class='ee-k'>0:</span><span class='ee-v'>-103.31733852831168</span></li><li><span class='ee-k'>1:</span><span class='ee-v'>34.08738041129308</span></li></ul></li><li><label class='ee-shut'>57: [-103.3132253667304, 34.08828494652374]<input type='checkbox' class='ee-toggle'></label><ul><li><span class='ee-k'>0:</span><span class='ee-v'>-103.3132253667304</span></li><li><span class='ee-k'>1:</span><span class='ee-v'>34.08828494652374</span></li></ul></li><li><label class='ee-shut'>58: [-103.30903952231527, 34.088918048976716]<input type='checkbox' class='ee-toggle'></label><ul><li><span class='ee-k'>0:</span><span class='ee-v'>-103.30903952231527</span></li><li><span class='ee-k'>1:</span><span class='ee-v'>34.088918048976716</span></li></ul></li><li><label class='ee-shut'>59: [-103.30480684183088, 34.08927581066314]<input type='checkbox' class='ee-toggle'></label><ul><li><span class='ee-k'>0:</span><span class='ee-v'>-103.30480684183088</span></li><li><span class='ee-k'>1:</span><span class='ee-v'>34.08927581066314</span></li></ul></li><li><label class='ee-shut'>60: [-103.30055346422161, 34.08935602278076]<input type='checkbox' class='ee-toggle'></label><ul><li><span class='ee-k'>0:</span><span class='ee-v'>-103.30055346422161</span></li><li><span class='ee-k'>1:</span><span class='ee-v'>34.08935602278076</span></li></ul></li><li><label class='ee-shut'>61: [-103.29630565213483, 34.08915819240492]<input type='checkbox' class='ee-toggle'></label><ul><li><span class='ee-k'>0:</span><span class='ee-v'>-103.29630565213483</span></li><li><span class='ee-k'>1:</span><span class='ee-v'>34.08915819240492</span></li></ul></li><li><label class='ee-shut'>62: [-103.29208963672237, 34.088683541253964]<input type='checkbox' class='ee-toggle'></label><ul><li><span class='ee-k'>0:</span><span class='ee-v'>-103.29208963672237</span></li><li><span class='ee-k'>1:</span><span class='ee-v'>34.088683541253964</span></li></ul></li><li><label class='ee-shut'>63: [-103.28793145172044, 34.08793500240344]<input type='checkbox' class='ee-toggle'></label><ul><li><span class='ee-k'>0:</span><span class='ee-v'>-103.28793145172044</span></li><li><span class='ee-k'>1:</span><span class='ee-v'>34.08793500240344</span></li></ul></li><li><label class='ee-shut'>64: [-103.28385677114065, 34.08691719894302]<input type='checkbox' class='ee-toggle'></label><ul><li><span class='ee-k'>0:</span><span class='ee-v'>-103.28385677114065</span></li><li><span class='ee-k'>1:</span><span class='ee-v'>34.08691719894302</span></li></ul></li><li><label class='ee-shut'>65: [-103.27989074935296, 34.0856364162502]<input type='checkbox' class='ee-toggle'></label><ul><li><span class='ee-k'>0:</span><span class='ee-v'>-103.27989074935296</span></li><li><span class='ee-k'>1:</span><span class='ee-v'>34.0856364162502</span></li></ul></li><li><label class='ee-shut'>66: [-103.27605786908818, 34.08410056350178]<input type='checkbox' class='ee-toggle'></label><ul><li><span class='ee-k'>0:</span><span class='ee-v'>-103.27605786908818</span></li><li><span class='ee-k'>1:</span><span class='ee-v'>34.08410056350178</span></li></ul></li><li><label class='ee-shut'>67: [-103.27238178436711, 34.08231912331163]<input type='checkbox' class='ee-toggle'></label><ul><li><span class='ee-k'>0:</span><span class='ee-v'>-103.27238178436711</span></li><li><span class='ee-k'>1:</span><span class='ee-v'>34.08231912331163</span></li></ul></li><li><label class='ee-shut'>68: [-103.26888518110297, 34.080303094337985]<input type='checkbox' class='ee-toggle'></label><ul><li><span class='ee-k'>0:</span><span class='ee-v'>-103.26888518110297</span></li><li><span class='ee-k'>1:</span><span class='ee-v'>34.080303094337985</span></li></ul></li><li><label class='ee-shut'>69: [-103.265589628308, 34.078064923786954]<input type='checkbox' class='ee-toggle'></label><ul><li><span class='ee-k'>0:</span><span class='ee-v'>-103.265589628308</span></li><li><span class='ee-k'>1:</span><span class='ee-v'>34.078064923786954</span></li></ul></li><li><label class='ee-shut'>70: [-103.26251545252876, 34.075618426731396]<input type='checkbox' class='ee-toggle'></label><ul><li><span class='ee-k'>0:</span><span class='ee-v'>-103.26251545252876</span></li><li><span class='ee-k'>1:</span><span class='ee-v'>34.075618426731396</span></li></ul></li><li><label class='ee-shut'>71: [-103.25968160491367, 34.07297870340694]<input type='checkbox' class='ee-toggle'></label><ul><li><span class='ee-k'>0:</span><span class='ee-v'>-103.25968160491367</span></li><li><span class='ee-k'>1:</span><span class='ee-v'>34.07297870340694</span></li></ul></li><li><label class='ee-shut'>72: [-103.25710555368872, 34.070162046138]<input type='checkbox' class='ee-toggle'></label><ul><li><span class='ee-k'>0:</span><span class='ee-v'>-103.25710555368872</span></li><li><span class='ee-k'>1:</span><span class='ee-v'>34.070162046138</span></li></ul></li><li><label class='ee-shut'>73: [-103.25480316611227, 34.06718583701203]<input type='checkbox' class='ee-toggle'></label><ul><li><span class='ee-k'>0:</span><span class='ee-v'>-103.25480316611227</span></li><li><span class='ee-k'>1:</span><span class='ee-v'>34.06718583701203</span></li></ul></li><li><label class='ee-shut'>74: [-103.25278862008867, 34.06406843885358]<input type='checkbox' class='ee-toggle'></label><ul><li><span class='ee-k'>0:</span><span class='ee-v'>-103.25278862008867</span></li><li><span class='ee-k'>1:</span><span class='ee-v'>34.06406843885358</span></li></ul></li><li><label class='ee-shut'>75: [-103.25107431159698, 34.06082908701217]<input type='checkbox' class='ee-toggle'></label><ul><li><span class='ee-k'>0:</span><span class='ee-v'>-103.25107431159698</span></li><li><span class='ee-k'>1:</span><span class='ee-v'>34.06082908701217</span></li></ul></li><li><label class='ee-shut'>76: [-103.24967077925919, 34.05748776313417]<input type='checkbox' class='ee-toggle'></label><ul><li><span class='ee-k'>0:</span><span class='ee-v'>-103.24967077925919</span></li><li><span class='ee-k'>1:</span><span class='ee-v'>34.05748776313417</span></li></ul></li><li><label class='ee-shut'>77: [-103.24858664204078, 34.054065077779605]<input type='checkbox' class='ee-toggle'></label><ul><li><span class='ee-k'>0:</span><span class='ee-v'>-103.24858664204078</span></li><li><span class='ee-k'>1:</span><span class='ee-v'>34.054065077779605</span></li></ul></li><li><label class='ee-shut'>78: [-103.24782854923478, 34.05058214018686]<input type='checkbox' class='ee-toggle'></label><ul><li><span class='ee-k'>0:</span><span class='ee-v'>-103.24782854923478</span></li><li><span class='ee-k'>1:</span><span class='ee-v'>34.05058214018686</span></li></ul></li><li><label class='ee-shut'>79: [-103.24740113514055, 34.04706042866674]<input type='checkbox' class='ee-toggle'></label><ul><li><span class='ee-k'>0:</span><span class='ee-v'>-103.24740113514055</span></li><li><span class='ee-k'>1:</span><span class='ee-v'>34.04706042866674</span></li></ul></li><li><label class='ee-shut'>80: [-103.24730699500515, 34.04352165860669]<input type='checkbox' class='ee-toggle'></label><ul><li><span class='ee-k'>0:</span><span class='ee-v'>-103.24730699500515</span></li><li><span class='ee-k'>1:</span><span class='ee-v'>34.04352165860669</span></li></ul></li></ul></li></ul></li></ul></li><li><span class='ee-k'>geodesic:</span><span class='ee-v'>False</span></li></ul></li><li><label class='ee-shut'>properties: Object (0 properties)<input type='checkbox' class='ee-toggle'></label><ul></ul></li></ul></li></ul></li></ul></li></ul></div><script>function toggleHeader() {\n",
       "    const parent = this.parentElement;\n",
       "    parent.className = parent.className === \"ee-open\" ? \"ee-shut\" : \"ee-open\";\n",
       "}\n",
       "\n",
       "for (let c of document.getElementsByClassName(\"ee-toggle\")) {\n",
       "    c.onclick = toggleHeader;\n",
       "}</script></div>"
      ],
      "text/plain": [
       "<ee.featurecollection.FeatureCollection at 0x1e91def8830>"
      ]
     },
     "execution_count": 3,
     "metadata": {},
     "output_type": "execute_result"
    }
   ],
   "source": [
    "file_dir = 'C:/Users/Justin/Desktop/mesquite/mesq_jsons' # if on desktop\n",
    "#file_dir = 'C:/Users/Justin-Laptop/Documents/Research/GEE_LPC/mesq_jsons' # if on laptop\n",
    "\n",
    "listy = file_address_func(file_dir)\n",
    "listy[1] # checking that each each file path was generated\n",
    "\n",
    "ee_items = ee_list_func(listy)\n",
    "ee_items[1] # checking that the given json was turned into an ee item"
   ]
  },
  {
   "cell_type": "markdown",
   "id": "67a06e80-2611-4fde-9815-4b99dc9c2265",
   "metadata": {},
   "source": [
    "### Run this if have a shapefile you plan to pull from your computer"
   ]
  },
  {
   "cell_type": "code",
   "execution_count": 3,
   "id": "05a013da-1f4d-4d02-872d-3bc841fa83b9",
   "metadata": {},
   "outputs": [
    {
     "data": {
      "text/html": [
       "\n",
       "            <style>\n",
       "                .geemap-dark {\n",
       "                    --jp-widgets-color: white;\n",
       "                    --jp-widgets-label-color: white;\n",
       "                    --jp-ui-font-color1: white;\n",
       "                    --jp-layout-color2: #454545;\n",
       "                    background-color: #383838;\n",
       "                }\n",
       "                    \n",
       "                .geemap-dark .jupyter-button {\n",
       "                    --jp-layout-color3: #383838;\n",
       "                }\n",
       "                \n",
       "                .geemap-colab {\n",
       "                    background-color: var(--colab-primary-surface-color, white);\n",
       "                }\n",
       "                    \n",
       "                .geemap-colab .jupyter-button {\n",
       "                    --jp-layout-color3: var(--colab-primary-surface-color, white);\n",
       "                }\n",
       "            </style>\n",
       "            "
      ],
      "text/plain": [
       "<IPython.core.display.HTML object>"
      ]
     },
     "metadata": {},
     "output_type": "display_data"
    }
   ],
   "source": [
    "shp_folder_path = 'D:/!!Research/!!!Data/ArcGIS_Projects/mesq_grnd_truth/grnd_truth_loc/dunbar_park/'\n",
    "shp_file = 'dunbar_park_bounds.shp'\n",
    "dunbar_park_bounds = geemap.shp_to_ee(f'{shp_folder_path}{shp_file})"
   ]
  },
  {
   "cell_type": "markdown",
   "id": "e88d4ef3-cfdd-4d3f-ac78-a6c9b5cffeda",
   "metadata": {},
   "source": [
    "### Run this if have an ee asset to use instead of a shapefile or geojson"
   ]
  },
  {
   "cell_type": "code",
   "execution_count": null,
   "id": "0af4e122-89d1-4923-a442-91b237ae7cc3",
   "metadata": {},
   "outputs": [],
   "source": [
    "feature_data = ee.FeatureCollection('projects/ee-jdawsey/assets/.........')"
   ]
  },
  {
   "cell_type": "markdown",
   "id": "8437db80-3833-41bd-b9f1-42e6bf802c0a",
   "metadata": {},
   "source": [
    "### Pulling data"
   ]
  },
  {
   "cell_type": "code",
   "execution_count": 4,
   "id": "e2177955-74a2-4234-936d-98916abab9cb",
   "metadata": {},
   "outputs": [
    {
     "data": {
      "text/html": [
       "\n",
       "            <style>\n",
       "                .geemap-dark {\n",
       "                    --jp-widgets-color: white;\n",
       "                    --jp-widgets-label-color: white;\n",
       "                    --jp-ui-font-color1: white;\n",
       "                    --jp-layout-color2: #454545;\n",
       "                    background-color: #383838;\n",
       "                }\n",
       "                    \n",
       "                .geemap-dark .jupyter-button {\n",
       "                    --jp-layout-color3: #383838;\n",
       "                }\n",
       "                \n",
       "                .geemap-colab {\n",
       "                    background-color: var(--colab-primary-surface-color, white);\n",
       "                }\n",
       "                    \n",
       "                .geemap-colab .jupyter-button {\n",
       "                    --jp-layout-color3: var(--colab-primary-surface-color, white);\n",
       "                }\n",
       "            </style>\n",
       "            "
      ],
      "text/plain": [
       "<IPython.core.display.HTML object>"
      ]
     },
     "metadata": {},
     "output_type": "display_data"
    },
    {
     "data": {
      "application/vnd.jupyter.widget-view+json": {
       "model_id": "232c42eb99624af3982dda2d495c3eb2",
       "version_major": 2,
       "version_minor": 0
      },
      "text/plain": [
       "Map(center=[0, 0], controls=(WidgetControl(options=['position', 'transparent_bg'], widget=SearchDataGUI(childr…"
      ]
     },
     "execution_count": 4,
     "metadata": {},
     "output_type": "execute_result"
    }
   ],
   "source": [
    "Map = geemap.Map()\n",
    "Map"
   ]
  },
  {
   "cell_type": "code",
   "execution_count": 5,
   "id": "9361e240-8561-4d5d-9a50-c726aac60534",
   "metadata": {},
   "outputs": [
    {
     "data": {
      "text/html": [
       "\n",
       "            <style>\n",
       "                .geemap-dark {\n",
       "                    --jp-widgets-color: white;\n",
       "                    --jp-widgets-label-color: white;\n",
       "                    --jp-ui-font-color1: white;\n",
       "                    --jp-layout-color2: #454545;\n",
       "                    background-color: #383838;\n",
       "                }\n",
       "                    \n",
       "                .geemap-dark .jupyter-button {\n",
       "                    --jp-layout-color3: #383838;\n",
       "                }\n",
       "                \n",
       "                .geemap-colab {\n",
       "                    background-color: var(--colab-primary-surface-color, white);\n",
       "                }\n",
       "                    \n",
       "                .geemap-colab .jupyter-button {\n",
       "                    --jp-layout-color3: var(--colab-primary-surface-color, white);\n",
       "                }\n",
       "            </style>\n",
       "            "
      ],
      "text/plain": [
       "<IPython.core.display.HTML object>"
      ]
     },
     "metadata": {},
     "output_type": "display_data"
    }
   ],
   "source": [
    "# checking that the imported layer loaded\n",
    "Map.addLayer(dunbar_park_bounds)"
   ]
  },
  {
   "cell_type": "code",
   "execution_count": 6,
   "id": "844f761f-d575-4001-80f7-b33ae09133fe",
   "metadata": {},
   "outputs": [
    {
     "data": {
      "text/html": [
       "\n",
       "            <style>\n",
       "                .geemap-dark {\n",
       "                    --jp-widgets-color: white;\n",
       "                    --jp-widgets-label-color: white;\n",
       "                    --jp-ui-font-color1: white;\n",
       "                    --jp-layout-color2: #454545;\n",
       "                    background-color: #383838;\n",
       "                }\n",
       "                    \n",
       "                .geemap-dark .jupyter-button {\n",
       "                    --jp-layout-color3: #383838;\n",
       "                }\n",
       "                \n",
       "                .geemap-colab {\n",
       "                    background-color: var(--colab-primary-surface-color, white);\n",
       "                }\n",
       "                    \n",
       "                .geemap-colab .jupyter-button {\n",
       "                    --jp-layout-color3: var(--colab-primary-surface-color, white);\n",
       "                }\n",
       "            </style>\n",
       "            "
      ],
      "text/plain": [
       "<IPython.core.display.HTML object>"
      ]
     },
     "metadata": {},
     "output_type": "display_data"
    }
   ],
   "source": [
    "#from my_gee_functions_c import stdrd_ref_func\n",
    "# Uncomment the below lines if using an item list\n",
    "#poly_num = 14\n",
    "#standardized = stdrd_ref_func(ee_items[poly_num])\n",
    "\n",
    "standardized = my_gee_functions.stdrd_ref_func(dunbar_park_bounds)\n",
    "vis_param_gauss = {'bands' : ['N', 'R', 'G'], \n",
    "               'min' : -1.5, \n",
    "               'max' : 2,\n",
    "               'gamma' : 1}\n",
    "\n",
    "### checking that image was smoothed. Rename as needed\n",
    "Map.addLayer(standardized, vis_param_gauss, f'dunbar_park_bounds')"
   ]
  },
  {
   "cell_type": "code",
   "execution_count": 12,
   "id": "ccec77b6-ba83-4d11-897a-4debb69d1688",
   "metadata": {},
   "outputs": [
    {
     "data": {
      "text/html": [
       "\n",
       "            <style>\n",
       "                .geemap-dark {\n",
       "                    --jp-widgets-color: white;\n",
       "                    --jp-widgets-label-color: white;\n",
       "                    --jp-ui-font-color1: white;\n",
       "                    --jp-layout-color2: #454545;\n",
       "                    background-color: #383838;\n",
       "                }\n",
       "                    \n",
       "                .geemap-dark .jupyter-button {\n",
       "                    --jp-layout-color3: #383838;\n",
       "                }\n",
       "                \n",
       "                .geemap-colab {\n",
       "                    background-color: var(--colab-primary-surface-color, white);\n",
       "                }\n",
       "                    \n",
       "                .geemap-colab .jupyter-button {\n",
       "                    --jp-layout-color3: var(--colab-primary-surface-color, white);\n",
       "                }\n",
       "            </style>\n",
       "            "
      ],
      "text/plain": [
       "<IPython.core.display.HTML object>"
      ]
     },
     "metadata": {},
     "output_type": "display_data"
    },
    {
     "ename": "NameError",
     "evalue": "name 'max_clust' is not defined",
     "output_type": "error",
     "traceback": [
      "\u001b[1;31m---------------------------------------------------------------------------\u001b[0m",
      "\u001b[1;31mNameError\u001b[0m                                 Traceback (most recent call last)",
      "Cell \u001b[1;32mIn[12], line 4\u001b[0m\n\u001b[0;32m      1\u001b[0m segmented_image \u001b[38;5;241m=\u001b[39m my_gee_functions_c\u001b[38;5;241m.\u001b[39msegmentation_func(standardized)\n\u001b[0;32m      2\u001b[0m Map\u001b[38;5;241m.\u001b[39maddLayer(segmented_image\u001b[38;5;241m.\u001b[39mrandomVisualizer(), {}, \u001b[38;5;124m'\u001b[39m\u001b[38;5;124mclusters\u001b[39m\u001b[38;5;124m'\u001b[39m)\n\u001b[1;32m----> 4\u001b[0m obj_classed \u001b[38;5;241m=\u001b[39m my_gee_functions_c\u001b[38;5;241m.\u001b[39mobj_class(dunbar_park_bounds, segmented_image, \u001b[43mmax_clust\u001b[49m)\n\u001b[0;32m      5\u001b[0m obj_palette \u001b[38;5;241m=\u001b[39m [\u001b[38;5;124m'\u001b[39m\u001b[38;5;124m#000000\u001b[39m\u001b[38;5;124m'\u001b[39m,\u001b[38;5;124m'\u001b[39m\u001b[38;5;124m#a6cee3\u001b[39m\u001b[38;5;124m'\u001b[39m, \u001b[38;5;124m'\u001b[39m\u001b[38;5;124m#1f78b4\u001b[39m\u001b[38;5;124m'\u001b[39m, \u001b[38;5;124m'\u001b[39m\u001b[38;5;124m#b2df8a\u001b[39m\u001b[38;5;124m'\u001b[39m, \u001b[38;5;124m'\u001b[39m\u001b[38;5;124m#33a02c\u001b[39m\u001b[38;5;124m'\u001b[39m, \u001b[38;5;124m'\u001b[39m\u001b[38;5;124m#fb9a99\u001b[39m\u001b[38;5;124m'\u001b[39m, \u001b[38;5;124m'\u001b[39m\u001b[38;5;124m#e31a1c\u001b[39m\u001b[38;5;124m'\u001b[39m, \u001b[38;5;124m'\u001b[39m\u001b[38;5;124m#fdbf6f\u001b[39m\u001b[38;5;124m'\u001b[39m, \u001b[38;5;124m'\u001b[39m\u001b[38;5;124m#ff7f00\u001b[39m\u001b[38;5;124m'\u001b[39m, \u001b[38;5;124m'\u001b[39m\u001b[38;5;124m#cab2d6\u001b[39m\u001b[38;5;124m'\u001b[39m, \u001b[38;5;124m'\u001b[39m\u001b[38;5;124m#6a3d9a\u001b[39m\u001b[38;5;124m'\u001b[39m, \u001b[38;5;124m'\u001b[39m\u001b[38;5;124m#ffff99\u001b[39m\u001b[38;5;124m'\u001b[39m, \u001b[38;5;124m'\u001b[39m\u001b[38;5;124m#b15928\u001b[39m\u001b[38;5;124m'\u001b[39m]\n\u001b[0;32m      6\u001b[0m obj_vis \u001b[38;5;241m=\u001b[39m {\u001b[38;5;124m'\u001b[39m\u001b[38;5;124mmin\u001b[39m\u001b[38;5;124m'\u001b[39m : \u001b[38;5;241m0\u001b[39m, \u001b[38;5;124m'\u001b[39m\u001b[38;5;124mmax\u001b[39m\u001b[38;5;124m'\u001b[39m : \u001b[38;5;241m12\u001b[39m, \u001b[38;5;124m'\u001b[39m\u001b[38;5;124mpalette\u001b[39m\u001b[38;5;124m'\u001b[39m : obj_palette}\n",
      "\u001b[1;31mNameError\u001b[0m: name 'max_clust' is not defined"
     ]
    }
   ],
   "source": [
    "segmented_image = my_gee_functions.segmentation_func(standardized)\n",
    "Map.addLayer(segmented_image.randomVisualizer(), {}, 'clusters')\n",
    "\n",
    "obj_classed = my_gee_functions.obj_class(dunbar_park_bounds, segmented_image, max_clust)\n",
    "obj_palette = ['#000000','#a6cee3', '#1f78b4', '#b2df8a', '#33a02c', '#fb9a99', '#e31a1c', '#fdbf6f', '#ff7f00', '#cab2d6', '#6a3d9a', '#ffff99', '#b15928']\n",
    "obj_vis = {'min' : 0, 'max' : 12, 'palette' : obj_palette}\n",
    "#Map.addLayer(obj_classed, obj_vis, f'object based classification with poly{poly_num} and {max_clust} clusters')"
   ]
  },
  {
   "cell_type": "code",
   "execution_count": 11,
   "id": "864b24ac-46fa-4166-a1a5-90982bfa48a5",
   "metadata": {},
   "outputs": [
    {
     "data": {
      "text/html": [
       "\n",
       "            <style>\n",
       "                .geemap-dark {\n",
       "                    --jp-widgets-color: white;\n",
       "                    --jp-widgets-label-color: white;\n",
       "                    --jp-ui-font-color1: white;\n",
       "                    --jp-layout-color2: #454545;\n",
       "                    background-color: #383838;\n",
       "                }\n",
       "                    \n",
       "                .geemap-dark .jupyter-button {\n",
       "                    --jp-layout-color3: #383838;\n",
       "                }\n",
       "                \n",
       "                .geemap-colab {\n",
       "                    background-color: var(--colab-primary-surface-color, white);\n",
       "                }\n",
       "                    \n",
       "                .geemap-colab .jupyter-button {\n",
       "                    --jp-layout-color3: var(--colab-primary-surface-color, white);\n",
       "                }\n",
       "            </style>\n",
       "            "
      ],
      "text/plain": [
       "<IPython.core.display.HTML object>"
      ]
     },
     "metadata": {},
     "output_type": "display_data"
    }
   ],
   "source": [
    "pb_classed = pb_class(ee_items, poly_num, standardized, max_clust)\n",
    "obj_palette = ['#000000','#a6cee3', '#1f78b4', '#b2df8a', '#33a02c', '#fb9a99', '#e31a1c', '#fdbf6f', '#ff7f00', '#cab2d6', '#6a3d9a', '#ffff99', '#b15928']\n",
    "obj_vis = {'min' : 0, 'max' : 12, 'palette' : obj_palette}\n",
    "Map.addLayer(pb_classed, obj_vis, f'pb class poly{poly_num}, {max_clust} clusters')"
   ]
  },
  {
   "cell_type": "markdown",
   "id": "1b9129b0-f122-42a2-94b6-aa52c90aacce",
   "metadata": {},
   "source": [
    "## Pulling images quickly"
   ]
  },
  {
   "cell_type": "markdown",
   "id": "ffbd41ee-2780-4b13-94c7-f8a4fef8d154",
   "metadata": {},
   "source": [
    "Done: 12, 13, 14, 15, 16, 17, 18, 19, 20, 25 (prior to below)\\\n",
    "Done: 0, 1, 2, 3, 4, 5, 6, 7, 8, 9 (prior to below)\\\n",
    "Done: 10, 11, 27, 28, 29 (2/22) \\\n",
    "Done: 30, 31, 32, 33, 34 (2/27) \\\n",
    "Done: 35, 36, 37, 38, 39 (2/29) \\\n",
    "Done: 40, 41, 42, 43 (3/1) \\\n",
    "Done: 44, 45, 46 (3/2) \\\n",
    "Done: 47, 48, 49 (3/6)"
   ]
  },
  {
   "cell_type": "code",
   "execution_count": 21,
   "id": "d10c7a00-3d4a-4c10-82c3-4ab355e34ce9",
   "metadata": {},
   "outputs": [
    {
     "data": {
      "text/html": [
       "\n",
       "            <style>\n",
       "                .geemap-dark {\n",
       "                    --jp-widgets-color: white;\n",
       "                    --jp-widgets-label-color: white;\n",
       "                    --jp-ui-font-color1: white;\n",
       "                    --jp-layout-color2: #454545;\n",
       "                    background-color: #383838;\n",
       "                }\n",
       "                    \n",
       "                .geemap-dark .jupyter-button {\n",
       "                    --jp-layout-color3: #383838;\n",
       "                }\n",
       "                \n",
       "                .geemap-colab {\n",
       "                    background-color: var(--colab-primary-surface-color, white);\n",
       "                }\n",
       "                    \n",
       "                .geemap-colab .jupyter-button {\n",
       "                    --jp-layout-color3: var(--colab-primary-surface-color, white);\n",
       "                }\n",
       "            </style>\n",
       "            "
      ],
      "text/plain": [
       "<IPython.core.display.HTML object>"
      ]
     },
     "metadata": {},
     "output_type": "display_data"
    }
   ],
   "source": [
    "#from my_gee_functions import stdrd_ref_func\n",
    "#poly_num = 47\n",
    "max_clust = 15\n",
    "#shp = ee_items[poly_num]\n",
    "image_name = 'dunbar_park'\n",
    "image_export_directory = shp_folder_path\n",
    "shp_geom = dunbar_park_bounds.geometry()\n",
    "\n",
    "\n",
    "\n",
    "standardized = my_gee_functions.stdrd_ref_func(dunbar_park_bounds)\n",
    "\n",
    "vis_param_gauss = {'bands' : ['endvi', 'R', 'G'], \n",
    "               'min' : -1.5, \n",
    "               'max' : 2,\n",
    "               'gamma' : 1}\n",
    "Map.addLayer(standardized, vis_param_gauss, f'dunbar_park_bounds')\n",
    "\n",
    "segmented_image = my_gee_functions.segmentation_func(standardized)\n",
    "obj_classed = my_gee_functions.obj_class(dunbar_park_bounds, segmented_image, max_clust)\n",
    "\n",
    "pb_classed = my_gee_functions.pb_class(dunbar_park_bounds, standardized, max_clust)"
   ]
  },
  {
   "cell_type": "markdown",
   "id": "d1e85945-b79e-4c9a-afaf-13f22914dd96",
   "metadata": {},
   "source": [
    "### Run if saving to file"
   ]
  },
  {
   "cell_type": "code",
   "execution_count": 20,
   "id": "3f098e4c-ff62-4695-8c84-f4fbd5fb8667",
   "metadata": {},
   "outputs": [
    {
     "data": {
      "text/html": [
       "\n",
       "            <style>\n",
       "                .geemap-dark {\n",
       "                    --jp-widgets-color: white;\n",
       "                    --jp-widgets-label-color: white;\n",
       "                    --jp-ui-font-color1: white;\n",
       "                    --jp-layout-color2: #454545;\n",
       "                    background-color: #383838;\n",
       "                }\n",
       "                    \n",
       "                .geemap-dark .jupyter-button {\n",
       "                    --jp-layout-color3: #383838;\n",
       "                }\n",
       "                \n",
       "                .geemap-colab {\n",
       "                    background-color: var(--colab-primary-surface-color, white);\n",
       "                }\n",
       "                    \n",
       "                .geemap-colab .jupyter-button {\n",
       "                    --jp-layout-color3: var(--colab-primary-surface-color, white);\n",
       "                }\n",
       "            </style>\n",
       "            "
      ],
      "text/plain": [
       "<IPython.core.display.HTML object>"
      ]
     },
     "metadata": {},
     "output_type": "display_data"
    },
    {
     "name": "stdout",
     "output_type": "stream",
     "text": [
      "Generating URL ...\n",
      "Downloading data from https://earthengine.googleapis.com/v1/projects/ee-jdawsey/thumbnails/2c08d9f35a54e8c4f25e44885d620e0f-70ceb199a6390a91b48222ae6bcda318:getPixels\n",
      "Please wait ...\n",
      "An error occurred while downloading.\n",
      "Generating URL ...\n",
      "An error occurred while downloading.\n",
      "Total request size (429606774 bytes) must be less than or equal to 50331648 bytes.\n"
     ]
    }
   ],
   "source": [
    "geemap.ee_export_image(\n",
    "    obj_classed, filename=f'{image_export_directory}{image_name}_obj_class.tif', scale=1, region=shp_geom, file_per_band=False\n",
    ")\n",
    "geemap.ee_export_image(\n",
    "    standardized, filename=f'{image_export_directory}{image_name}_standardized.tif', scale=1, region=shp_geom, file_per_band=False\n",
    ")"
   ]
  },
  {
   "cell_type": "markdown",
   "id": "5d60400a-c698-40af-bdda-02a1427942ef",
   "metadata": {},
   "source": [
    "### Run if saving to drive"
   ]
  },
  {
   "cell_type": "code",
   "execution_count": 22,
   "id": "a07edbf6-63bd-477b-ab0f-d312536cb619",
   "metadata": {},
   "outputs": [
    {
     "data": {
      "text/html": [
       "\n",
       "            <style>\n",
       "                .geemap-dark {\n",
       "                    --jp-widgets-color: white;\n",
       "                    --jp-widgets-label-color: white;\n",
       "                    --jp-ui-font-color1: white;\n",
       "                    --jp-layout-color2: #454545;\n",
       "                    background-color: #383838;\n",
       "                }\n",
       "                    \n",
       "                .geemap-dark .jupyter-button {\n",
       "                    --jp-layout-color3: #383838;\n",
       "                }\n",
       "                \n",
       "                .geemap-colab {\n",
       "                    background-color: var(--colab-primary-surface-color, white);\n",
       "                }\n",
       "                    \n",
       "                .geemap-colab .jupyter-button {\n",
       "                    --jp-layout-color3: var(--colab-primary-surface-color, white);\n",
       "                }\n",
       "            </style>\n",
       "            "
      ],
      "text/plain": [
       "<IPython.core.display.HTML object>"
      ]
     },
     "metadata": {},
     "output_type": "display_data"
    }
   ],
   "source": [
    "#\"\"\"\n",
    "task_obj = ee.batch.Export.image.toDrive(\n",
    "    image = obj_classed,\n",
    "    description = f'{image_name}_obj_class_maxClust{max_clust}',\n",
    "    folder = '!imagery',\n",
    "    region = shp_geom,\n",
    "    scale = 1,\n",
    "    crs = 'EPSG:6350',\n",
    "    maxPixels = 130000000\n",
    ")\n",
    "task_obj.start()\n",
    "#\"\"\"\n",
    "task_pb = ee.batch.Export.image.toDrive(\n",
    "    image = pb_classed,\n",
    "    description = f'{image_name}_pb_class_maxClust{max_clust}',\n",
    "    folder = '!imagery',\n",
    "    region = shp_geom,\n",
    "    scale = 1,\n",
    "    crs = 'EPSG:6350',\n",
    "    maxPixels = 130000000\n",
    ")\n",
    "task_pb.start()\n",
    "#\"\"\"\n",
    "task_stdrd = ee.batch.Export.image.toDrive(\n",
    "    image = standardized,\n",
    "    description = f'{image_name}_stdrd_ref',\n",
    "    folder = '!imagery',\n",
    "    region = shp_geom,\n",
    "    scale = 1,\n",
    "    crs = 'EPSG:6350',\n",
    "    maxPixels = 130000000\n",
    ")\n",
    "task_stdrd.start() #\"\"\""
   ]
  },
  {
   "cell_type": "markdown",
   "id": "89f49aa5-082b-4394-a4a7-b745242c4126",
   "metadata": {},
   "source": [
    "### Run this if planning to experiment with \"pasture visualization\""
   ]
  },
  {
   "cell_type": "code",
   "execution_count": 11,
   "id": "b7877fc2-881e-49e8-828a-9b2e3e7fee31",
   "metadata": {},
   "outputs": [
    {
     "data": {
      "text/html": [
       "\n",
       "            <style>\n",
       "                .geemap-dark {\n",
       "                    --jp-widgets-color: white;\n",
       "                    --jp-widgets-label-color: white;\n",
       "                    --jp-ui-font-color1: white;\n",
       "                    --jp-layout-color2: #454545;\n",
       "                    background-color: #383838;\n",
       "                }\n",
       "                    \n",
       "                .geemap-dark .jupyter-button {\n",
       "                    --jp-layout-color3: #383838;\n",
       "                }\n",
       "                \n",
       "                .geemap-colab {\n",
       "                    background-color: var(--colab-primary-surface-color, white);\n",
       "                }\n",
       "                    \n",
       "                .geemap-colab .jupyter-button {\n",
       "                    --jp-layout-color3: var(--colab-primary-surface-color, white);\n",
       "                }\n",
       "            </style>\n",
       "            "
      ],
      "text/plain": [
       "<IPython.core.display.HTML object>"
      ]
     },
     "metadata": {},
     "output_type": "display_data"
    }
   ],
   "source": [
    "from my_gee_functions import pasture_visualizer\n",
    "from my_gee_functions import stdrd_ref_func\n",
    "poly_num = 22\n",
    "standardized = stdrd_ref_func(ee_items, poly_num)\n",
    "seed_spacing = 96\n",
    "grid_type = 'square' # 'hex' or 'square'\n",
    "pastures = pasture_visualizer(ee_items, poly_num, standardized, seed_spacing, grid_type)\n",
    "#Map.addLayer(pastures.randomVisualizer(), {}, f'{grid_type}_space{seed_spacing}')\n",
    "Map.addLayer(pastures, {'bands': ['N', 'R', 'G'], 'min' : -1.5, 'max' : 2, 'gamma' : 1}, f'{grid_type}_space{seed_spacing}')\n",
    "\n",
    "shp = ee_items[poly_num]\n",
    "task_stdrd = ee.batch.Export.image.toDrive(\n",
    "    image = pastures,\n",
    "    description = f'poly{poly_num}_pastures_seed_space{seed_spacing}',\n",
    "    folder = '!imagery',\n",
    "    region = shp.geometry(),\n",
    "    scale = 1,\n",
    "    crs = None,\n",
    "    maxPixels = 130000000\n",
    ")\n",
    "task_stdrd.start()"
   ]
  },
  {
   "cell_type": "code",
   "execution_count": null,
   "id": "ef64d0d5-f2c4-4f1c-a855-f0c6e3f91d19",
   "metadata": {},
   "outputs": [],
   "source": [
    "pasture_max = 8\n",
    "pasture_classed = obj_class(ee_items, poly_num, pastures, pasture_max)\n",
    "obj_palette = ['#000000','#a6cee3', '#1f78b4', '#b2df8a', '#33a02c', '#fb9a99', '#e31a1c', '#fdbf6f', '#ff7f00', '#cab2d6', '#6a3d9a', '#ffff99', '#b15928']\n",
    "obj_vis = {'min' : 0, 'max' : 12, 'palette' : obj_palette}\n",
    "Map.addLayer(pasture_classed, obj_vis, f'obj class poly{poly_num}, {max_clust} clusters')"
   ]
  },
  {
   "cell_type": "code",
   "execution_count": 12,
   "id": "93548fa2-c275-4f22-8429-6760a4a33ccd",
   "metadata": {},
   "outputs": [
    {
     "data": {
      "text/html": [
       "\n",
       "            <style>\n",
       "                .geemap-dark {\n",
       "                    --jp-widgets-color: white;\n",
       "                    --jp-widgets-label-color: white;\n",
       "                    --jp-ui-font-color1: white;\n",
       "                    --jp-layout-color2: #454545;\n",
       "                    background-color: #383838;\n",
       "                }\n",
       "                    \n",
       "                .geemap-dark .jupyter-button {\n",
       "                    --jp-layout-color3: #383838;\n",
       "                }\n",
       "                \n",
       "                .geemap-colab {\n",
       "                    background-color: var(--colab-primary-surface-color, white);\n",
       "                }\n",
       "                    \n",
       "                .geemap-colab .jupyter-button {\n",
       "                    --jp-layout-color3: var(--colab-primary-surface-color, white);\n",
       "                }\n",
       "            </style>\n",
       "            "
      ],
      "text/plain": [
       "<IPython.core.display.HTML object>"
      ]
     },
     "metadata": {},
     "output_type": "display_data"
    }
   ],
   "source": [
    "from my_gee_functions import stdrd_ref_func\n",
    "poly_num = 24\n",
    "max_clust = 15\n",
    "shp = ee_items[poly_num]\n",
    "standardized = stdrd_ref_func(ee_items, poly_num)\n",
    "vis_param_gauss = {'bands' : ['N', 'R', 'G'], \n",
    "               'min' : -1.5, \n",
    "               'max' : 2,\n",
    "               'gamma' : 1}\n",
    "Map.addLayer(standardized, vis_param_gauss, f'poly{poly_num}')\n",
    "\n",
    "segmented_image = segmentation_func(ee_items, poly_num, standardized)\n",
    "obj_classed = obj_class(ee_items, poly_num, segmented_image, max_clust)\n",
    "\n",
    "pb_classed = pb_class(ee_items, poly_num, standardized, max_clust)\n",
    "\n",
    "task_obj = ee.batch.Export.image.toDrive(\n",
    "    image = obj_classed,\n",
    "    description = f'poly{poly_num}_obj_class_maxClust{max_clust}',\n",
    "    folder = '!imagery',\n",
    "    region = shp.geometry(),\n",
    "    scale = 1,\n",
    "    crs = None,\n",
    "    maxPixels = 130000000\n",
    ")\n",
    "task_obj.start()\n"
   ]
  }
 ],
 "metadata": {
  "kernelspec": {
   "display_name": "Python 3 (ipykernel)",
   "language": "python",
   "name": "python3"
  },
  "language_info": {
   "codemirror_mode": {
    "name": "ipython",
    "version": 3
   },
   "file_extension": ".py",
   "mimetype": "text/x-python",
   "name": "python",
   "nbconvert_exporter": "python",
   "pygments_lexer": "ipython3",
   "version": "3.12.1"
  }
 },
 "nbformat": 4,
 "nbformat_minor": 5
}
