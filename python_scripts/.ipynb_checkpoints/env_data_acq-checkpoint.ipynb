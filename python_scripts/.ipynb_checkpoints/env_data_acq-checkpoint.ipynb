{
 "cells": [
  {
   "cell_type": "code",
   "execution_count": 1,
   "id": "1f641e3c-40eb-450e-be8c-df9ba989467e",
   "metadata": {},
   "outputs": [],
   "source": [
    "import ee\n",
    "import geemap\n",
    "import json\n",
    "import os\n",
    "from geemap import geojson_to_ee\n",
    "from ipyleaflet import GeoJSON\n",
    "from my_gee_functions import file_address_func\n",
    "from my_gee_functions import ee_list_func\n",
    "from my_gee_functions import naip_stdrd_func"
   ]
  },
  {
   "cell_type": "code",
   "execution_count": null,
   "id": "b629f763-8394-4230-97ee-2da15e8ec6dc",
   "metadata": {},
   "outputs": [],
   "source": [
    "# Authenticate if needed\n",
    "ee.Authenticate()"
   ]
  },
  {
   "cell_type": "code",
   "execution_count": 2,
   "id": "88b0e6f0-be1c-4156-8803-84305acb9bd6",
   "metadata": {},
   "outputs": [
    {
     "data": {
      "text/html": [
       "\n",
       "            <style>\n",
       "                .geemap-dark {\n",
       "                    --jp-widgets-color: white;\n",
       "                    --jp-widgets-label-color: white;\n",
       "                    --jp-ui-font-color1: white;\n",
       "                    --jp-layout-color2: #454545;\n",
       "                    background-color: #383838;\n",
       "                }\n",
       "                    \n",
       "                .geemap-dark .jupyter-button {\n",
       "                    --jp-layout-color3: #383838;\n",
       "                }\n",
       "                \n",
       "                .geemap-colab {\n",
       "                    background-color: var(--colab-primary-surface-color, white);\n",
       "                }\n",
       "                    \n",
       "                .geemap-colab .jupyter-button {\n",
       "                    --jp-layout-color3: var(--colab-primary-surface-color, white);\n",
       "                }\n",
       "            </style>\n",
       "            "
      ],
      "text/plain": [
       "<IPython.core.display.HTML object>"
      ]
     },
     "metadata": {},
     "output_type": "display_data"
    }
   ],
   "source": [
    "#Initializing the ee project\n",
    "\n",
    "ee.Initialize(project = 'ee-jdawsey')"
   ]
  },
  {
   "cell_type": "markdown",
   "id": "7eea510b-c4d5-43f9-8a8b-bcaa70213fc5",
   "metadata": {},
   "source": [
    "Generating a list of file paths that can be used to create a list of json GEE objects"
   ]
  },
  {
   "cell_type": "code",
   "execution_count": 3,
   "id": "63336d20-41c4-4f53-9253-46c4cc290659",
   "metadata": {},
   "outputs": [
    {
     "data": {
      "text/html": [
       "\n",
       "            <style>\n",
       "                .geemap-dark {\n",
       "                    --jp-widgets-color: white;\n",
       "                    --jp-widgets-label-color: white;\n",
       "                    --jp-ui-font-color1: white;\n",
       "                    --jp-layout-color2: #454545;\n",
       "                    background-color: #383838;\n",
       "                }\n",
       "                    \n",
       "                .geemap-dark .jupyter-button {\n",
       "                    --jp-layout-color3: #383838;\n",
       "                }\n",
       "                \n",
       "                .geemap-colab {\n",
       "                    background-color: var(--colab-primary-surface-color, white);\n",
       "                }\n",
       "                    \n",
       "                .geemap-colab .jupyter-button {\n",
       "                    --jp-layout-color3: var(--colab-primary-surface-color, white);\n",
       "                }\n",
       "            </style>\n",
       "            "
      ],
      "text/plain": [
       "<IPython.core.display.HTML object>"
      ]
     },
     "metadata": {},
     "output_type": "display_data"
    },
    {
     "data": {
      "text/plain": [
       "'C:/Users/Justin/Desktop/mesquite/mesq_jsons/aa.json — aa.geojson'"
      ]
     },
     "execution_count": 3,
     "metadata": {},
     "output_type": "execute_result"
    }
   ],
   "source": [
    "file_dir = 'C:/Users/Justin/Desktop/mesquite/mesq_jsons' # if on desktop\n",
    "#file_dir = 'C:/Users/Justin-Laptop/Documents/Research/GEE_LPC/mesq_jsons' # if on laptop\n",
    "\n",
    "listy = file_address_func(file_dir)\n",
    "listy[1] # checking that each each file path was generated"
   ]
  },
  {
   "cell_type": "code",
   "execution_count": 4,
   "id": "89ce4bf0-ba2e-479a-a8ca-333df6ba468e",
   "metadata": {},
   "outputs": [
    {
     "data": {
      "text/html": [
       "\n",
       "            <style>\n",
       "                .geemap-dark {\n",
       "                    --jp-widgets-color: white;\n",
       "                    --jp-widgets-label-color: white;\n",
       "                    --jp-ui-font-color1: white;\n",
       "                    --jp-layout-color2: #454545;\n",
       "                    background-color: #383838;\n",
       "                }\n",
       "                    \n",
       "                .geemap-dark .jupyter-button {\n",
       "                    --jp-layout-color3: #383838;\n",
       "                }\n",
       "                \n",
       "                .geemap-colab {\n",
       "                    background-color: var(--colab-primary-surface-color, white);\n",
       "                }\n",
       "                    \n",
       "                .geemap-colab .jupyter-button {\n",
       "                    --jp-layout-color3: var(--colab-primary-surface-color, white);\n",
       "                }\n",
       "            </style>\n",
       "            "
      ],
      "text/plain": [
       "<IPython.core.display.HTML object>"
      ]
     },
     "metadata": {},
     "output_type": "display_data"
    },
    {
     "data": {
      "text/html": [
       "<div><style>:root {\n",
       "  --font-color-primary: var(--jp-content-font-color0, rgba(0, 0, 0, 1));\n",
       "  --font-color-secondary: var(--jp-content-font-color2, rgba(0, 0, 0, 0.6));\n",
       "  --font-color-accent: rgba(123, 31, 162, 1);\n",
       "  --border-color: var(--jp-border-color2, #e0e0e0);\n",
       "  --background-color: var(--jp-layout-color0, white);\n",
       "  --background-color-row-even: var(--jp-layout-color1, white);\n",
       "  --background-color-row-odd: var(--jp-layout-color2, #eeeeee);\n",
       "}\n",
       "\n",
       "html[theme=\"dark\"],\n",
       "body[data-theme=\"dark\"],\n",
       "body.vscode-dark {\n",
       "  --font-color-primary: rgba(255, 255, 255, 1);\n",
       "  --font-color-secondary: rgba(255, 255, 255, 0.6);\n",
       "  --font-color-accent: rgb(173, 132, 190);\n",
       "  --border-color: #2e2e2e;\n",
       "  --background-color: #111111;\n",
       "  --background-color-row-even: #111111;\n",
       "  --background-color-row-odd: #313131;\n",
       "}\n",
       "\n",
       ".ee {\n",
       "  padding: 1em;\n",
       "  line-height: 1.5em;\n",
       "  min-width: 300px;\n",
       "  max-width: 1200px;\n",
       "  overflow-y: scroll;\n",
       "  max-height: 600px;\n",
       "  border: 1px solid var(--border-color);\n",
       "  font-family: monospace;\n",
       "}\n",
       "\n",
       ".ee li {\n",
       "  list-style-type: none;\n",
       "}\n",
       "\n",
       ".ee ul {\n",
       "  padding-left: 1.5em !important;\n",
       "  margin: 0;\n",
       "}\n",
       "\n",
       ".ee > ul {\n",
       "  padding-left: 0 !important;\n",
       "}\n",
       "\n",
       ".ee-open,\n",
       ".ee-shut {\n",
       "  color: var(--font-color-secondary);\n",
       "  cursor: pointer;\n",
       "  margin: 0;\n",
       "}\n",
       "\n",
       ".ee-open:hover,\n",
       ".ee-shut:hover {\n",
       "  color: var(--font-color-primary);\n",
       "}\n",
       "\n",
       ".ee-k {\n",
       "  color: var(--font-color-accent);\n",
       "  margin-right: 6px;\n",
       "}\n",
       "\n",
       ".ee-v {\n",
       "  color: var(--font-color-primary);\n",
       "}\n",
       "\n",
       ".ee-toggle {\n",
       "  display: none;\n",
       "}\n",
       "\n",
       ".ee-shut + ul {\n",
       "  display: none;\n",
       "}\n",
       "\n",
       ".ee-open + ul {\n",
       "  display: block;\n",
       "}\n",
       "\n",
       ".ee-shut::before {\n",
       "  display: inline-block;\n",
       "  content: \"▼\";\n",
       "  margin-right: 6px;\n",
       "  transform: rotate(-90deg);\n",
       "  transition: transform 0.2s;\n",
       "}\n",
       "\n",
       ".ee-open::before {\n",
       "  transform: rotate(0deg);\n",
       "  display: inline-block;\n",
       "  content: \"▼\";\n",
       "  margin-right: 6px;\n",
       "  transition: transform 0.2s;\n",
       "}\n",
       "</style><div class='ee'><ul><li><label class='ee-shut'>FeatureCollection (1 element, 1 column)<input type='checkbox' class='ee-toggle'></label><ul><li><span class='ee-k'>type:</span><span class='ee-v'>FeatureCollection</span></li><li><label class='ee-shut'>columns: Object (1 property)<input type='checkbox' class='ee-toggle'></label><ul><li><span class='ee-k'>system:index:</span><span class='ee-v'>String</span></li></ul></li><li><label class='ee-shut'>features: List (1 element)<input type='checkbox' class='ee-toggle'></label><ul><li><label class='ee-shut'>0: Feature (MultiPolygon, 0 properties)<input type='checkbox' class='ee-toggle'></label><ul><li><span class='ee-k'>type:</span><span class='ee-v'>Feature</span></li><li><span class='ee-k'>id:</span><span class='ee-v'>0</span></li><li><label class='ee-shut'>geometry: MultiPolygon (81 vertices)<input type='checkbox' class='ee-toggle'></label><ul><li><span class='ee-k'>type:</span><span class='ee-v'>MultiPolygon</span></li><li><label class='ee-shut'>coordinates: List (1 element)<input type='checkbox' class='ee-toggle'></label><ul><li><label class='ee-shut'>0: List (1 element)<input type='checkbox' class='ee-toggle'></label><ul><li><label class='ee-shut'>0: List (81 elements)<input type='checkbox' class='ee-toggle'></label><ul><li><label class='ee-shut'>0: [-103.24730699500515, 34.04352165860669]<input type='checkbox' class='ee-toggle'></label><ul><li><span class='ee-k'>0:</span><span class='ee-v'>-103.24730699500515</span></li><li><span class='ee-k'>1:</span><span class='ee-v'>34.04352165860669</span></li></ul></li><li><label class='ee-shut'>1: [-103.24754666631884, 34.039987647729056]<input type='checkbox' class='ee-toggle'></label><ul><li><span class='ee-k'>0:</span><span class='ee-v'>-103.24754666631884</span></li><li><span class='ee-k'>1:</span><span class='ee-v'>34.039987647729056</span></li></ul></li><li><label class='ee-shut'>2: [-103.24811863182317, 34.03648017909694]<input type='checkbox' class='ee-toggle'></label><ul><li><span class='ee-k'>0:</span><span class='ee-v'>-103.24811863182317</span></li><li><span class='ee-k'>1:</span><span class='ee-v'>34.03648017909694</span></li></ul></li><li><label class='ee-shut'>3: [-103.24901932449708, 34.03302087321704]<input type='checkbox' class='ee-toggle'></label><ul><li><span class='ee-k'>0:</span><span class='ee-v'>-103.24901932449708</span></li><li><span class='ee-k'>1:</span><span class='ee-v'>34.03302087321704</span></li></ul></li><li><label class='ee-shut'>4: [-103.25024315372133, 34.0296310494721]<input type='checkbox' class='ee-toggle'></label><ul><li><span class='ee-k'>0:</span><span class='ee-v'>-103.25024315372133</span></li><li><span class='ee-k'>1:</span><span class='ee-v'>34.0296310494721</span></li></ul></li><li><label class='ee-shut'>5: [-103.25178253786332, 34.02633159471235]<input type='checkbox' class='ee-toggle'></label><ul><li><span class='ee-k'>0:</span><span class='ee-v'>-103.25178253786332</span></li><li><span class='ee-k'>1:</span><span class='ee-v'>34.02633159471235</span></li></ul></li><li><label class='ee-shut'>6: [-103.2536279588366, 34.023142839701535]<input type='checkbox' class='ee-toggle'></label><ul><li><span class='ee-k'>0:</span><span class='ee-v'>-103.2536279588366</span></li><li><span class='ee-k'>1:</span><span class='ee-v'>34.023142839701535</span></li></ul></li><li><label class='ee-shut'>7: [-103.25576801508184, 34.02008443133276]<input type='checkbox' class='ee-toggle'></label><ul><li><span class='ee-k'>0:</span><span class='ee-v'>-103.25576801508184</span></li><li><span class='ee-k'>1:</span><span class='ee-v'>34.02008443133276</span></li></ul></li><li><label class='ee-shut'>8: [-103.2581894934525, 34.01717520957594]<input type='checkbox' class='ee-toggle'></label><ul><li><span class='ee-k'>0:</span><span class='ee-v'>-103.2581894934525</span></li><li><span class='ee-k'>1:</span><span class='ee-v'>34.01717520957594</span></li></ul></li><li><label class='ee-shut'>9: [-103.26087745011777, 34.014433093704845]<input type='checkbox' class='ee-toggle'></label><ul><li><span class='ee-k'>0:</span><span class='ee-v'>-103.26087745011777</span></li><li><span class='ee-k'>1:</span><span class='ee-v'>34.014433093704845</span></li></ul></li><li><label class='ee-shut'>10: [-103.2638153085029, 34.01187497324115]<input type='checkbox' class='ee-toggle'></label><ul><li><span class='ee-k'>0:</span><span class='ee-v'>-103.2638153085029</span></li><li><span class='ee-k'>1:</span><span class='ee-v'>34.01187497324115</span></li></ul></li><li><label class='ee-shut'>11: [-103.26698495257898, 34.00951660342007]<input type='checkbox' class='ee-toggle'></label><ul><li><span class='ee-k'>0:</span><span class='ee-v'>-103.26698495257898</span></li><li><span class='ee-k'>1:</span><span class='ee-v'>34.00951660342007</span></li></ul></li><li><label class='ee-shut'>12: [-103.27036684910837, 34.007372507329656]<input type='checkbox' class='ee-toggle'></label><ul><li><span class='ee-k'>0:</span><span class='ee-v'>-103.27036684910837</span></li><li><span class='ee-k'>1:</span><span class='ee-v'>34.007372507329656</span></li></ul></li><li><label class='ee-shut'>13: [-103.27394015859313, 34.005455886918995]<input type='checkbox' class='ee-toggle'></label><ul><li><span class='ee-k'>0:</span><span class='ee-v'>-103.27394015859313</span></li><li><span class='ee-k'>1:</span><span class='ee-v'>34.005455886918995</span></li></ul></li><li><label class='ee-shut'>14: [-103.27768287076549, 34.00377854515664]<input type='checkbox' class='ee-toggle'></label><ul><li><span class='ee-k'>0:</span><span class='ee-v'>-103.27768287076549</span></li><li><span class='ee-k'>1:</span><span class='ee-v'>34.00377854515664</span></li></ul></li><li><label class='ee-shut'>15: [-103.28157193224804, 34.002350809836614]<input type='checkbox' class='ee-toggle'></label><ul><li><span class='ee-k'>0:</span><span class='ee-v'>-103.28157193224804</span></li><li><span class='ee-k'>1:</span><span class='ee-v'>34.002350809836614</span></li></ul></li><li><label class='ee-shut'>16: [-103.28558339650566, 34.001181471173055]<input type='checkbox' class='ee-toggle'></label><ul><li><span class='ee-k'>0:</span><span class='ee-v'>-103.28558339650566</span></li><li><span class='ee-k'>1:</span><span class='ee-v'>34.001181471173055</span></li></ul></li><li><label class='ee-shut'>17: [-103.28969256369197, 34.000277728233726]<input type='checkbox' class='ee-toggle'></label><ul><li><span class='ee-k'>0:</span><span class='ee-v'>-103.28969256369197</span></li><li><span class='ee-k'>1:</span><span class='ee-v'>34.000277728233726</span></li></ul></li><li><label class='ee-shut'>18: [-103.29387413758798, 33.99964514769498]<input type='checkbox' class='ee-toggle'></label><ul><li><span class='ee-k'>0:</span><span class='ee-v'>-103.29387413758798</span></li><li><span class='ee-k'>1:</span><span class='ee-v'>33.99964514769498</span></li></ul></li><li><label class='ee-shut'>19: [-103.2981023764962, 33.99928762425001]<input type='checkbox' class='ee-toggle'></label><ul><li><span class='ee-k'>0:</span><span class='ee-v'>-103.2981023764962</span></li><li><span class='ee-k'>1:</span><span class='ee-v'>33.99928762425001</span></li></ul></li><li><label class='ee-shut'>20: [-103.30235125186923, 33.99920735782909]<input type='checkbox' class='ee-toggle'></label><ul><li><span class='ee-k'>0:</span><span class='ee-v'>-103.30235125186923</span></li><li><span class='ee-k'>1:</span><span class='ee-v'>33.99920735782909</span></li></ul></li><li><label class='ee-shut'>21: [-103.30659460862857, 33.9994048462202]<input type='checkbox' class='ee-toggle'></label><ul><li><span class='ee-k'>0:</span><span class='ee-v'>-103.30659460862857</span></li><li><span class='ee-k'>1:</span><span class='ee-v'>33.9994048462202</span></li></ul></li><li><label class='ee-shut'>22: [-103.31080632858885, 33.99987887259068]<input type='checkbox' class='ee-toggle'></label><ul><li><span class='ee-k'>0:</span><span class='ee-v'>-103.31080632858885</span></li><li><span class='ee-k'>1:</span><span class='ee-v'>33.99987887259068</span></li></ul></li><li><label class='ee-shut'>23: [-103.31496048289198, 34.00062652270511]<input type='checkbox' class='ee-toggle'></label><ul><li><span class='ee-k'>0:</span><span class='ee-v'>-103.31496048289198</span></li><li><span class='ee-k'>1:</span><span class='ee-v'>34.00062652270511</span></li></ul></li><li><label class='ee-shut'>24: [-103.3190314966904, 34.00164319506332]<input type='checkbox' class='ee-toggle'></label><ul><li><span class='ee-k'>0:</span><span class='ee-v'>-103.3190314966904</span></li><li><span class='ee-k'>1:</span><span class='ee-v'>34.00164319506332</span></li></ul></li><li><label class='ee-shut'>25: [-103.32299430589187, 34.00292263019743]<input type='checkbox' class='ee-toggle'></label><ul><li><span class='ee-k'>0:</span><span class='ee-v'>-103.32299430589187</span></li><li><span class='ee-k'>1:</span><span class='ee-v'>34.00292263019743</span></li></ul></li><li><label class='ee-shut'>26: [-103.32682450793726, 34.00445695302565]<input type='checkbox' class='ee-toggle'></label><ul><li><span class='ee-k'>0:</span><span class='ee-v'>-103.32682450793726</span></li><li><span class='ee-k'>1:</span><span class='ee-v'>34.00445695302565</span></li></ul></li><li><label class='ee-shut'>27: [-103.3304985115311, 34.00623671856985]<input type='checkbox' class='ee-toggle'></label><ul><li><span class='ee-k'>0:</span><span class='ee-v'>-103.3304985115311</span></li><li><span class='ee-k'>1:</span><span class='ee-v'>34.00623671856985</span></li></ul></li><li><label class='ee-shut'>28: [-103.33399368521631, 34.008250969452014]<input type='checkbox' class='ee-toggle'></label><ul><li><span class='ee-k'>0:</span><span class='ee-v'>-103.33399368521631</span></li><li><span class='ee-k'>1:</span><span class='ee-v'>34.008250969452014</span></li></ul></li><li><label class='ee-shut'>29: [-103.33728849411051, 34.01048730222032]<input type='checkbox' class='ee-toggle'></label><ul><li><span class='ee-k'>0:</span><span class='ee-v'>-103.33728849411051</span></li><li><span class='ee-k'>1:</span><span class='ee-v'>34.01048730222032</span></li></ul></li><li><label class='ee-shut'>30: [-103.34036263106987, 34.01293194708686]<input type='checkbox' class='ee-toggle'></label><ul><li><span class='ee-k'>0:</span><span class='ee-v'>-103.34036263106987</span></li><li><span class='ee-k'>1:</span><span class='ee-v'>34.01293194708686</span></li></ul></li><li><label class='ee-shut'>31: [-103.34319714265966, 34.015569849365]<input type='checkbox' class='ee-toggle'></label><ul><li><span class='ee-k'>0:</span><span class='ee-v'>-103.34319714265966</span></li><li><span class='ee-k'>1:</span><span class='ee-v'>34.015569849365</span></li></ul></li><li><label class='ee-shut'>32: [-103.34577454754647, 34.018384761620425]<input type='checkbox' class='ee-toggle'></label><ul><li><span class='ee-k'>0:</span><span class='ee-v'>-103.34577454754647</span></li><li><span class='ee-k'>1:</span><span class='ee-v'>34.018384761620425</span></li></ul></li><li><label class='ee-shut'>33: [-103.3480789440489, 34.02135934471727]<input type='checkbox' class='ee-toggle'></label><ul><li><span class='ee-k'>0:</span><span class='ee-v'>-103.3480789440489</span></li><li><span class='ee-k'>1:</span><span class='ee-v'>34.02135934471727</span></li></ul></li><li><label class='ee-shut'>34: [-103.35009610481615, 34.02447527496763]<input type='checkbox' class='ee-toggle'></label><ul><li><span class='ee-k'>0:</span><span class='ee-v'>-103.35009610481615</span></li><li><span class='ee-k'>1:</span><span class='ee-v'>34.02447527496763</span></li></ul></li><li><label class='ee-shut'>35: [-103.35181356943605, 34.027713355852626]<input type='checkbox' class='ee-toggle'></label><ul><li><span class='ee-k'>0:</span><span class='ee-v'>-103.35181356943605</span></li><li><span class='ee-k'>1:</span><span class='ee-v'>34.027713355852626</span></li></ul></li><li><label class='ee-shut'>36: [-103.35322072087835, 34.031053634012764]<input type='checkbox' class='ee-toggle'></label><ul><li><span class='ee-k'>0:</span><span class='ee-v'>-103.35322072087835</span></li><li><span class='ee-k'>1:</span><span class='ee-v'>34.031053634012764</span></li></ul></li><li><label class='ee-shut'>37: [-103.35430885109766, 34.0344755251416]<input type='checkbox' class='ee-toggle'></label><ul><li><span class='ee-k'>0:</span><span class='ee-v'>-103.35430885109766</span></li><li><span class='ee-k'>1:</span><span class='ee-v'>34.0344755251416</span></li></ul></li><li><label class='ee-shut'>38: [-103.35507121268866, 34.037957940553426]<input type='checkbox' class='ee-toggle'></label><ul><li><span class='ee-k'>0:</span><span class='ee-v'>-103.35507121268866</span></li><li><span class='ee-k'>1:</span><span class='ee-v'>34.037957940553426</span></li></ul></li><li><label class='ee-shut'>39: [-103.35550306624917, 34.04147941477716]<input type='checkbox' class='ee-toggle'></label><ul><li><span class='ee-k'>0:</span><span class='ee-v'>-103.35550306624917</span></li><li><span class='ee-k'>1:</span><span class='ee-v'>34.04147941477716</span></li></ul></li><li><label class='ee-shut'>40: [-103.35560171049029, 34.045018237401926]<input type='checkbox' class='ee-toggle'></label><ul><li><span class='ee-k'>0:</span><span class='ee-v'>-103.35560171049029</span></li><li><span class='ee-k'>1:</span><span class='ee-v'>34.045018237401926</span></li></ul></li><li><label class='ee-shut'>41: [-103.35536649269703, 34.04855259201913]<input type='checkbox' class='ee-toggle'></label><ul><li><span class='ee-k'>0:</span><span class='ee-v'>-103.35536649269703</span></li><li><span class='ee-k'>1:</span><span class='ee-v'>34.04855259201913</span></li></ul></li><li><label class='ee-shut'>42: [-103.35479882489224, 34.05206068448718]<input type='checkbox' class='ee-toggle'></label><ul><li><span class='ee-k'>0:</span><span class='ee-v'>-103.35479882489224</span></li><li><span class='ee-k'>1:</span><span class='ee-v'>34.05206068448718</span></li></ul></li><li><label class='ee-shut'>43: [-103.35390216510127, 34.05552087979828]<input type='checkbox' class='ee-toggle'></label><ul><li><span class='ee-k'>0:</span><span class='ee-v'>-103.35390216510127</span></li><li><span class='ee-k'>1:</span><span class='ee-v'>34.05552087979828</span></li></ul></li><li><label class='ee-shut'>44: [-103.35268200409668, 34.05891183645453]<input type='checkbox' class='ee-toggle'></label><ul><li><span class='ee-k'>0:</span><span class='ee-v'>-103.35268200409668</span></li><li><span class='ee-k'>1:</span><span class='ee-v'>34.05891183645453</span></li></ul></li><li><label class='ee-shut'>45: [-103.35114583254055, 34.06221263877057]<input type='checkbox' class='ee-toggle'></label><ul><li><span class='ee-k'>0:</span><span class='ee-v'>-103.35114583254055</span></li><li><span class='ee-k'>1:</span><span class='ee-v'>34.06221263877057</span></li></ul></li><li><label class='ee-shut'>46: [-103.34930309088584, 34.0654029228069]<input type='checkbox' class='ee-toggle'></label><ul><li><span class='ee-k'>0:</span><span class='ee-v'>-103.34930309088584</span></li><li><span class='ee-k'>1:</span><span class='ee-v'>34.0654029228069</span></li></ul></li><li><label class='ee-shut'>47: [-103.34716511467447, 34.06846300670744]<input type='checkbox' class='ee-toggle'></label><ul><li><span class='ee-k'>0:</span><span class='ee-v'>-103.34716511467447</span></li><li><span class='ee-k'>1:</span><span class='ee-v'>34.06846300670744</span></li></ul></li><li><label class='ee-shut'>48: [-103.344745065883, 34.071374006559196]<input type='checkbox' class='ee-toggle'></label><ul><li><span class='ee-k'>0:</span><span class='ee-v'>-103.344745065883</span></li><li><span class='ee-k'>1:</span><span class='ee-v'>34.071374006559196</span></li></ul></li><li><label class='ee-shut'>49: [-103.34205785312524, 34.0741179602075]<input type='checkbox' class='ee-toggle'></label><ul><li><span class='ee-k'>0:</span><span class='ee-v'>-103.34205785312524</span></li><li><span class='ee-k'>1:</span><span class='ee-v'>34.0741179602075</span></li></ul></li><li><label class='ee-shut'>50: [-103.33912003574615, 34.07667793289483]<input type='checkbox' class='ee-toggle'></label><ul><li><span class='ee-k'>0:</span><span class='ee-v'>-103.33912003574615</span></li><li><span class='ee-k'>1:</span><span class='ee-v'>34.07667793289483</span></li></ul></li><li><label class='ee-shut'>51: [-103.33594972552318, 34.07903812372815]<input type='checkbox' class='ee-toggle'></label><ul><li><span class='ee-k'>0:</span><span class='ee-v'>-103.33594972552318</span></li><li><span class='ee-k'>1:</span><span class='ee-v'>34.07903812372815</span></li></ul></li><li><label class='ee-shut'>52: [-103.33256647533783, 34.081183964838104]<input type='checkbox' class='ee-toggle'></label><ul><li><span class='ee-k'>0:</span><span class='ee-v'>-103.33256647533783</span></li><li><span class='ee-k'>1:</span><span class='ee-v'>34.081183964838104</span></li></ul></li><li><label class='ee-shut'>53: [-103.32899115693678, 34.08310221127483]<input type='checkbox' class='ee-toggle'></label><ul><li><span class='ee-k'>0:</span><span class='ee-v'>-103.32899115693678</span></li><li><span class='ee-k'>1:</span><span class='ee-v'>34.08310221127483</span></li></ul></li><li><label class='ee-shut'>54: [-103.32524583112058, 34.084781020059694]<input type='checkbox' class='ee-toggle'></label><ul><li><span class='ee-k'>0:</span><span class='ee-v'>-103.32524583112058</span></li><li><span class='ee-k'>1:</span><span class='ee-v'>34.084781020059694</span></li></ul></li><li><label class='ee-shut'>55: [-103.32135361241278, 34.08621002723091]<input type='checkbox' class='ee-toggle'></label><ul><li><span class='ee-k'>0:</span><span class='ee-v'>-103.32135361241278</span></li><li><span class='ee-k'>1:</span><span class='ee-v'>34.08621002723091</span></li></ul></li><li><label class='ee-shut'>56: [-103.31733852831168, 34.08738041129308]<input type='checkbox' class='ee-toggle'></label><ul><li><span class='ee-k'>0:</span><span class='ee-v'>-103.31733852831168</span></li><li><span class='ee-k'>1:</span><span class='ee-v'>34.08738041129308</span></li></ul></li><li><label class='ee-shut'>57: [-103.3132253667304, 34.08828494652374]<input type='checkbox' class='ee-toggle'></label><ul><li><span class='ee-k'>0:</span><span class='ee-v'>-103.3132253667304</span></li><li><span class='ee-k'>1:</span><span class='ee-v'>34.08828494652374</span></li></ul></li><li><label class='ee-shut'>58: [-103.30903952231527, 34.088918048976716]<input type='checkbox' class='ee-toggle'></label><ul><li><span class='ee-k'>0:</span><span class='ee-v'>-103.30903952231527</span></li><li><span class='ee-k'>1:</span><span class='ee-v'>34.088918048976716</span></li></ul></li><li><label class='ee-shut'>59: [-103.30480684183088, 34.08927581066314]<input type='checkbox' class='ee-toggle'></label><ul><li><span class='ee-k'>0:</span><span class='ee-v'>-103.30480684183088</span></li><li><span class='ee-k'>1:</span><span class='ee-v'>34.08927581066314</span></li></ul></li><li><label class='ee-shut'>60: [-103.30055346422161, 34.08935602278076]<input type='checkbox' class='ee-toggle'></label><ul><li><span class='ee-k'>0:</span><span class='ee-v'>-103.30055346422161</span></li><li><span class='ee-k'>1:</span><span class='ee-v'>34.08935602278076</span></li></ul></li><li><label class='ee-shut'>61: [-103.29630565213483, 34.08915819240492]<input type='checkbox' class='ee-toggle'></label><ul><li><span class='ee-k'>0:</span><span class='ee-v'>-103.29630565213483</span></li><li><span class='ee-k'>1:</span><span class='ee-v'>34.08915819240492</span></li></ul></li><li><label class='ee-shut'>62: [-103.29208963672237, 34.088683541253964]<input type='checkbox' class='ee-toggle'></label><ul><li><span class='ee-k'>0:</span><span class='ee-v'>-103.29208963672237</span></li><li><span class='ee-k'>1:</span><span class='ee-v'>34.088683541253964</span></li></ul></li><li><label class='ee-shut'>63: [-103.28793145172044, 34.08793500240344]<input type='checkbox' class='ee-toggle'></label><ul><li><span class='ee-k'>0:</span><span class='ee-v'>-103.28793145172044</span></li><li><span class='ee-k'>1:</span><span class='ee-v'>34.08793500240344</span></li></ul></li><li><label class='ee-shut'>64: [-103.28385677114065, 34.08691719894302]<input type='checkbox' class='ee-toggle'></label><ul><li><span class='ee-k'>0:</span><span class='ee-v'>-103.28385677114065</span></li><li><span class='ee-k'>1:</span><span class='ee-v'>34.08691719894302</span></li></ul></li><li><label class='ee-shut'>65: [-103.27989074935296, 34.0856364162502]<input type='checkbox' class='ee-toggle'></label><ul><li><span class='ee-k'>0:</span><span class='ee-v'>-103.27989074935296</span></li><li><span class='ee-k'>1:</span><span class='ee-v'>34.0856364162502</span></li></ul></li><li><label class='ee-shut'>66: [-103.27605786908818, 34.08410056350178]<input type='checkbox' class='ee-toggle'></label><ul><li><span class='ee-k'>0:</span><span class='ee-v'>-103.27605786908818</span></li><li><span class='ee-k'>1:</span><span class='ee-v'>34.08410056350178</span></li></ul></li><li><label class='ee-shut'>67: [-103.27238178436711, 34.08231912331163]<input type='checkbox' class='ee-toggle'></label><ul><li><span class='ee-k'>0:</span><span class='ee-v'>-103.27238178436711</span></li><li><span class='ee-k'>1:</span><span class='ee-v'>34.08231912331163</span></li></ul></li><li><label class='ee-shut'>68: [-103.26888518110297, 34.080303094337985]<input type='checkbox' class='ee-toggle'></label><ul><li><span class='ee-k'>0:</span><span class='ee-v'>-103.26888518110297</span></li><li><span class='ee-k'>1:</span><span class='ee-v'>34.080303094337985</span></li></ul></li><li><label class='ee-shut'>69: [-103.265589628308, 34.078064923786954]<input type='checkbox' class='ee-toggle'></label><ul><li><span class='ee-k'>0:</span><span class='ee-v'>-103.265589628308</span></li><li><span class='ee-k'>1:</span><span class='ee-v'>34.078064923786954</span></li></ul></li><li><label class='ee-shut'>70: [-103.26251545252876, 34.075618426731396]<input type='checkbox' class='ee-toggle'></label><ul><li><span class='ee-k'>0:</span><span class='ee-v'>-103.26251545252876</span></li><li><span class='ee-k'>1:</span><span class='ee-v'>34.075618426731396</span></li></ul></li><li><label class='ee-shut'>71: [-103.25968160491367, 34.07297870340694]<input type='checkbox' class='ee-toggle'></label><ul><li><span class='ee-k'>0:</span><span class='ee-v'>-103.25968160491367</span></li><li><span class='ee-k'>1:</span><span class='ee-v'>34.07297870340694</span></li></ul></li><li><label class='ee-shut'>72: [-103.25710555368872, 34.070162046138]<input type='checkbox' class='ee-toggle'></label><ul><li><span class='ee-k'>0:</span><span class='ee-v'>-103.25710555368872</span></li><li><span class='ee-k'>1:</span><span class='ee-v'>34.070162046138</span></li></ul></li><li><label class='ee-shut'>73: [-103.25480316611227, 34.06718583701203]<input type='checkbox' class='ee-toggle'></label><ul><li><span class='ee-k'>0:</span><span class='ee-v'>-103.25480316611227</span></li><li><span class='ee-k'>1:</span><span class='ee-v'>34.06718583701203</span></li></ul></li><li><label class='ee-shut'>74: [-103.25278862008867, 34.06406843885358]<input type='checkbox' class='ee-toggle'></label><ul><li><span class='ee-k'>0:</span><span class='ee-v'>-103.25278862008867</span></li><li><span class='ee-k'>1:</span><span class='ee-v'>34.06406843885358</span></li></ul></li><li><label class='ee-shut'>75: [-103.25107431159698, 34.06082908701217]<input type='checkbox' class='ee-toggle'></label><ul><li><span class='ee-k'>0:</span><span class='ee-v'>-103.25107431159698</span></li><li><span class='ee-k'>1:</span><span class='ee-v'>34.06082908701217</span></li></ul></li><li><label class='ee-shut'>76: [-103.24967077925919, 34.05748776313417]<input type='checkbox' class='ee-toggle'></label><ul><li><span class='ee-k'>0:</span><span class='ee-v'>-103.24967077925919</span></li><li><span class='ee-k'>1:</span><span class='ee-v'>34.05748776313417</span></li></ul></li><li><label class='ee-shut'>77: [-103.24858664204078, 34.054065077779605]<input type='checkbox' class='ee-toggle'></label><ul><li><span class='ee-k'>0:</span><span class='ee-v'>-103.24858664204078</span></li><li><span class='ee-k'>1:</span><span class='ee-v'>34.054065077779605</span></li></ul></li><li><label class='ee-shut'>78: [-103.24782854923478, 34.05058214018686]<input type='checkbox' class='ee-toggle'></label><ul><li><span class='ee-k'>0:</span><span class='ee-v'>-103.24782854923478</span></li><li><span class='ee-k'>1:</span><span class='ee-v'>34.05058214018686</span></li></ul></li><li><label class='ee-shut'>79: [-103.24740113514055, 34.04706042866674]<input type='checkbox' class='ee-toggle'></label><ul><li><span class='ee-k'>0:</span><span class='ee-v'>-103.24740113514055</span></li><li><span class='ee-k'>1:</span><span class='ee-v'>34.04706042866674</span></li></ul></li><li><label class='ee-shut'>80: [-103.24730699500515, 34.04352165860669]<input type='checkbox' class='ee-toggle'></label><ul><li><span class='ee-k'>0:</span><span class='ee-v'>-103.24730699500515</span></li><li><span class='ee-k'>1:</span><span class='ee-v'>34.04352165860669</span></li></ul></li></ul></li></ul></li></ul></li><li><span class='ee-k'>geodesic:</span><span class='ee-v'>False</span></li></ul></li><li><label class='ee-shut'>properties: Object (0 properties)<input type='checkbox' class='ee-toggle'></label><ul></ul></li></ul></li></ul></li></ul></li></ul></div><script>function toggleHeader() {\n",
       "    const parent = this.parentElement;\n",
       "    parent.className = parent.className === \"ee-open\" ? \"ee-shut\" : \"ee-open\";\n",
       "}\n",
       "\n",
       "for (let c of document.getElementsByClassName(\"ee-toggle\")) {\n",
       "    c.onclick = toggleHeader;\n",
       "}</script></div>"
      ],
      "text/plain": [
       "<ee.featurecollection.FeatureCollection at 0x1fe4b936990>"
      ]
     },
     "execution_count": 4,
     "metadata": {},
     "output_type": "execute_result"
    }
   ],
   "source": [
    "ee_items = ee_list_func(listy)\n",
    "\n",
    "ee_items[1] # checking that the given json was turned into an ee item"
   ]
  },
  {
   "cell_type": "code",
   "execution_count": 5,
   "id": "2a711d3c-f32b-44e2-92b6-4b4e69004971",
   "metadata": {},
   "outputs": [
    {
     "data": {
      "text/html": [
       "\n",
       "            <style>\n",
       "                .geemap-dark {\n",
       "                    --jp-widgets-color: white;\n",
       "                    --jp-widgets-label-color: white;\n",
       "                    --jp-ui-font-color1: white;\n",
       "                    --jp-layout-color2: #454545;\n",
       "                    background-color: #383838;\n",
       "                }\n",
       "                    \n",
       "                .geemap-dark .jupyter-button {\n",
       "                    --jp-layout-color3: #383838;\n",
       "                }\n",
       "                \n",
       "                .geemap-colab {\n",
       "                    background-color: var(--colab-primary-surface-color, white);\n",
       "                }\n",
       "                    \n",
       "                .geemap-colab .jupyter-button {\n",
       "                    --jp-layout-color3: var(--colab-primary-surface-color, white);\n",
       "                }\n",
       "            </style>\n",
       "            "
      ],
      "text/plain": [
       "<IPython.core.display.HTML object>"
      ]
     },
     "metadata": {},
     "output_type": "display_data"
    },
    {
     "data": {
      "application/vnd.jupyter.widget-view+json": {
       "model_id": "98f989fe746c45268afc74bea23740aa",
       "version_major": 2,
       "version_minor": 0
      },
      "text/plain": [
       "Map(center=[0, 0], controls=(WidgetControl(options=['position', 'transparent_bg'], widget=SearchDataGUI(childr…"
      ]
     },
     "execution_count": 5,
     "metadata": {},
     "output_type": "execute_result"
    }
   ],
   "source": [
    "Map = geemap.Map()\n",
    "Map"
   ]
  },
  {
   "cell_type": "code",
   "execution_count": 6,
   "id": "b3aeff0a-7b07-49b5-ac0d-36fa088c0ea1",
   "metadata": {},
   "outputs": [
    {
     "data": {
      "text/html": [
       "\n",
       "            <style>\n",
       "                .geemap-dark {\n",
       "                    --jp-widgets-color: white;\n",
       "                    --jp-widgets-label-color: white;\n",
       "                    --jp-ui-font-color1: white;\n",
       "                    --jp-layout-color2: #454545;\n",
       "                    background-color: #383838;\n",
       "                }\n",
       "                    \n",
       "                .geemap-dark .jupyter-button {\n",
       "                    --jp-layout-color3: #383838;\n",
       "                }\n",
       "                \n",
       "                .geemap-colab {\n",
       "                    background-color: var(--colab-primary-surface-color, white);\n",
       "                }\n",
       "                    \n",
       "                .geemap-colab .jupyter-button {\n",
       "                    --jp-layout-color3: var(--colab-primary-surface-color, white);\n",
       "                }\n",
       "            </style>\n",
       "            "
      ],
      "text/plain": [
       "<IPython.core.display.HTML object>"
      ]
     },
     "metadata": {},
     "output_type": "display_data"
    }
   ],
   "source": [
    "shp = ee_items[10] # list\n",
    "\n",
    "year = ee.ImageCollection('USDA/NAIP/DOQQ').filterDate('2016-01-01', '2016-12-31').filterBounds(shp)\n",
    "\n",
    "year = year.mosaic() # mosaicing so that becomes a single image that can be worked with\n",
    "clip = year.clip(shp) # clip to the polygon bounds\n",
    "\n",
    "visParam = {'bands' : ['R', 'G', 'B'],\n",
    "           'gamma' : 1}\n",
    "\n",
    "#Map.setCenter(shp)\n",
    "Map.addLayer(clip, visParam)"
   ]
  },
  {
   "cell_type": "markdown",
   "id": "e370c0eb-5ef3-4981-a4ac-01ffd53f3e9b",
   "metadata": {},
   "source": [
    "Example to use when searching for specific depths:\\\n",
    "\"ee.Image('projects/sat-io/open-datasets/polaris/bd_mean/bd_0_5').filterBounds(shp)\"\\\n",
    "Can choose from 0_5, 5_15, 15_30, 30_60, 60_100, 100_200"
   ]
  },
  {
   "cell_type": "code",
   "execution_count": 8,
   "id": "33d0ef7c-f9ca-4218-8f1a-959d3ecbae34",
   "metadata": {},
   "outputs": [
    {
     "data": {
      "text/html": [
       "\n",
       "            <style>\n",
       "                .geemap-dark {\n",
       "                    --jp-widgets-color: white;\n",
       "                    --jp-widgets-label-color: white;\n",
       "                    --jp-ui-font-color1: white;\n",
       "                    --jp-layout-color2: #454545;\n",
       "                    background-color: #383838;\n",
       "                }\n",
       "                    \n",
       "                .geemap-dark .jupyter-button {\n",
       "                    --jp-layout-color3: #383838;\n",
       "                }\n",
       "                \n",
       "                .geemap-colab {\n",
       "                    background-color: var(--colab-primary-surface-color, white);\n",
       "                }\n",
       "                    \n",
       "                .geemap-colab .jupyter-button {\n",
       "                    --jp-layout-color3: var(--colab-primary-surface-color, white);\n",
       "                }\n",
       "            </style>\n",
       "            "
      ],
      "text/plain": [
       "<IPython.core.display.HTML object>"
      ]
     },
     "metadata": {},
     "output_type": "display_data"
    }
   ],
   "source": [
    "bd_mean = ee.ImageCollection('projects/sat-io/open-datasets/polaris/bd_mean').filterBounds(shp)\n",
    "clay_mean = ee.ImageCollection('projects/sat-io/open-datasets/polaris/clay_mean').filterBounds(shp)\n",
    "ksat_mean = ee.ImageCollection('projects/sat-io/open-datasets/polaris/ksat_mean').filterBounds(shp)\n",
    "om_mean = ee.ImageCollection('projects/sat-io/open-datasets/polaris/om_mean').filterBounds(shp)\n",
    "ph_mean = ee.ImageCollection('projects/sat-io/open-datasets/polaris/ph_mean').filterBounds(shp)\n",
    "sand_mean = ee.ImageCollection('projects/sat-io/open-datasets/polaris/sand_mean').filterBounds(shp)\n",
    "silt_mean = ee.ImageCollection('projects/sat-io/open-datasets/polaris/silt_mean').filterBounds(shp)\n",
    "theta_r_mean = ee.ImageCollection('projects/sat-io/open-datasets/polaris/theta_r_mean').filterBounds(shp)\n",
    "theta_s_mean = ee.ImageCollection('projects/sat-io/open-datasets/polaris/theta_s_mean').filterBounds(shp)\n",
    "lambda_mean = ee.ImageCollection('projects/sat-io/open-datasets/polaris/lambda_mean').filterBounds(shp)"
   ]
  },
  {
   "cell_type": "markdown",
   "id": "e8b4a681-2855-4e8d-b0e4-586282841500",
   "metadata": {},
   "source": [
    "https://gee-community-catalog.org/projects/soilprop/ \\\n",
    "800 m cells\\\n",
    "Need to refine to be useful"
   ]
  },
  {
   "cell_type": "code",
   "execution_count": null,
   "id": "efed60d0-8bbb-4a62-a49b-8bc1e7fb0fef",
   "metadata": {},
   "outputs": [],
   "source": [
    "var caco3 = ee.Image('projects/earthengine-legacy/assets/projects/sat-io/open-datasets/CSRL_soil_properties/chemical/caco3');\n",
    "var cec = ee.Image('projects/earthengine-legacy/assets/projects/sat-io/open-datasets/CSRL_soil_properties/chemical/cec');\n",
    "var cec_profile = ee.ImageCollection('projects/earthengine-legacy/assets/projects/sat-io/open-datasets/CSRL_soil_properties/chemical/cec_profile');\n",
    "var ec = ee.Image('projects/earthengine-legacy/assets/projects/sat-io/open-datasets/CSRL_soil_properties/chemical/ec');\n",
    "var ec_profile = ee.ImageCollection('projects/earthengine-legacy/assets/projects/sat-io/open-datasets/CSRL_soil_properties/chemical/ec_profile');\n",
    "var ph = ee.Image('projects/earthengine-legacy/assets/projects/sat-io/open-datasets/CSRL_soil_properties/chemical/ph');\n",
    "var ph_profile = ee.ImageCollection('projects/earthengine-legacy/assets/projects/sat-io/open-datasets/CSRL_soil_properties/chemical/ph_profile');\n",
    "var sar = ee.Image('projects/earthengine-legacy/assets/projects/sat-io/open-datasets/CSRL_soil_properties/chemical/sar');\n",
    "var som = ee.Image('projects/earthengine-legacy/assets/projects/sat-io/open-datasets/CSRL_soil_properties/chemical/som');\n",
    "var som_max = ee.Image('projects/earthengine-legacy/assets/projects/sat-io/open-datasets/CSRL_soil_properties/chemical/som_max');\n",
    "var hydrologic_group = ee.Image('projects/earthengine-legacy/assets/projects/sat-io/open-datasets/CSRL_soil_properties/land_use/hydrologic_group');\n",
    "var kw_025 = ee.Image('projects/earthengine-legacy/assets/projects/sat-io/open-datasets/CSRL_soil_properties/land_use/kw_025');\n",
    "var lcc_i = ee.Image('projects/earthengine-legacy/assets/projects/sat-io/open-datasets/CSRL_soil_properties/land_use/lcc_i');\n",
    "var lcc_ni = ee.Image('projects/earthengine-legacy/assets/projects/sat-io/open-datasets/CSRL_soil_properties/land_use/lcc_ni');\n",
    "var resdept = ee.Image('projects/earthengine-legacy/assets/projects/sat-io/open-datasets/CSRL_soil_properties/land_use/resdept');\n",
    "var soil_depth = ee.Image('projects/earthengine-legacy/assets/projects/sat-io/open-datasets/CSRL_soil_properties/land_use/soil_depth');\n",
    "var soil_order = ee.Image('projects/earthengine-legacy/assets/projects/sat-io/open-datasets/CSRL_soil_properties/land_use/soil_order');\n",
    "var soil_temp_regime = ee.Image('projects/earthengine-legacy/assets/projects/sat-io/open-datasets/CSRL_soil_properties/land_use/soil_temp_regime');\n",
    "var survey_type = ee.Image('projects/earthengine-legacy/assets/projects/sat-io/open-datasets/CSRL_soil_properties/land_use/survey_type');\n",
    "var wind_erodibility_group = ee.Image('projects/earthengine-legacy/assets/projects/sat-io/open-datasets/CSRL_soil_properties/land_use/wind_erodibility_group');\n",
    "var wind_erodibility_index = ee.Image('projects/earthengine-legacy/assets/projects/sat-io/open-datasets/CSRL_soil_properties/land_use/wind_erodibility_index');\n",
    "var bulk_density = ee.Image('projects/earthengine-legacy/assets/projects/sat-io/open-datasets/CSRL_soil_properties/physical/bulk_density');\n",
    "var clay = ee.Image('projects/earthengine-legacy/assets/projects/sat-io/open-datasets/CSRL_soil_properties/physical/clay');\n",
    "var clay_profile = ee.ImageCollection('projects/earthengine-legacy/assets/projects/sat-io/open-datasets/CSRL_soil_properties/physical/clay_profile');\n",
    "var drainage_class = ee.Image('projects/earthengine-legacy/assets/projects/sat-io/open-datasets/CSRL_soil_properties/physical/drainage_class');\n",
    "var ksat_05 = ee.Image('projects/earthengine-legacy/assets/projects/sat-io/open-datasets/CSRL_soil_properties/physical/ksat_05');\n",
    "var ksat_max = ee.Image('projects/earthengine-legacy/assets/projects/sat-io/open-datasets/CSRL_soil_properties/physical/ksat_max');\n",
    "var ksat_mean = ee.Image('projects/earthengine-legacy/assets/projects/sat-io/open-datasets/CSRL_soil_properties/physical/ksat_mean');\n",
    "var ksat_min = ee.Image('projects/earthengine-legacy/assets/projects/sat-io/open-datasets/CSRL_soil_properties/physical/ksat_min');\n",
    "var rf_025 = ee.Image('projects/earthengine-legacy/assets/projects/sat-io/open-datasets/CSRL_soil_properties/physical/rf_025');\n",
    "var sand = ee.Image('projects/earthengine-legacy/assets/projects/sat-io/open-datasets/CSRL_soil_properties/physical/sand');\n",
    "var sand_profile = ee.ImageCollection('projects/earthengine-legacy/assets/projects/sat-io/open-datasets/CSRL_soil_properties/physical/sand_profile');\n",
    "var silt = ee.Image('projects/earthengine-legacy/assets/projects/sat-io/open-datasets/CSRL_soil_properties/physical/silt');\n",
    "var silt_profile = ee.ImageCollection('projects/earthengine-legacy/assets/projects/sat-io/open-datasets/CSRL_soil_properties/physical/silt_profile');\n",
    "var soil_texture_profile = ee.ImageCollection('projects/earthengine-legacy/assets/projects/sat-io/open-datasets/CSRL_soil_properties/physical/soil_texture_profile');\n",
    "var water_storage = ee.Image('projects/earthengine-legacy/assets/projects/sat-io/open-datasets/CSRL_soil_properties/physical/water_storage');\n",
    "var water_storage_profile = ee.ImageCollection('projects/earthengine-legacy/assets/projects/sat-io/open-datasets/CSRL_soil_properties/physical/water_storage_profile');\n",
    "var  soil_color = ee.ImageCollection('projects/earthengine-legacy/assets/projects/sat-io/open-datasets/CSRL_soil_properties/soil_color');"
   ]
  },
  {
   "cell_type": "markdown",
   "id": "daf99654-1ef3-44a6-8b8c-dd1b188a2171",
   "metadata": {},
   "source": [
    "https://gee-community-catalog.org/projects/S2TSLULC/ \\\n",
    "Use to mask"
   ]
  },
  {
   "cell_type": "code",
   "execution_count": null,
   "id": "820e3998-d879-4b38-a600-38c4ffe5f977",
   "metadata": {},
   "outputs": [],
   "source": [
    "esri_lulc_ts= ee.ImageCollection(\"projects/sat-io/open-datasets/landcover/ESRI_Global-LULC_10m_TS\")"
   ]
  },
  {
   "cell_type": "markdown",
   "id": "106fc90f-2ddb-4b63-addf-1b8500a73bcc",
   "metadata": {},
   "source": [
    "https://gee-community-catalog.org/projects/nhd/ \\\n",
    "Make sure that specify NHD_TX and NHD_NM for new mexico and texas"
   ]
  },
  {
   "cell_type": "code",
   "execution_count": null,
   "id": "9c653d15-4ab2-4a68-86ed-9e7db7ba330a",
   "metadata": {},
   "outputs": [],
   "source": [
    "nhd_area = ee.FeatureCollection(\"projects/sat-io/open-datasets/NHD/NHD_MO/NHDArea\")\n",
    "nhd_flowline = ee.FeatureCollection(\"projects/sat-io/open-datasets/NHD/NHD_MO/NHDFlowline\")"
   ]
  }
 ],
 "metadata": {
  "kernelspec": {
   "display_name": "Python 3 (ipykernel)",
   "language": "python",
   "name": "python3"
  },
  "language_info": {
   "codemirror_mode": {
    "name": "ipython",
    "version": 3
   },
   "file_extension": ".py",
   "mimetype": "text/x-python",
   "name": "python",
   "nbconvert_exporter": "python",
   "pygments_lexer": "ipython3",
   "version": "3.12.1"
  }
 },
 "nbformat": 4,
 "nbformat_minor": 5
}
