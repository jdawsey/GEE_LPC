{
 "cells": [
  {
   "cell_type": "markdown",
   "metadata": {},
   "source": [
    "Initializing Google Earth Engine and importing geemap"
   ]
  },
  {
   "cell_type": "code",
   "execution_count": 2,
   "metadata": {},
   "outputs": [],
   "source": [
    "import ee\n",
    "import geemap\n",
    "import json\n",
    "import os\n",
    "from geemap import geojson_to_ee\n",
    "from ipyleaflet import GeoJSON"
   ]
  },
  {
   "cell_type": "code",
   "execution_count": 17,
   "metadata": {},
   "outputs": [
    {
     "data": {
      "text/html": [
       "\n",
       "            <style>\n",
       "                .geemap-dark {\n",
       "                    --jp-widgets-color: white;\n",
       "                    --jp-widgets-label-color: white;\n",
       "                    --jp-ui-font-color1: white;\n",
       "                    --jp-layout-color2: #454545;\n",
       "                    background-color: #383838;\n",
       "                }\n",
       "                    \n",
       "                .geemap-dark .jupyter-button {\n",
       "                    --jp-layout-color3: #383838;\n",
       "                }\n",
       "                \n",
       "                .geemap-colab {\n",
       "                    background-color: var(--colab-primary-surface-color, white);\n",
       "                }\n",
       "                    \n",
       "                .geemap-colab .jupyter-button {\n",
       "                    --jp-layout-color3: var(--colab-primary-surface-color, white);\n",
       "                }\n",
       "            </style>\n",
       "            "
      ],
      "text/plain": [
       "<IPython.core.display.HTML object>"
      ]
     },
     "metadata": {},
     "output_type": "display_data"
    }
   ],
   "source": [
    "#Initializing the ee project\n",
    "\n",
    "#ee.Authenticate()\n",
    "ee.Initialize(project = 'ee-jdawsey')"
   ]
  },
  {
   "cell_type": "code",
   "execution_count": 9,
   "metadata": {},
   "outputs": [
    {
     "data": {
      "text/html": [
       "\n",
       "            <style>\n",
       "                .geemap-dark {\n",
       "                    --jp-widgets-color: white;\n",
       "                    --jp-widgets-label-color: white;\n",
       "                    --jp-ui-font-color1: white;\n",
       "                    --jp-layout-color2: #454545;\n",
       "                    background-color: #383838;\n",
       "                }\n",
       "                    \n",
       "                .geemap-dark .jupyter-button {\n",
       "                    --jp-layout-color3: #383838;\n",
       "                }\n",
       "                \n",
       "                .geemap-colab {\n",
       "                    background-color: var(--colab-primary-surface-color, white);\n",
       "                }\n",
       "                    \n",
       "                .geemap-colab .jupyter-button {\n",
       "                    --jp-layout-color3: var(--colab-primary-surface-color, white);\n",
       "                }\n",
       "            </style>\n",
       "            "
      ],
      "text/plain": [
       "<IPython.core.display.HTML object>"
      ]
     },
     "metadata": {},
     "output_type": "display_data"
    }
   ],
   "source": [
    "#landcover = ee.Image('USGS/NLCD/NLCD2016').select('landcover')\n",
    "#Map.addLayer(landcover, {}, 'Landcover Map 2016')"
   ]
  },
  {
   "cell_type": "markdown",
   "metadata": {},
   "source": [
    "https://github.com/gee-community/geemap/blob/master/examples/notebooks/07_geojson.ipynb"
   ]
  },
  {
   "cell_type": "code",
   "execution_count": 39,
   "metadata": {},
   "outputs": [
    {
     "data": {
      "text/html": [
       "\n",
       "            <style>\n",
       "                .geemap-dark {\n",
       "                    --jp-widgets-color: white;\n",
       "                    --jp-widgets-label-color: white;\n",
       "                    --jp-ui-font-color1: white;\n",
       "                    --jp-layout-color2: #454545;\n",
       "                    background-color: #383838;\n",
       "                }\n",
       "                    \n",
       "                .geemap-dark .jupyter-button {\n",
       "                    --jp-layout-color3: #383838;\n",
       "                }\n",
       "                \n",
       "                .geemap-colab {\n",
       "                    background-color: var(--colab-primary-surface-color, white);\n",
       "                }\n",
       "                    \n",
       "                .geemap-colab .jupyter-button {\n",
       "                    --jp-layout-color3: var(--colab-primary-surface-color, white);\n",
       "                }\n",
       "            </style>\n",
       "            "
      ],
      "text/plain": [
       "<IPython.core.display.HTML object>"
      ]
     },
     "metadata": {},
     "output_type": "display_data"
    },
    {
     "data": {
      "text/plain": [
       "'aa.json — aa.geojson'"
      ]
     },
     "execution_count": 39,
     "metadata": {},
     "output_type": "execute_result"
    }
   ],
   "source": [
    "file_dir = 'C:/Users/Justin/Desktop/mesquite/mesq_jsons'\n",
    "file_path = os.listdir(file_dir)\n",
    "file_path[1] # checking that each file was added to the list"
   ]
  },
  {
   "cell_type": "code",
   "execution_count": 40,
   "metadata": {},
   "outputs": [
    {
     "data": {
      "text/html": [
       "\n",
       "            <style>\n",
       "                .geemap-dark {\n",
       "                    --jp-widgets-color: white;\n",
       "                    --jp-widgets-label-color: white;\n",
       "                    --jp-ui-font-color1: white;\n",
       "                    --jp-layout-color2: #454545;\n",
       "                    background-color: #383838;\n",
       "                }\n",
       "                    \n",
       "                .geemap-dark .jupyter-button {\n",
       "                    --jp-layout-color3: #383838;\n",
       "                }\n",
       "                \n",
       "                .geemap-colab {\n",
       "                    background-color: var(--colab-primary-surface-color, white);\n",
       "                }\n",
       "                    \n",
       "                .geemap-colab .jupyter-button {\n",
       "                    --jp-layout-color3: var(--colab-primary-surface-color, white);\n",
       "                }\n",
       "            </style>\n",
       "            "
      ],
      "text/plain": [
       "<IPython.core.display.HTML object>"
      ]
     },
     "metadata": {},
     "output_type": "display_data"
    },
    {
     "data": {
      "text/plain": [
       "'C:/Users/Justin/Desktop/mesquite/mesq_jsons/aa.json — aa.geojson'"
      ]
     },
     "execution_count": 40,
     "metadata": {},
     "output_type": "execute_result"
    }
   ],
   "source": [
    "files_list = [] # need to add list of files still.\n",
    "\n",
    "def file_address_func(file_given):\n",
    "    addresses = []\n",
    "    for file in file_path:\n",
    "        address = \"C:/Users/Justin/Desktop/mesquite/mesq_jsons/\"\n",
    "        full_address = address + file\n",
    "        length_list = len(addresses)\n",
    "        addresses.append(full_address)\n",
    "    return addresses\n",
    "\n",
    "listy = file_address_func(files_list)\n",
    "listy[1] # checking that each each file path was generated"
   ]
  },
  {
   "cell_type": "markdown",
   "metadata": {},
   "source": [
    "Adding jsons as ee assets"
   ]
  },
  {
   "cell_type": "code",
   "execution_count": 41,
   "metadata": {},
   "outputs": [
    {
     "data": {
      "text/html": [
       "\n",
       "            <style>\n",
       "                .geemap-dark {\n",
       "                    --jp-widgets-color: white;\n",
       "                    --jp-widgets-label-color: white;\n",
       "                    --jp-ui-font-color1: white;\n",
       "                    --jp-layout-color2: #454545;\n",
       "                    background-color: #383838;\n",
       "                }\n",
       "                    \n",
       "                .geemap-dark .jupyter-button {\n",
       "                    --jp-layout-color3: #383838;\n",
       "                }\n",
       "                \n",
       "                .geemap-colab {\n",
       "                    background-color: var(--colab-primary-surface-color, white);\n",
       "                }\n",
       "                    \n",
       "                .geemap-colab .jupyter-button {\n",
       "                    --jp-layout-color3: var(--colab-primary-surface-color, white);\n",
       "                }\n",
       "            </style>\n",
       "            "
      ],
      "text/plain": [
       "<IPython.core.display.HTML object>"
      ]
     },
     "metadata": {},
     "output_type": "display_data"
    },
    {
     "data": {
      "text/html": [
       "<div><style>:root {\n",
       "  --font-color-primary: var(--jp-content-font-color0, rgba(0, 0, 0, 1));\n",
       "  --font-color-secondary: var(--jp-content-font-color2, rgba(0, 0, 0, 0.6));\n",
       "  --font-color-accent: rgba(123, 31, 162, 1);\n",
       "  --border-color: var(--jp-border-color2, #e0e0e0);\n",
       "  --background-color: var(--jp-layout-color0, white);\n",
       "  --background-color-row-even: var(--jp-layout-color1, white);\n",
       "  --background-color-row-odd: var(--jp-layout-color2, #eeeeee);\n",
       "}\n",
       "\n",
       "html[theme=\"dark\"],\n",
       "body[data-theme=\"dark\"],\n",
       "body.vscode-dark {\n",
       "  --font-color-primary: rgba(255, 255, 255, 1);\n",
       "  --font-color-secondary: rgba(255, 255, 255, 0.6);\n",
       "  --font-color-accent: rgb(173, 132, 190);\n",
       "  --border-color: #2e2e2e;\n",
       "  --background-color: #111111;\n",
       "  --background-color-row-even: #111111;\n",
       "  --background-color-row-odd: #313131;\n",
       "}\n",
       "\n",
       ".ee {\n",
       "  padding: 1em;\n",
       "  line-height: 1.5em;\n",
       "  min-width: 300px;\n",
       "  max-width: 1200px;\n",
       "  overflow-y: scroll;\n",
       "  max-height: 600px;\n",
       "  border: 1px solid var(--border-color);\n",
       "  font-family: monospace;\n",
       "}\n",
       "\n",
       ".ee li {\n",
       "  list-style-type: none;\n",
       "}\n",
       "\n",
       ".ee ul {\n",
       "  padding-left: 1.5em !important;\n",
       "  margin: 0;\n",
       "}\n",
       "\n",
       ".ee > ul {\n",
       "  padding-left: 0 !important;\n",
       "}\n",
       "\n",
       ".ee-open,\n",
       ".ee-shut {\n",
       "  color: var(--font-color-secondary);\n",
       "  cursor: pointer;\n",
       "  margin: 0;\n",
       "}\n",
       "\n",
       ".ee-open:hover,\n",
       ".ee-shut:hover {\n",
       "  color: var(--font-color-primary);\n",
       "}\n",
       "\n",
       ".ee-k {\n",
       "  color: var(--font-color-accent);\n",
       "  margin-right: 6px;\n",
       "}\n",
       "\n",
       ".ee-v {\n",
       "  color: var(--font-color-primary);\n",
       "}\n",
       "\n",
       ".ee-toggle {\n",
       "  display: none;\n",
       "}\n",
       "\n",
       ".ee-shut + ul {\n",
       "  display: none;\n",
       "}\n",
       "\n",
       ".ee-open + ul {\n",
       "  display: block;\n",
       "}\n",
       "\n",
       ".ee-shut::before {\n",
       "  display: inline-block;\n",
       "  content: \"▼\";\n",
       "  margin-right: 6px;\n",
       "  transform: rotate(-90deg);\n",
       "  transition: transform 0.2s;\n",
       "}\n",
       "\n",
       ".ee-open::before {\n",
       "  transform: rotate(0deg);\n",
       "  display: inline-block;\n",
       "  content: \"▼\";\n",
       "  margin-right: 6px;\n",
       "  transition: transform 0.2s;\n",
       "}\n",
       "</style><div class='ee'><ul><li><label class='ee-shut'>FeatureCollection (1 element, 1 column)<input type='checkbox' class='ee-toggle'></label><ul><li><span class='ee-k'>type:</span><span class='ee-v'>FeatureCollection</span></li><li><label class='ee-shut'>columns: Object (1 property)<input type='checkbox' class='ee-toggle'></label><ul><li><span class='ee-k'>system:index:</span><span class='ee-v'>String</span></li></ul></li><li><label class='ee-shut'>features: List (1 element)<input type='checkbox' class='ee-toggle'></label><ul><li><label class='ee-shut'>0: Feature (MultiPolygon, 0 properties)<input type='checkbox' class='ee-toggle'></label><ul><li><span class='ee-k'>type:</span><span class='ee-v'>Feature</span></li><li><span class='ee-k'>id:</span><span class='ee-v'>0</span></li><li><label class='ee-shut'>geometry: MultiPolygon (81 vertices)<input type='checkbox' class='ee-toggle'></label><ul><li><span class='ee-k'>type:</span><span class='ee-v'>MultiPolygon</span></li><li><label class='ee-shut'>coordinates: List (1 element)<input type='checkbox' class='ee-toggle'></label><ul><li><label class='ee-shut'>0: List (1 element)<input type='checkbox' class='ee-toggle'></label><ul><li><label class='ee-shut'>0: List (81 elements)<input type='checkbox' class='ee-toggle'></label><ul><li><label class='ee-shut'>0: [-103.24730699500515, 34.04352165860669]<input type='checkbox' class='ee-toggle'></label><ul><li><span class='ee-k'>0:</span><span class='ee-v'>-103.24730699500515</span></li><li><span class='ee-k'>1:</span><span class='ee-v'>34.04352165860669</span></li></ul></li><li><label class='ee-shut'>1: [-103.24754666631884, 34.039987647729056]<input type='checkbox' class='ee-toggle'></label><ul><li><span class='ee-k'>0:</span><span class='ee-v'>-103.24754666631884</span></li><li><span class='ee-k'>1:</span><span class='ee-v'>34.039987647729056</span></li></ul></li><li><label class='ee-shut'>2: [-103.24811863182317, 34.03648017909694]<input type='checkbox' class='ee-toggle'></label><ul><li><span class='ee-k'>0:</span><span class='ee-v'>-103.24811863182317</span></li><li><span class='ee-k'>1:</span><span class='ee-v'>34.03648017909694</span></li></ul></li><li><label class='ee-shut'>3: [-103.24901932449708, 34.03302087321704]<input type='checkbox' class='ee-toggle'></label><ul><li><span class='ee-k'>0:</span><span class='ee-v'>-103.24901932449708</span></li><li><span class='ee-k'>1:</span><span class='ee-v'>34.03302087321704</span></li></ul></li><li><label class='ee-shut'>4: [-103.25024315372133, 34.0296310494721]<input type='checkbox' class='ee-toggle'></label><ul><li><span class='ee-k'>0:</span><span class='ee-v'>-103.25024315372133</span></li><li><span class='ee-k'>1:</span><span class='ee-v'>34.0296310494721</span></li></ul></li><li><label class='ee-shut'>5: [-103.25178253786332, 34.02633159471235]<input type='checkbox' class='ee-toggle'></label><ul><li><span class='ee-k'>0:</span><span class='ee-v'>-103.25178253786332</span></li><li><span class='ee-k'>1:</span><span class='ee-v'>34.02633159471235</span></li></ul></li><li><label class='ee-shut'>6: [-103.2536279588366, 34.023142839701535]<input type='checkbox' class='ee-toggle'></label><ul><li><span class='ee-k'>0:</span><span class='ee-v'>-103.2536279588366</span></li><li><span class='ee-k'>1:</span><span class='ee-v'>34.023142839701535</span></li></ul></li><li><label class='ee-shut'>7: [-103.25576801508184, 34.02008443133276]<input type='checkbox' class='ee-toggle'></label><ul><li><span class='ee-k'>0:</span><span class='ee-v'>-103.25576801508184</span></li><li><span class='ee-k'>1:</span><span class='ee-v'>34.02008443133276</span></li></ul></li><li><label class='ee-shut'>8: [-103.2581894934525, 34.01717520957594]<input type='checkbox' class='ee-toggle'></label><ul><li><span class='ee-k'>0:</span><span class='ee-v'>-103.2581894934525</span></li><li><span class='ee-k'>1:</span><span class='ee-v'>34.01717520957594</span></li></ul></li><li><label class='ee-shut'>9: [-103.26087745011777, 34.014433093704845]<input type='checkbox' class='ee-toggle'></label><ul><li><span class='ee-k'>0:</span><span class='ee-v'>-103.26087745011777</span></li><li><span class='ee-k'>1:</span><span class='ee-v'>34.014433093704845</span></li></ul></li><li><label class='ee-shut'>10: [-103.2638153085029, 34.01187497324115]<input type='checkbox' class='ee-toggle'></label><ul><li><span class='ee-k'>0:</span><span class='ee-v'>-103.2638153085029</span></li><li><span class='ee-k'>1:</span><span class='ee-v'>34.01187497324115</span></li></ul></li><li><label class='ee-shut'>11: [-103.26698495257898, 34.00951660342007]<input type='checkbox' class='ee-toggle'></label><ul><li><span class='ee-k'>0:</span><span class='ee-v'>-103.26698495257898</span></li><li><span class='ee-k'>1:</span><span class='ee-v'>34.00951660342007</span></li></ul></li><li><label class='ee-shut'>12: [-103.27036684910837, 34.007372507329656]<input type='checkbox' class='ee-toggle'></label><ul><li><span class='ee-k'>0:</span><span class='ee-v'>-103.27036684910837</span></li><li><span class='ee-k'>1:</span><span class='ee-v'>34.007372507329656</span></li></ul></li><li><label class='ee-shut'>13: [-103.27394015859313, 34.005455886918995]<input type='checkbox' class='ee-toggle'></label><ul><li><span class='ee-k'>0:</span><span class='ee-v'>-103.27394015859313</span></li><li><span class='ee-k'>1:</span><span class='ee-v'>34.005455886918995</span></li></ul></li><li><label class='ee-shut'>14: [-103.27768287076549, 34.00377854515664]<input type='checkbox' class='ee-toggle'></label><ul><li><span class='ee-k'>0:</span><span class='ee-v'>-103.27768287076549</span></li><li><span class='ee-k'>1:</span><span class='ee-v'>34.00377854515664</span></li></ul></li><li><label class='ee-shut'>15: [-103.28157193224804, 34.002350809836614]<input type='checkbox' class='ee-toggle'></label><ul><li><span class='ee-k'>0:</span><span class='ee-v'>-103.28157193224804</span></li><li><span class='ee-k'>1:</span><span class='ee-v'>34.002350809836614</span></li></ul></li><li><label class='ee-shut'>16: [-103.28558339650566, 34.001181471173055]<input type='checkbox' class='ee-toggle'></label><ul><li><span class='ee-k'>0:</span><span class='ee-v'>-103.28558339650566</span></li><li><span class='ee-k'>1:</span><span class='ee-v'>34.001181471173055</span></li></ul></li><li><label class='ee-shut'>17: [-103.28969256369197, 34.000277728233726]<input type='checkbox' class='ee-toggle'></label><ul><li><span class='ee-k'>0:</span><span class='ee-v'>-103.28969256369197</span></li><li><span class='ee-k'>1:</span><span class='ee-v'>34.000277728233726</span></li></ul></li><li><label class='ee-shut'>18: [-103.29387413758798, 33.99964514769498]<input type='checkbox' class='ee-toggle'></label><ul><li><span class='ee-k'>0:</span><span class='ee-v'>-103.29387413758798</span></li><li><span class='ee-k'>1:</span><span class='ee-v'>33.99964514769498</span></li></ul></li><li><label class='ee-shut'>19: [-103.2981023764962, 33.99928762425001]<input type='checkbox' class='ee-toggle'></label><ul><li><span class='ee-k'>0:</span><span class='ee-v'>-103.2981023764962</span></li><li><span class='ee-k'>1:</span><span class='ee-v'>33.99928762425001</span></li></ul></li><li><label class='ee-shut'>20: [-103.30235125186923, 33.99920735782909]<input type='checkbox' class='ee-toggle'></label><ul><li><span class='ee-k'>0:</span><span class='ee-v'>-103.30235125186923</span></li><li><span class='ee-k'>1:</span><span class='ee-v'>33.99920735782909</span></li></ul></li><li><label class='ee-shut'>21: [-103.30659460862857, 33.9994048462202]<input type='checkbox' class='ee-toggle'></label><ul><li><span class='ee-k'>0:</span><span class='ee-v'>-103.30659460862857</span></li><li><span class='ee-k'>1:</span><span class='ee-v'>33.9994048462202</span></li></ul></li><li><label class='ee-shut'>22: [-103.31080632858885, 33.99987887259068]<input type='checkbox' class='ee-toggle'></label><ul><li><span class='ee-k'>0:</span><span class='ee-v'>-103.31080632858885</span></li><li><span class='ee-k'>1:</span><span class='ee-v'>33.99987887259068</span></li></ul></li><li><label class='ee-shut'>23: [-103.31496048289198, 34.00062652270511]<input type='checkbox' class='ee-toggle'></label><ul><li><span class='ee-k'>0:</span><span class='ee-v'>-103.31496048289198</span></li><li><span class='ee-k'>1:</span><span class='ee-v'>34.00062652270511</span></li></ul></li><li><label class='ee-shut'>24: [-103.3190314966904, 34.00164319506332]<input type='checkbox' class='ee-toggle'></label><ul><li><span class='ee-k'>0:</span><span class='ee-v'>-103.3190314966904</span></li><li><span class='ee-k'>1:</span><span class='ee-v'>34.00164319506332</span></li></ul></li><li><label class='ee-shut'>25: [-103.32299430589187, 34.00292263019743]<input type='checkbox' class='ee-toggle'></label><ul><li><span class='ee-k'>0:</span><span class='ee-v'>-103.32299430589187</span></li><li><span class='ee-k'>1:</span><span class='ee-v'>34.00292263019743</span></li></ul></li><li><label class='ee-shut'>26: [-103.32682450793726, 34.00445695302565]<input type='checkbox' class='ee-toggle'></label><ul><li><span class='ee-k'>0:</span><span class='ee-v'>-103.32682450793726</span></li><li><span class='ee-k'>1:</span><span class='ee-v'>34.00445695302565</span></li></ul></li><li><label class='ee-shut'>27: [-103.3304985115311, 34.00623671856985]<input type='checkbox' class='ee-toggle'></label><ul><li><span class='ee-k'>0:</span><span class='ee-v'>-103.3304985115311</span></li><li><span class='ee-k'>1:</span><span class='ee-v'>34.00623671856985</span></li></ul></li><li><label class='ee-shut'>28: [-103.33399368521631, 34.008250969452014]<input type='checkbox' class='ee-toggle'></label><ul><li><span class='ee-k'>0:</span><span class='ee-v'>-103.33399368521631</span></li><li><span class='ee-k'>1:</span><span class='ee-v'>34.008250969452014</span></li></ul></li><li><label class='ee-shut'>29: [-103.33728849411051, 34.01048730222032]<input type='checkbox' class='ee-toggle'></label><ul><li><span class='ee-k'>0:</span><span class='ee-v'>-103.33728849411051</span></li><li><span class='ee-k'>1:</span><span class='ee-v'>34.01048730222032</span></li></ul></li><li><label class='ee-shut'>30: [-103.34036263106987, 34.01293194708686]<input type='checkbox' class='ee-toggle'></label><ul><li><span class='ee-k'>0:</span><span class='ee-v'>-103.34036263106987</span></li><li><span class='ee-k'>1:</span><span class='ee-v'>34.01293194708686</span></li></ul></li><li><label class='ee-shut'>31: [-103.34319714265966, 34.015569849365]<input type='checkbox' class='ee-toggle'></label><ul><li><span class='ee-k'>0:</span><span class='ee-v'>-103.34319714265966</span></li><li><span class='ee-k'>1:</span><span class='ee-v'>34.015569849365</span></li></ul></li><li><label class='ee-shut'>32: [-103.34577454754647, 34.018384761620425]<input type='checkbox' class='ee-toggle'></label><ul><li><span class='ee-k'>0:</span><span class='ee-v'>-103.34577454754647</span></li><li><span class='ee-k'>1:</span><span class='ee-v'>34.018384761620425</span></li></ul></li><li><label class='ee-shut'>33: [-103.3480789440489, 34.02135934471727]<input type='checkbox' class='ee-toggle'></label><ul><li><span class='ee-k'>0:</span><span class='ee-v'>-103.3480789440489</span></li><li><span class='ee-k'>1:</span><span class='ee-v'>34.02135934471727</span></li></ul></li><li><label class='ee-shut'>34: [-103.35009610481615, 34.02447527496763]<input type='checkbox' class='ee-toggle'></label><ul><li><span class='ee-k'>0:</span><span class='ee-v'>-103.35009610481615</span></li><li><span class='ee-k'>1:</span><span class='ee-v'>34.02447527496763</span></li></ul></li><li><label class='ee-shut'>35: [-103.35181356943605, 34.027713355852626]<input type='checkbox' class='ee-toggle'></label><ul><li><span class='ee-k'>0:</span><span class='ee-v'>-103.35181356943605</span></li><li><span class='ee-k'>1:</span><span class='ee-v'>34.027713355852626</span></li></ul></li><li><label class='ee-shut'>36: [-103.35322072087835, 34.031053634012764]<input type='checkbox' class='ee-toggle'></label><ul><li><span class='ee-k'>0:</span><span class='ee-v'>-103.35322072087835</span></li><li><span class='ee-k'>1:</span><span class='ee-v'>34.031053634012764</span></li></ul></li><li><label class='ee-shut'>37: [-103.35430885109766, 34.0344755251416]<input type='checkbox' class='ee-toggle'></label><ul><li><span class='ee-k'>0:</span><span class='ee-v'>-103.35430885109766</span></li><li><span class='ee-k'>1:</span><span class='ee-v'>34.0344755251416</span></li></ul></li><li><label class='ee-shut'>38: [-103.35507121268866, 34.037957940553426]<input type='checkbox' class='ee-toggle'></label><ul><li><span class='ee-k'>0:</span><span class='ee-v'>-103.35507121268866</span></li><li><span class='ee-k'>1:</span><span class='ee-v'>34.037957940553426</span></li></ul></li><li><label class='ee-shut'>39: [-103.35550306624917, 34.04147941477716]<input type='checkbox' class='ee-toggle'></label><ul><li><span class='ee-k'>0:</span><span class='ee-v'>-103.35550306624917</span></li><li><span class='ee-k'>1:</span><span class='ee-v'>34.04147941477716</span></li></ul></li><li><label class='ee-shut'>40: [-103.35560171049029, 34.045018237401926]<input type='checkbox' class='ee-toggle'></label><ul><li><span class='ee-k'>0:</span><span class='ee-v'>-103.35560171049029</span></li><li><span class='ee-k'>1:</span><span class='ee-v'>34.045018237401926</span></li></ul></li><li><label class='ee-shut'>41: [-103.35536649269703, 34.04855259201913]<input type='checkbox' class='ee-toggle'></label><ul><li><span class='ee-k'>0:</span><span class='ee-v'>-103.35536649269703</span></li><li><span class='ee-k'>1:</span><span class='ee-v'>34.04855259201913</span></li></ul></li><li><label class='ee-shut'>42: [-103.35479882489224, 34.05206068448718]<input type='checkbox' class='ee-toggle'></label><ul><li><span class='ee-k'>0:</span><span class='ee-v'>-103.35479882489224</span></li><li><span class='ee-k'>1:</span><span class='ee-v'>34.05206068448718</span></li></ul></li><li><label class='ee-shut'>43: [-103.35390216510127, 34.05552087979828]<input type='checkbox' class='ee-toggle'></label><ul><li><span class='ee-k'>0:</span><span class='ee-v'>-103.35390216510127</span></li><li><span class='ee-k'>1:</span><span class='ee-v'>34.05552087979828</span></li></ul></li><li><label class='ee-shut'>44: [-103.35268200409668, 34.05891183645453]<input type='checkbox' class='ee-toggle'></label><ul><li><span class='ee-k'>0:</span><span class='ee-v'>-103.35268200409668</span></li><li><span class='ee-k'>1:</span><span class='ee-v'>34.05891183645453</span></li></ul></li><li><label class='ee-shut'>45: [-103.35114583254055, 34.06221263877057]<input type='checkbox' class='ee-toggle'></label><ul><li><span class='ee-k'>0:</span><span class='ee-v'>-103.35114583254055</span></li><li><span class='ee-k'>1:</span><span class='ee-v'>34.06221263877057</span></li></ul></li><li><label class='ee-shut'>46: [-103.34930309088584, 34.0654029228069]<input type='checkbox' class='ee-toggle'></label><ul><li><span class='ee-k'>0:</span><span class='ee-v'>-103.34930309088584</span></li><li><span class='ee-k'>1:</span><span class='ee-v'>34.0654029228069</span></li></ul></li><li><label class='ee-shut'>47: [-103.34716511467447, 34.06846300670744]<input type='checkbox' class='ee-toggle'></label><ul><li><span class='ee-k'>0:</span><span class='ee-v'>-103.34716511467447</span></li><li><span class='ee-k'>1:</span><span class='ee-v'>34.06846300670744</span></li></ul></li><li><label class='ee-shut'>48: [-103.344745065883, 34.071374006559196]<input type='checkbox' class='ee-toggle'></label><ul><li><span class='ee-k'>0:</span><span class='ee-v'>-103.344745065883</span></li><li><span class='ee-k'>1:</span><span class='ee-v'>34.071374006559196</span></li></ul></li><li><label class='ee-shut'>49: [-103.34205785312524, 34.0741179602075]<input type='checkbox' class='ee-toggle'></label><ul><li><span class='ee-k'>0:</span><span class='ee-v'>-103.34205785312524</span></li><li><span class='ee-k'>1:</span><span class='ee-v'>34.0741179602075</span></li></ul></li><li><label class='ee-shut'>50: [-103.33912003574615, 34.07667793289483]<input type='checkbox' class='ee-toggle'></label><ul><li><span class='ee-k'>0:</span><span class='ee-v'>-103.33912003574615</span></li><li><span class='ee-k'>1:</span><span class='ee-v'>34.07667793289483</span></li></ul></li><li><label class='ee-shut'>51: [-103.33594972552318, 34.07903812372815]<input type='checkbox' class='ee-toggle'></label><ul><li><span class='ee-k'>0:</span><span class='ee-v'>-103.33594972552318</span></li><li><span class='ee-k'>1:</span><span class='ee-v'>34.07903812372815</span></li></ul></li><li><label class='ee-shut'>52: [-103.33256647533783, 34.081183964838104]<input type='checkbox' class='ee-toggle'></label><ul><li><span class='ee-k'>0:</span><span class='ee-v'>-103.33256647533783</span></li><li><span class='ee-k'>1:</span><span class='ee-v'>34.081183964838104</span></li></ul></li><li><label class='ee-shut'>53: [-103.32899115693678, 34.08310221127483]<input type='checkbox' class='ee-toggle'></label><ul><li><span class='ee-k'>0:</span><span class='ee-v'>-103.32899115693678</span></li><li><span class='ee-k'>1:</span><span class='ee-v'>34.08310221127483</span></li></ul></li><li><label class='ee-shut'>54: [-103.32524583112058, 34.084781020059694]<input type='checkbox' class='ee-toggle'></label><ul><li><span class='ee-k'>0:</span><span class='ee-v'>-103.32524583112058</span></li><li><span class='ee-k'>1:</span><span class='ee-v'>34.084781020059694</span></li></ul></li><li><label class='ee-shut'>55: [-103.32135361241278, 34.08621002723091]<input type='checkbox' class='ee-toggle'></label><ul><li><span class='ee-k'>0:</span><span class='ee-v'>-103.32135361241278</span></li><li><span class='ee-k'>1:</span><span class='ee-v'>34.08621002723091</span></li></ul></li><li><label class='ee-shut'>56: [-103.31733852831168, 34.08738041129308]<input type='checkbox' class='ee-toggle'></label><ul><li><span class='ee-k'>0:</span><span class='ee-v'>-103.31733852831168</span></li><li><span class='ee-k'>1:</span><span class='ee-v'>34.08738041129308</span></li></ul></li><li><label class='ee-shut'>57: [-103.3132253667304, 34.08828494652374]<input type='checkbox' class='ee-toggle'></label><ul><li><span class='ee-k'>0:</span><span class='ee-v'>-103.3132253667304</span></li><li><span class='ee-k'>1:</span><span class='ee-v'>34.08828494652374</span></li></ul></li><li><label class='ee-shut'>58: [-103.30903952231527, 34.088918048976716]<input type='checkbox' class='ee-toggle'></label><ul><li><span class='ee-k'>0:</span><span class='ee-v'>-103.30903952231527</span></li><li><span class='ee-k'>1:</span><span class='ee-v'>34.088918048976716</span></li></ul></li><li><label class='ee-shut'>59: [-103.30480684183088, 34.08927581066314]<input type='checkbox' class='ee-toggle'></label><ul><li><span class='ee-k'>0:</span><span class='ee-v'>-103.30480684183088</span></li><li><span class='ee-k'>1:</span><span class='ee-v'>34.08927581066314</span></li></ul></li><li><label class='ee-shut'>60: [-103.30055346422161, 34.08935602278076]<input type='checkbox' class='ee-toggle'></label><ul><li><span class='ee-k'>0:</span><span class='ee-v'>-103.30055346422161</span></li><li><span class='ee-k'>1:</span><span class='ee-v'>34.08935602278076</span></li></ul></li><li><label class='ee-shut'>61: [-103.29630565213483, 34.08915819240492]<input type='checkbox' class='ee-toggle'></label><ul><li><span class='ee-k'>0:</span><span class='ee-v'>-103.29630565213483</span></li><li><span class='ee-k'>1:</span><span class='ee-v'>34.08915819240492</span></li></ul></li><li><label class='ee-shut'>62: [-103.29208963672237, 34.088683541253964]<input type='checkbox' class='ee-toggle'></label><ul><li><span class='ee-k'>0:</span><span class='ee-v'>-103.29208963672237</span></li><li><span class='ee-k'>1:</span><span class='ee-v'>34.088683541253964</span></li></ul></li><li><label class='ee-shut'>63: [-103.28793145172044, 34.08793500240344]<input type='checkbox' class='ee-toggle'></label><ul><li><span class='ee-k'>0:</span><span class='ee-v'>-103.28793145172044</span></li><li><span class='ee-k'>1:</span><span class='ee-v'>34.08793500240344</span></li></ul></li><li><label class='ee-shut'>64: [-103.28385677114065, 34.08691719894302]<input type='checkbox' class='ee-toggle'></label><ul><li><span class='ee-k'>0:</span><span class='ee-v'>-103.28385677114065</span></li><li><span class='ee-k'>1:</span><span class='ee-v'>34.08691719894302</span></li></ul></li><li><label class='ee-shut'>65: [-103.27989074935296, 34.0856364162502]<input type='checkbox' class='ee-toggle'></label><ul><li><span class='ee-k'>0:</span><span class='ee-v'>-103.27989074935296</span></li><li><span class='ee-k'>1:</span><span class='ee-v'>34.0856364162502</span></li></ul></li><li><label class='ee-shut'>66: [-103.27605786908818, 34.08410056350178]<input type='checkbox' class='ee-toggle'></label><ul><li><span class='ee-k'>0:</span><span class='ee-v'>-103.27605786908818</span></li><li><span class='ee-k'>1:</span><span class='ee-v'>34.08410056350178</span></li></ul></li><li><label class='ee-shut'>67: [-103.27238178436711, 34.08231912331163]<input type='checkbox' class='ee-toggle'></label><ul><li><span class='ee-k'>0:</span><span class='ee-v'>-103.27238178436711</span></li><li><span class='ee-k'>1:</span><span class='ee-v'>34.08231912331163</span></li></ul></li><li><label class='ee-shut'>68: [-103.26888518110297, 34.080303094337985]<input type='checkbox' class='ee-toggle'></label><ul><li><span class='ee-k'>0:</span><span class='ee-v'>-103.26888518110297</span></li><li><span class='ee-k'>1:</span><span class='ee-v'>34.080303094337985</span></li></ul></li><li><label class='ee-shut'>69: [-103.265589628308, 34.078064923786954]<input type='checkbox' class='ee-toggle'></label><ul><li><span class='ee-k'>0:</span><span class='ee-v'>-103.265589628308</span></li><li><span class='ee-k'>1:</span><span class='ee-v'>34.078064923786954</span></li></ul></li><li><label class='ee-shut'>70: [-103.26251545252876, 34.075618426731396]<input type='checkbox' class='ee-toggle'></label><ul><li><span class='ee-k'>0:</span><span class='ee-v'>-103.26251545252876</span></li><li><span class='ee-k'>1:</span><span class='ee-v'>34.075618426731396</span></li></ul></li><li><label class='ee-shut'>71: [-103.25968160491367, 34.07297870340694]<input type='checkbox' class='ee-toggle'></label><ul><li><span class='ee-k'>0:</span><span class='ee-v'>-103.25968160491367</span></li><li><span class='ee-k'>1:</span><span class='ee-v'>34.07297870340694</span></li></ul></li><li><label class='ee-shut'>72: [-103.25710555368872, 34.070162046138]<input type='checkbox' class='ee-toggle'></label><ul><li><span class='ee-k'>0:</span><span class='ee-v'>-103.25710555368872</span></li><li><span class='ee-k'>1:</span><span class='ee-v'>34.070162046138</span></li></ul></li><li><label class='ee-shut'>73: [-103.25480316611227, 34.06718583701203]<input type='checkbox' class='ee-toggle'></label><ul><li><span class='ee-k'>0:</span><span class='ee-v'>-103.25480316611227</span></li><li><span class='ee-k'>1:</span><span class='ee-v'>34.06718583701203</span></li></ul></li><li><label class='ee-shut'>74: [-103.25278862008867, 34.06406843885358]<input type='checkbox' class='ee-toggle'></label><ul><li><span class='ee-k'>0:</span><span class='ee-v'>-103.25278862008867</span></li><li><span class='ee-k'>1:</span><span class='ee-v'>34.06406843885358</span></li></ul></li><li><label class='ee-shut'>75: [-103.25107431159698, 34.06082908701217]<input type='checkbox' class='ee-toggle'></label><ul><li><span class='ee-k'>0:</span><span class='ee-v'>-103.25107431159698</span></li><li><span class='ee-k'>1:</span><span class='ee-v'>34.06082908701217</span></li></ul></li><li><label class='ee-shut'>76: [-103.24967077925919, 34.05748776313417]<input type='checkbox' class='ee-toggle'></label><ul><li><span class='ee-k'>0:</span><span class='ee-v'>-103.24967077925919</span></li><li><span class='ee-k'>1:</span><span class='ee-v'>34.05748776313417</span></li></ul></li><li><label class='ee-shut'>77: [-103.24858664204078, 34.054065077779605]<input type='checkbox' class='ee-toggle'></label><ul><li><span class='ee-k'>0:</span><span class='ee-v'>-103.24858664204078</span></li><li><span class='ee-k'>1:</span><span class='ee-v'>34.054065077779605</span></li></ul></li><li><label class='ee-shut'>78: [-103.24782854923478, 34.05058214018686]<input type='checkbox' class='ee-toggle'></label><ul><li><span class='ee-k'>0:</span><span class='ee-v'>-103.24782854923478</span></li><li><span class='ee-k'>1:</span><span class='ee-v'>34.05058214018686</span></li></ul></li><li><label class='ee-shut'>79: [-103.24740113514055, 34.04706042866674]<input type='checkbox' class='ee-toggle'></label><ul><li><span class='ee-k'>0:</span><span class='ee-v'>-103.24740113514055</span></li><li><span class='ee-k'>1:</span><span class='ee-v'>34.04706042866674</span></li></ul></li><li><label class='ee-shut'>80: [-103.24730699500515, 34.04352165860669]<input type='checkbox' class='ee-toggle'></label><ul><li><span class='ee-k'>0:</span><span class='ee-v'>-103.24730699500515</span></li><li><span class='ee-k'>1:</span><span class='ee-v'>34.04352165860669</span></li></ul></li></ul></li></ul></li></ul></li><li><span class='ee-k'>geodesic:</span><span class='ee-v'>False</span></li></ul></li><li><label class='ee-shut'>properties: Object (0 properties)<input type='checkbox' class='ee-toggle'></label><ul></ul></li></ul></li></ul></li></ul></li></ul></div><script>function toggleHeader() {\n",
       "    const parent = this.parentElement;\n",
       "    parent.className = parent.className === \"ee-open\" ? \"ee-shut\" : \"ee-open\";\n",
       "}\n",
       "\n",
       "for (let c of document.getElementsByClassName(\"ee-toggle\")) {\n",
       "    c.onclick = toggleHeader;\n",
       "}</script></div>"
      ],
      "text/plain": [
       "<ee.featurecollection.FeatureCollection at 0x1b4236a3170>"
      ]
     },
     "execution_count": 41,
     "metadata": {},
     "output_type": "execute_result"
    }
   ],
   "source": [
    "rng = range(len(listy))\n",
    "\n",
    "def ee_list_func(given_json_list, given_range):\n",
    "    ee_item_list = []\n",
    "\n",
    "    for item in given_range:\n",
    "        ee_item_list.append(geemap.geojson_to_ee(given_json_list[item]))\n",
    "    \n",
    "    return ee_item_list\n",
    "\n",
    "ee_items = ee_list_func(listy, rng)\n",
    "\n",
    "ee_items[1] # checking that the given json was turned into an ee item"
   ]
  },
  {
   "cell_type": "markdown",
   "metadata": {},
   "source": [
    "Importing each geojson for use in GEE"
   ]
  },
  {
   "cell_type": "code",
   "execution_count": 34,
   "metadata": {},
   "outputs": [
    {
     "data": {
      "text/html": [
       "\n",
       "            <style>\n",
       "                .geemap-dark {\n",
       "                    --jp-widgets-color: white;\n",
       "                    --jp-widgets-label-color: white;\n",
       "                    --jp-ui-font-color1: white;\n",
       "                    --jp-layout-color2: #454545;\n",
       "                    background-color: #383838;\n",
       "                }\n",
       "                    \n",
       "                .geemap-dark .jupyter-button {\n",
       "                    --jp-layout-color3: #383838;\n",
       "                }\n",
       "                \n",
       "                .geemap-colab {\n",
       "                    background-color: var(--colab-primary-surface-color, white);\n",
       "                }\n",
       "                    \n",
       "                .geemap-colab .jupyter-button {\n",
       "                    --jp-layout-color3: var(--colab-primary-surface-color, white);\n",
       "                }\n",
       "            </style>\n",
       "            "
      ],
      "text/plain": [
       "<IPython.core.display.HTML object>"
      ]
     },
     "metadata": {},
     "output_type": "display_data"
    },
    {
     "data": {
      "application/vnd.jupyter.widget-view+json": {
       "model_id": "621ba53343b64765ad5562aa564908ef",
       "version_major": 2,
       "version_minor": 0
      },
      "text/plain": [
       "Map(center=[0, 0], controls=(WidgetControl(options=['position', 'transparent_bg'], widget=SearchDataGUI(childr…"
      ]
     },
     "execution_count": 34,
     "metadata": {},
     "output_type": "execute_result"
    }
   ],
   "source": [
    "Map = geemap.Map()\n",
    "Map"
   ]
  },
  {
   "cell_type": "markdown",
   "metadata": {},
   "source": [
    "Loading in each polygon for data to get clipped to."
   ]
  },
  {
   "cell_type": "code",
   "execution_count": 35,
   "metadata": {},
   "outputs": [
    {
     "data": {
      "text/html": [
       "\n",
       "            <style>\n",
       "                .geemap-dark {\n",
       "                    --jp-widgets-color: white;\n",
       "                    --jp-widgets-label-color: white;\n",
       "                    --jp-ui-font-color1: white;\n",
       "                    --jp-layout-color2: #454545;\n",
       "                    background-color: #383838;\n",
       "                }\n",
       "                    \n",
       "                .geemap-dark .jupyter-button {\n",
       "                    --jp-layout-color3: #383838;\n",
       "                }\n",
       "                \n",
       "                .geemap-colab {\n",
       "                    background-color: var(--colab-primary-surface-color, white);\n",
       "                }\n",
       "                    \n",
       "                .geemap-colab .jupyter-button {\n",
       "                    --jp-layout-color3: var(--colab-primary-surface-color, white);\n",
       "                }\n",
       "            </style>\n",
       "            "
      ],
      "text/plain": [
       "<IPython.core.display.HTML object>"
      ]
     },
     "metadata": {},
     "output_type": "display_data"
    }
   ],
   "source": [
    "shp = ee_items[1] # list\n",
    "\n",
    "year = ee.ImageCollection('USDA/NAIP/DOQQ').filterDate('2016-01-01', '2016-12-31').filterBounds(shp)\n",
    "\n",
    "year = year.mosaic()\n",
    "\n",
    "clip = year.clip(shp)\n",
    "\n",
    "visParam = {'bands' : ['R', 'G', 'B'],\n",
    "           'gamma' : 1}\n",
    "\n",
    "#Map.setCenter(shp)\n",
    "Map.addLayer(clip, visParam)"
   ]
  },
  {
   "cell_type": "markdown",
   "metadata": {},
   "source": [
    "Adding indices for additional possible accuracy\n",
    "\n",
    "SAVI (Soil Adjusted Vegetation Index):\n",
    "SAVI = (1 + L) * (Bnir - Bred) / (Bnir + Bred + L)\n",
    "--- L = correction factor (0 = high veg, 1 = very little veg)"
   ]
  },
  {
   "cell_type": "code",
   "execution_count": 38,
   "metadata": {},
   "outputs": [
    {
     "data": {
      "text/html": [
       "\n",
       "            <style>\n",
       "                .geemap-dark {\n",
       "                    --jp-widgets-color: white;\n",
       "                    --jp-widgets-label-color: white;\n",
       "                    --jp-ui-font-color1: white;\n",
       "                    --jp-layout-color2: #454545;\n",
       "                    background-color: #383838;\n",
       "                }\n",
       "                    \n",
       "                .geemap-dark .jupyter-button {\n",
       "                    --jp-layout-color3: #383838;\n",
       "                }\n",
       "                \n",
       "                .geemap-colab {\n",
       "                    background-color: var(--colab-primary-surface-color, white);\n",
       "                }\n",
       "                    \n",
       "                .geemap-colab .jupyter-button {\n",
       "                    --jp-layout-color3: var(--colab-primary-surface-color, white);\n",
       "                }\n",
       "            </style>\n",
       "            "
      ],
      "text/plain": [
       "<IPython.core.display.HTML object>"
      ]
     },
     "metadata": {},
     "output_type": "display_data"
    },
    {
     "ename": "AttributeError",
     "evalue": "'list' object has no attribute 'items'",
     "output_type": "error",
     "traceback": [
      "\u001b[1;31m---------------------------------------------------------------------------\u001b[0m",
      "\u001b[1;31mAttributeError\u001b[0m                            Traceback (most recent call last)",
      "Cell \u001b[1;32mIn[38], line 14\u001b[0m\n\u001b[0;32m      5\u001b[0m     savi \u001b[38;5;241m=\u001b[39m image\u001b[38;5;241m.\u001b[39mexpression(\n\u001b[0;32m      6\u001b[0m         expression \u001b[38;5;241m=\u001b[39m \u001b[38;5;124m'\u001b[39m\u001b[38;5;124m(1 + 0.6) * (N - R) / (N + R + 0.6)\u001b[39m\u001b[38;5;124m'\u001b[39m,\n\u001b[0;32m      7\u001b[0m         opt_map \u001b[38;5;241m=\u001b[39m [\n\u001b[1;32m   (...)\u001b[0m\n\u001b[0;32m     10\u001b[0m         ]\n\u001b[0;32m     11\u001b[0m     )\u001b[38;5;241m.\u001b[39mrename(\u001b[38;5;124m'\u001b[39m\u001b[38;5;124msavi\u001b[39m\u001b[38;5;124m'\u001b[39m)\n\u001b[0;32m     12\u001b[0m     \u001b[38;5;28;01mreturn\u001b[39;00m savi\n\u001b[1;32m---> 14\u001b[0m savi \u001b[38;5;241m=\u001b[39m \u001b[43mrgb_savi\u001b[49m\u001b[43m(\u001b[49m\u001b[43mclip\u001b[49m\u001b[43m)\u001b[49m\n\u001b[0;32m     15\u001b[0m \u001b[38;5;66;03m#map.addLayer(savi)\u001b[39;00m\n\u001b[0;32m     17\u001b[0m clip \u001b[38;5;241m=\u001b[39m clip\u001b[38;5;241m.\u001b[39maddBands(savi)\n",
      "Cell \u001b[1;32mIn[38], line 5\u001b[0m, in \u001b[0;36mrgb_savi\u001b[1;34m(image_given)\u001b[0m\n\u001b[0;32m      2\u001b[0m image_bands \u001b[38;5;241m=\u001b[39m image_given\u001b[38;5;241m.\u001b[39mselect(\u001b[38;5;124m\"\u001b[39m\u001b[38;5;124mR\u001b[39m\u001b[38;5;124m\"\u001b[39m, \u001b[38;5;124m\"\u001b[39m\u001b[38;5;124mN\u001b[39m\u001b[38;5;124m\"\u001b[39m)\n\u001b[0;32m      3\u001b[0m image \u001b[38;5;241m=\u001b[39m image_bands\n\u001b[1;32m----> 5\u001b[0m savi \u001b[38;5;241m=\u001b[39m \u001b[43mimage\u001b[49m\u001b[38;5;241;43m.\u001b[39;49m\u001b[43mexpression\u001b[49m\u001b[43m(\u001b[49m\n\u001b[0;32m      6\u001b[0m \u001b[43m    \u001b[49m\u001b[43mexpression\u001b[49m\u001b[43m \u001b[49m\u001b[38;5;241;43m=\u001b[39;49m\u001b[43m \u001b[49m\u001b[38;5;124;43m'\u001b[39;49m\u001b[38;5;124;43m(1 + 0.6) * (N - R) / (N + R + 0.6)\u001b[39;49m\u001b[38;5;124;43m'\u001b[39;49m\u001b[43m,\u001b[49m\n\u001b[0;32m      7\u001b[0m \u001b[43m    \u001b[49m\u001b[43mopt_map\u001b[49m\u001b[43m \u001b[49m\u001b[38;5;241;43m=\u001b[39;49m\u001b[43m \u001b[49m\u001b[43m[\u001b[49m\n\u001b[0;32m      8\u001b[0m \u001b[43m        \u001b[49m\u001b[38;5;124;43m'\u001b[39;49m\u001b[38;5;124;43mR\u001b[39;49m\u001b[38;5;124;43m'\u001b[39;49m\u001b[43m \u001b[49m\u001b[38;5;241;43m==\u001b[39;49m\u001b[43m \u001b[49m\u001b[43mimage\u001b[49m\u001b[38;5;241;43m.\u001b[39;49m\u001b[43mselect\u001b[49m\u001b[43m(\u001b[49m\u001b[38;5;124;43m'\u001b[39;49m\u001b[38;5;124;43mR\u001b[39;49m\u001b[38;5;124;43m'\u001b[39;49m\u001b[43m)\u001b[49m\u001b[43m,\u001b[49m\n\u001b[0;32m      9\u001b[0m \u001b[43m        \u001b[49m\u001b[38;5;124;43m'\u001b[39;49m\u001b[38;5;124;43mN\u001b[39;49m\u001b[38;5;124;43m'\u001b[39;49m\u001b[43m \u001b[49m\u001b[38;5;241;43m==\u001b[39;49m\u001b[43m \u001b[49m\u001b[43mimage\u001b[49m\u001b[38;5;241;43m.\u001b[39;49m\u001b[43mselect\u001b[49m\u001b[43m(\u001b[49m\u001b[38;5;124;43m'\u001b[39;49m\u001b[38;5;124;43mN\u001b[39;49m\u001b[38;5;124;43m'\u001b[39;49m\u001b[43m)\u001b[49m\n\u001b[0;32m     10\u001b[0m \u001b[43m    \u001b[49m\u001b[43m]\u001b[49m\n\u001b[0;32m     11\u001b[0m \u001b[43m\u001b[49m\u001b[43m)\u001b[49m\u001b[38;5;241m.\u001b[39mrename(\u001b[38;5;124m'\u001b[39m\u001b[38;5;124msavi\u001b[39m\u001b[38;5;124m'\u001b[39m)\n\u001b[0;32m     12\u001b[0m \u001b[38;5;28;01mreturn\u001b[39;00m savi\n",
      "File \u001b[1;32m~\\miniconda3\\envs\\gee_env\\Lib\\site-packages\\ee\\_utils.py:38\u001b[0m, in \u001b[0;36maccept_opt_prefix.<locals>.opt_fixed.<locals>.wrapper\u001b[1;34m(*args, **kwargs)\u001b[0m\n\u001b[0;32m     36\u001b[0m     \u001b[38;5;28;01mif\u001b[39;00m new_key \u001b[38;5;129;01mnot\u001b[39;00m \u001b[38;5;129;01min\u001b[39;00m kwargs:\n\u001b[0;32m     37\u001b[0m       kwargs[new_key] \u001b[38;5;241m=\u001b[39m old_key_val\n\u001b[1;32m---> 38\u001b[0m \u001b[38;5;28;01mreturn\u001b[39;00m \u001b[43mfunc\u001b[49m\u001b[43m(\u001b[49m\u001b[38;5;241;43m*\u001b[39;49m\u001b[43margs\u001b[49m\u001b[43m,\u001b[49m\u001b[43m \u001b[49m\u001b[38;5;241;43m*\u001b[39;49m\u001b[38;5;241;43m*\u001b[39;49m\u001b[43mkwargs\u001b[49m\u001b[43m)\u001b[49m\n",
      "File \u001b[1;32m~\\miniconda3\\envs\\gee_env\\Lib\\site-packages\\ee\\image.py:690\u001b[0m, in \u001b[0;36mImage.expression\u001b[1;34m(self, expression, map_)\u001b[0m\n\u001b[0;32m    688\u001b[0m \u001b[38;5;66;03m# Add custom arguments, promoting them to Images manually.\u001b[39;00m\n\u001b[0;32m    689\u001b[0m \u001b[38;5;28;01mif\u001b[39;00m map_:\n\u001b[1;32m--> 690\u001b[0m   \u001b[38;5;28;01mfor\u001b[39;00m name, value \u001b[38;5;129;01min\u001b[39;00m \u001b[43mmap_\u001b[49m\u001b[38;5;241;43m.\u001b[39;49m\u001b[43mitems\u001b[49m():\n\u001b[0;32m    691\u001b[0m     all_vars\u001b[38;5;241m.\u001b[39mappend(name)\n\u001b[0;32m    692\u001b[0m     args[name] \u001b[38;5;241m=\u001b[39m Image(value)\n",
      "\u001b[1;31mAttributeError\u001b[0m: 'list' object has no attribute 'items'"
     ]
    }
   ],
   "source": [
    "def rgb_savi(image_given):\n",
    "    image_bands = image_given.select(\"R\", \"N\")\n",
    "    image = image_bands\n",
    "\n",
    "    savi = image.expression(\n",
    "        expression = '(1 + 0.6) * (N - R) / (N + R + 0.6)',\n",
    "        opt_map = [\n",
    "            'R' = image.select('R'),\n",
    "            'N' = image.select('N')\n",
    "        ]\n",
    "    ).rename('savi')\n",
    "    return savi\n",
    "\n",
    "savi = rgb_savi(clip)\n",
    "#map.addLayer(savi)\n",
    "\n",
    "clip = clip.addBands(savi)\n",
    "\n",
    "#checking was added\n",
    "#band_names = standardized.bandNames()\n",
    "#print(band_names.get(4).getInfo())"
   ]
  },
  {
   "cell_type": "markdown",
   "metadata": {},
   "source": [
    "ENDVI (Enhanced Normalized Difference Vegetation Index):\n",
    "ENDVI = ((NIR + Green) - (2 * Blue)) / ((NIR + Green) + (2 * Blue))"
   ]
  },
  {
   "cell_type": "code",
   "execution_count": null,
   "metadata": {},
   "outputs": [],
   "source": [
    "def rgb_endvi(image_given):\n",
    "    image_bands = image_given.select(\"N\", \"G\", \"B\")\n",
    "    image = image_bands\n",
    "\n",
    "    endvi = image.expression(\n",
    "        expression = '((N + G) - (2 * B)) / ((N + G) + (2 + B))',\n",
    "        opt_map = ['N' = image.select('N'),\n",
    "                   'G' = image.select('G'),\n",
    "                   'B' = image.select('B')\n",
    "                   ]\n",
    "    ).rename('endvi')\n",
    "    return(endvi)\n",
    "\n",
    "endvi = rgb_endvi(clip)\n",
    "\n",
    "clip = clip.addBands(endvi)"
   ]
  },
  {
   "cell_type": "markdown",
   "metadata": {},
   "source": [
    "Standardization"
   ]
  },
  {
   "cell_type": "code",
   "execution_count": null,
   "metadata": {},
   "outputs": [],
   "source": [
    "image_st = clip\n",
    "st_bandNames = image_st.bandNames()\n",
    "meanDict = image_st.reduceRegion(\n",
    "  reducer = ee.Reducer.mean(),\n",
    "  geometry = shp,\n",
    "  scale = 1,\n",
    "  maxPixels = 200000000,\n",
    "  bestEffort = TRUE,\n",
    "  tileScale = 16\n",
    ")\n",
    "means = ee.Image.constant(meanDict.values(st_bandNames))\n",
    "centered = image_st.subtract(means)\n",
    "\n",
    "stdDevDict = image_st.reduceRegion(\n",
    "  reducer = ee.Reducer.stdDev(),\n",
    "  geometry = shp,\n",
    "  scale = 1,\n",
    "  maxPixels = 200000000,\n",
    "  bestEffort = TRUE,\n",
    "  tileScale = 16\n",
    ")\n",
    "\n",
    "stddevs = ee.Image.constant(stdDevDict.values(st_bandNames))\n",
    "standardized = centered.divide(stddevs)\n",
    "\n",
    "visParam_st = [bands = c('N', 'R', 'G'),\n",
    "                    min = -1,\n",
    "                    max = 2,\n",
    "                    gamma = 1.2\n",
    "]"
   ]
  },
  {
   "cell_type": "markdown",
   "metadata": {},
   "source": [
    "Smoothing and sharpening"
   ]
  },
  {
   "cell_type": "code",
   "execution_count": null,
   "metadata": {},
   "outputs": [],
   "source": [
    "### gaussian smoothing\n",
    "gaussianKernel = ee.Kernel.gaussian(\n",
    "  radius = 3,\n",
    "  units = 'pixels'\n",
    ")\n",
    "\n",
    "gaussian_smooth = standardized.convolve(gaussianKernel)\n",
    "\n",
    "\n",
    "#visParamGauss <- list(bands <- c('R', 'G', 'B'),\n",
    "#  min= 0,\n",
    "#  max= 255\n",
    "#  )\n",
    "\n",
    "### checking that image was smoothed\n",
    "#Map$addLayer(gauss, visParams = visParamGauss)\n",
    "\n",
    "\n",
    "\n",
    "### DoG sharpening\n",
    "fat = ee.Kernel.gaussian(\n",
    "  radius = 3,\n",
    "  sigma = 3,\n",
    "  magnitude = -1.0,\n",
    "  units = 'pixels'\n",
    ")\n",
    "\n",
    "skinny = ee.Kernel.gaussian(\n",
    "  radius = 3,\n",
    "  sigma = 0.5,\n",
    "  units = 'pixels'\n",
    ")\n",
    "\n",
    "dog = fat.add(skinny)\n",
    "#changed name from sharpened\n",
    "gauss = gaussian_smooth.add(standardized.convolve(dog)) "
   ]
  },
  {
   "cell_type": "code",
   "execution_count": null,
   "metadata": {},
   "outputs": [],
   "source": [
    "segmented = ee.Algorithms.Image.Segmentation.SNIC(gauss)\n",
    "Map.addLayer(segmented)"
   ]
  },
  {
   "cell_type": "markdown",
   "metadata": {},
   "source": [
    "Training the classification algorithm and showing the display parameters"
   ]
  },
  {
   "cell_type": "code",
   "execution_count": null,
   "metadata": {},
   "outputs": [],
   "source": [
    "### creating training samples for the unsupervised classification\n",
    "training = segmented.sample(\n",
    "  region = shp,\n",
    "  scale = 1, #change depending on year\n",
    "  numPixels = 10000\n",
    ")\n",
    "\n",
    "### the actual classification function\n",
    "clusterer = ee.Clusterer.wekaXMeans(maxClusters = 12, # change clusters depending on imagery\n",
    "                                    maxIterations = 5, \n",
    "                                    useKD = TRUE).ee.Clusterer.train(training)\n",
    "\n",
    "result = segmented.cluster(clusterer)\n",
    "\n"
   ]
  }
 ],
 "metadata": {
  "kernelspec": {
   "display_name": "Python 3 (ipykernel)",
   "language": "python",
   "name": "python3"
  },
  "language_info": {
   "codemirror_mode": {
    "name": "ipython",
    "version": 3
   },
   "file_extension": ".py",
   "mimetype": "text/x-python",
   "name": "python",
   "nbconvert_exporter": "python",
   "pygments_lexer": "ipython3",
   "version": "3.12.1"
  }
 },
 "nbformat": 4,
 "nbformat_minor": 4
}
