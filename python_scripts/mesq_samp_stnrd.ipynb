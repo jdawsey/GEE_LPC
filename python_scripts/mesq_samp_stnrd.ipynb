{
 "cells": [
  {
   "cell_type": "markdown",
   "metadata": {},
   "source": [
    "Initializing Google Earth Engine and importing geemap"
   ]
  },
  {
   "cell_type": "code",
   "execution_count": null,
   "metadata": {},
   "outputs": [],
   "source": [
    "import ee\n",
    "import geemap\n",
    "\n",
    "ee.Authenticate()\n",
    "ee.Initialize()"
   ]
  },
  {
   "cell_type": "markdown",
   "metadata": {},
   "source": [
    "Loading in each polygon for data to get clipped to."
   ]
  },
  {
   "cell_type": "code",
   "execution_count": null,
   "metadata": {},
   "outputs": [],
   "source": [
    "shp = '' # list\n",
    "\n",
    "year = ee.ImageCollection('USDA/NAIP/DOQQ')\n",
    "    .filterdate('')\n",
    "    .filterbounds(shp)\n",
    "\n",
    "clip = year.clip(shp)\n",
    "\n",
    "visParam = [bands = ...]\n",
    "\n",
    "map.centerObject(shp)\n",
    "map.addLayer(clip, visParams = visParam)"
   ]
  },
  {
   "cell_type": "markdown",
   "metadata": {},
   "source": [
    "Adding indices for additional possible accuracy\n",
    "\n",
    "SAVI (Soil Adjusted Vegetation Index):\n",
    "SAVI = (1 + L) * (Bnir - Bred) / (Bnir + Bred + L)\n",
    "--- L = correction factor (0 = high veg, 1 = very little veg)"
   ]
  },
  {
   "cell_type": "code",
   "execution_count": null,
   "metadata": {},
   "outputs": [],
   "source": [
    "def rgb_savi(image_given):\n",
    "    image_bands = image_given.select(\"R\", \"N\")\n",
    "    image = image_bands\n",
    "\n",
    "    savi = image.expression(\n",
    "        expression = '(1 + 0.6) * (N - R) / (N + R + 0.6)',\n",
    "        opt_map = [\n",
    "            'R' = image.select('R'),\n",
    "            'N' = image.select('N')\n",
    "        ]\n",
    "    ).rename('savi')\n",
    "    return(savi)\n",
    "\n",
    "savi = rgb_savi(clip)\n",
    "#map.addLayer(savi)\n",
    "\n",
    "clip = clip.addBands(savi)\n",
    "\n",
    "#checking was added\n",
    "#band_names = standardized.bandNames()\n",
    "#print(band_names.get(4).getInfo())"
   ]
  },
  {
   "cell_type": "markdown",
   "metadata": {},
   "source": [
    "ENDVI (Enhanced Normalized Difference Vegetation Index):\n",
    "ENDVI = ((NIR + Green) - (2 * Blue)) / ((NIR + Green) + (2 * Blue))"
   ]
  },
  {
   "cell_type": "code",
   "execution_count": null,
   "metadata": {},
   "outputs": [],
   "source": [
    "def rgb_endvi(image_given):\n",
    "    image_bands = image_given.select(\"N\", \"G\", \"B\")\n",
    "    image = image_bands\n",
    "\n",
    "    endvi = image.expression(\n",
    "        expression = '((N + G) - (2 * B)) / ((N + G) + (2 + B))',\n",
    "        opt_map = ['N' = image.select('N'),\n",
    "                   'G' = image.select('G'),\n",
    "                   'B' = image.select('B')\n",
    "                   ]\n",
    "    ).rename('endvi')\n",
    "    return(endvi)\n",
    "\n",
    "endvi = rgb_endvi(clip)\n",
    "\n",
    "clip = clip.addBands(endvi)"
   ]
  },
  {
   "cell_type": "markdown",
   "metadata": {},
   "source": [
    "Standardization"
   ]
  },
  {
   "cell_type": "code",
   "execution_count": null,
   "metadata": {},
   "outputs": [],
   "source": [
    "image_st = clip\n",
    "st_bandNames = image_st.bandNames()\n",
    "meanDict = image_st.reduceRegion(\n",
    "  reducer = ee.Reducer.mean(),\n",
    "  geometry = shp,\n",
    "  scale = 1,\n",
    "  maxPixels = 200000000,\n",
    "  bestEffort = TRUE,\n",
    "  tileScale = 16\n",
    ")\n",
    "means = ee.Image.constant(meanDict.values(st_bandNames))\n",
    "centered = image_st.subtract(means)\n",
    "\n",
    "stdDevDict = image_st.reduceRegion(\n",
    "  reducer = ee.Reducer.stdDev(),\n",
    "  geometry = shp,\n",
    "  scale = 1,\n",
    "  maxPixels = 200000000,\n",
    "  bestEffort = TRUE,\n",
    "  tileScale = 16\n",
    ")\n",
    "\n",
    "stddevs = ee.Image.constant(stdDevDict.values(st_bandNames))\n",
    "standardized = centered.divide(stddevs)\n",
    "\n",
    "visParam_st = [bands = c('N', 'R', 'G'),\n",
    "                    min = -1,\n",
    "                    max = 2,\n",
    "                    gamma = 1.2\n",
    "]"
   ]
  },
  {
   "cell_type": "markdown",
   "metadata": {},
   "source": [
    "Smoothing and sharpening"
   ]
  },
  {
   "cell_type": "code",
   "execution_count": null,
   "metadata": {},
   "outputs": [],
   "source": [
    "### gaussian smoothing\n",
    "gaussianKernel = ee.Kernel.gaussian(\n",
    "  radius = 3,\n",
    "  units = 'pixels'\n",
    ")\n",
    "\n",
    "gaussian_smooth = standardized.convolve(gaussianKernel)\n",
    "\n",
    "\n",
    "#visParamGauss <- list(bands <- c('R', 'G', 'B'),\n",
    "#  min= 0,\n",
    "#  max= 255\n",
    "#  )\n",
    "\n",
    "### checking that image was smoothed\n",
    "#Map$addLayer(gauss, visParams = visParamGauss)\n",
    "\n",
    "\n",
    "\n",
    "### DoG sharpening\n",
    "fat = ee.Kernel.gaussian(\n",
    "  radius = 3,\n",
    "  sigma = 3,\n",
    "  magnitude = -1.0,\n",
    "  units = 'pixels'\n",
    ")\n",
    "\n",
    "skinny = ee.Kernel.gaussian(\n",
    "  radius = 3,\n",
    "  sigma = 0.5,\n",
    "  units = 'pixels'\n",
    ")\n",
    "\n",
    "dog = fat.add(skinny)\n",
    "#changed name from sharpened\n",
    "gauss = gaussian_smooth.add(standardized.convolve(dog)) "
   ]
  },
  {
   "cell_type": "code",
   "execution_count": null,
   "metadata": {},
   "outputs": [],
   "source": [
    "segmented = ee.Algorithms.Image.Segmentation.SNIC(gauss)\n",
    "Map.addLayer(segmented)"
   ]
  },
  {
   "cell_type": "markdown",
   "metadata": {},
   "source": [
    "Training the classification algorithm and showing the display parameters"
   ]
  },
  {
   "cell_type": "code",
   "execution_count": null,
   "metadata": {},
   "outputs": [],
   "source": [
    "### creating training samples for the unsupervised classification\n",
    "training = segmented.sample(\n",
    "  region = shp,\n",
    "  scale = 1, #change depending on year\n",
    "  numPixels = 10000\n",
    ")\n",
    "\n",
    "### the actual classification function\n",
    "clusterer = ee.Clusterer.wekaXMeans(maxClusters = 12, # change clusters depending on imagery\n",
    "                                    maxIterations = 5, \n",
    "                                    useKD = TRUE).ee.Clusterer.train(training)\n",
    "\n",
    "result = segmented.cluster(clusterer)\n",
    "\n"
   ]
  }
 ],
 "metadata": {
  "kernelspec": {
   "display_name": "gee_env",
   "language": "python",
   "name": "python3"
  },
  "language_info": {
   "name": "python",
   "version": "3.12.1"
  }
 },
 "nbformat": 4,
 "nbformat_minor": 2
}
