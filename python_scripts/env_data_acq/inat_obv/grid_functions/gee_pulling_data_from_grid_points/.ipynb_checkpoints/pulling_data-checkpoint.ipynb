{
 "cells": [
  {
   "cell_type": "code",
   "execution_count": 1,
   "id": "9627abfb-fbe7-41c9-9ae2-057ec7034e49",
   "metadata": {},
   "outputs": [],
   "source": [
    "import os\n",
    "import geopandas as gpd\n",
    "import pandas as pd\n",
    "import ee\n",
    "import geemap\n",
    "import shp_processor as shp_processor\n",
    "import image_stack_builder as isb"
   ]
  },
  {
   "cell_type": "code",
   "execution_count": 2,
   "id": "d26e3140",
   "metadata": {},
   "outputs": [
    {
     "data": {
      "text/html": [
       "\n",
       "            <style>\n",
       "                .geemap-dark {\n",
       "                    --jp-widgets-color: white;\n",
       "                    --jp-widgets-label-color: white;\n",
       "                    --jp-ui-font-color1: white;\n",
       "                    --jp-layout-color2: #454545;\n",
       "                    background-color: #383838;\n",
       "                }\n",
       "                    \n",
       "                .geemap-dark .jupyter-button {\n",
       "                    --jp-layout-color3: #383838;\n",
       "                }\n",
       "                \n",
       "                .geemap-colab {\n",
       "                    background-color: var(--colab-primary-surface-color, white);\n",
       "                }\n",
       "                    \n",
       "                .geemap-colab .jupyter-button {\n",
       "                    --jp-layout-color3: var(--colab-primary-surface-color, white);\n",
       "                }\n",
       "            </style>\n",
       "            "
      ],
      "text/plain": [
       "<IPython.core.display.HTML object>"
      ]
     },
     "metadata": {},
     "output_type": "display_data"
    },
    {
     "data": {
      "text/plain": [
       "True"
      ]
     },
     "execution_count": 2,
     "metadata": {},
     "output_type": "execute_result"
    }
   ],
   "source": [
    "# Authenticate to Earth Engine\n",
    "ee.Authenticate()"
   ]
  },
  {
   "cell_type": "code",
   "execution_count": 2,
   "id": "711b80fe-ec66-4ef3-89dd-7dcaecdb9a4b",
   "metadata": {},
   "outputs": [
    {
     "data": {
      "text/html": [
       "\n",
       "            <style>\n",
       "                .geemap-dark {\n",
       "                    --jp-widgets-color: white;\n",
       "                    --jp-widgets-label-color: white;\n",
       "                    --jp-ui-font-color1: white;\n",
       "                    --jp-layout-color2: #454545;\n",
       "                    background-color: #383838;\n",
       "                }\n",
       "                    \n",
       "                .geemap-dark .jupyter-button {\n",
       "                    --jp-layout-color3: #383838;\n",
       "                }\n",
       "                \n",
       "                .geemap-colab {\n",
       "                    background-color: var(--colab-primary-surface-color, white);\n",
       "                }\n",
       "                    \n",
       "                .geemap-colab .jupyter-button {\n",
       "                    --jp-layout-color3: var(--colab-primary-surface-color, white);\n",
       "                }\n",
       "            </style>\n",
       "            "
      ],
      "text/plain": [
       "<IPython.core.display.HTML object>"
      ]
     },
     "metadata": {},
     "output_type": "display_data"
    }
   ],
   "source": [
    "# Authenticate to Earth Engine\n",
    "#ee.Authenticate()\n",
    "ee.Initialize()"
   ]
  },
  {
   "cell_type": "code",
   "execution_count": 1,
   "id": "958b056f-f326-4ab9-be1e-9e30a8ca024f",
   "metadata": {},
   "outputs": [],
   "source": [
    "# Create a map using geemap\n",
    "#m = geemap.Map()\n",
    "#m"
   ]
  },
  {
   "cell_type": "code",
   "execution_count": 3,
   "id": "4511741d-46f8-4d38-bdc8-c03dabd861ce",
   "metadata": {},
   "outputs": [
    {
     "data": {
      "text/html": [
       "\n",
       "            <style>\n",
       "                .geemap-dark {\n",
       "                    --jp-widgets-color: white;\n",
       "                    --jp-widgets-label-color: white;\n",
       "                    --jp-ui-font-color1: white;\n",
       "                    --jp-layout-color2: #454545;\n",
       "                    background-color: #383838;\n",
       "                }\n",
       "                    \n",
       "                .geemap-dark .jupyter-button {\n",
       "                    --jp-layout-color3: #383838;\n",
       "                }\n",
       "                \n",
       "                .geemap-colab {\n",
       "                    background-color: var(--colab-primary-surface-color, white);\n",
       "                }\n",
       "                    \n",
       "                .geemap-colab .jupyter-button {\n",
       "                    --jp-layout-color3: var(--colab-primary-surface-color, white);\n",
       "                }\n",
       "            </style>\n",
       "            "
      ],
      "text/plain": [
       "<IPython.core.display.HTML object>"
      ]
     },
     "metadata": {},
     "output_type": "display_data"
    },
    {
     "data": {
      "text/html": [
       "<div>\n",
       "<style scoped>\n",
       "    .dataframe tbody tr th:only-of-type {\n",
       "        vertical-align: middle;\n",
       "    }\n",
       "\n",
       "    .dataframe tbody tr th {\n",
       "        vertical-align: top;\n",
       "    }\n",
       "\n",
       "    .dataframe thead th {\n",
       "        text-align: right;\n",
       "    }\n",
       "</style>\n",
       "<table border=\"1\" class=\"dataframe\">\n",
       "  <thead>\n",
       "    <tr style=\"text-align: right;\">\n",
       "      <th></th>\n",
       "      <th>collection</th>\n",
       "      <th>collection_loc</th>\n",
       "      <th>bands</th>\n",
       "      <th>band_rename</th>\n",
       "      <th>base_re</th>\n",
       "      <th>unit</th>\n",
       "      <th>resample</th>\n",
       "      <th>resample_res</th>\n",
       "    </tr>\n",
       "  </thead>\n",
       "  <tbody>\n",
       "    <tr>\n",
       "      <th>0</th>\n",
       "      <td>clay_0_5</td>\n",
       "      <td>projects/sat-io/open-datasets/polaris/clay_mea...</td>\n",
       "      <td>b1</td>\n",
       "      <td>clay_0_5</td>\n",
       "      <td>30</td>\n",
       "      <td>m</td>\n",
       "      <td>False</td>\n",
       "      <td>NaN</td>\n",
       "    </tr>\n",
       "    <tr>\n",
       "      <th>1</th>\n",
       "      <td>clay_5_15</td>\n",
       "      <td>projects/sat-io/open-datasets/polaris/clay_mea...</td>\n",
       "      <td>b1</td>\n",
       "      <td>clay_5_15</td>\n",
       "      <td>30</td>\n",
       "      <td>m</td>\n",
       "      <td>False</td>\n",
       "      <td>NaN</td>\n",
       "    </tr>\n",
       "    <tr>\n",
       "      <th>2</th>\n",
       "      <td>clay_15_30</td>\n",
       "      <td>projects/sat-io/open-datasets/polaris/clay_mea...</td>\n",
       "      <td>b1</td>\n",
       "      <td>clay_15_30</td>\n",
       "      <td>30</td>\n",
       "      <td>m</td>\n",
       "      <td>False</td>\n",
       "      <td>NaN</td>\n",
       "    </tr>\n",
       "    <tr>\n",
       "      <th>3</th>\n",
       "      <td>clay_30_60</td>\n",
       "      <td>projects/sat-io/open-datasets/polaris/clay_mea...</td>\n",
       "      <td>b1</td>\n",
       "      <td>clay_30_60</td>\n",
       "      <td>30</td>\n",
       "      <td>m</td>\n",
       "      <td>False</td>\n",
       "      <td>NaN</td>\n",
       "    </tr>\n",
       "    <tr>\n",
       "      <th>4</th>\n",
       "      <td>clay_60_100</td>\n",
       "      <td>projects/sat-io/open-datasets/polaris/clay_mea...</td>\n",
       "      <td>b1</td>\n",
       "      <td>clay_60_100</td>\n",
       "      <td>30</td>\n",
       "      <td>m</td>\n",
       "      <td>False</td>\n",
       "      <td>NaN</td>\n",
       "    </tr>\n",
       "  </tbody>\n",
       "</table>\n",
       "</div>"
      ],
      "text/plain": [
       "    collection                                     collection_loc bands  \\\n",
       "0     clay_0_5  projects/sat-io/open-datasets/polaris/clay_mea...    b1   \n",
       "1    clay_5_15  projects/sat-io/open-datasets/polaris/clay_mea...    b1   \n",
       "2   clay_15_30  projects/sat-io/open-datasets/polaris/clay_mea...    b1   \n",
       "3   clay_30_60  projects/sat-io/open-datasets/polaris/clay_mea...    b1   \n",
       "4  clay_60_100  projects/sat-io/open-datasets/polaris/clay_mea...    b1   \n",
       "\n",
       "   band_rename  base_re unit  resample  resample_res  \n",
       "0     clay_0_5       30    m     False           NaN  \n",
       "1    clay_5_15       30    m     False           NaN  \n",
       "2   clay_15_30       30    m     False           NaN  \n",
       "3   clay_30_60       30    m     False           NaN  \n",
       "4  clay_60_100       30    m     False           NaN  "
      ]
     },
     "execution_count": 3,
     "metadata": {},
     "output_type": "execute_result"
    }
   ],
   "source": [
    "folder_directory = 'D:/!!Research/!!!Data/ArcGIS_Projects/mesq_prediction'\n",
    "bands_csv_name = 'images_and_bands.csv'\n",
    "images_and_bands = pd.read_csv(f'{folder_directory}/test_mesq_prediction_points/{bands_csv_name}')\n",
    "images_and_bands.head()"
   ]
  },
  {
   "cell_type": "markdown",
   "id": "6220dd74-11a0-4d5a-9569-7ed6291e1a4c",
   "metadata": {},
   "source": [
    "### Adding the directory to the shapefile"
   ]
  },
  {
   "cell_type": "code",
   "execution_count": 4,
   "id": "b70cb3de-7f82-4458-bb8a-99d2f3ccff56",
   "metadata": {},
   "outputs": [
    {
     "data": {
      "text/html": [
       "\n",
       "            <style>\n",
       "                .geemap-dark {\n",
       "                    --jp-widgets-color: white;\n",
       "                    --jp-widgets-label-color: white;\n",
       "                    --jp-ui-font-color1: white;\n",
       "                    --jp-layout-color2: #454545;\n",
       "                    background-color: #383838;\n",
       "                }\n",
       "                    \n",
       "                .geemap-dark .jupyter-button {\n",
       "                    --jp-layout-color3: #383838;\n",
       "                }\n",
       "                \n",
       "                .geemap-colab {\n",
       "                    background-color: var(--colab-primary-surface-color, white);\n",
       "                }\n",
       "                    \n",
       "                .geemap-colab .jupyter-button {\n",
       "                    --jp-layout-color3: var(--colab-primary-surface-color, white);\n",
       "                }\n",
       "            </style>\n",
       "            "
      ],
      "text/plain": [
       "<IPython.core.display.HTML object>"
      ]
     },
     "metadata": {},
     "output_type": "display_data"
    }
   ],
   "source": [
    "shp_dir = f'{folder_directory}/test_mesq_prediction_points/acc_points_env_data/fishnet_files'"
   ]
  },
  {
   "cell_type": "code",
   "execution_count": 5,
   "id": "bf94d5bf-6b38-4fc6-9421-c30ec754793d",
   "metadata": {},
   "outputs": [
    {
     "data": {
      "text/html": [
       "\n",
       "            <style>\n",
       "                .geemap-dark {\n",
       "                    --jp-widgets-color: white;\n",
       "                    --jp-widgets-label-color: white;\n",
       "                    --jp-ui-font-color1: white;\n",
       "                    --jp-layout-color2: #454545;\n",
       "                    background-color: #383838;\n",
       "                }\n",
       "                    \n",
       "                .geemap-dark .jupyter-button {\n",
       "                    --jp-layout-color3: #383838;\n",
       "                }\n",
       "                \n",
       "                .geemap-colab {\n",
       "                    background-color: var(--colab-primary-surface-color, white);\n",
       "                }\n",
       "                    \n",
       "                .geemap-colab .jupyter-button {\n",
       "                    --jp-layout-color3: var(--colab-primary-surface-color, white);\n",
       "                }\n",
       "            </style>\n",
       "            "
      ],
      "text/plain": [
       "<IPython.core.display.HTML object>"
      ]
     },
     "metadata": {},
     "output_type": "display_data"
    }
   ],
   "source": [
    "#shrubs_states = ['california', 'kansas', 'new_mexico', 'nevada', 'texas']\n",
    "#sts_abbvs = ['CA', 'KS', 'NM', 'NV', 'TX']\n",
    "sts_abbrv = ['TX', 'NM']"
   ]
  },
  {
   "cell_type": "code",
   "execution_count": 6,
   "id": "470fd723-df63-4fc7-b7cc-9317f796ac72",
   "metadata": {},
   "outputs": [
    {
     "data": {
      "text/html": [
       "\n",
       "            <style>\n",
       "                .geemap-dark {\n",
       "                    --jp-widgets-color: white;\n",
       "                    --jp-widgets-label-color: white;\n",
       "                    --jp-ui-font-color1: white;\n",
       "                    --jp-layout-color2: #454545;\n",
       "                    background-color: #383838;\n",
       "                }\n",
       "                    \n",
       "                .geemap-dark .jupyter-button {\n",
       "                    --jp-layout-color3: #383838;\n",
       "                }\n",
       "                \n",
       "                .geemap-colab {\n",
       "                    background-color: var(--colab-primary-surface-color, white);\n",
       "                }\n",
       "                    \n",
       "                .geemap-colab .jupyter-button {\n",
       "                    --jp-layout-color3: var(--colab-primary-surface-color, white);\n",
       "                }\n",
       "            </style>\n",
       "            "
      ],
      "text/plain": [
       "<IPython.core.display.HTML object>"
      ]
     },
     "metadata": {},
     "output_type": "display_data"
    },
    {
     "name": "stdout",
     "output_type": "stream",
     "text": [
      "[<ee.image.Image object at 0x000001796AAB5820>, <ee.image.Image object at 0x000001796A95CCE0>, <ee.image.Image object at 0x000001796A95D730>, <ee.image.Image object at 0x000001796A95DC70>]\n"
     ]
    }
   ],
   "source": [
    "other_bands = []\n",
    "\n",
    "elevation = ee.Image('USGS/3DEP/10m').select(['elevation'])\n",
    "other_bands.append(elevation)\n",
    "slope = ee.Terrain.slope(elevation).select(['slope']).rename(['slope'])\n",
    "other_bands.append(slope)\n",
    "aspect = ee.Terrain.aspect(elevation).select(['aspect']).rename(['aspect'])\n",
    "other_bands.append(aspect)\n",
    "\n",
    "nhd_area_tx = ee.FeatureCollection(f\"projects/sat-io/open-datasets/NHD/NHD_{sts_abbrv[0]}/NHDArea\")\n",
    "nhd_flowline_tx = ee.FeatureCollection(f\"projects/sat-io/open-datasets/NHD/NHD_{sts_abbrv[0]}/NHDFlowline\")\n",
    "nhd_tx = nhd_area_tx.merge(nhd_flowline_tx)\n",
    "nhd_area_nm = ee.FeatureCollection(f\"projects/sat-io/open-datasets/NHD/NHD_{sts_abbrv[1]}/NHDArea\")\n",
    "nhd_flowline_nm = ee.FeatureCollection(f\"projects/sat-io/open-datasets/NHD/NHD_{sts_abbrv[1]}/NHDFlowline\")\n",
    "nhd_nm = nhd_area_nm.merge(nhd_flowline_nm)\n",
    "nhd = nhd_tx.merge(nhd_nm)\n",
    "dist_nhd = nhd.distance(searchRadius=50000, maxError=50)\n",
    "#dist_nhd = dist_nhd.clip(ee_items[num]) #change clip area\n",
    "dist_nhd = dist_nhd.select(['distance'])\n",
    "dist_nhd = dist_nhd.rename('dist_drain')\n",
    "other_bands.append(dist_nhd)\n",
    "\n",
    "#roads = ee.FeatureCollection('TIGER/2016/Roads')\n",
    "#dist_roads = roads.distance(searchRadius=50000, maxError=50)\n",
    "#dist_roads = dist_roads.select(['distance'])\n",
    "#dist_roads = dist_roads.rename('dist_road')\n",
    "#other_bands.append(dist_roads)\n",
    "\n",
    "print(other_bands)"
   ]
  },
  {
   "cell_type": "code",
   "execution_count": 25,
   "id": "6b097b10-208d-4e45-8433-59e3aa2fffeb",
   "metadata": {},
   "outputs": [
    {
     "data": {
      "text/html": [
       "\n",
       "            <style>\n",
       "                .geemap-dark {\n",
       "                    --jp-widgets-color: white;\n",
       "                    --jp-widgets-label-color: white;\n",
       "                    --jp-ui-font-color1: white;\n",
       "                    --jp-layout-color2: #454545;\n",
       "                    background-color: #383838;\n",
       "                }\n",
       "                    \n",
       "                .geemap-dark .jupyter-button {\n",
       "                    --jp-layout-color3: #383838;\n",
       "                }\n",
       "                \n",
       "                .geemap-colab {\n",
       "                    background-color: var(--colab-primary-surface-color, white);\n",
       "                }\n",
       "                    \n",
       "                .geemap-colab .jupyter-button {\n",
       "                    --jp-layout-color3: var(--colab-primary-surface-color, white);\n",
       "                }\n",
       "            </style>\n",
       "            "
      ],
      "text/plain": [
       "<IPython.core.display.HTML object>"
      ]
     },
     "metadata": {},
     "output_type": "display_data"
    }
   ],
   "source": [
    "import re\n",
    "#roi = ee.FeatureCollection('projects/ee-jdawsey/assets/acc_points_wCoords')\n",
    "shp_list = []\n",
    "for file in os.listdir(shp_dir):\n",
    "    shps = []\n",
    "    regex_gcs = re.compile(r'[0-9]_gcs+')\n",
    "    if file.endswith('.shp'):\n",
    "        shps.append(f'{shp_dir}/{file}')\n",
    "    for shp in shps:\n",
    "        if (regex_gcs.search(shp) == None) == True:\n",
    "            shp_list.append(geemap.shp_to_ee(shp))\n",
    "        else:\n",
    "            pass\n",
    "first_shape = shp_list[0]\n",
    "shp_list.pop(0)\n",
    "for shp in shp_list:\n",
    "    first_shape.merge(shp)\n",
    "\n",
    "\n",
    "############# need to figure out how to prevent it being a collection of collections\n",
    "roi = first_shape"
   ]
  },
  {
   "cell_type": "code",
   "execution_count": 7,
   "id": "43942ba6-6eaa-46b3-9598-99ce93394966",
   "metadata": {},
   "outputs": [
    {
     "data": {
      "text/html": [
       "\n",
       "            <style>\n",
       "                .geemap-dark {\n",
       "                    --jp-widgets-color: white;\n",
       "                    --jp-widgets-label-color: white;\n",
       "                    --jp-ui-font-color1: white;\n",
       "                    --jp-layout-color2: #454545;\n",
       "                    background-color: #383838;\n",
       "                }\n",
       "                    \n",
       "                .geemap-dark .jupyter-button {\n",
       "                    --jp-layout-color3: #383838;\n",
       "                }\n",
       "                \n",
       "                .geemap-colab {\n",
       "                    background-color: var(--colab-primary-surface-color, white);\n",
       "                }\n",
       "                    \n",
       "                .geemap-colab .jupyter-button {\n",
       "                    --jp-layout-color3: var(--colab-primary-surface-color, white);\n",
       "                }\n",
       "            </style>\n",
       "            "
      ],
      "text/plain": [
       "<IPython.core.display.HTML object>"
      ]
     },
     "metadata": {},
     "output_type": "display_data"
    }
   ],
   "source": [
    "shp_directory = 'D:/!!Research/!!!Data/ArcGIS_Projects/'\n",
    "points_dir = f'{shp_directory}/useful_gdbs_and_shps/acc_points/'\n",
    "#points_name = '....shp'\n",
    "points_path = f'{points_dir}acc_point_wCoord.shp'\n",
    "roi = geemap.shp_to_ee(points_path)"
   ]
  },
  {
   "cell_type": "code",
   "execution_count": 22,
   "id": "bd7758c4-ddef-4432-8e0b-20aef940d6cc",
   "metadata": {
    "scrolled": true
   },
   "outputs": [
    {
     "data": {
      "text/html": [
       "\n",
       "            <style>\n",
       "                .geemap-dark {\n",
       "                    --jp-widgets-color: white;\n",
       "                    --jp-widgets-label-color: white;\n",
       "                    --jp-ui-font-color1: white;\n",
       "                    --jp-layout-color2: #454545;\n",
       "                    background-color: #383838;\n",
       "                }\n",
       "                    \n",
       "                .geemap-dark .jupyter-button {\n",
       "                    --jp-layout-color3: #383838;\n",
       "                }\n",
       "                \n",
       "                .geemap-colab {\n",
       "                    background-color: var(--colab-primary-surface-color, white);\n",
       "                }\n",
       "                    \n",
       "                .geemap-colab .jupyter-button {\n",
       "                    --jp-layout-color3: var(--colab-primary-surface-color, white);\n",
       "                }\n",
       "            </style>\n",
       "            "
      ],
      "text/plain": [
       "<IPython.core.display.HTML object>"
      ]
     },
     "metadata": {},
     "output_type": "display_data"
    },
    {
     "ename": "EEException",
     "evalue": "ImageCollection.mosaic: Error in map(ID=LC08_030037_20160609):\nImage.select, argument 'bandSelectors': Invalid type.\nExpected type: List<Object>.\nActual type: String.\nActual value: B1",
     "output_type": "error",
     "traceback": [
      "\u001b[1;31m---------------------------------------------------------------------------\u001b[0m",
      "\u001b[1;31mHttpError\u001b[0m                                 Traceback (most recent call last)",
      "File \u001b[1;32m~\\miniconda3\\envs\\gee_env\\Lib\\site-packages\\ee\\data.py:394\u001b[0m, in \u001b[0;36m_execute_cloud_call\u001b[1;34m(call, num_retries)\u001b[0m\n\u001b[0;32m    393\u001b[0m \u001b[38;5;28;01mtry\u001b[39;00m:\n\u001b[1;32m--> 394\u001b[0m   \u001b[38;5;28;01mreturn\u001b[39;00m \u001b[43mcall\u001b[49m\u001b[38;5;241;43m.\u001b[39;49m\u001b[43mexecute\u001b[49m\u001b[43m(\u001b[49m\u001b[43mnum_retries\u001b[49m\u001b[38;5;241;43m=\u001b[39;49m\u001b[43mnum_retries\u001b[49m\u001b[43m)\u001b[49m\n\u001b[0;32m    395\u001b[0m \u001b[38;5;28;01mexcept\u001b[39;00m googleapiclient\u001b[38;5;241m.\u001b[39merrors\u001b[38;5;241m.\u001b[39mHttpError \u001b[38;5;28;01mas\u001b[39;00m e:\n",
      "File \u001b[1;32m~\\miniconda3\\envs\\gee_env\\Lib\\site-packages\\googleapiclient\\_helpers.py:130\u001b[0m, in \u001b[0;36mpositional.<locals>.positional_decorator.<locals>.positional_wrapper\u001b[1;34m(*args, **kwargs)\u001b[0m\n\u001b[0;32m    129\u001b[0m         logger\u001b[38;5;241m.\u001b[39mwarning(message)\n\u001b[1;32m--> 130\u001b[0m \u001b[38;5;28;01mreturn\u001b[39;00m \u001b[43mwrapped\u001b[49m\u001b[43m(\u001b[49m\u001b[38;5;241;43m*\u001b[39;49m\u001b[43margs\u001b[49m\u001b[43m,\u001b[49m\u001b[43m \u001b[49m\u001b[38;5;241;43m*\u001b[39;49m\u001b[38;5;241;43m*\u001b[39;49m\u001b[43mkwargs\u001b[49m\u001b[43m)\u001b[49m\n",
      "File \u001b[1;32m~\\miniconda3\\envs\\gee_env\\Lib\\site-packages\\googleapiclient\\http.py:938\u001b[0m, in \u001b[0;36mHttpRequest.execute\u001b[1;34m(self, http, num_retries)\u001b[0m\n\u001b[0;32m    937\u001b[0m \u001b[38;5;28;01mif\u001b[39;00m resp\u001b[38;5;241m.\u001b[39mstatus \u001b[38;5;241m>\u001b[39m\u001b[38;5;241m=\u001b[39m \u001b[38;5;241m300\u001b[39m:\n\u001b[1;32m--> 938\u001b[0m     \u001b[38;5;28;01mraise\u001b[39;00m HttpError(resp, content, uri\u001b[38;5;241m=\u001b[39m\u001b[38;5;28mself\u001b[39m\u001b[38;5;241m.\u001b[39muri)\n\u001b[0;32m    939\u001b[0m \u001b[38;5;28;01mreturn\u001b[39;00m \u001b[38;5;28mself\u001b[39m\u001b[38;5;241m.\u001b[39mpostproc(resp, content)\n",
      "\u001b[1;31mHttpError\u001b[0m: <HttpError 400 when requesting https://earthengine.googleapis.com/v1/projects/earthengine-legacy/value:compute?prettyPrint=false&alt=json returned \"ImageCollection.mosaic: Error in map(ID=LC08_030037_20160609):\nImage.select, argument 'bandSelectors': Invalid type.\nExpected type: List<Object>.\nActual type: String.\nActual value: B1\". Details: \"ImageCollection.mosaic: Error in map(ID=LC08_030037_20160609):\nImage.select, argument 'bandSelectors': Invalid type.\nExpected type: List<Object>.\nActual type: String.\nActual value: B1\">",
      "\nDuring handling of the above exception, another exception occurred:\n",
      "\u001b[1;31mEEException\u001b[0m                               Traceback (most recent call last)",
      "Cell \u001b[1;32mIn[22], line 30\u001b[0m\n\u001b[0;32m     28\u001b[0m \u001b[38;5;66;03m# Apply normalization to the collection\u001b[39;00m\n\u001b[0;32m     29\u001b[0m normalized_collection \u001b[38;5;241m=\u001b[39m landsat_collection\u001b[38;5;241m.\u001b[39mmap(normalize)\u001b[38;5;241m.\u001b[39mmosaic()\n\u001b[1;32m---> 30\u001b[0m \u001b[43mnormalized_collection\u001b[49m\u001b[38;5;241;43m.\u001b[39;49m\u001b[43mbandNames\u001b[49m\u001b[43m(\u001b[49m\u001b[43m)\u001b[49m\u001b[38;5;241;43m.\u001b[39;49m\u001b[43mgetInfo\u001b[49m\u001b[43m(\u001b[49m\u001b[43m)\u001b[49m\n\u001b[0;32m     32\u001b[0m \u001b[38;5;66;03m# Mosaic the normalized collection\u001b[39;00m\n\u001b[0;32m     33\u001b[0m \u001b[38;5;66;03m#ls_mosaic = normalized_collection.mosaic().clip(roi)\u001b[39;00m\n\u001b[0;32m     34\u001b[0m \n\u001b[0;32m     35\u001b[0m \u001b[38;5;66;03m#ls_mosaic.bandNames().getInfo()\u001b[39;00m\n\u001b[0;32m     36\u001b[0m \u001b[38;5;124;03m\"\"\"\u001b[39;00m\n\u001b[0;32m     37\u001b[0m \u001b[38;5;124;03m#ls_bands = []\u001b[39;00m\n\u001b[0;32m     38\u001b[0m \u001b[38;5;124;03mfor band in ls_mosaic.bandNames().getInfo():\u001b[39;00m\n\u001b[1;32m   (...)\u001b[0m\n\u001b[0;32m     42\u001b[0m \u001b[38;5;124;03mprint(other_bands)\u001b[39;00m\n\u001b[0;32m     43\u001b[0m \u001b[38;5;124;03m\"\"\"\u001b[39;00m\n",
      "File \u001b[1;32m~\\miniconda3\\envs\\gee_env\\Lib\\site-packages\\ee\\computedobject.py:107\u001b[0m, in \u001b[0;36mComputedObject.getInfo\u001b[1;34m(self)\u001b[0m\n\u001b[0;32m    101\u001b[0m \u001b[38;5;28;01mdef\u001b[39;00m \u001b[38;5;21mgetInfo\u001b[39m(\u001b[38;5;28mself\u001b[39m) \u001b[38;5;241m-\u001b[39m\u001b[38;5;241m>\u001b[39m Optional[Any]:\n\u001b[0;32m    102\u001b[0m \u001b[38;5;250m  \u001b[39m\u001b[38;5;124;03m\"\"\"Fetch and return information about this object.\u001b[39;00m\n\u001b[0;32m    103\u001b[0m \n\u001b[0;32m    104\u001b[0m \u001b[38;5;124;03m  Returns:\u001b[39;00m\n\u001b[0;32m    105\u001b[0m \u001b[38;5;124;03m    The object can evaluate to anything.\u001b[39;00m\n\u001b[0;32m    106\u001b[0m \u001b[38;5;124;03m  \"\"\"\u001b[39;00m\n\u001b[1;32m--> 107\u001b[0m   \u001b[38;5;28;01mreturn\u001b[39;00m \u001b[43mdata\u001b[49m\u001b[38;5;241;43m.\u001b[39;49m\u001b[43mcomputeValue\u001b[49m\u001b[43m(\u001b[49m\u001b[38;5;28;43mself\u001b[39;49m\u001b[43m)\u001b[49m\n",
      "File \u001b[1;32m~\\miniconda3\\envs\\gee_env\\Lib\\site-packages\\ee\\data.py:1093\u001b[0m, in \u001b[0;36mcomputeValue\u001b[1;34m(obj)\u001b[0m\n\u001b[0;32m   1090\u001b[0m body \u001b[38;5;241m=\u001b[39m {\u001b[38;5;124m'\u001b[39m\u001b[38;5;124mexpression\u001b[39m\u001b[38;5;124m'\u001b[39m: serializer\u001b[38;5;241m.\u001b[39mencode(obj, for_cloud_api\u001b[38;5;241m=\u001b[39m\u001b[38;5;28;01mTrue\u001b[39;00m)}\n\u001b[0;32m   1091\u001b[0m _maybe_populate_workload_tag(body)\n\u001b[1;32m-> 1093\u001b[0m \u001b[38;5;28;01mreturn\u001b[39;00m \u001b[43m_execute_cloud_call\u001b[49m\u001b[43m(\u001b[49m\n\u001b[0;32m   1094\u001b[0m \u001b[43m    \u001b[49m\u001b[43m_get_cloud_projects\u001b[49m\u001b[43m(\u001b[49m\u001b[43m)\u001b[49m\n\u001b[0;32m   1095\u001b[0m \u001b[43m    \u001b[49m\u001b[38;5;241;43m.\u001b[39;49m\u001b[43mvalue\u001b[49m\u001b[43m(\u001b[49m\u001b[43m)\u001b[49m\n\u001b[0;32m   1096\u001b[0m \u001b[43m    \u001b[49m\u001b[38;5;241;43m.\u001b[39;49m\u001b[43mcompute\u001b[49m\u001b[43m(\u001b[49m\u001b[43mbody\u001b[49m\u001b[38;5;241;43m=\u001b[39;49m\u001b[43mbody\u001b[49m\u001b[43m,\u001b[49m\u001b[43m \u001b[49m\u001b[43mproject\u001b[49m\u001b[38;5;241;43m=\u001b[39;49m\u001b[43m_get_projects_path\u001b[49m\u001b[43m(\u001b[49m\u001b[43m)\u001b[49m\u001b[43m,\u001b[49m\u001b[43m \u001b[49m\u001b[43mprettyPrint\u001b[49m\u001b[38;5;241;43m=\u001b[39;49m\u001b[38;5;28;43;01mFalse\u001b[39;49;00m\u001b[43m)\u001b[49m\n\u001b[0;32m   1097\u001b[0m \u001b[43m\u001b[49m\u001b[43m)\u001b[49m[\u001b[38;5;124m'\u001b[39m\u001b[38;5;124mresult\u001b[39m\u001b[38;5;124m'\u001b[39m]\n",
      "File \u001b[1;32m~\\miniconda3\\envs\\gee_env\\Lib\\site-packages\\ee\\data.py:396\u001b[0m, in \u001b[0;36m_execute_cloud_call\u001b[1;34m(call, num_retries)\u001b[0m\n\u001b[0;32m    394\u001b[0m   \u001b[38;5;28;01mreturn\u001b[39;00m call\u001b[38;5;241m.\u001b[39mexecute(num_retries\u001b[38;5;241m=\u001b[39mnum_retries)\n\u001b[0;32m    395\u001b[0m \u001b[38;5;28;01mexcept\u001b[39;00m googleapiclient\u001b[38;5;241m.\u001b[39merrors\u001b[38;5;241m.\u001b[39mHttpError \u001b[38;5;28;01mas\u001b[39;00m e:\n\u001b[1;32m--> 396\u001b[0m   \u001b[38;5;28;01mraise\u001b[39;00m _translate_cloud_exception(e)\n",
      "\u001b[1;31mEEException\u001b[0m: ImageCollection.mosaic: Error in map(ID=LC08_030037_20160609):\nImage.select, argument 'bandSelectors': Invalid type.\nExpected type: List<Object>.\nActual type: String.\nActual value: B1"
     ]
    }
   ],
   "source": [
    "# Define a time period\n",
    "start_date = '2016-06-01'\n",
    "end_date = '2016-09-30'\n",
    "\n",
    "# Load Landsat 8 image collection\n",
    "landsat_collection = ee.ImageCollection('LANDSAT/LC08/C01/T1_SR').filterBounds(roi).filterDate(start_date, end_date).filterMetadata('CLOUD_COVER', 'less_than', 20)\n",
    "\n",
    "# Function to normalize an image\n",
    "def normalize(image):\n",
    "    band_names = image.bandNames()\n",
    "    min_max = image.reduceRegion(\n",
    "        reducer=ee.Reducer.minMax(),\n",
    "        geometry=roi,\n",
    "        scale=30,\n",
    "        maxPixels=1e9\n",
    "    )\n",
    "    min_dict = ee.Dictionary(min_max.select(band_names.map(lambda band: ee.String(band).cat('_min'))))\n",
    "    max_dict = ee.Dictionary(min_max.select(band_names.map(lambda band: ee.String(band).cat('_max'))))\n",
    "    \n",
    "    def scale_band(band):\n",
    "        min_val = ee.Number(min_dict.get(ee.String(band).cat('_min')))\n",
    "        max_val = ee.Number(max_dict.get(ee.String(band).cat('_max')))\n",
    "        return image.select(band).subtract(min_val).divide(max_val.subtract(min_val))\n",
    "\n",
    "    scaled_bands = band_names.map(scale_band)\n",
    "    return ee.Image(scaled_bands).rename(band_names)\n",
    "\n",
    "# Apply normalization to the collection\n",
    "normalized_collection = landsat_collection.map(normalize).mosaic()\n",
    "normalized_collection.bandNames().getInfo()\n",
    "\n",
    "# Mosaic the normalized collection\n",
    "#ls_mosaic = normalized_collection.mosaic().clip(roi)\n",
    "\n",
    "#ls_mosaic.bandNames().getInfo()\n",
    "\"\"\"\n",
    "#ls_bands = []\n",
    "for band in ls_mosaic.bandNames().getInfo():\n",
    "    other_bands.append(ls_mosaic.select(['band']))\n",
    "\n",
    "#other_bands.append(ls_mosaic)\n",
    "print(other_bands)\n",
    "\"\"\""
   ]
  },
  {
   "cell_type": "code",
   "execution_count": 18,
   "id": "86ff3d4a-037c-4c06-bad6-6cbf16e764a8",
   "metadata": {
    "scrolled": true
   },
   "outputs": [
    {
     "data": {
      "text/html": [
       "\n",
       "            <style>\n",
       "                .geemap-dark {\n",
       "                    --jp-widgets-color: white;\n",
       "                    --jp-widgets-label-color: white;\n",
       "                    --jp-ui-font-color1: white;\n",
       "                    --jp-layout-color2: #454545;\n",
       "                    background-color: #383838;\n",
       "                }\n",
       "                    \n",
       "                .geemap-dark .jupyter-button {\n",
       "                    --jp-layout-color3: #383838;\n",
       "                }\n",
       "                \n",
       "                .geemap-colab {\n",
       "                    background-color: var(--colab-primary-surface-color, white);\n",
       "                }\n",
       "                    \n",
       "                .geemap-colab .jupyter-button {\n",
       "                    --jp-layout-color3: var(--colab-primary-surface-color, white);\n",
       "                }\n",
       "            </style>\n",
       "            "
      ],
      "text/plain": [
       "<IPython.core.display.HTML object>"
      ]
     },
     "metadata": {},
     "output_type": "display_data"
    },
    {
     "ename": "EEException",
     "evalue": "ImageCollection.mosaic: Error in map(ID=LC08_030037_20160609):\nImage.select, argument 'bandSelectors': Invalid type.\nExpected type: List<Object>.\nActual type: String.\nActual value: B1",
     "output_type": "error",
     "traceback": [
      "\u001b[1;31m---------------------------------------------------------------------------\u001b[0m",
      "\u001b[1;31mHttpError\u001b[0m                                 Traceback (most recent call last)",
      "File \u001b[1;32m~\\miniconda3\\envs\\gee_env\\Lib\\site-packages\\ee\\data.py:394\u001b[0m, in \u001b[0;36m_execute_cloud_call\u001b[1;34m(call, num_retries)\u001b[0m\n\u001b[0;32m    393\u001b[0m \u001b[38;5;28;01mtry\u001b[39;00m:\n\u001b[1;32m--> 394\u001b[0m   \u001b[38;5;28;01mreturn\u001b[39;00m \u001b[43mcall\u001b[49m\u001b[38;5;241;43m.\u001b[39;49m\u001b[43mexecute\u001b[49m\u001b[43m(\u001b[49m\u001b[43mnum_retries\u001b[49m\u001b[38;5;241;43m=\u001b[39;49m\u001b[43mnum_retries\u001b[49m\u001b[43m)\u001b[49m\n\u001b[0;32m    395\u001b[0m \u001b[38;5;28;01mexcept\u001b[39;00m googleapiclient\u001b[38;5;241m.\u001b[39merrors\u001b[38;5;241m.\u001b[39mHttpError \u001b[38;5;28;01mas\u001b[39;00m e:\n",
      "File \u001b[1;32m~\\miniconda3\\envs\\gee_env\\Lib\\site-packages\\googleapiclient\\_helpers.py:130\u001b[0m, in \u001b[0;36mpositional.<locals>.positional_decorator.<locals>.positional_wrapper\u001b[1;34m(*args, **kwargs)\u001b[0m\n\u001b[0;32m    129\u001b[0m         logger\u001b[38;5;241m.\u001b[39mwarning(message)\n\u001b[1;32m--> 130\u001b[0m \u001b[38;5;28;01mreturn\u001b[39;00m \u001b[43mwrapped\u001b[49m\u001b[43m(\u001b[49m\u001b[38;5;241;43m*\u001b[39;49m\u001b[43margs\u001b[49m\u001b[43m,\u001b[49m\u001b[43m \u001b[49m\u001b[38;5;241;43m*\u001b[39;49m\u001b[38;5;241;43m*\u001b[39;49m\u001b[43mkwargs\u001b[49m\u001b[43m)\u001b[49m\n",
      "File \u001b[1;32m~\\miniconda3\\envs\\gee_env\\Lib\\site-packages\\googleapiclient\\http.py:938\u001b[0m, in \u001b[0;36mHttpRequest.execute\u001b[1;34m(self, http, num_retries)\u001b[0m\n\u001b[0;32m    937\u001b[0m \u001b[38;5;28;01mif\u001b[39;00m resp\u001b[38;5;241m.\u001b[39mstatus \u001b[38;5;241m>\u001b[39m\u001b[38;5;241m=\u001b[39m \u001b[38;5;241m300\u001b[39m:\n\u001b[1;32m--> 938\u001b[0m     \u001b[38;5;28;01mraise\u001b[39;00m HttpError(resp, content, uri\u001b[38;5;241m=\u001b[39m\u001b[38;5;28mself\u001b[39m\u001b[38;5;241m.\u001b[39muri)\n\u001b[0;32m    939\u001b[0m \u001b[38;5;28;01mreturn\u001b[39;00m \u001b[38;5;28mself\u001b[39m\u001b[38;5;241m.\u001b[39mpostproc(resp, content)\n",
      "\u001b[1;31mHttpError\u001b[0m: <HttpError 400 when requesting https://earthengine.googleapis.com/v1/projects/earthengine-legacy/maps?fields=name&alt=json returned \"ImageCollection.mosaic: Error in map(ID=LC08_030037_20160609):\nImage.select, argument 'bandSelectors': Invalid type.\nExpected type: List<Object>.\nActual type: String.\nActual value: B1\". Details: \"ImageCollection.mosaic: Error in map(ID=LC08_030037_20160609):\nImage.select, argument 'bandSelectors': Invalid type.\nExpected type: List<Object>.\nActual type: String.\nActual value: B1\">",
      "\nDuring handling of the above exception, another exception occurred:\n",
      "\u001b[1;31mEEException\u001b[0m                               Traceback (most recent call last)",
      "Cell \u001b[1;32mIn[18], line 9\u001b[0m\n\u001b[0;32m      2\u001b[0m Map\n\u001b[0;32m      4\u001b[0m vis_param_gauss \u001b[38;5;241m=\u001b[39m {\u001b[38;5;124m'\u001b[39m\u001b[38;5;124mbands\u001b[39m\u001b[38;5;124m'\u001b[39m : [\u001b[38;5;124m'\u001b[39m\u001b[38;5;124mb1\u001b[39m\u001b[38;5;124m'\u001b[39m], \n\u001b[0;32m      5\u001b[0m                \u001b[38;5;124m'\u001b[39m\u001b[38;5;124mmin\u001b[39m\u001b[38;5;124m'\u001b[39m : \u001b[38;5;241m0\u001b[39m, \n\u001b[0;32m      6\u001b[0m                \u001b[38;5;124m'\u001b[39m\u001b[38;5;124mmax\u001b[39m\u001b[38;5;124m'\u001b[39m : \u001b[38;5;241m1\u001b[39m,\n\u001b[0;32m      7\u001b[0m                \u001b[38;5;124m'\u001b[39m\u001b[38;5;124mgamma\u001b[39m\u001b[38;5;124m'\u001b[39m : \u001b[38;5;241m1\u001b[39m}\n\u001b[1;32m----> 9\u001b[0m \u001b[43mMap\u001b[49m\u001b[38;5;241;43m.\u001b[39;49m\u001b[43maddLayer\u001b[49m\u001b[43m(\u001b[49m\u001b[43mls_mosaic\u001b[49m\u001b[43m,\u001b[49m\u001b[43m \u001b[49m\u001b[43mvis_param_gauss\u001b[49m\u001b[43m)\u001b[49m\n",
      "File \u001b[1;32m~\\miniconda3\\envs\\gee_env\\Lib\\site-packages\\geemap\\geemap.py:342\u001b[0m, in \u001b[0;36mMap.add_ee_layer\u001b[1;34m(self, ee_object, vis_params, name, shown, opacity)\u001b[0m\n\u001b[0;32m    337\u001b[0m         \u001b[38;5;28;01mif\u001b[39;00m has_plot_dropdown:\n\u001b[0;32m    338\u001b[0m             \u001b[38;5;28mself\u001b[39m\u001b[38;5;241m.\u001b[39m_plot_dropdown_widget\u001b[38;5;241m.\u001b[39moptions \u001b[38;5;241m=\u001b[39m \u001b[38;5;28mlist\u001b[39m(\n\u001b[0;32m    339\u001b[0m                 \u001b[38;5;28mself\u001b[39m\u001b[38;5;241m.\u001b[39mee_raster_layers\u001b[38;5;241m.\u001b[39mkeys()\n\u001b[0;32m    340\u001b[0m             )\n\u001b[1;32m--> 342\u001b[0m \u001b[38;5;28;43msuper\u001b[39;49m\u001b[43m(\u001b[49m\u001b[43m)\u001b[49m\u001b[38;5;241;43m.\u001b[39;49m\u001b[43madd_layer\u001b[49m\u001b[43m(\u001b[49m\u001b[43mee_object\u001b[49m\u001b[43m,\u001b[49m\u001b[43m \u001b[49m\u001b[43mvis_params\u001b[49m\u001b[43m,\u001b[49m\u001b[43m \u001b[49m\u001b[43mname\u001b[49m\u001b[43m,\u001b[49m\u001b[43m \u001b[49m\u001b[43mshown\u001b[49m\u001b[43m,\u001b[49m\u001b[43m \u001b[49m\u001b[43mopacity\u001b[49m\u001b[43m)\u001b[49m\n\u001b[0;32m    344\u001b[0m \u001b[38;5;28;01mif\u001b[39;00m \u001b[38;5;28misinstance\u001b[39m(ee_object, (ee\u001b[38;5;241m.\u001b[39mImage, ee\u001b[38;5;241m.\u001b[39mImageCollection)):\n\u001b[0;32m    345\u001b[0m     \u001b[38;5;28;01mif\u001b[39;00m has_plot_dropdown:\n",
      "File \u001b[1;32m~\\miniconda3\\envs\\gee_env\\Lib\\site-packages\\geemap\\core.py:754\u001b[0m, in \u001b[0;36mMap.add_layer\u001b[1;34m(self, ee_object, vis_params, name, shown, opacity)\u001b[0m\n\u001b[0;32m    752\u001b[0m \u001b[38;5;28;01mif\u001b[39;00m name \u001b[38;5;129;01mis\u001b[39;00m \u001b[38;5;28;01mNone\u001b[39;00m:\n\u001b[0;32m    753\u001b[0m     name \u001b[38;5;241m=\u001b[39m \u001b[38;5;124mf\u001b[39m\u001b[38;5;124m\"\u001b[39m\u001b[38;5;124mLayer \u001b[39m\u001b[38;5;132;01m{\u001b[39;00m\u001b[38;5;28mlen\u001b[39m(\u001b[38;5;28mself\u001b[39m\u001b[38;5;241m.\u001b[39mee_layers)\u001b[38;5;250m \u001b[39m\u001b[38;5;241m+\u001b[39m\u001b[38;5;250m \u001b[39m\u001b[38;5;241m1\u001b[39m\u001b[38;5;132;01m}\u001b[39;00m\u001b[38;5;124m\"\u001b[39m\n\u001b[1;32m--> 754\u001b[0m tile_layer \u001b[38;5;241m=\u001b[39m \u001b[43mee_tile_layers\u001b[49m\u001b[38;5;241;43m.\u001b[39;49m\u001b[43mEELeafletTileLayer\u001b[49m\u001b[43m(\u001b[49m\n\u001b[0;32m    755\u001b[0m \u001b[43m    \u001b[49m\u001b[43mee_object\u001b[49m\u001b[43m,\u001b[49m\u001b[43m \u001b[49m\u001b[43mvis_params\u001b[49m\u001b[43m,\u001b[49m\u001b[43m \u001b[49m\u001b[43mname\u001b[49m\u001b[43m,\u001b[49m\u001b[43m \u001b[49m\u001b[43mshown\u001b[49m\u001b[43m,\u001b[49m\u001b[43m \u001b[49m\u001b[43mopacity\u001b[49m\n\u001b[0;32m    756\u001b[0m \u001b[43m\u001b[49m\u001b[43m)\u001b[49m\n\u001b[0;32m    758\u001b[0m \u001b[38;5;66;03m# Remove the layer if it already exists.\u001b[39;00m\n\u001b[0;32m    759\u001b[0m \u001b[38;5;28mself\u001b[39m\u001b[38;5;241m.\u001b[39mremove(name)\n",
      "File \u001b[1;32m~\\miniconda3\\envs\\gee_env\\Lib\\site-packages\\geemap\\ee_tile_layers.py:144\u001b[0m, in \u001b[0;36mEELeafletTileLayer.__init__\u001b[1;34m(self, ee_object, vis_params, name, shown, opacity, **kwargs)\u001b[0m\n\u001b[0;32m    134\u001b[0m \u001b[38;5;250m\u001b[39m\u001b[38;5;124;03m\"\"\"Initialize the ipyleaflet tile layer.\u001b[39;00m\n\u001b[0;32m    135\u001b[0m \n\u001b[0;32m    136\u001b[0m \u001b[38;5;124;03mArgs:\u001b[39;00m\n\u001b[1;32m   (...)\u001b[0m\n\u001b[0;32m    141\u001b[0m \u001b[38;5;124;03m    opacity (float, optional): The layer's opacity represented as a number between 0 and 1. Defaults to 1.\u001b[39;00m\n\u001b[0;32m    142\u001b[0m \u001b[38;5;124;03m\"\"\"\u001b[39;00m\n\u001b[0;32m    143\u001b[0m \u001b[38;5;28mself\u001b[39m\u001b[38;5;241m.\u001b[39m_ee_object \u001b[38;5;241m=\u001b[39m ee_object\n\u001b[1;32m--> 144\u001b[0m \u001b[38;5;28mself\u001b[39m\u001b[38;5;241m.\u001b[39murl_format \u001b[38;5;241m=\u001b[39m \u001b[43m_get_tile_url_format\u001b[49m\u001b[43m(\u001b[49m\n\u001b[0;32m    145\u001b[0m \u001b[43m    \u001b[49m\u001b[43mee_object\u001b[49m\u001b[43m,\u001b[49m\u001b[43m \u001b[49m\u001b[43m_validate_vis_params\u001b[49m\u001b[43m(\u001b[49m\u001b[43mvis_params\u001b[49m\u001b[43m)\u001b[49m\n\u001b[0;32m    146\u001b[0m \u001b[43m\u001b[49m\u001b[43m)\u001b[49m\n\u001b[0;32m    147\u001b[0m \u001b[38;5;28msuper\u001b[39m()\u001b[38;5;241m.\u001b[39m\u001b[38;5;21m__init__\u001b[39m(\n\u001b[0;32m    148\u001b[0m     url\u001b[38;5;241m=\u001b[39m\u001b[38;5;28mself\u001b[39m\u001b[38;5;241m.\u001b[39murl_format,\n\u001b[0;32m    149\u001b[0m     attribution\u001b[38;5;241m=\u001b[39m\u001b[38;5;124m\"\u001b[39m\u001b[38;5;124mGoogle Earth Engine\u001b[39m\u001b[38;5;124m\"\u001b[39m,\n\u001b[1;32m   (...)\u001b[0m\n\u001b[0;32m    154\u001b[0m     \u001b[38;5;241m*\u001b[39m\u001b[38;5;241m*\u001b[39mkwargs,\n\u001b[0;32m    155\u001b[0m )\n",
      "File \u001b[1;32m~\\miniconda3\\envs\\gee_env\\Lib\\site-packages\\geemap\\ee_tile_layers.py:19\u001b[0m, in \u001b[0;36m_get_tile_url_format\u001b[1;34m(ee_object, vis_params)\u001b[0m\n\u001b[0;32m     17\u001b[0m \u001b[38;5;28;01mdef\u001b[39;00m \u001b[38;5;21m_get_tile_url_format\u001b[39m(ee_object, vis_params):\n\u001b[0;32m     18\u001b[0m     image \u001b[38;5;241m=\u001b[39m _ee_object_to_image(ee_object, vis_params)\n\u001b[1;32m---> 19\u001b[0m     map_id_dict \u001b[38;5;241m=\u001b[39m \u001b[43mee\u001b[49m\u001b[38;5;241;43m.\u001b[39;49m\u001b[43mImage\u001b[49m\u001b[43m(\u001b[49m\u001b[43mimage\u001b[49m\u001b[43m)\u001b[49m\u001b[38;5;241;43m.\u001b[39;49m\u001b[43mgetMapId\u001b[49m\u001b[43m(\u001b[49m\u001b[43mvis_params\u001b[49m\u001b[43m)\u001b[49m\n\u001b[0;32m     20\u001b[0m     \u001b[38;5;28;01mreturn\u001b[39;00m map_id_dict[\u001b[38;5;124m\"\u001b[39m\u001b[38;5;124mtile_fetcher\u001b[39m\u001b[38;5;124m\"\u001b[39m]\u001b[38;5;241m.\u001b[39murl_format\n",
      "File \u001b[1;32m~\\miniconda3\\envs\\gee_env\\Lib\\site-packages\\ee\\image.py:129\u001b[0m, in \u001b[0;36mImage.getMapId\u001b[1;34m(self, vis_params)\u001b[0m\n\u001b[0;32m    127\u001b[0m vis_image, request \u001b[38;5;241m=\u001b[39m \u001b[38;5;28mself\u001b[39m\u001b[38;5;241m.\u001b[39m_apply_visualization(vis_params)\n\u001b[0;32m    128\u001b[0m request[\u001b[38;5;124m'\u001b[39m\u001b[38;5;124mimage\u001b[39m\u001b[38;5;124m'\u001b[39m] \u001b[38;5;241m=\u001b[39m vis_image\n\u001b[1;32m--> 129\u001b[0m response \u001b[38;5;241m=\u001b[39m \u001b[43mdata\u001b[49m\u001b[38;5;241;43m.\u001b[39;49m\u001b[43mgetMapId\u001b[49m\u001b[43m(\u001b[49m\u001b[43mrequest\u001b[49m\u001b[43m)\u001b[49m\n\u001b[0;32m    130\u001b[0m response[\u001b[38;5;124m'\u001b[39m\u001b[38;5;124mimage\u001b[39m\u001b[38;5;124m'\u001b[39m] \u001b[38;5;241m=\u001b[39m \u001b[38;5;28mself\u001b[39m\n\u001b[0;32m    131\u001b[0m \u001b[38;5;28;01mreturn\u001b[39;00m response\n",
      "File \u001b[1;32m~\\miniconda3\\envs\\gee_env\\Lib\\site-packages\\ee\\data.py:716\u001b[0m, in \u001b[0;36mgetMapId\u001b[1;34m(params)\u001b[0m\n\u001b[0;32m    711\u001b[0m queryParams \u001b[38;5;241m=\u001b[39m {\n\u001b[0;32m    712\u001b[0m     \u001b[38;5;124m'\u001b[39m\u001b[38;5;124mfields\u001b[39m\u001b[38;5;124m'\u001b[39m: \u001b[38;5;124m'\u001b[39m\u001b[38;5;124mname\u001b[39m\u001b[38;5;124m'\u001b[39m,\n\u001b[0;32m    713\u001b[0m     \u001b[38;5;124m'\u001b[39m\u001b[38;5;124mbody\u001b[39m\u001b[38;5;124m'\u001b[39m: request,\n\u001b[0;32m    714\u001b[0m }\n\u001b[0;32m    715\u001b[0m _maybe_populate_workload_tag(queryParams)\n\u001b[1;32m--> 716\u001b[0m result \u001b[38;5;241m=\u001b[39m \u001b[43m_execute_cloud_call\u001b[49m\u001b[43m(\u001b[49m\n\u001b[0;32m    717\u001b[0m \u001b[43m    \u001b[49m\u001b[43m_get_cloud_projects\u001b[49m\u001b[43m(\u001b[49m\u001b[43m)\u001b[49m\n\u001b[0;32m    718\u001b[0m \u001b[43m    \u001b[49m\u001b[38;5;241;43m.\u001b[39;49m\u001b[43mmaps\u001b[49m\u001b[43m(\u001b[49m\u001b[43m)\u001b[49m\n\u001b[0;32m    719\u001b[0m \u001b[43m    \u001b[49m\u001b[38;5;241;43m.\u001b[39;49m\u001b[43mcreate\u001b[49m\u001b[43m(\u001b[49m\u001b[43mparent\u001b[49m\u001b[38;5;241;43m=\u001b[39;49m\u001b[43m_get_projects_path\u001b[49m\u001b[43m(\u001b[49m\u001b[43m)\u001b[49m\u001b[43m,\u001b[49m\u001b[43m \u001b[49m\u001b[38;5;241;43m*\u001b[39;49m\u001b[38;5;241;43m*\u001b[39;49m\u001b[43mqueryParams\u001b[49m\u001b[43m)\u001b[49m\n\u001b[0;32m    720\u001b[0m \u001b[43m\u001b[49m\u001b[43m)\u001b[49m\n\u001b[0;32m    721\u001b[0m map_name \u001b[38;5;241m=\u001b[39m result[\u001b[38;5;124m'\u001b[39m\u001b[38;5;124mname\u001b[39m\u001b[38;5;124m'\u001b[39m]\n\u001b[0;32m    722\u001b[0m url_format \u001b[38;5;241m=\u001b[39m \u001b[38;5;124m'\u001b[39m\u001b[38;5;132;01m%s\u001b[39;00m\u001b[38;5;124m/\u001b[39m\u001b[38;5;132;01m%s\u001b[39;00m\u001b[38;5;124m/\u001b[39m\u001b[38;5;132;01m%s\u001b[39;00m\u001b[38;5;124m/tiles/\u001b[39m\u001b[38;5;132;01m{z}\u001b[39;00m\u001b[38;5;124m/\u001b[39m\u001b[38;5;132;01m{x}\u001b[39;00m\u001b[38;5;124m/\u001b[39m\u001b[38;5;132;01m{y}\u001b[39;00m\u001b[38;5;124m'\u001b[39m \u001b[38;5;241m%\u001b[39m (\n\u001b[0;32m    723\u001b[0m     _tile_base_url, _cloud_api_utils\u001b[38;5;241m.\u001b[39mVERSION, map_name)\n",
      "File \u001b[1;32m~\\miniconda3\\envs\\gee_env\\Lib\\site-packages\\ee\\data.py:396\u001b[0m, in \u001b[0;36m_execute_cloud_call\u001b[1;34m(call, num_retries)\u001b[0m\n\u001b[0;32m    394\u001b[0m   \u001b[38;5;28;01mreturn\u001b[39;00m call\u001b[38;5;241m.\u001b[39mexecute(num_retries\u001b[38;5;241m=\u001b[39mnum_retries)\n\u001b[0;32m    395\u001b[0m \u001b[38;5;28;01mexcept\u001b[39;00m googleapiclient\u001b[38;5;241m.\u001b[39merrors\u001b[38;5;241m.\u001b[39mHttpError \u001b[38;5;28;01mas\u001b[39;00m e:\n\u001b[1;32m--> 396\u001b[0m   \u001b[38;5;28;01mraise\u001b[39;00m _translate_cloud_exception(e)\n",
      "\u001b[1;31mEEException\u001b[0m: ImageCollection.mosaic: Error in map(ID=LC08_030037_20160609):\nImage.select, argument 'bandSelectors': Invalid type.\nExpected type: List<Object>.\nActual type: String.\nActual value: B1"
     ]
    }
   ],
   "source": [
    "Map = geemap.Map()\n",
    "Map\n",
    "\n",
    "vis_param_gauss = {'bands' : ['b1'], \n",
    "               'min' : 0, \n",
    "               'max' : 1,\n",
    "               'gamma' : 1}\n",
    "\n",
    "Map.addLayer(ls_mosaic, vis_param_gauss)"
   ]
  },
  {
   "cell_type": "code",
   "execution_count": 11,
   "id": "dd952141-293a-4238-aa96-d1553b5cbb6d",
   "metadata": {},
   "outputs": [
    {
     "data": {
      "text/html": [
       "\n",
       "            <style>\n",
       "                .geemap-dark {\n",
       "                    --jp-widgets-color: white;\n",
       "                    --jp-widgets-label-color: white;\n",
       "                    --jp-ui-font-color1: white;\n",
       "                    --jp-layout-color2: #454545;\n",
       "                    background-color: #383838;\n",
       "                }\n",
       "                    \n",
       "                .geemap-dark .jupyter-button {\n",
       "                    --jp-layout-color3: #383838;\n",
       "                }\n",
       "                \n",
       "                .geemap-colab {\n",
       "                    background-color: var(--colab-primary-surface-color, white);\n",
       "                }\n",
       "                    \n",
       "                .geemap-colab .jupyter-button {\n",
       "                    --jp-layout-color3: var(--colab-primary-surface-color, white);\n",
       "                }\n",
       "            </style>\n",
       "            "
      ],
      "text/plain": [
       "<IPython.core.display.HTML object>"
      ]
     },
     "metadata": {},
     "output_type": "display_data"
    },
    {
     "ename": "EEException",
     "evalue": "ImageCollection.mosaic: Error in map(ID=LC08_030037_20160609):\nImage.select, argument 'bandSelectors': Invalid type.\nExpected type: List<Object>.\nActual type: String.\nActual value: B1",
     "output_type": "error",
     "traceback": [
      "\u001b[1;31m---------------------------------------------------------------------------\u001b[0m",
      "\u001b[1;31mHttpError\u001b[0m                                 Traceback (most recent call last)",
      "File \u001b[1;32m~\\miniconda3\\envs\\gee_env\\Lib\\site-packages\\ee\\data.py:394\u001b[0m, in \u001b[0;36m_execute_cloud_call\u001b[1;34m(call, num_retries)\u001b[0m\n\u001b[0;32m    393\u001b[0m \u001b[38;5;28;01mtry\u001b[39;00m:\n\u001b[1;32m--> 394\u001b[0m   \u001b[38;5;28;01mreturn\u001b[39;00m \u001b[43mcall\u001b[49m\u001b[38;5;241;43m.\u001b[39;49m\u001b[43mexecute\u001b[49m\u001b[43m(\u001b[49m\u001b[43mnum_retries\u001b[49m\u001b[38;5;241;43m=\u001b[39;49m\u001b[43mnum_retries\u001b[49m\u001b[43m)\u001b[49m\n\u001b[0;32m    395\u001b[0m \u001b[38;5;28;01mexcept\u001b[39;00m googleapiclient\u001b[38;5;241m.\u001b[39merrors\u001b[38;5;241m.\u001b[39mHttpError \u001b[38;5;28;01mas\u001b[39;00m e:\n",
      "File \u001b[1;32m~\\miniconda3\\envs\\gee_env\\Lib\\site-packages\\googleapiclient\\_helpers.py:130\u001b[0m, in \u001b[0;36mpositional.<locals>.positional_decorator.<locals>.positional_wrapper\u001b[1;34m(*args, **kwargs)\u001b[0m\n\u001b[0;32m    129\u001b[0m         logger\u001b[38;5;241m.\u001b[39mwarning(message)\n\u001b[1;32m--> 130\u001b[0m \u001b[38;5;28;01mreturn\u001b[39;00m \u001b[43mwrapped\u001b[49m\u001b[43m(\u001b[49m\u001b[38;5;241;43m*\u001b[39;49m\u001b[43margs\u001b[49m\u001b[43m,\u001b[49m\u001b[43m \u001b[49m\u001b[38;5;241;43m*\u001b[39;49m\u001b[38;5;241;43m*\u001b[39;49m\u001b[43mkwargs\u001b[49m\u001b[43m)\u001b[49m\n",
      "File \u001b[1;32m~\\miniconda3\\envs\\gee_env\\Lib\\site-packages\\googleapiclient\\http.py:938\u001b[0m, in \u001b[0;36mHttpRequest.execute\u001b[1;34m(self, http, num_retries)\u001b[0m\n\u001b[0;32m    937\u001b[0m \u001b[38;5;28;01mif\u001b[39;00m resp\u001b[38;5;241m.\u001b[39mstatus \u001b[38;5;241m>\u001b[39m\u001b[38;5;241m=\u001b[39m \u001b[38;5;241m300\u001b[39m:\n\u001b[1;32m--> 938\u001b[0m     \u001b[38;5;28;01mraise\u001b[39;00m HttpError(resp, content, uri\u001b[38;5;241m=\u001b[39m\u001b[38;5;28mself\u001b[39m\u001b[38;5;241m.\u001b[39muri)\n\u001b[0;32m    939\u001b[0m \u001b[38;5;28;01mreturn\u001b[39;00m \u001b[38;5;28mself\u001b[39m\u001b[38;5;241m.\u001b[39mpostproc(resp, content)\n",
      "\u001b[1;31mHttpError\u001b[0m: <HttpError 400 when requesting https://earthengine.googleapis.com/v1/projects/earthengine-legacy/value:compute?prettyPrint=false&alt=json returned \"ImageCollection.mosaic: Error in map(ID=LC08_030037_20160609):\nImage.select, argument 'bandSelectors': Invalid type.\nExpected type: List<Object>.\nActual type: String.\nActual value: B1\". Details: \"ImageCollection.mosaic: Error in map(ID=LC08_030037_20160609):\nImage.select, argument 'bandSelectors': Invalid type.\nExpected type: List<Object>.\nActual type: String.\nActual value: B1\">",
      "\nDuring handling of the above exception, another exception occurred:\n",
      "\u001b[1;31mEEException\u001b[0m                               Traceback (most recent call last)",
      "Cell \u001b[1;32mIn[11], line 3\u001b[0m\n\u001b[0;32m      1\u001b[0m image_stack_builder \u001b[38;5;241m=\u001b[39m isb\u001b[38;5;241m.\u001b[39mImageStackBuilder(images_and_bands)\n\u001b[0;32m      2\u001b[0m image_stack \u001b[38;5;241m=\u001b[39m image_stack_builder\u001b[38;5;241m.\u001b[39mbuild_image_stack(other_bands)\n\u001b[1;32m----> 3\u001b[0m \u001b[38;5;28mprint\u001b[39m(\u001b[43mimage_stack\u001b[49m\u001b[38;5;241;43m.\u001b[39;49m\u001b[43mbandNames\u001b[49m\u001b[43m(\u001b[49m\u001b[43m)\u001b[49m\u001b[38;5;241;43m.\u001b[39;49m\u001b[43mgetInfo\u001b[49m\u001b[43m(\u001b[49m\u001b[43m)\u001b[49m)\n",
      "File \u001b[1;32m~\\miniconda3\\envs\\gee_env\\Lib\\site-packages\\ee\\computedobject.py:107\u001b[0m, in \u001b[0;36mComputedObject.getInfo\u001b[1;34m(self)\u001b[0m\n\u001b[0;32m    101\u001b[0m \u001b[38;5;28;01mdef\u001b[39;00m \u001b[38;5;21mgetInfo\u001b[39m(\u001b[38;5;28mself\u001b[39m) \u001b[38;5;241m-\u001b[39m\u001b[38;5;241m>\u001b[39m Optional[Any]:\n\u001b[0;32m    102\u001b[0m \u001b[38;5;250m  \u001b[39m\u001b[38;5;124;03m\"\"\"Fetch and return information about this object.\u001b[39;00m\n\u001b[0;32m    103\u001b[0m \n\u001b[0;32m    104\u001b[0m \u001b[38;5;124;03m  Returns:\u001b[39;00m\n\u001b[0;32m    105\u001b[0m \u001b[38;5;124;03m    The object can evaluate to anything.\u001b[39;00m\n\u001b[0;32m    106\u001b[0m \u001b[38;5;124;03m  \"\"\"\u001b[39;00m\n\u001b[1;32m--> 107\u001b[0m   \u001b[38;5;28;01mreturn\u001b[39;00m \u001b[43mdata\u001b[49m\u001b[38;5;241;43m.\u001b[39;49m\u001b[43mcomputeValue\u001b[49m\u001b[43m(\u001b[49m\u001b[38;5;28;43mself\u001b[39;49m\u001b[43m)\u001b[49m\n",
      "File \u001b[1;32m~\\miniconda3\\envs\\gee_env\\Lib\\site-packages\\ee\\data.py:1093\u001b[0m, in \u001b[0;36mcomputeValue\u001b[1;34m(obj)\u001b[0m\n\u001b[0;32m   1090\u001b[0m body \u001b[38;5;241m=\u001b[39m {\u001b[38;5;124m'\u001b[39m\u001b[38;5;124mexpression\u001b[39m\u001b[38;5;124m'\u001b[39m: serializer\u001b[38;5;241m.\u001b[39mencode(obj, for_cloud_api\u001b[38;5;241m=\u001b[39m\u001b[38;5;28;01mTrue\u001b[39;00m)}\n\u001b[0;32m   1091\u001b[0m _maybe_populate_workload_tag(body)\n\u001b[1;32m-> 1093\u001b[0m \u001b[38;5;28;01mreturn\u001b[39;00m \u001b[43m_execute_cloud_call\u001b[49m\u001b[43m(\u001b[49m\n\u001b[0;32m   1094\u001b[0m \u001b[43m    \u001b[49m\u001b[43m_get_cloud_projects\u001b[49m\u001b[43m(\u001b[49m\u001b[43m)\u001b[49m\n\u001b[0;32m   1095\u001b[0m \u001b[43m    \u001b[49m\u001b[38;5;241;43m.\u001b[39;49m\u001b[43mvalue\u001b[49m\u001b[43m(\u001b[49m\u001b[43m)\u001b[49m\n\u001b[0;32m   1096\u001b[0m \u001b[43m    \u001b[49m\u001b[38;5;241;43m.\u001b[39;49m\u001b[43mcompute\u001b[49m\u001b[43m(\u001b[49m\u001b[43mbody\u001b[49m\u001b[38;5;241;43m=\u001b[39;49m\u001b[43mbody\u001b[49m\u001b[43m,\u001b[49m\u001b[43m \u001b[49m\u001b[43mproject\u001b[49m\u001b[38;5;241;43m=\u001b[39;49m\u001b[43m_get_projects_path\u001b[49m\u001b[43m(\u001b[49m\u001b[43m)\u001b[49m\u001b[43m,\u001b[49m\u001b[43m \u001b[49m\u001b[43mprettyPrint\u001b[49m\u001b[38;5;241;43m=\u001b[39;49m\u001b[38;5;28;43;01mFalse\u001b[39;49;00m\u001b[43m)\u001b[49m\n\u001b[0;32m   1097\u001b[0m \u001b[43m\u001b[49m\u001b[43m)\u001b[49m[\u001b[38;5;124m'\u001b[39m\u001b[38;5;124mresult\u001b[39m\u001b[38;5;124m'\u001b[39m]\n",
      "File \u001b[1;32m~\\miniconda3\\envs\\gee_env\\Lib\\site-packages\\ee\\data.py:396\u001b[0m, in \u001b[0;36m_execute_cloud_call\u001b[1;34m(call, num_retries)\u001b[0m\n\u001b[0;32m    394\u001b[0m   \u001b[38;5;28;01mreturn\u001b[39;00m call\u001b[38;5;241m.\u001b[39mexecute(num_retries\u001b[38;5;241m=\u001b[39mnum_retries)\n\u001b[0;32m    395\u001b[0m \u001b[38;5;28;01mexcept\u001b[39;00m googleapiclient\u001b[38;5;241m.\u001b[39merrors\u001b[38;5;241m.\u001b[39mHttpError \u001b[38;5;28;01mas\u001b[39;00m e:\n\u001b[1;32m--> 396\u001b[0m   \u001b[38;5;28;01mraise\u001b[39;00m _translate_cloud_exception(e)\n",
      "\u001b[1;31mEEException\u001b[0m: ImageCollection.mosaic: Error in map(ID=LC08_030037_20160609):\nImage.select, argument 'bandSelectors': Invalid type.\nExpected type: List<Object>.\nActual type: String.\nActual value: B1"
     ]
    }
   ],
   "source": [
    "image_stack_builder = isb.ImageStackBuilder(images_and_bands)\n",
    "image_stack = image_stack_builder.build_image_stack(other_bands)\n",
    "print(image_stack.bandNames().getInfo())"
   ]
  },
  {
   "cell_type": "code",
   "execution_count": 37,
   "id": "5ee3d1be-4a03-4966-8888-a7155885dbee",
   "metadata": {
    "scrolled": true
   },
   "outputs": [
    {
     "data": {
      "text/html": [
       "\n",
       "            <style>\n",
       "                .geemap-dark {\n",
       "                    --jp-widgets-color: white;\n",
       "                    --jp-widgets-label-color: white;\n",
       "                    --jp-ui-font-color1: white;\n",
       "                    --jp-layout-color2: #454545;\n",
       "                    background-color: #383838;\n",
       "                }\n",
       "                    \n",
       "                .geemap-dark .jupyter-button {\n",
       "                    --jp-layout-color3: #383838;\n",
       "                }\n",
       "                \n",
       "                .geemap-colab {\n",
       "                    background-color: var(--colab-primary-surface-color, white);\n",
       "                }\n",
       "                    \n",
       "                .geemap-colab .jupyter-button {\n",
       "                    --jp-layout-color3: var(--colab-primary-surface-color, white);\n",
       "                }\n",
       "            </style>\n",
       "            "
      ],
      "text/plain": [
       "<IPython.core.display.HTML object>"
      ]
     },
     "metadata": {},
     "output_type": "display_data"
    },
    {
     "name": "stdout",
     "output_type": "stream",
     "text": [
      "Downloading data for 19 files\n",
      "Generating URL ...\n",
      "Downloading data from https://earthengine.googleapis.com/v1/projects/earthengine-legacy/tables/7e167f7b43f52a383848f3ebdb15b040-0ddabac27a455182c8dfa9e651260ba3:getFeatures\n",
      "Please wait ...\n",
      "Data downloaded to D:\\!!Research\\!!!Data\\ArcGIS_Projects\\mesq_prediction\\test_mesq_prediction_points\\acc_points_env_data\\env_data_no_ls\\cell_0_with_env_data.csv\n",
      "Export task started for cell_0.shp.\n",
      "skipping gcs file\n",
      "Generating URL ...\n",
      "Downloading data from https://earthengine.googleapis.com/v1/projects/earthengine-legacy/tables/41a5015b1569a2d1013e88b160b59eaf-41f54ba916937e6c439c37e68a8d1194:getFeatures\n",
      "Please wait ...\n",
      "Data downloaded to D:\\!!Research\\!!!Data\\ArcGIS_Projects\\mesq_prediction\\test_mesq_prediction_points\\acc_points_env_data\\env_data_no_ls\\cell_1_with_env_data.csv\n",
      "Export task started for cell_1.shp.\n",
      "Generating URL ...\n",
      "Downloading data from https://earthengine.googleapis.com/v1/projects/earthengine-legacy/tables/e7bbb8c480cbdee5115f90987c203597-ff8a0544bf6a933a3c382422e3709a19:getFeatures\n",
      "Please wait ...\n",
      "Data downloaded to D:\\!!Research\\!!!Data\\ArcGIS_Projects\\mesq_prediction\\test_mesq_prediction_points\\acc_points_env_data\\env_data_no_ls\\cell_2_with_env_data.csv\n",
      "Export task started for cell_10.shp.\n",
      "Generating URL ...\n",
      "Downloading data from https://earthengine.googleapis.com/v1/projects/earthengine-legacy/tables/2d5797f30add1d558f9f3773c481cf5c-9dede9d156d717e31dcad8027374ed39:getFeatures\n",
      "Please wait ...\n",
      "Data downloaded to D:\\!!Research\\!!!Data\\ArcGIS_Projects\\mesq_prediction\\test_mesq_prediction_points\\acc_points_env_data\\env_data_no_ls\\cell_3_with_env_data.csv\n",
      "Export task started for cell_11.shp.\n",
      "Generating URL ...\n",
      "Downloading data from https://earthengine.googleapis.com/v1/projects/earthengine-legacy/tables/a2957ea4a7687062698c0f2059b533b8-fb35277152d959f71ea8c92aa916269b:getFeatures\n",
      "Please wait ...\n",
      "Data downloaded to D:\\!!Research\\!!!Data\\ArcGIS_Projects\\mesq_prediction\\test_mesq_prediction_points\\acc_points_env_data\\env_data_no_ls\\cell_4_with_env_data.csv\n",
      "Export task started for cell_12.shp.\n",
      "Generating URL ...\n",
      "Downloading data from https://earthengine.googleapis.com/v1/projects/earthengine-legacy/tables/99e55ee55c7b26e6681592fe2e0a483f-a0b18993ee9ed8644a4a852a1b98b7d0:getFeatures\n",
      "Please wait ...\n",
      "Data downloaded to D:\\!!Research\\!!!Data\\ArcGIS_Projects\\mesq_prediction\\test_mesq_prediction_points\\acc_points_env_data\\env_data_no_ls\\cell_5_with_env_data.csv\n",
      "Export task started for cell_13.shp.\n",
      "Generating URL ...\n",
      "Downloading data from https://earthengine.googleapis.com/v1/projects/earthengine-legacy/tables/5a0eb2168403b163d77c4f62ad4b3c3b-577774072c8b0fc3badce82a580db68c:getFeatures\n",
      "Please wait ...\n",
      "Data downloaded to D:\\!!Research\\!!!Data\\ArcGIS_Projects\\mesq_prediction\\test_mesq_prediction_points\\acc_points_env_data\\env_data_no_ls\\cell_6_with_env_data.csv\n",
      "Export task started for cell_14.shp.\n",
      "Generating URL ...\n",
      "Downloading data from https://earthengine.googleapis.com/v1/projects/earthengine-legacy/tables/23100f154c2a47a04e72cedcbea659ba-67a53af558693ce4fc56301e8f779fd3:getFeatures\n",
      "Please wait ...\n",
      "Data downloaded to D:\\!!Research\\!!!Data\\ArcGIS_Projects\\mesq_prediction\\test_mesq_prediction_points\\acc_points_env_data\\env_data_no_ls\\cell_7_with_env_data.csv\n",
      "Export task started for cell_15.shp.\n",
      "Generating URL ...\n",
      "Downloading data from https://earthengine.googleapis.com/v1/projects/earthengine-legacy/tables/c86562055e1244d9b662542683ff1def-93f39c4766d26cca479f0ea9e1dfae3b:getFeatures\n",
      "Please wait ...\n",
      "Data downloaded to D:\\!!Research\\!!!Data\\ArcGIS_Projects\\mesq_prediction\\test_mesq_prediction_points\\acc_points_env_data\\env_data_no_ls\\cell_8_with_env_data.csv\n",
      "Export task started for cell_16.shp.\n",
      "skipping gcs file\n",
      "Generating URL ...\n",
      "Downloading data from https://earthengine.googleapis.com/v1/projects/earthengine-legacy/tables/8bd60c4c89e9a1950734884be49a1834-846fdda09900fec8462c2fd18453d421:getFeatures\n",
      "Please wait ...\n",
      "Data downloaded to D:\\!!Research\\!!!Data\\ArcGIS_Projects\\mesq_prediction\\test_mesq_prediction_points\\acc_points_env_data\\env_data_no_ls\\cell_9_with_env_data.csv\n",
      "Export task started for cell_2.shp.\n",
      "Generating URL ...\n",
      "Downloading data from https://earthengine.googleapis.com/v1/projects/earthengine-legacy/tables/1ed32f1396666914d2121e247a42ca29-13859fc7783b26a063441400bf594adb:getFeatures\n",
      "Please wait ...\n",
      "Data downloaded to D:\\!!Research\\!!!Data\\ArcGIS_Projects\\mesq_prediction\\test_mesq_prediction_points\\acc_points_env_data\\env_data_no_ls\\cell_10_with_env_data.csv\n",
      "Export task started for cell_3.shp.\n",
      "Generating URL ...\n",
      "Downloading data from https://earthengine.googleapis.com/v1/projects/earthengine-legacy/tables/5eab83ebcb18a6379b187f749dabefd1-ec864415fa76878eadf1ae2247048989:getFeatures\n",
      "Please wait ...\n",
      "Data downloaded to D:\\!!Research\\!!!Data\\ArcGIS_Projects\\mesq_prediction\\test_mesq_prediction_points\\acc_points_env_data\\env_data_no_ls\\cell_11_with_env_data.csv\n",
      "Export task started for cell_4.shp.\n",
      "Generating URL ...\n",
      "Downloading data from https://earthengine.googleapis.com/v1/projects/earthengine-legacy/tables/7d3de9d68880124ba8f8246bf9deac0a-34fa0da6f4aeccc4278e2f4f9d10edaa:getFeatures\n",
      "Please wait ...\n",
      "Data downloaded to D:\\!!Research\\!!!Data\\ArcGIS_Projects\\mesq_prediction\\test_mesq_prediction_points\\acc_points_env_data\\env_data_no_ls\\cell_12_with_env_data.csv\n",
      "Export task started for cell_5.shp.\n",
      "Generating URL ...\n",
      "Downloading data from https://earthengine.googleapis.com/v1/projects/earthengine-legacy/tables/4004b230f5b487c026be51b05fa4bb8f-67c6e2bebb50c885c0c8e7b9cbf1ce32:getFeatures\n",
      "Please wait ...\n",
      "Data downloaded to D:\\!!Research\\!!!Data\\ArcGIS_Projects\\mesq_prediction\\test_mesq_prediction_points\\acc_points_env_data\\env_data_no_ls\\cell_13_with_env_data.csv\n",
      "Export task started for cell_6.shp.\n",
      "Generating URL ...\n",
      "Downloading data from https://earthengine.googleapis.com/v1/projects/earthengine-legacy/tables/f977dfccf0434b532128b8234123c241-df8f3a196f6dbb1f3d68c8757e8f4c56:getFeatures\n",
      "Please wait ...\n",
      "Data downloaded to D:\\!!Research\\!!!Data\\ArcGIS_Projects\\mesq_prediction\\test_mesq_prediction_points\\acc_points_env_data\\env_data_no_ls\\cell_14_with_env_data.csv\n",
      "Export task started for cell_7.shp.\n",
      "Generating URL ...\n",
      "Downloading data from https://earthengine.googleapis.com/v1/projects/earthengine-legacy/tables/f7fee1835b6eb5db1039e82a4a47173d-d2e82b8630624da545b16d1950877bd1:getFeatures\n",
      "Please wait ...\n",
      "Data downloaded to D:\\!!Research\\!!!Data\\ArcGIS_Projects\\mesq_prediction\\test_mesq_prediction_points\\acc_points_env_data\\env_data_no_ls\\cell_15_with_env_data.csv\n",
      "Export task started for cell_8.shp.\n",
      "Generating URL ...\n",
      "Downloading data from https://earthengine.googleapis.com/v1/projects/earthengine-legacy/tables/8eee25ccb1a41d6d37f23cca3d8d5fb6-5f60bc50de7dd55b910074b85ffb10b9:getFeatures\n",
      "Please wait ...\n",
      "Data downloaded to D:\\!!Research\\!!!Data\\ArcGIS_Projects\\mesq_prediction\\test_mesq_prediction_points\\acc_points_env_data\\env_data_no_ls\\cell_16_with_env_data.csv\n",
      "Export task started for cell_9.shp.\n",
      "removed D:/!!Research/!!!Data/ArcGIS_Projects/mesq_prediction/test_mesq_prediction_points/acc_points_env_data/fishnet_files/cell_0_gcs.cpg\n",
      "removed D:/!!Research/!!!Data/ArcGIS_Projects/mesq_prediction/test_mesq_prediction_points/acc_points_env_data/fishnet_files/cell_0_gcs.dbf\n",
      "removed D:/!!Research/!!!Data/ArcGIS_Projects/mesq_prediction/test_mesq_prediction_points/acc_points_env_data/fishnet_files/cell_0_gcs.prj\n",
      "removed D:/!!Research/!!!Data/ArcGIS_Projects/mesq_prediction/test_mesq_prediction_points/acc_points_env_data/fishnet_files/cell_0_gcs.shp\n",
      "removed D:/!!Research/!!!Data/ArcGIS_Projects/mesq_prediction/test_mesq_prediction_points/acc_points_env_data/fishnet_files/cell_0_gcs.shx\n",
      "removed D:/!!Research/!!!Data/ArcGIS_Projects/mesq_prediction/test_mesq_prediction_points/acc_points_env_data/fishnet_files/cell_10_gcs.cpg\n",
      "removed D:/!!Research/!!!Data/ArcGIS_Projects/mesq_prediction/test_mesq_prediction_points/acc_points_env_data/fishnet_files/cell_10_gcs.dbf\n",
      "removed D:/!!Research/!!!Data/ArcGIS_Projects/mesq_prediction/test_mesq_prediction_points/acc_points_env_data/fishnet_files/cell_10_gcs.prj\n",
      "removed D:/!!Research/!!!Data/ArcGIS_Projects/mesq_prediction/test_mesq_prediction_points/acc_points_env_data/fishnet_files/cell_10_gcs.shp\n",
      "removed D:/!!Research/!!!Data/ArcGIS_Projects/mesq_prediction/test_mesq_prediction_points/acc_points_env_data/fishnet_files/cell_10_gcs.shx\n",
      "removed D:/!!Research/!!!Data/ArcGIS_Projects/mesq_prediction/test_mesq_prediction_points/acc_points_env_data/fishnet_files/cell_11_gcs.cpg\n",
      "removed D:/!!Research/!!!Data/ArcGIS_Projects/mesq_prediction/test_mesq_prediction_points/acc_points_env_data/fishnet_files/cell_11_gcs.dbf\n",
      "removed D:/!!Research/!!!Data/ArcGIS_Projects/mesq_prediction/test_mesq_prediction_points/acc_points_env_data/fishnet_files/cell_11_gcs.prj\n",
      "removed D:/!!Research/!!!Data/ArcGIS_Projects/mesq_prediction/test_mesq_prediction_points/acc_points_env_data/fishnet_files/cell_11_gcs.shp\n",
      "removed D:/!!Research/!!!Data/ArcGIS_Projects/mesq_prediction/test_mesq_prediction_points/acc_points_env_data/fishnet_files/cell_11_gcs.shx\n",
      "removed D:/!!Research/!!!Data/ArcGIS_Projects/mesq_prediction/test_mesq_prediction_points/acc_points_env_data/fishnet_files/cell_12_gcs.cpg\n",
      "removed D:/!!Research/!!!Data/ArcGIS_Projects/mesq_prediction/test_mesq_prediction_points/acc_points_env_data/fishnet_files/cell_12_gcs.dbf\n",
      "removed D:/!!Research/!!!Data/ArcGIS_Projects/mesq_prediction/test_mesq_prediction_points/acc_points_env_data/fishnet_files/cell_12_gcs.prj\n",
      "removed D:/!!Research/!!!Data/ArcGIS_Projects/mesq_prediction/test_mesq_prediction_points/acc_points_env_data/fishnet_files/cell_12_gcs.shp\n",
      "removed D:/!!Research/!!!Data/ArcGIS_Projects/mesq_prediction/test_mesq_prediction_points/acc_points_env_data/fishnet_files/cell_12_gcs.shx\n",
      "removed D:/!!Research/!!!Data/ArcGIS_Projects/mesq_prediction/test_mesq_prediction_points/acc_points_env_data/fishnet_files/cell_13_gcs.cpg\n",
      "removed D:/!!Research/!!!Data/ArcGIS_Projects/mesq_prediction/test_mesq_prediction_points/acc_points_env_data/fishnet_files/cell_13_gcs.dbf\n",
      "removed D:/!!Research/!!!Data/ArcGIS_Projects/mesq_prediction/test_mesq_prediction_points/acc_points_env_data/fishnet_files/cell_13_gcs.prj\n",
      "removed D:/!!Research/!!!Data/ArcGIS_Projects/mesq_prediction/test_mesq_prediction_points/acc_points_env_data/fishnet_files/cell_13_gcs.shp\n",
      "removed D:/!!Research/!!!Data/ArcGIS_Projects/mesq_prediction/test_mesq_prediction_points/acc_points_env_data/fishnet_files/cell_13_gcs.shx\n",
      "removed D:/!!Research/!!!Data/ArcGIS_Projects/mesq_prediction/test_mesq_prediction_points/acc_points_env_data/fishnet_files/cell_14_gcs.cpg\n",
      "removed D:/!!Research/!!!Data/ArcGIS_Projects/mesq_prediction/test_mesq_prediction_points/acc_points_env_data/fishnet_files/cell_14_gcs.dbf\n",
      "removed D:/!!Research/!!!Data/ArcGIS_Projects/mesq_prediction/test_mesq_prediction_points/acc_points_env_data/fishnet_files/cell_14_gcs.prj\n",
      "removed D:/!!Research/!!!Data/ArcGIS_Projects/mesq_prediction/test_mesq_prediction_points/acc_points_env_data/fishnet_files/cell_14_gcs.shp\n",
      "removed D:/!!Research/!!!Data/ArcGIS_Projects/mesq_prediction/test_mesq_prediction_points/acc_points_env_data/fishnet_files/cell_14_gcs.shx\n",
      "removed D:/!!Research/!!!Data/ArcGIS_Projects/mesq_prediction/test_mesq_prediction_points/acc_points_env_data/fishnet_files/cell_15_gcs.cpg\n",
      "removed D:/!!Research/!!!Data/ArcGIS_Projects/mesq_prediction/test_mesq_prediction_points/acc_points_env_data/fishnet_files/cell_15_gcs.dbf\n",
      "removed D:/!!Research/!!!Data/ArcGIS_Projects/mesq_prediction/test_mesq_prediction_points/acc_points_env_data/fishnet_files/cell_15_gcs.prj\n",
      "removed D:/!!Research/!!!Data/ArcGIS_Projects/mesq_prediction/test_mesq_prediction_points/acc_points_env_data/fishnet_files/cell_15_gcs.shp\n",
      "removed D:/!!Research/!!!Data/ArcGIS_Projects/mesq_prediction/test_mesq_prediction_points/acc_points_env_data/fishnet_files/cell_15_gcs.shx\n",
      "removed D:/!!Research/!!!Data/ArcGIS_Projects/mesq_prediction/test_mesq_prediction_points/acc_points_env_data/fishnet_files/cell_16_gcs.cpg\n",
      "removed D:/!!Research/!!!Data/ArcGIS_Projects/mesq_prediction/test_mesq_prediction_points/acc_points_env_data/fishnet_files/cell_16_gcs.dbf\n",
      "removed D:/!!Research/!!!Data/ArcGIS_Projects/mesq_prediction/test_mesq_prediction_points/acc_points_env_data/fishnet_files/cell_16_gcs.prj\n",
      "removed D:/!!Research/!!!Data/ArcGIS_Projects/mesq_prediction/test_mesq_prediction_points/acc_points_env_data/fishnet_files/cell_16_gcs.shp\n",
      "removed D:/!!Research/!!!Data/ArcGIS_Projects/mesq_prediction/test_mesq_prediction_points/acc_points_env_data/fishnet_files/cell_16_gcs.shx\n",
      "removed D:/!!Research/!!!Data/ArcGIS_Projects/mesq_prediction/test_mesq_prediction_points/acc_points_env_data/fishnet_files/cell_1_gcs.cpg\n",
      "removed D:/!!Research/!!!Data/ArcGIS_Projects/mesq_prediction/test_mesq_prediction_points/acc_points_env_data/fishnet_files/cell_1_gcs.dbf\n",
      "removed D:/!!Research/!!!Data/ArcGIS_Projects/mesq_prediction/test_mesq_prediction_points/acc_points_env_data/fishnet_files/cell_1_gcs.prj\n",
      "removed D:/!!Research/!!!Data/ArcGIS_Projects/mesq_prediction/test_mesq_prediction_points/acc_points_env_data/fishnet_files/cell_1_gcs.shp\n",
      "removed D:/!!Research/!!!Data/ArcGIS_Projects/mesq_prediction/test_mesq_prediction_points/acc_points_env_data/fishnet_files/cell_1_gcs.shx\n",
      "removed D:/!!Research/!!!Data/ArcGIS_Projects/mesq_prediction/test_mesq_prediction_points/acc_points_env_data/fishnet_files/cell_2_gcs.cpg\n",
      "removed D:/!!Research/!!!Data/ArcGIS_Projects/mesq_prediction/test_mesq_prediction_points/acc_points_env_data/fishnet_files/cell_2_gcs.dbf\n",
      "removed D:/!!Research/!!!Data/ArcGIS_Projects/mesq_prediction/test_mesq_prediction_points/acc_points_env_data/fishnet_files/cell_2_gcs.prj\n",
      "removed D:/!!Research/!!!Data/ArcGIS_Projects/mesq_prediction/test_mesq_prediction_points/acc_points_env_data/fishnet_files/cell_2_gcs.shp\n",
      "removed D:/!!Research/!!!Data/ArcGIS_Projects/mesq_prediction/test_mesq_prediction_points/acc_points_env_data/fishnet_files/cell_2_gcs.shx\n",
      "removed D:/!!Research/!!!Data/ArcGIS_Projects/mesq_prediction/test_mesq_prediction_points/acc_points_env_data/fishnet_files/cell_3_gcs.cpg\n",
      "removed D:/!!Research/!!!Data/ArcGIS_Projects/mesq_prediction/test_mesq_prediction_points/acc_points_env_data/fishnet_files/cell_3_gcs.dbf\n",
      "removed D:/!!Research/!!!Data/ArcGIS_Projects/mesq_prediction/test_mesq_prediction_points/acc_points_env_data/fishnet_files/cell_3_gcs.prj\n",
      "removed D:/!!Research/!!!Data/ArcGIS_Projects/mesq_prediction/test_mesq_prediction_points/acc_points_env_data/fishnet_files/cell_3_gcs.shp\n",
      "removed D:/!!Research/!!!Data/ArcGIS_Projects/mesq_prediction/test_mesq_prediction_points/acc_points_env_data/fishnet_files/cell_3_gcs.shx\n",
      "removed D:/!!Research/!!!Data/ArcGIS_Projects/mesq_prediction/test_mesq_prediction_points/acc_points_env_data/fishnet_files/cell_4_gcs.cpg\n",
      "removed D:/!!Research/!!!Data/ArcGIS_Projects/mesq_prediction/test_mesq_prediction_points/acc_points_env_data/fishnet_files/cell_4_gcs.dbf\n",
      "removed D:/!!Research/!!!Data/ArcGIS_Projects/mesq_prediction/test_mesq_prediction_points/acc_points_env_data/fishnet_files/cell_4_gcs.prj\n",
      "removed D:/!!Research/!!!Data/ArcGIS_Projects/mesq_prediction/test_mesq_prediction_points/acc_points_env_data/fishnet_files/cell_4_gcs.shp\n",
      "removed D:/!!Research/!!!Data/ArcGIS_Projects/mesq_prediction/test_mesq_prediction_points/acc_points_env_data/fishnet_files/cell_4_gcs.shx\n",
      "removed D:/!!Research/!!!Data/ArcGIS_Projects/mesq_prediction/test_mesq_prediction_points/acc_points_env_data/fishnet_files/cell_5_gcs.cpg\n",
      "removed D:/!!Research/!!!Data/ArcGIS_Projects/mesq_prediction/test_mesq_prediction_points/acc_points_env_data/fishnet_files/cell_5_gcs.dbf\n",
      "removed D:/!!Research/!!!Data/ArcGIS_Projects/mesq_prediction/test_mesq_prediction_points/acc_points_env_data/fishnet_files/cell_5_gcs.prj\n",
      "removed D:/!!Research/!!!Data/ArcGIS_Projects/mesq_prediction/test_mesq_prediction_points/acc_points_env_data/fishnet_files/cell_5_gcs.shp\n",
      "removed D:/!!Research/!!!Data/ArcGIS_Projects/mesq_prediction/test_mesq_prediction_points/acc_points_env_data/fishnet_files/cell_5_gcs.shx\n",
      "removed D:/!!Research/!!!Data/ArcGIS_Projects/mesq_prediction/test_mesq_prediction_points/acc_points_env_data/fishnet_files/cell_6_gcs.cpg\n",
      "removed D:/!!Research/!!!Data/ArcGIS_Projects/mesq_prediction/test_mesq_prediction_points/acc_points_env_data/fishnet_files/cell_6_gcs.dbf\n",
      "removed D:/!!Research/!!!Data/ArcGIS_Projects/mesq_prediction/test_mesq_prediction_points/acc_points_env_data/fishnet_files/cell_6_gcs.prj\n",
      "removed D:/!!Research/!!!Data/ArcGIS_Projects/mesq_prediction/test_mesq_prediction_points/acc_points_env_data/fishnet_files/cell_6_gcs.shp\n",
      "removed D:/!!Research/!!!Data/ArcGIS_Projects/mesq_prediction/test_mesq_prediction_points/acc_points_env_data/fishnet_files/cell_6_gcs.shx\n",
      "removed D:/!!Research/!!!Data/ArcGIS_Projects/mesq_prediction/test_mesq_prediction_points/acc_points_env_data/fishnet_files/cell_7_gcs.cpg\n",
      "removed D:/!!Research/!!!Data/ArcGIS_Projects/mesq_prediction/test_mesq_prediction_points/acc_points_env_data/fishnet_files/cell_7_gcs.dbf\n",
      "removed D:/!!Research/!!!Data/ArcGIS_Projects/mesq_prediction/test_mesq_prediction_points/acc_points_env_data/fishnet_files/cell_7_gcs.prj\n",
      "removed D:/!!Research/!!!Data/ArcGIS_Projects/mesq_prediction/test_mesq_prediction_points/acc_points_env_data/fishnet_files/cell_7_gcs.shp\n",
      "removed D:/!!Research/!!!Data/ArcGIS_Projects/mesq_prediction/test_mesq_prediction_points/acc_points_env_data/fishnet_files/cell_7_gcs.shx\n",
      "removed D:/!!Research/!!!Data/ArcGIS_Projects/mesq_prediction/test_mesq_prediction_points/acc_points_env_data/fishnet_files/cell_8_gcs.cpg\n",
      "removed D:/!!Research/!!!Data/ArcGIS_Projects/mesq_prediction/test_mesq_prediction_points/acc_points_env_data/fishnet_files/cell_8_gcs.dbf\n",
      "removed D:/!!Research/!!!Data/ArcGIS_Projects/mesq_prediction/test_mesq_prediction_points/acc_points_env_data/fishnet_files/cell_8_gcs.prj\n",
      "removed D:/!!Research/!!!Data/ArcGIS_Projects/mesq_prediction/test_mesq_prediction_points/acc_points_env_data/fishnet_files/cell_8_gcs.shp\n",
      "removed D:/!!Research/!!!Data/ArcGIS_Projects/mesq_prediction/test_mesq_prediction_points/acc_points_env_data/fishnet_files/cell_8_gcs.shx\n",
      "removed D:/!!Research/!!!Data/ArcGIS_Projects/mesq_prediction/test_mesq_prediction_points/acc_points_env_data/fishnet_files/cell_9_gcs.cpg\n",
      "removed D:/!!Research/!!!Data/ArcGIS_Projects/mesq_prediction/test_mesq_prediction_points/acc_points_env_data/fishnet_files/cell_9_gcs.dbf\n",
      "removed D:/!!Research/!!!Data/ArcGIS_Projects/mesq_prediction/test_mesq_prediction_points/acc_points_env_data/fishnet_files/cell_9_gcs.prj\n",
      "removed D:/!!Research/!!!Data/ArcGIS_Projects/mesq_prediction/test_mesq_prediction_points/acc_points_env_data/fishnet_files/cell_9_gcs.shp\n",
      "removed D:/!!Research/!!!Data/ArcGIS_Projects/mesq_prediction/test_mesq_prediction_points/acc_points_env_data/fishnet_files/cell_9_gcs.shx\n"
     ]
    }
   ],
   "source": [
    "#shp_dir = f'{folder_directory}shp_file'\n",
    "# Don't need to repeate the folder directory in an fstring, just need to tack on the\n",
    "# additional directories that lead to the folder you want to store the data in.\n",
    "# e.g. 'test_mesq_prediction_points/acc_points_env_data/env_data_no_ls'\n",
    "data_folder = f'test_mesq_prediction_points/acc_points_env_data/env_data_w_ls'\n",
    "\n",
    "shp_data = shp_processor.shpProcessor(folder_directory, data_folder, image_stack, shp_dir)\n",
    "shp_data.process_shp_files()"
   ]
  }
 ],
 "metadata": {
  "kernelspec": {
   "display_name": "Python 3 (ipykernel)",
   "language": "python",
   "name": "python3"
  },
  "language_info": {
   "codemirror_mode": {
    "name": "ipython",
    "version": 3
   },
   "file_extension": ".py",
   "mimetype": "text/x-python",
   "name": "python",
   "nbconvert_exporter": "python",
   "pygments_lexer": "ipython3",
   "version": "3.12.1"
  }
 },
 "nbformat": 4,
 "nbformat_minor": 5
}
