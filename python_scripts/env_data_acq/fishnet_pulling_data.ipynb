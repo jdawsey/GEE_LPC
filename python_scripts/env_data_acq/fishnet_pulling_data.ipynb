{
 "cells": [
  {
   "cell_type": "markdown",
   "id": "a26e5846-eb66-4bed-a409-12d9d612ed9e",
   "metadata": {},
   "source": [
    "# USEFUL FOR PULLING ENVIRONMENTAL DATA ACROSS WHOLE REGIONS"
   ]
  },
  {
   "cell_type": "code",
   "execution_count": 1,
   "id": "9627abfb-fbe7-41c9-9ae2-057ec7034e49",
   "metadata": {},
   "outputs": [],
   "source": [
    "import os\n",
    "import geopandas as gpd\n",
    "import pandas as pd\n",
    "import ee\n",
    "import geemap\n",
    "import gee_data_acq as gda"
   ]
  },
  {
   "cell_type": "code",
   "execution_count": 2,
   "id": "d26e3140",
   "metadata": {},
   "outputs": [
    {
     "data": {
      "text/html": [
       "\n",
       "            <style>\n",
       "                .geemap-dark {\n",
       "                    --jp-widgets-color: white;\n",
       "                    --jp-widgets-label-color: white;\n",
       "                    --jp-ui-font-color1: white;\n",
       "                    --jp-layout-color2: #454545;\n",
       "                    background-color: #383838;\n",
       "                }\n",
       "                    \n",
       "                .geemap-dark .jupyter-button {\n",
       "                    --jp-layout-color3: #383838;\n",
       "                }\n",
       "                \n",
       "                .geemap-colab {\n",
       "                    background-color: var(--colab-primary-surface-color, white);\n",
       "                }\n",
       "                    \n",
       "                .geemap-colab .jupyter-button {\n",
       "                    --jp-layout-color3: var(--colab-primary-surface-color, white);\n",
       "                }\n",
       "            </style>\n",
       "            "
      ],
      "text/plain": [
       "<IPython.core.display.HTML object>"
      ]
     },
     "metadata": {},
     "output_type": "display_data"
    },
    {
     "data": {
      "text/plain": [
       "True"
      ]
     },
     "execution_count": 2,
     "metadata": {},
     "output_type": "execute_result"
    }
   ],
   "source": [
    "# Authenticate to Earth Engine\n",
    "ee.Authenticate()"
   ]
  },
  {
   "cell_type": "code",
   "execution_count": 2,
   "id": "711b80fe-ec66-4ef3-89dd-7dcaecdb9a4b",
   "metadata": {},
   "outputs": [
    {
     "data": {
      "text/html": [
       "\n",
       "            <style>\n",
       "                .geemap-dark {\n",
       "                    --jp-widgets-color: white;\n",
       "                    --jp-widgets-label-color: white;\n",
       "                    --jp-ui-font-color1: white;\n",
       "                    --jp-layout-color2: #454545;\n",
       "                    background-color: #383838;\n",
       "                }\n",
       "                    \n",
       "                .geemap-dark .jupyter-button {\n",
       "                    --jp-layout-color3: #383838;\n",
       "                }\n",
       "                \n",
       "                .geemap-colab {\n",
       "                    background-color: var(--colab-primary-surface-color, white);\n",
       "                }\n",
       "                    \n",
       "                .geemap-colab .jupyter-button {\n",
       "                    --jp-layout-color3: var(--colab-primary-surface-color, white);\n",
       "                }\n",
       "            </style>\n",
       "            "
      ],
      "text/plain": [
       "<IPython.core.display.HTML object>"
      ]
     },
     "metadata": {},
     "output_type": "display_data"
    }
   ],
   "source": [
    "# Authenticate to Earth Engine\n",
    "#ee.Authenticate()\n",
    "ee.Initialize()"
   ]
  },
  {
   "cell_type": "code",
   "execution_count": 3,
   "id": "85399cda-fe5d-495a-8cd1-f26d6fcf88e2",
   "metadata": {},
   "outputs": [
    {
     "data": {
      "text/html": [
       "\n",
       "            <style>\n",
       "                .geemap-dark {\n",
       "                    --jp-widgets-color: white;\n",
       "                    --jp-widgets-label-color: white;\n",
       "                    --jp-ui-font-color1: white;\n",
       "                    --jp-layout-color2: #454545;\n",
       "                    background-color: #383838;\n",
       "                }\n",
       "                    \n",
       "                .geemap-dark .jupyter-button {\n",
       "                    --jp-layout-color3: #383838;\n",
       "                }\n",
       "                \n",
       "                .geemap-colab {\n",
       "                    background-color: var(--colab-primary-surface-color, white);\n",
       "                }\n",
       "                    \n",
       "                .geemap-colab .jupyter-button {\n",
       "                    --jp-layout-color3: var(--colab-primary-surface-color, white);\n",
       "                }\n",
       "            </style>\n",
       "            "
      ],
      "text/plain": [
       "<IPython.core.display.HTML object>"
      ]
     },
     "metadata": {},
     "output_type": "display_data"
    }
   ],
   "source": [
    "folder_directory = 'D:/!!Research/!!!Data/ArcGIS_Projects'\n",
    "raster_working = f'{folder_directory}/quick_new_poly/files_for_python'"
   ]
  },
  {
   "cell_type": "markdown",
   "id": "35bf9320-e67f-4443-a24c-ebcf2e15a7e9",
   "metadata": {},
   "source": [
    "### Importing CSV of bands to export"
   ]
  },
  {
   "cell_type": "code",
   "execution_count": 4,
   "id": "4511741d-46f8-4d38-bdc8-c03dabd861ce",
   "metadata": {},
   "outputs": [
    {
     "data": {
      "text/html": [
       "\n",
       "            <style>\n",
       "                .geemap-dark {\n",
       "                    --jp-widgets-color: white;\n",
       "                    --jp-widgets-label-color: white;\n",
       "                    --jp-ui-font-color1: white;\n",
       "                    --jp-layout-color2: #454545;\n",
       "                    background-color: #383838;\n",
       "                }\n",
       "                    \n",
       "                .geemap-dark .jupyter-button {\n",
       "                    --jp-layout-color3: #383838;\n",
       "                }\n",
       "                \n",
       "                .geemap-colab {\n",
       "                    background-color: var(--colab-primary-surface-color, white);\n",
       "                }\n",
       "                    \n",
       "                .geemap-colab .jupyter-button {\n",
       "                    --jp-layout-color3: var(--colab-primary-surface-color, white);\n",
       "                }\n",
       "            </style>\n",
       "            "
      ],
      "text/plain": [
       "<IPython.core.display.HTML object>"
      ]
     },
     "metadata": {},
     "output_type": "display_data"
    },
    {
     "data": {
      "text/html": [
       "<div>\n",
       "<style scoped>\n",
       "    .dataframe tbody tr th:only-of-type {\n",
       "        vertical-align: middle;\n",
       "    }\n",
       "\n",
       "    .dataframe tbody tr th {\n",
       "        vertical-align: top;\n",
       "    }\n",
       "\n",
       "    .dataframe thead th {\n",
       "        text-align: right;\n",
       "    }\n",
       "</style>\n",
       "<table border=\"1\" class=\"dataframe\">\n",
       "  <thead>\n",
       "    <tr style=\"text-align: right;\">\n",
       "      <th></th>\n",
       "      <th>collection</th>\n",
       "      <th>collection_loc</th>\n",
       "      <th>bands</th>\n",
       "      <th>band_rename</th>\n",
       "      <th>base_re</th>\n",
       "      <th>unit</th>\n",
       "      <th>resample</th>\n",
       "      <th>resample_res</th>\n",
       "      <th>resample_method</th>\n",
       "    </tr>\n",
       "  </thead>\n",
       "  <tbody>\n",
       "    <tr>\n",
       "      <th>0</th>\n",
       "      <td>clay_0_5</td>\n",
       "      <td>projects/sat-io/open-datasets/polaris/clay_mea...</td>\n",
       "      <td>b1</td>\n",
       "      <td>clay_0_5</td>\n",
       "      <td>30</td>\n",
       "      <td>m</td>\n",
       "      <td>True</td>\n",
       "      <td>50</td>\n",
       "      <td>bilinear</td>\n",
       "    </tr>\n",
       "    <tr>\n",
       "      <th>1</th>\n",
       "      <td>clay_5_15</td>\n",
       "      <td>projects/sat-io/open-datasets/polaris/clay_mea...</td>\n",
       "      <td>b1</td>\n",
       "      <td>clay_5_15</td>\n",
       "      <td>30</td>\n",
       "      <td>m</td>\n",
       "      <td>True</td>\n",
       "      <td>50</td>\n",
       "      <td>bilinear</td>\n",
       "    </tr>\n",
       "    <tr>\n",
       "      <th>2</th>\n",
       "      <td>clay_15_30</td>\n",
       "      <td>projects/sat-io/open-datasets/polaris/clay_mea...</td>\n",
       "      <td>b1</td>\n",
       "      <td>clay_15_30</td>\n",
       "      <td>30</td>\n",
       "      <td>m</td>\n",
       "      <td>True</td>\n",
       "      <td>50</td>\n",
       "      <td>bilinear</td>\n",
       "    </tr>\n",
       "    <tr>\n",
       "      <th>3</th>\n",
       "      <td>clay_30_60</td>\n",
       "      <td>projects/sat-io/open-datasets/polaris/clay_mea...</td>\n",
       "      <td>b1</td>\n",
       "      <td>clay_30_60</td>\n",
       "      <td>30</td>\n",
       "      <td>m</td>\n",
       "      <td>True</td>\n",
       "      <td>50</td>\n",
       "      <td>bilinear</td>\n",
       "    </tr>\n",
       "    <tr>\n",
       "      <th>4</th>\n",
       "      <td>clay_60_100</td>\n",
       "      <td>projects/sat-io/open-datasets/polaris/clay_mea...</td>\n",
       "      <td>b1</td>\n",
       "      <td>clay_60_100</td>\n",
       "      <td>30</td>\n",
       "      <td>m</td>\n",
       "      <td>True</td>\n",
       "      <td>50</td>\n",
       "      <td>bilinear</td>\n",
       "    </tr>\n",
       "  </tbody>\n",
       "</table>\n",
       "</div>"
      ],
      "text/plain": [
       "    collection                                     collection_loc bands  \\\n",
       "0     clay_0_5  projects/sat-io/open-datasets/polaris/clay_mea...    b1   \n",
       "1    clay_5_15  projects/sat-io/open-datasets/polaris/clay_mea...    b1   \n",
       "2   clay_15_30  projects/sat-io/open-datasets/polaris/clay_mea...    b1   \n",
       "3   clay_30_60  projects/sat-io/open-datasets/polaris/clay_mea...    b1   \n",
       "4  clay_60_100  projects/sat-io/open-datasets/polaris/clay_mea...    b1   \n",
       "\n",
       "   band_rename  base_re unit  resample  resample_res resample_method  \n",
       "0     clay_0_5       30    m      True            50        bilinear  \n",
       "1    clay_5_15       30    m      True            50        bilinear  \n",
       "2   clay_15_30       30    m      True            50        bilinear  \n",
       "3   clay_30_60       30    m      True            50        bilinear  \n",
       "4  clay_60_100       30    m      True            50        bilinear  "
      ]
     },
     "execution_count": 4,
     "metadata": {},
     "output_type": "execute_result"
    }
   ],
   "source": [
    "bands_csv_name = 'images_and_bands.csv'\n",
    "images_and_bands = pd.read_csv(f'{raster_working}/{bands_csv_name}')\n",
    "images_and_bands.head()"
   ]
  },
  {
   "cell_type": "markdown",
   "id": "bbd9e0e5-46f1-448b-a5e2-93034ae2423c",
   "metadata": {},
   "source": [
    "### Prepping other bands to download"
   ]
  },
  {
   "cell_type": "code",
   "execution_count": 5,
   "id": "bf94d5bf-6b38-4fc6-9421-c30ec754793d",
   "metadata": {},
   "outputs": [
    {
     "data": {
      "text/html": [
       "\n",
       "            <style>\n",
       "                .geemap-dark {\n",
       "                    --jp-widgets-color: white;\n",
       "                    --jp-widgets-label-color: white;\n",
       "                    --jp-ui-font-color1: white;\n",
       "                    --jp-layout-color2: #454545;\n",
       "                    background-color: #383838;\n",
       "                }\n",
       "                    \n",
       "                .geemap-dark .jupyter-button {\n",
       "                    --jp-layout-color3: #383838;\n",
       "                }\n",
       "                \n",
       "                .geemap-colab {\n",
       "                    background-color: var(--colab-primary-surface-color, white);\n",
       "                }\n",
       "                    \n",
       "                .geemap-colab .jupyter-button {\n",
       "                    --jp-layout-color3: var(--colab-primary-surface-color, white);\n",
       "                }\n",
       "            </style>\n",
       "            "
      ],
      "text/plain": [
       "<IPython.core.display.HTML object>"
      ]
     },
     "metadata": {},
     "output_type": "display_data"
    }
   ],
   "source": [
    "#shrubs_states = ['california', 'kansas', 'new_mexico', 'nevada', 'texas']\n",
    "#sts_abbvs = ['CA', 'KS', 'NM', 'NV', 'TX']\n",
    "sts_abbrv = ['TX', 'NM']"
   ]
  },
  {
   "cell_type": "code",
   "execution_count": 6,
   "id": "470fd723-df63-4fc7-b7cc-9317f796ac72",
   "metadata": {},
   "outputs": [
    {
     "data": {
      "text/html": [
       "\n",
       "            <style>\n",
       "                .geemap-dark {\n",
       "                    --jp-widgets-color: white;\n",
       "                    --jp-widgets-label-color: white;\n",
       "                    --jp-ui-font-color1: white;\n",
       "                    --jp-layout-color2: #454545;\n",
       "                    background-color: #383838;\n",
       "                }\n",
       "                    \n",
       "                .geemap-dark .jupyter-button {\n",
       "                    --jp-layout-color3: #383838;\n",
       "                }\n",
       "                \n",
       "                .geemap-colab {\n",
       "                    background-color: var(--colab-primary-surface-color, white);\n",
       "                }\n",
       "                    \n",
       "                .geemap-colab .jupyter-button {\n",
       "                    --jp-layout-color3: var(--colab-primary-surface-color, white);\n",
       "                }\n",
       "            </style>\n",
       "            "
      ],
      "text/plain": [
       "<IPython.core.display.HTML object>"
      ]
     },
     "metadata": {},
     "output_type": "display_data"
    },
    {
     "name": "stdout",
     "output_type": "stream",
     "text": [
      "[<ee.image.Image object at 0x0000022F63698B30>, <ee.image.Image object at 0x0000022F5DBB96A0>, <ee.image.Image object at 0x0000022F6369F8C0>, <ee.image.Image object at 0x0000022F637784A0>]\n"
     ]
    }
   ],
   "source": [
    "other_bands = []\n",
    "\n",
    "elevation = ee.Image('USGS/3DEP/10m').select(['elevation'])\n",
    "other_bands.append(elevation)\n",
    "slope = ee.Terrain.slope(elevation).select(['slope']).rename(['slope'])\n",
    "other_bands.append(slope)\n",
    "aspect = ee.Terrain.aspect(elevation).select(['aspect']).rename(['aspect'])\n",
    "other_bands.append(aspect)\n",
    "\n",
    "nhd_area_tx = ee.FeatureCollection(f\"projects/sat-io/open-datasets/NHD/NHD_{sts_abbrv[0]}/NHDArea\")\n",
    "nhd_flowline_tx = ee.FeatureCollection(f\"projects/sat-io/open-datasets/NHD/NHD_{sts_abbrv[0]}/NHDFlowline\")\n",
    "nhd_tx = nhd_area_tx.merge(nhd_flowline_tx)\n",
    "nhd_area_nm = ee.FeatureCollection(f\"projects/sat-io/open-datasets/NHD/NHD_{sts_abbrv[1]}/NHDArea\")\n",
    "nhd_flowline_nm = ee.FeatureCollection(f\"projects/sat-io/open-datasets/NHD/NHD_{sts_abbrv[1]}/NHDFlowline\")\n",
    "nhd_nm = nhd_area_nm.merge(nhd_flowline_nm)\n",
    "nhd = nhd_tx.merge(nhd_nm)\n",
    "dist_nhd = nhd.distance(searchRadius=10000, maxError=50) #originally searchRadius = 50000\n",
    "#dist_nhd = dist_nhd.clip(ee_items[num]) #change clip area\n",
    "dist_nhd = dist_nhd.select(['distance'])\n",
    "dist_nhd = dist_nhd.rename('dist_drain')\n",
    "other_bands.append(dist_nhd)\n",
    "\n",
    "#roads = ee.FeatureCollection('TIGER/2016/Roads')\n",
    "#dist_roads = roads.distance(searchRadius=50000, maxError=50)\n",
    "#dist_roads = dist_roads.select(['distance'])\n",
    "#dist_roads = dist_roads.rename('dist_road')\n",
    "#other_bands.append(dist_roads)\n",
    "\n",
    "print(other_bands)"
   ]
  },
  {
   "cell_type": "code",
   "execution_count": 7,
   "id": "dd952141-293a-4238-aa96-d1553b5cbb6d",
   "metadata": {},
   "outputs": [
    {
     "data": {
      "text/html": [
       "\n",
       "            <style>\n",
       "                .geemap-dark {\n",
       "                    --jp-widgets-color: white;\n",
       "                    --jp-widgets-label-color: white;\n",
       "                    --jp-ui-font-color1: white;\n",
       "                    --jp-layout-color2: #454545;\n",
       "                    background-color: #383838;\n",
       "                }\n",
       "                    \n",
       "                .geemap-dark .jupyter-button {\n",
       "                    --jp-layout-color3: #383838;\n",
       "                }\n",
       "                \n",
       "                .geemap-colab {\n",
       "                    background-color: var(--colab-primary-surface-color, white);\n",
       "                }\n",
       "                    \n",
       "                .geemap-colab .jupyter-button {\n",
       "                    --jp-layout-color3: var(--colab-primary-surface-color, white);\n",
       "                }\n",
       "            </style>\n",
       "            "
      ],
      "text/plain": [
       "<IPython.core.display.HTML object>"
      ]
     },
     "metadata": {},
     "output_type": "display_data"
    },
    {
     "name": "stdout",
     "output_type": "stream",
     "text": [
      "['clay_0_5', 'clay_5_15', 'clay_15_30', 'clay_30_60', 'clay_60_100', 'clay_100_200', 'sand_0_5', 'sand_5_15', 'sand_15_30', 'sand_30_60', 'sand_60_100', 'sand_100_200', 'silt_0_5', 'silt_5_15', 'silt_15_30', 'silt_30_60', 'silt_60_100', 'silt_100_200', 'bd_0_5', 'bd_5_15', 'bd_15_30', 'bd_30_60', 'bd_60_100', 'bd_100_200', 'om_0_5', 'om_5_15', 'om_15_30', 'om_30_60', 'om_60_100', 'om_100_200', 'ph_0_5', 'ph_5_15', 'ph_15_30', 'ph_30_60', 'ph_60_100', 'ph_100_200', 'ksat_0_5', 'ksat_5_15', 'ksat_15_30', 'ksat_30_60', 'ksat_60_100', 'ksat_100_200', 'theta_r_0_5', 'theta_r_5_15', 'theta_r_15_30', 'theta_r_30_60', 'theta_r_60_100', 'theta_r_100_200', 'theta_s_0_5', 'theta_s_5_15', 'theta_s_15_30', 'theta_s_30_60', 'theta_s_60_100', 'theta_s_100_200', 'caco3', 'cec', 'ec', 'sar', 'kw_025', 'resdept', 'soil_depth', 'wind_erodibility', 'rf_025', 'water_storage', 'ann_rain', 'temp_range', 'elevation', 'slope', 'aspect', 'dist_drain']\n"
     ]
    }
   ],
   "source": [
    "image_stack_builder = gda.ImageStackBuilder(images_and_bands)\n",
    "rast_crs = 'EPSG:6350'\n",
    "image_stack = image_stack_builder.build_image_stack(other_bands, rast_crs = rast_crs)\n",
    "print(image_stack.bandNames().getInfo())"
   ]
  },
  {
   "cell_type": "markdown",
   "id": "20ebba5b-3bc0-4e7b-a30b-0a6f2f89629a",
   "metadata": {},
   "source": [
    "### Testing exporting imagery"
   ]
  },
  {
   "cell_type": "code",
   "execution_count": 8,
   "id": "deedf903-d23f-42d5-bbbb-ab70118ba2dd",
   "metadata": {},
   "outputs": [
    {
     "data": {
      "text/html": [
       "\n",
       "            <style>\n",
       "                .geemap-dark {\n",
       "                    --jp-widgets-color: white;\n",
       "                    --jp-widgets-label-color: white;\n",
       "                    --jp-ui-font-color1: white;\n",
       "                    --jp-layout-color2: #454545;\n",
       "                    background-color: #383838;\n",
       "                }\n",
       "                    \n",
       "                .geemap-dark .jupyter-button {\n",
       "                    --jp-layout-color3: #383838;\n",
       "                }\n",
       "                \n",
       "                .geemap-colab {\n",
       "                    background-color: var(--colab-primary-surface-color, white);\n",
       "                }\n",
       "                    \n",
       "                .geemap-colab .jupyter-button {\n",
       "                    --jp-layout-color3: var(--colab-primary-surface-color, white);\n",
       "                }\n",
       "            </style>\n",
       "            "
      ],
      "text/plain": [
       "<IPython.core.display.HTML object>"
      ]
     },
     "metadata": {},
     "output_type": "display_data"
    }
   ],
   "source": [
    "# no slash needed at end of directory\n",
    "shp_dir = f'{raster_working}/fishnet_cells'"
   ]
  },
  {
   "cell_type": "code",
   "execution_count": 11,
   "id": "5ee3d1be-4a03-4966-8888-a7155885dbee",
   "metadata": {
    "scrolled": true
   },
   "outputs": [
    {
     "data": {
      "text/html": [
       "\n",
       "            <style>\n",
       "                .geemap-dark {\n",
       "                    --jp-widgets-color: white;\n",
       "                    --jp-widgets-label-color: white;\n",
       "                    --jp-ui-font-color1: white;\n",
       "                    --jp-layout-color2: #454545;\n",
       "                    background-color: #383838;\n",
       "                }\n",
       "                    \n",
       "                .geemap-dark .jupyter-button {\n",
       "                    --jp-layout-color3: #383838;\n",
       "                }\n",
       "                \n",
       "                .geemap-colab {\n",
       "                    background-color: var(--colab-primary-surface-color, white);\n",
       "                }\n",
       "                    \n",
       "                .geemap-colab .jupyter-button {\n",
       "                    --jp-layout-color3: var(--colab-primary-surface-color, white);\n",
       "                }\n",
       "            </style>\n",
       "            "
      ],
      "text/plain": [
       "<IPython.core.display.HTML object>"
      ]
     },
     "metadata": {},
     "output_type": "display_data"
    },
    {
     "name": "stdout",
     "output_type": "stream",
     "text": [
      "Downloading data for 25 files\n",
      "Generating URL ...\n",
      "Downloading data from https://earthengine.googleapis.com/v1/projects/earthengine-legacy/thumbnails/b5b20f5e7a6e606e1cfd26de995ebaa1-f7d7953e2fd6d881810487feef6395d4:getPixels\n",
      "Please wait ...\n",
      "Data downloaded to D:\\!!Research\\!!!Data\\ArcGIS_Projects\\quick_new_poly\\files_for_python\\env_data\\cell_0_env_image.tif\n",
      "Export task started for fishnet_cell_0.shp.\n",
      "Generating URL ...\n",
      "Downloading data from https://earthengine.googleapis.com/v1/projects/earthengine-legacy/thumbnails/d3bb4f4acadcc7320d389fc918d0b2be-65e15fc346aaee0eb597e6845240a84d:getPixels\n",
      "Please wait ...\n",
      "Data downloaded to D:\\!!Research\\!!!Data\\ArcGIS_Projects\\quick_new_poly\\files_for_python\\env_data\\cell_1_env_image.tif\n",
      "Export task started for fishnet_cell_1.shp.\n",
      "Generating URL ...\n",
      "Downloading data from https://earthengine.googleapis.com/v1/projects/earthengine-legacy/thumbnails/971250f1b5978e22ca2ac96001750262-f2c0b3607eb3ddd5366e42800f1a58e4:getPixels\n",
      "Please wait ...\n",
      "Data downloaded to D:\\!!Research\\!!!Data\\ArcGIS_Projects\\quick_new_poly\\files_for_python\\env_data\\cell_2_env_image.tif\n",
      "Export task started for fishnet_cell_10.shp.\n",
      "Generating URL ...\n",
      "Downloading data from https://earthengine.googleapis.com/v1/projects/earthengine-legacy/thumbnails/b012df5f57c74422f27c2740b0c8991b-b9ddec3c2e532254c0c41b542762fec9:getPixels\n",
      "Please wait ...\n",
      "Data downloaded to D:\\!!Research\\!!!Data\\ArcGIS_Projects\\quick_new_poly\\files_for_python\\env_data\\cell_3_env_image.tif\n",
      "Export task started for fishnet_cell_11.shp.\n",
      "Generating URL ...\n",
      "Downloading data from https://earthengine.googleapis.com/v1/projects/earthengine-legacy/thumbnails/8ac5cba3c3acc5ab0c053b5a9eac4284-75f13acee022087afa51fb53046f89a9:getPixels\n",
      "Please wait ...\n",
      "Data downloaded to D:\\!!Research\\!!!Data\\ArcGIS_Projects\\quick_new_poly\\files_for_python\\env_data\\cell_4_env_image.tif\n",
      "Export task started for fishnet_cell_12.shp.\n",
      "Generating URL ...\n",
      "Downloading data from https://earthengine.googleapis.com/v1/projects/earthengine-legacy/thumbnails/55abacdde1c9155ec93212822b8af52c-2d95e8e95eec374b88ee61a5518b19de:getPixels\n",
      "Please wait ...\n",
      "Data downloaded to D:\\!!Research\\!!!Data\\ArcGIS_Projects\\quick_new_poly\\files_for_python\\env_data\\cell_5_env_image.tif\n",
      "Export task started for fishnet_cell_13.shp.\n",
      "Generating URL ...\n",
      "Downloading data from https://earthengine.googleapis.com/v1/projects/earthengine-legacy/thumbnails/ccc60a436a922096a23793f6fd9c4ae2-8cdde7d2e6ccb04b0e7799adf02e2c4c:getPixels\n",
      "Please wait ...\n",
      "Data downloaded to D:\\!!Research\\!!!Data\\ArcGIS_Projects\\quick_new_poly\\files_for_python\\env_data\\cell_6_env_image.tif\n",
      "Export task started for fishnet_cell_14.shp.\n",
      "Generating URL ...\n",
      "Downloading data from https://earthengine.googleapis.com/v1/projects/earthengine-legacy/thumbnails/fa5df4d776d6c8922cffa00dfb7b2f06-9a36eb688ed34ae3df1ad21815af308f:getPixels\n",
      "Please wait ...\n",
      "Data downloaded to D:\\!!Research\\!!!Data\\ArcGIS_Projects\\quick_new_poly\\files_for_python\\env_data\\cell_7_env_image.tif\n",
      "Export task started for fishnet_cell_15.shp.\n",
      "Generating URL ...\n",
      "Downloading data from https://earthengine.googleapis.com/v1/projects/earthengine-legacy/thumbnails/d58f9ca3f59bc307111c98ac416e19b7-9a05daf7cf402a61117cd6de1b4e07c0:getPixels\n",
      "Please wait ...\n",
      "Data downloaded to D:\\!!Research\\!!!Data\\ArcGIS_Projects\\quick_new_poly\\files_for_python\\env_data\\cell_8_env_image.tif\n",
      "Export task started for fishnet_cell_16.shp.\n",
      "Generating URL ...\n",
      "Downloading data from https://earthengine.googleapis.com/v1/projects/earthengine-legacy/thumbnails/26e525ea79f941951714bfa407025ca9-904e65c65ab27c9000383e763031390c:getPixels\n",
      "Please wait ...\n",
      "Data downloaded to D:\\!!Research\\!!!Data\\ArcGIS_Projects\\quick_new_poly\\files_for_python\\env_data\\cell_9_env_image.tif\n",
      "Export task started for fishnet_cell_17.shp.\n",
      "Generating URL ...\n",
      "Downloading data from https://earthengine.googleapis.com/v1/projects/earthengine-legacy/thumbnails/822fe2b765ada0687728fc3567768704-48213dbcac295e96e4ad7ba6e734fcbf:getPixels\n",
      "Please wait ...\n",
      "Data downloaded to D:\\!!Research\\!!!Data\\ArcGIS_Projects\\quick_new_poly\\files_for_python\\env_data\\cell_10_env_image.tif\n",
      "Export task started for fishnet_cell_18.shp.\n",
      "Generating URL ...\n",
      "Downloading data from https://earthengine.googleapis.com/v1/projects/earthengine-legacy/thumbnails/89156a5a0de08856491a29c1f1312d41-d11837032fcfa15bb77a7494511826e6:getPixels\n",
      "Please wait ...\n",
      "Data downloaded to D:\\!!Research\\!!!Data\\ArcGIS_Projects\\quick_new_poly\\files_for_python\\env_data\\cell_11_env_image.tif\n",
      "Export task started for fishnet_cell_19.shp.\n",
      "Generating URL ...\n",
      "Downloading data from https://earthengine.googleapis.com/v1/projects/earthengine-legacy/thumbnails/e9ef5ab447189a5eacde25d4f9a9d739-de5cd8ee25700bac4b5d8f3bdbc91123:getPixels\n",
      "Please wait ...\n",
      "Data downloaded to D:\\!!Research\\!!!Data\\ArcGIS_Projects\\quick_new_poly\\files_for_python\\env_data\\cell_12_env_image.tif\n",
      "Export task started for fishnet_cell_2.shp.\n",
      "Generating URL ...\n",
      "Downloading data from https://earthengine.googleapis.com/v1/projects/earthengine-legacy/thumbnails/9c8de08e2e6561da015f6eddd4466a59-3965048f0abb2a3f454f7b7bdeefb2e3:getPixels\n",
      "Please wait ...\n",
      "Data downloaded to D:\\!!Research\\!!!Data\\ArcGIS_Projects\\quick_new_poly\\files_for_python\\env_data\\cell_13_env_image.tif\n",
      "Export task started for fishnet_cell_20.shp.\n",
      "Generating URL ...\n",
      "Downloading data from https://earthengine.googleapis.com/v1/projects/earthengine-legacy/thumbnails/8428fd4ed3958d78b4950bba91cc48d8-7cdf7bb54f36ea6056fa93e9de9a7cd9:getPixels\n",
      "Please wait ...\n",
      "Data downloaded to D:\\!!Research\\!!!Data\\ArcGIS_Projects\\quick_new_poly\\files_for_python\\env_data\\cell_14_env_image.tif\n",
      "Export task started for fishnet_cell_21.shp.\n",
      "Generating URL ...\n",
      "Downloading data from https://earthengine.googleapis.com/v1/projects/earthengine-legacy/thumbnails/26913640be62ae8b3f0ed619adeb8280-054da142a9a0bb1f620528cfc23af1a2:getPixels\n",
      "Please wait ...\n",
      "Data downloaded to D:\\!!Research\\!!!Data\\ArcGIS_Projects\\quick_new_poly\\files_for_python\\env_data\\cell_15_env_image.tif\n",
      "Export task started for fishnet_cell_22.shp.\n",
      "Generating URL ...\n",
      "Downloading data from https://earthengine.googleapis.com/v1/projects/earthengine-legacy/thumbnails/d61e77adfbd57fc2a3a9bc52d426e55c-96e5d2537f0bd6cabf87fd37c31d86d7:getPixels\n",
      "Please wait ...\n",
      "Data downloaded to D:\\!!Research\\!!!Data\\ArcGIS_Projects\\quick_new_poly\\files_for_python\\env_data\\cell_16_env_image.tif\n",
      "Export task started for fishnet_cell_23.shp.\n",
      "Generating URL ...\n",
      "Downloading data from https://earthengine.googleapis.com/v1/projects/earthengine-legacy/thumbnails/45e913a0ba7e480eed17df41d39c267f-407dc90462b5e7dbdd916b9be3ff5a18:getPixels\n",
      "Please wait ...\n",
      "Data downloaded to D:\\!!Research\\!!!Data\\ArcGIS_Projects\\quick_new_poly\\files_for_python\\env_data\\cell_17_env_image.tif\n",
      "Export task started for fishnet_cell_24.shp.\n",
      "Generating URL ...\n",
      "Downloading data from https://earthengine.googleapis.com/v1/projects/earthengine-legacy/thumbnails/0bfff81426c0603132b2f8e3f88e7400-fa30f591f80c7a449d88d31478cbbd1c:getPixels\n",
      "Please wait ...\n",
      "Data downloaded to D:\\!!Research\\!!!Data\\ArcGIS_Projects\\quick_new_poly\\files_for_python\\env_data\\cell_18_env_image.tif\n",
      "Export task started for fishnet_cell_3.shp.\n",
      "Generating URL ...\n",
      "Downloading data from https://earthengine.googleapis.com/v1/projects/earthengine-legacy/thumbnails/837c5cab91b1e98fd1ec4982d52eafac-10e60aabe000fa96cc01b701a4f6bc27:getPixels\n",
      "Please wait ...\n",
      "Data downloaded to D:\\!!Research\\!!!Data\\ArcGIS_Projects\\quick_new_poly\\files_for_python\\env_data\\cell_19_env_image.tif\n",
      "Export task started for fishnet_cell_4.shp.\n",
      "Generating URL ...\n",
      "Downloading data from https://earthengine.googleapis.com/v1/projects/earthengine-legacy/thumbnails/7c28cc1ec2c90728bf5a80e144ead6c8-6b0c1e634e91423b0fc6fe8f2305f28f:getPixels\n",
      "Please wait ...\n",
      "Data downloaded to D:\\!!Research\\!!!Data\\ArcGIS_Projects\\quick_new_poly\\files_for_python\\env_data\\cell_20_env_image.tif\n",
      "Export task started for fishnet_cell_5.shp.\n",
      "Generating URL ...\n",
      "Downloading data from https://earthengine.googleapis.com/v1/projects/earthengine-legacy/thumbnails/600bc668bcbcdfe1ee1874e3cb683622-e43ad2ad9c7814a101954cd35cbe93d2:getPixels\n",
      "Please wait ...\n",
      "Data downloaded to D:\\!!Research\\!!!Data\\ArcGIS_Projects\\quick_new_poly\\files_for_python\\env_data\\cell_21_env_image.tif\n",
      "Export task started for fishnet_cell_6.shp.\n",
      "Generating URL ...\n",
      "Downloading data from https://earthengine.googleapis.com/v1/projects/earthengine-legacy/thumbnails/baf9cd95d15ee8095ee6cb2e67828fa9-e46f9f176f081ec54c76f89506c1c862:getPixels\n",
      "Please wait ...\n",
      "Data downloaded to D:\\!!Research\\!!!Data\\ArcGIS_Projects\\quick_new_poly\\files_for_python\\env_data\\cell_22_env_image.tif\n",
      "Export task started for fishnet_cell_7.shp.\n",
      "Generating URL ...\n",
      "Downloading data from https://earthengine.googleapis.com/v1/projects/earthengine-legacy/thumbnails/8ff74c6d0ee3820bb5c49abfbcee489a-adbee1a9a1a4ad4b17c39086af2e38e6:getPixels\n",
      "Please wait ...\n",
      "Data downloaded to D:\\!!Research\\!!!Data\\ArcGIS_Projects\\quick_new_poly\\files_for_python\\env_data\\cell_23_env_image.tif\n",
      "Export task started for fishnet_cell_8.shp.\n",
      "Generating URL ...\n",
      "Downloading data from https://earthengine.googleapis.com/v1/projects/earthengine-legacy/thumbnails/dccbe3291b8b03013224bd4f0ac11102-d0cb3791b293803279541a176a5e3c0d:getPixels\n",
      "Please wait ...\n",
      "Data downloaded to D:\\!!Research\\!!!Data\\ArcGIS_Projects\\quick_new_poly\\files_for_python\\env_data\\cell_24_env_image.tif\n",
      "Export task started for fishnet_cell_9.shp.\n",
      "removed D:/!!Research/!!!Data/ArcGIS_Projects/quick_new_poly/files_for_python/fishnet_cells/fishnet_cell_0_gcs.cpg\n",
      "removed D:/!!Research/!!!Data/ArcGIS_Projects/quick_new_poly/files_for_python/fishnet_cells/fishnet_cell_0_gcs.dbf\n",
      "removed D:/!!Research/!!!Data/ArcGIS_Projects/quick_new_poly/files_for_python/fishnet_cells/fishnet_cell_0_gcs.prj\n",
      "removed D:/!!Research/!!!Data/ArcGIS_Projects/quick_new_poly/files_for_python/fishnet_cells/fishnet_cell_0_gcs.shp\n",
      "removed D:/!!Research/!!!Data/ArcGIS_Projects/quick_new_poly/files_for_python/fishnet_cells/fishnet_cell_0_gcs.shx\n",
      "removed D:/!!Research/!!!Data/ArcGIS_Projects/quick_new_poly/files_for_python/fishnet_cells/fishnet_cell_10_gcs.cpg\n",
      "removed D:/!!Research/!!!Data/ArcGIS_Projects/quick_new_poly/files_for_python/fishnet_cells/fishnet_cell_10_gcs.dbf\n",
      "removed D:/!!Research/!!!Data/ArcGIS_Projects/quick_new_poly/files_for_python/fishnet_cells/fishnet_cell_10_gcs.prj\n",
      "removed D:/!!Research/!!!Data/ArcGIS_Projects/quick_new_poly/files_for_python/fishnet_cells/fishnet_cell_10_gcs.shp\n",
      "removed D:/!!Research/!!!Data/ArcGIS_Projects/quick_new_poly/files_for_python/fishnet_cells/fishnet_cell_10_gcs.shx\n",
      "removed D:/!!Research/!!!Data/ArcGIS_Projects/quick_new_poly/files_for_python/fishnet_cells/fishnet_cell_11_gcs.cpg\n",
      "removed D:/!!Research/!!!Data/ArcGIS_Projects/quick_new_poly/files_for_python/fishnet_cells/fishnet_cell_11_gcs.dbf\n",
      "removed D:/!!Research/!!!Data/ArcGIS_Projects/quick_new_poly/files_for_python/fishnet_cells/fishnet_cell_11_gcs.prj\n",
      "removed D:/!!Research/!!!Data/ArcGIS_Projects/quick_new_poly/files_for_python/fishnet_cells/fishnet_cell_11_gcs.shp\n",
      "removed D:/!!Research/!!!Data/ArcGIS_Projects/quick_new_poly/files_for_python/fishnet_cells/fishnet_cell_11_gcs.shx\n",
      "removed D:/!!Research/!!!Data/ArcGIS_Projects/quick_new_poly/files_for_python/fishnet_cells/fishnet_cell_12_gcs.cpg\n",
      "removed D:/!!Research/!!!Data/ArcGIS_Projects/quick_new_poly/files_for_python/fishnet_cells/fishnet_cell_12_gcs.dbf\n",
      "removed D:/!!Research/!!!Data/ArcGIS_Projects/quick_new_poly/files_for_python/fishnet_cells/fishnet_cell_12_gcs.prj\n",
      "removed D:/!!Research/!!!Data/ArcGIS_Projects/quick_new_poly/files_for_python/fishnet_cells/fishnet_cell_12_gcs.shp\n",
      "removed D:/!!Research/!!!Data/ArcGIS_Projects/quick_new_poly/files_for_python/fishnet_cells/fishnet_cell_12_gcs.shx\n",
      "removed D:/!!Research/!!!Data/ArcGIS_Projects/quick_new_poly/files_for_python/fishnet_cells/fishnet_cell_13_gcs.cpg\n",
      "removed D:/!!Research/!!!Data/ArcGIS_Projects/quick_new_poly/files_for_python/fishnet_cells/fishnet_cell_13_gcs.dbf\n",
      "removed D:/!!Research/!!!Data/ArcGIS_Projects/quick_new_poly/files_for_python/fishnet_cells/fishnet_cell_13_gcs.prj\n",
      "removed D:/!!Research/!!!Data/ArcGIS_Projects/quick_new_poly/files_for_python/fishnet_cells/fishnet_cell_13_gcs.shp\n",
      "removed D:/!!Research/!!!Data/ArcGIS_Projects/quick_new_poly/files_for_python/fishnet_cells/fishnet_cell_13_gcs.shx\n",
      "removed D:/!!Research/!!!Data/ArcGIS_Projects/quick_new_poly/files_for_python/fishnet_cells/fishnet_cell_14_gcs.cpg\n",
      "removed D:/!!Research/!!!Data/ArcGIS_Projects/quick_new_poly/files_for_python/fishnet_cells/fishnet_cell_14_gcs.dbf\n",
      "removed D:/!!Research/!!!Data/ArcGIS_Projects/quick_new_poly/files_for_python/fishnet_cells/fishnet_cell_14_gcs.prj\n",
      "removed D:/!!Research/!!!Data/ArcGIS_Projects/quick_new_poly/files_for_python/fishnet_cells/fishnet_cell_14_gcs.shp\n",
      "removed D:/!!Research/!!!Data/ArcGIS_Projects/quick_new_poly/files_for_python/fishnet_cells/fishnet_cell_14_gcs.shx\n",
      "removed D:/!!Research/!!!Data/ArcGIS_Projects/quick_new_poly/files_for_python/fishnet_cells/fishnet_cell_15_gcs.cpg\n",
      "removed D:/!!Research/!!!Data/ArcGIS_Projects/quick_new_poly/files_for_python/fishnet_cells/fishnet_cell_15_gcs.dbf\n",
      "removed D:/!!Research/!!!Data/ArcGIS_Projects/quick_new_poly/files_for_python/fishnet_cells/fishnet_cell_15_gcs.prj\n",
      "removed D:/!!Research/!!!Data/ArcGIS_Projects/quick_new_poly/files_for_python/fishnet_cells/fishnet_cell_15_gcs.shp\n",
      "removed D:/!!Research/!!!Data/ArcGIS_Projects/quick_new_poly/files_for_python/fishnet_cells/fishnet_cell_15_gcs.shx\n",
      "removed D:/!!Research/!!!Data/ArcGIS_Projects/quick_new_poly/files_for_python/fishnet_cells/fishnet_cell_16_gcs.cpg\n",
      "removed D:/!!Research/!!!Data/ArcGIS_Projects/quick_new_poly/files_for_python/fishnet_cells/fishnet_cell_16_gcs.dbf\n",
      "removed D:/!!Research/!!!Data/ArcGIS_Projects/quick_new_poly/files_for_python/fishnet_cells/fishnet_cell_16_gcs.prj\n",
      "removed D:/!!Research/!!!Data/ArcGIS_Projects/quick_new_poly/files_for_python/fishnet_cells/fishnet_cell_16_gcs.shp\n",
      "removed D:/!!Research/!!!Data/ArcGIS_Projects/quick_new_poly/files_for_python/fishnet_cells/fishnet_cell_16_gcs.shx\n",
      "removed D:/!!Research/!!!Data/ArcGIS_Projects/quick_new_poly/files_for_python/fishnet_cells/fishnet_cell_17_gcs.cpg\n",
      "removed D:/!!Research/!!!Data/ArcGIS_Projects/quick_new_poly/files_for_python/fishnet_cells/fishnet_cell_17_gcs.dbf\n",
      "removed D:/!!Research/!!!Data/ArcGIS_Projects/quick_new_poly/files_for_python/fishnet_cells/fishnet_cell_17_gcs.prj\n",
      "removed D:/!!Research/!!!Data/ArcGIS_Projects/quick_new_poly/files_for_python/fishnet_cells/fishnet_cell_17_gcs.shp\n",
      "removed D:/!!Research/!!!Data/ArcGIS_Projects/quick_new_poly/files_for_python/fishnet_cells/fishnet_cell_17_gcs.shx\n",
      "removed D:/!!Research/!!!Data/ArcGIS_Projects/quick_new_poly/files_for_python/fishnet_cells/fishnet_cell_18_gcs.cpg\n",
      "removed D:/!!Research/!!!Data/ArcGIS_Projects/quick_new_poly/files_for_python/fishnet_cells/fishnet_cell_18_gcs.dbf\n",
      "removed D:/!!Research/!!!Data/ArcGIS_Projects/quick_new_poly/files_for_python/fishnet_cells/fishnet_cell_18_gcs.prj\n",
      "removed D:/!!Research/!!!Data/ArcGIS_Projects/quick_new_poly/files_for_python/fishnet_cells/fishnet_cell_18_gcs.shp\n",
      "removed D:/!!Research/!!!Data/ArcGIS_Projects/quick_new_poly/files_for_python/fishnet_cells/fishnet_cell_18_gcs.shx\n",
      "removed D:/!!Research/!!!Data/ArcGIS_Projects/quick_new_poly/files_for_python/fishnet_cells/fishnet_cell_19_gcs.cpg\n",
      "removed D:/!!Research/!!!Data/ArcGIS_Projects/quick_new_poly/files_for_python/fishnet_cells/fishnet_cell_19_gcs.dbf\n",
      "removed D:/!!Research/!!!Data/ArcGIS_Projects/quick_new_poly/files_for_python/fishnet_cells/fishnet_cell_19_gcs.prj\n",
      "removed D:/!!Research/!!!Data/ArcGIS_Projects/quick_new_poly/files_for_python/fishnet_cells/fishnet_cell_19_gcs.shp\n",
      "removed D:/!!Research/!!!Data/ArcGIS_Projects/quick_new_poly/files_for_python/fishnet_cells/fishnet_cell_19_gcs.shx\n",
      "removed D:/!!Research/!!!Data/ArcGIS_Projects/quick_new_poly/files_for_python/fishnet_cells/fishnet_cell_1_gcs.cpg\n",
      "removed D:/!!Research/!!!Data/ArcGIS_Projects/quick_new_poly/files_for_python/fishnet_cells/fishnet_cell_1_gcs.dbf\n",
      "removed D:/!!Research/!!!Data/ArcGIS_Projects/quick_new_poly/files_for_python/fishnet_cells/fishnet_cell_1_gcs.prj\n",
      "removed D:/!!Research/!!!Data/ArcGIS_Projects/quick_new_poly/files_for_python/fishnet_cells/fishnet_cell_1_gcs.shp\n",
      "removed D:/!!Research/!!!Data/ArcGIS_Projects/quick_new_poly/files_for_python/fishnet_cells/fishnet_cell_1_gcs.shx\n",
      "removed D:/!!Research/!!!Data/ArcGIS_Projects/quick_new_poly/files_for_python/fishnet_cells/fishnet_cell_20_gcs.cpg\n",
      "removed D:/!!Research/!!!Data/ArcGIS_Projects/quick_new_poly/files_for_python/fishnet_cells/fishnet_cell_20_gcs.dbf\n",
      "removed D:/!!Research/!!!Data/ArcGIS_Projects/quick_new_poly/files_for_python/fishnet_cells/fishnet_cell_20_gcs.prj\n",
      "removed D:/!!Research/!!!Data/ArcGIS_Projects/quick_new_poly/files_for_python/fishnet_cells/fishnet_cell_20_gcs.shp\n",
      "removed D:/!!Research/!!!Data/ArcGIS_Projects/quick_new_poly/files_for_python/fishnet_cells/fishnet_cell_20_gcs.shx\n",
      "removed D:/!!Research/!!!Data/ArcGIS_Projects/quick_new_poly/files_for_python/fishnet_cells/fishnet_cell_21_gcs.cpg\n",
      "removed D:/!!Research/!!!Data/ArcGIS_Projects/quick_new_poly/files_for_python/fishnet_cells/fishnet_cell_21_gcs.dbf\n",
      "removed D:/!!Research/!!!Data/ArcGIS_Projects/quick_new_poly/files_for_python/fishnet_cells/fishnet_cell_21_gcs.prj\n",
      "removed D:/!!Research/!!!Data/ArcGIS_Projects/quick_new_poly/files_for_python/fishnet_cells/fishnet_cell_21_gcs.shp\n",
      "removed D:/!!Research/!!!Data/ArcGIS_Projects/quick_new_poly/files_for_python/fishnet_cells/fishnet_cell_21_gcs.shx\n",
      "removed D:/!!Research/!!!Data/ArcGIS_Projects/quick_new_poly/files_for_python/fishnet_cells/fishnet_cell_22_gcs.cpg\n",
      "removed D:/!!Research/!!!Data/ArcGIS_Projects/quick_new_poly/files_for_python/fishnet_cells/fishnet_cell_22_gcs.dbf\n",
      "removed D:/!!Research/!!!Data/ArcGIS_Projects/quick_new_poly/files_for_python/fishnet_cells/fishnet_cell_22_gcs.prj\n",
      "removed D:/!!Research/!!!Data/ArcGIS_Projects/quick_new_poly/files_for_python/fishnet_cells/fishnet_cell_22_gcs.shp\n",
      "removed D:/!!Research/!!!Data/ArcGIS_Projects/quick_new_poly/files_for_python/fishnet_cells/fishnet_cell_22_gcs.shx\n",
      "removed D:/!!Research/!!!Data/ArcGIS_Projects/quick_new_poly/files_for_python/fishnet_cells/fishnet_cell_23_gcs.cpg\n",
      "removed D:/!!Research/!!!Data/ArcGIS_Projects/quick_new_poly/files_for_python/fishnet_cells/fishnet_cell_23_gcs.dbf\n",
      "removed D:/!!Research/!!!Data/ArcGIS_Projects/quick_new_poly/files_for_python/fishnet_cells/fishnet_cell_23_gcs.prj\n",
      "removed D:/!!Research/!!!Data/ArcGIS_Projects/quick_new_poly/files_for_python/fishnet_cells/fishnet_cell_23_gcs.shp\n",
      "removed D:/!!Research/!!!Data/ArcGIS_Projects/quick_new_poly/files_for_python/fishnet_cells/fishnet_cell_23_gcs.shx\n",
      "removed D:/!!Research/!!!Data/ArcGIS_Projects/quick_new_poly/files_for_python/fishnet_cells/fishnet_cell_24_gcs.cpg\n",
      "removed D:/!!Research/!!!Data/ArcGIS_Projects/quick_new_poly/files_for_python/fishnet_cells/fishnet_cell_24_gcs.dbf\n",
      "removed D:/!!Research/!!!Data/ArcGIS_Projects/quick_new_poly/files_for_python/fishnet_cells/fishnet_cell_24_gcs.prj\n",
      "removed D:/!!Research/!!!Data/ArcGIS_Projects/quick_new_poly/files_for_python/fishnet_cells/fishnet_cell_24_gcs.shp\n",
      "removed D:/!!Research/!!!Data/ArcGIS_Projects/quick_new_poly/files_for_python/fishnet_cells/fishnet_cell_24_gcs.shx\n",
      "removed D:/!!Research/!!!Data/ArcGIS_Projects/quick_new_poly/files_for_python/fishnet_cells/fishnet_cell_2_gcs.cpg\n",
      "removed D:/!!Research/!!!Data/ArcGIS_Projects/quick_new_poly/files_for_python/fishnet_cells/fishnet_cell_2_gcs.dbf\n",
      "removed D:/!!Research/!!!Data/ArcGIS_Projects/quick_new_poly/files_for_python/fishnet_cells/fishnet_cell_2_gcs.prj\n",
      "removed D:/!!Research/!!!Data/ArcGIS_Projects/quick_new_poly/files_for_python/fishnet_cells/fishnet_cell_2_gcs.shp\n",
      "removed D:/!!Research/!!!Data/ArcGIS_Projects/quick_new_poly/files_for_python/fishnet_cells/fishnet_cell_2_gcs.shx\n",
      "removed D:/!!Research/!!!Data/ArcGIS_Projects/quick_new_poly/files_for_python/fishnet_cells/fishnet_cell_3_gcs.cpg\n",
      "removed D:/!!Research/!!!Data/ArcGIS_Projects/quick_new_poly/files_for_python/fishnet_cells/fishnet_cell_3_gcs.dbf\n",
      "removed D:/!!Research/!!!Data/ArcGIS_Projects/quick_new_poly/files_for_python/fishnet_cells/fishnet_cell_3_gcs.prj\n",
      "removed D:/!!Research/!!!Data/ArcGIS_Projects/quick_new_poly/files_for_python/fishnet_cells/fishnet_cell_3_gcs.shp\n",
      "removed D:/!!Research/!!!Data/ArcGIS_Projects/quick_new_poly/files_for_python/fishnet_cells/fishnet_cell_3_gcs.shx\n",
      "removed D:/!!Research/!!!Data/ArcGIS_Projects/quick_new_poly/files_for_python/fishnet_cells/fishnet_cell_4_gcs.cpg\n",
      "removed D:/!!Research/!!!Data/ArcGIS_Projects/quick_new_poly/files_for_python/fishnet_cells/fishnet_cell_4_gcs.dbf\n",
      "removed D:/!!Research/!!!Data/ArcGIS_Projects/quick_new_poly/files_for_python/fishnet_cells/fishnet_cell_4_gcs.prj\n",
      "removed D:/!!Research/!!!Data/ArcGIS_Projects/quick_new_poly/files_for_python/fishnet_cells/fishnet_cell_4_gcs.shp\n",
      "removed D:/!!Research/!!!Data/ArcGIS_Projects/quick_new_poly/files_for_python/fishnet_cells/fishnet_cell_4_gcs.shx\n",
      "removed D:/!!Research/!!!Data/ArcGIS_Projects/quick_new_poly/files_for_python/fishnet_cells/fishnet_cell_5_gcs.cpg\n",
      "removed D:/!!Research/!!!Data/ArcGIS_Projects/quick_new_poly/files_for_python/fishnet_cells/fishnet_cell_5_gcs.dbf\n",
      "removed D:/!!Research/!!!Data/ArcGIS_Projects/quick_new_poly/files_for_python/fishnet_cells/fishnet_cell_5_gcs.prj\n",
      "removed D:/!!Research/!!!Data/ArcGIS_Projects/quick_new_poly/files_for_python/fishnet_cells/fishnet_cell_5_gcs.shp\n",
      "removed D:/!!Research/!!!Data/ArcGIS_Projects/quick_new_poly/files_for_python/fishnet_cells/fishnet_cell_5_gcs.shx\n",
      "removed D:/!!Research/!!!Data/ArcGIS_Projects/quick_new_poly/files_for_python/fishnet_cells/fishnet_cell_6_gcs.cpg\n",
      "removed D:/!!Research/!!!Data/ArcGIS_Projects/quick_new_poly/files_for_python/fishnet_cells/fishnet_cell_6_gcs.dbf\n",
      "removed D:/!!Research/!!!Data/ArcGIS_Projects/quick_new_poly/files_for_python/fishnet_cells/fishnet_cell_6_gcs.prj\n",
      "removed D:/!!Research/!!!Data/ArcGIS_Projects/quick_new_poly/files_for_python/fishnet_cells/fishnet_cell_6_gcs.shp\n",
      "removed D:/!!Research/!!!Data/ArcGIS_Projects/quick_new_poly/files_for_python/fishnet_cells/fishnet_cell_6_gcs.shx\n",
      "removed D:/!!Research/!!!Data/ArcGIS_Projects/quick_new_poly/files_for_python/fishnet_cells/fishnet_cell_7_gcs.cpg\n",
      "removed D:/!!Research/!!!Data/ArcGIS_Projects/quick_new_poly/files_for_python/fishnet_cells/fishnet_cell_7_gcs.dbf\n",
      "removed D:/!!Research/!!!Data/ArcGIS_Projects/quick_new_poly/files_for_python/fishnet_cells/fishnet_cell_7_gcs.prj\n",
      "removed D:/!!Research/!!!Data/ArcGIS_Projects/quick_new_poly/files_for_python/fishnet_cells/fishnet_cell_7_gcs.shp\n",
      "removed D:/!!Research/!!!Data/ArcGIS_Projects/quick_new_poly/files_for_python/fishnet_cells/fishnet_cell_7_gcs.shx\n",
      "removed D:/!!Research/!!!Data/ArcGIS_Projects/quick_new_poly/files_for_python/fishnet_cells/fishnet_cell_8_gcs.cpg\n",
      "removed D:/!!Research/!!!Data/ArcGIS_Projects/quick_new_poly/files_for_python/fishnet_cells/fishnet_cell_8_gcs.dbf\n",
      "removed D:/!!Research/!!!Data/ArcGIS_Projects/quick_new_poly/files_for_python/fishnet_cells/fishnet_cell_8_gcs.prj\n",
      "removed D:/!!Research/!!!Data/ArcGIS_Projects/quick_new_poly/files_for_python/fishnet_cells/fishnet_cell_8_gcs.shp\n",
      "removed D:/!!Research/!!!Data/ArcGIS_Projects/quick_new_poly/files_for_python/fishnet_cells/fishnet_cell_8_gcs.shx\n",
      "removed D:/!!Research/!!!Data/ArcGIS_Projects/quick_new_poly/files_for_python/fishnet_cells/fishnet_cell_9_gcs.cpg\n",
      "removed D:/!!Research/!!!Data/ArcGIS_Projects/quick_new_poly/files_for_python/fishnet_cells/fishnet_cell_9_gcs.dbf\n",
      "removed D:/!!Research/!!!Data/ArcGIS_Projects/quick_new_poly/files_for_python/fishnet_cells/fishnet_cell_9_gcs.prj\n",
      "removed D:/!!Research/!!!Data/ArcGIS_Projects/quick_new_poly/files_for_python/fishnet_cells/fishnet_cell_9_gcs.shp\n",
      "removed D:/!!Research/!!!Data/ArcGIS_Projects/quick_new_poly/files_for_python/fishnet_cells/fishnet_cell_9_gcs.shx\n"
     ]
    }
   ],
   "source": [
    "#shp_dir = f'{folder_directory}shp_file'\n",
    "# Don't need to repeate the folder directory in an fstring, just need to tack on the\n",
    "# additional directories that lead to the folder you want to store the data in.\n",
    "# e.g. 'test_mesq_prediction_points/acc_points_env_data/env_data_no_ls'\n",
    "data_folder = 'env_data'\n",
    "\n",
    "# needs the overarching directory, the folder to put the data into, the stack of images to download, and\n",
    "# the folder containing the polygon shapefiles\n",
    "shp_data = gda.ImageryDownload(raster_working, data_folder, image_stack, shp_dir)\n",
    "shp_data.process_shp_files(scale = 50)"
   ]
  }
 ],
 "metadata": {
  "kernelspec": {
   "display_name": "Python 3 (ipykernel)",
   "language": "python",
   "name": "python3"
  },
  "language_info": {
   "codemirror_mode": {
    "name": "ipython",
    "version": 3
   },
   "file_extension": ".py",
   "mimetype": "text/x-python",
   "name": "python",
   "nbconvert_exporter": "python",
   "pygments_lexer": "ipython3",
   "version": "3.12.1"
  }
 },
 "nbformat": 4,
 "nbformat_minor": 5
}
