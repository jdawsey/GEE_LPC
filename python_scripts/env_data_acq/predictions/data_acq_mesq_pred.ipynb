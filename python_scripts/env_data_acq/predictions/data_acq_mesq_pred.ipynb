{
 "cells": [
  {
   "cell_type": "markdown",
   "id": "879892a6-e91e-45b3-b0d8-707f3de6edae",
   "metadata": {},
   "source": [
    "# Necessary to check that the functions are all still relevant"
   ]
  },
  {
   "cell_type": "code",
   "execution_count": 2,
   "id": "1f641e3c-40eb-450e-be8c-df9ba989467e",
   "metadata": {},
   "outputs": [
    {
     "data": {
      "text/html": [
       "\n",
       "            <style>\n",
       "                .geemap-dark {\n",
       "                    --jp-widgets-color: white;\n",
       "                    --jp-widgets-label-color: white;\n",
       "                    --jp-ui-font-color1: white;\n",
       "                    --jp-layout-color2: #454545;\n",
       "                    background-color: #383838;\n",
       "                }\n",
       "                    \n",
       "                .geemap-dark .jupyter-button {\n",
       "                    --jp-layout-color3: #383838;\n",
       "                }\n",
       "                \n",
       "                .geemap-colab {\n",
       "                    background-color: var(--colab-primary-surface-color, white);\n",
       "                }\n",
       "                    \n",
       "                .geemap-colab .jupyter-button {\n",
       "                    --jp-layout-color3: var(--colab-primary-surface-color, white);\n",
       "                }\n",
       "            </style>\n",
       "            "
      ],
      "text/plain": [
       "<IPython.core.display.HTML object>"
      ]
     },
     "metadata": {},
     "output_type": "display_data"
    }
   ],
   "source": [
    "import ee\n",
    "import geemap\n",
    "import json\n",
    "import os\n",
    "from geemap import geojson_to_ee\n",
    "from ipyleaflet import GeoJSON\n",
    "#from my_gee_functions import file_address_func\n",
    "#from my_gee_functions import ee_list_func\n",
    "#from my_gee_functions import stdrd_func"
   ]
  },
  {
   "cell_type": "code",
   "execution_count": 3,
   "id": "b629f763-8394-4230-97ee-2da15e8ec6dc",
   "metadata": {},
   "outputs": [
    {
     "data": {
      "text/html": [
       "\n",
       "            <style>\n",
       "                .geemap-dark {\n",
       "                    --jp-widgets-color: white;\n",
       "                    --jp-widgets-label-color: white;\n",
       "                    --jp-ui-font-color1: white;\n",
       "                    --jp-layout-color2: #454545;\n",
       "                    background-color: #383838;\n",
       "                }\n",
       "                    \n",
       "                .geemap-dark .jupyter-button {\n",
       "                    --jp-layout-color3: #383838;\n",
       "                }\n",
       "                \n",
       "                .geemap-colab {\n",
       "                    background-color: var(--colab-primary-surface-color, white);\n",
       "                }\n",
       "                    \n",
       "                .geemap-colab .jupyter-button {\n",
       "                    --jp-layout-color3: var(--colab-primary-surface-color, white);\n",
       "                }\n",
       "            </style>\n",
       "            "
      ],
      "text/plain": [
       "<IPython.core.display.HTML object>"
      ]
     },
     "metadata": {},
     "output_type": "display_data"
    },
    {
     "data": {
      "text/html": [
       "<p>To authorize access needed by Earth Engine, open the following\n",
       "        URL in a web browser and follow the instructions:</p>\n",
       "        <p><a href=https://code.earthengine.google.com/client-auth?scopes=https%3A//www.googleapis.com/auth/earthengine%20https%3A//www.googleapis.com/auth/cloud-platform%20https%3A//www.googleapis.com/auth/devstorage.full_control&request_id=dateOBC3u7vkzbR0o_M4vcq8E08rzndZn_dRjKQYma0&tc=qFf0qbWkrSp-z79lW6CeIMHSgVUjfilnNV9-Xhlb6is&cc=0pt3mriZ_suSzd3PRSMeXrMKzi512n_xtbZEL8Oth50>https://code.earthengine.google.com/client-auth?scopes=https%3A//www.googleapis.com/auth/earthengine%20https%3A//www.googleapis.com/auth/cloud-platform%20https%3A//www.googleapis.com/auth/devstorage.full_control&request_id=dateOBC3u7vkzbR0o_M4vcq8E08rzndZn_dRjKQYma0&tc=qFf0qbWkrSp-z79lW6CeIMHSgVUjfilnNV9-Xhlb6is&cc=0pt3mriZ_suSzd3PRSMeXrMKzi512n_xtbZEL8Oth50</a></p>\n",
       "        <p>The authorization workflow will generate a code, which you should paste in the box below.</p>\n",
       "        "
      ],
      "text/plain": [
       "<IPython.core.display.HTML object>"
      ]
     },
     "metadata": {},
     "output_type": "display_data"
    },
    {
     "name": "stdin",
     "output_type": "stream",
     "text": [
      "Enter verification code:  4/1AdLIrYd6wdqWAmXHOa7ibEo-wpyzZEdiryOSdc25XYhOtwvxtNbiGHeTUX8\n"
     ]
    },
    {
     "name": "stdout",
     "output_type": "stream",
     "text": [
      "\n",
      "Successfully saved authorization token.\n"
     ]
    }
   ],
   "source": [
    "# Authenticate if needed\n",
    "ee.Authenticate()"
   ]
  },
  {
   "cell_type": "code",
   "execution_count": 3,
   "id": "88b0e6f0-be1c-4156-8803-84305acb9bd6",
   "metadata": {},
   "outputs": [
    {
     "data": {
      "text/html": [
       "\n",
       "            <style>\n",
       "                .geemap-dark {\n",
       "                    --jp-widgets-color: white;\n",
       "                    --jp-widgets-label-color: white;\n",
       "                    --jp-ui-font-color1: white;\n",
       "                    --jp-layout-color2: #454545;\n",
       "                    background-color: #383838;\n",
       "                }\n",
       "                    \n",
       "                .geemap-dark .jupyter-button {\n",
       "                    --jp-layout-color3: #383838;\n",
       "                }\n",
       "                \n",
       "                .geemap-colab {\n",
       "                    background-color: var(--colab-primary-surface-color, white);\n",
       "                }\n",
       "                    \n",
       "                .geemap-colab .jupyter-button {\n",
       "                    --jp-layout-color3: var(--colab-primary-surface-color, white);\n",
       "                }\n",
       "            </style>\n",
       "            "
      ],
      "text/plain": [
       "<IPython.core.display.HTML object>"
      ]
     },
     "metadata": {},
     "output_type": "display_data"
    }
   ],
   "source": [
    "#Initializing the ee project\n",
    "\n",
    "ee.Initialize(project = 'ee-jdawsey')"
   ]
  },
  {
   "cell_type": "markdown",
   "id": "4bfddf0a-69ae-499a-8822-698f82138aa0",
   "metadata": {},
   "source": [
    "### Actually pulling the data\n",
    "\n",
    "For polaris: Can choose from 0_5, 5_15, 15_30, 30_60, 60_100, 100_200"
   ]
  },
  {
   "cell_type": "code",
   "execution_count": 4,
   "id": "8fbdc3ea-f249-4fd2-99d0-cea3853b0048",
   "metadata": {},
   "outputs": [
    {
     "data": {
      "text/html": [
       "\n",
       "            <style>\n",
       "                .geemap-dark {\n",
       "                    --jp-widgets-color: white;\n",
       "                    --jp-widgets-label-color: white;\n",
       "                    --jp-ui-font-color1: white;\n",
       "                    --jp-layout-color2: #454545;\n",
       "                    background-color: #383838;\n",
       "                }\n",
       "                    \n",
       "                .geemap-dark .jupyter-button {\n",
       "                    --jp-layout-color3: #383838;\n",
       "                }\n",
       "                \n",
       "                .geemap-colab {\n",
       "                    background-color: var(--colab-primary-surface-color, white);\n",
       "                }\n",
       "                    \n",
       "                .geemap-colab .jupyter-button {\n",
       "                    --jp-layout-color3: var(--colab-primary-surface-color, white);\n",
       "                }\n",
       "            </style>\n",
       "            "
      ],
      "text/plain": [
       "<IPython.core.display.HTML object>"
      ]
     },
     "metadata": {},
     "output_type": "display_data"
    },
    {
     "name": "stdout",
     "output_type": "stream",
     "text": [
      "['bd_0_5', 'bd_5_15', 'bd_15_30', 'bd_30_60', 'bd_60_100', 'bd_100_200']\n"
     ]
    }
   ],
   "source": [
    "bd_0_5 = ee.Image('projects/sat-io/open-datasets/polaris/bd_mean/bd_0_5')\n",
    "bd_5_15 = ee.Image('projects/sat-io/open-datasets/polaris/bd_mean/bd_5_15')\n",
    "bd_15_30 = ee.Image('projects/sat-io/open-datasets/polaris/bd_mean/bd_15_30')\n",
    "bd_30_60 = ee.Image('projects/sat-io/open-datasets/polaris/bd_mean/bd_30_60')\n",
    "bd_60_100 = ee.Image('projects/sat-io/open-datasets/polaris/bd_mean/bd_60_100')\n",
    "bd_100_200 = ee.Image('projects/sat-io/open-datasets/polaris/bd_mean/bd_100_200')\n",
    "\n",
    "bd_env_bands = ee.Image([bd_0_5, bd_5_15, bd_15_30, bd_30_60, bd_60_100, bd_100_200])\n",
    "bd_env_bands = bd_env_bands.select(['b1', 'b1_1', 'b1_2', 'b1_3', 'b1_4', 'b1_5'])\n",
    "bd_env_bands = bd_env_bands.rename('bd_0_5', 'bd_5_15', 'bd_15_30', 'bd_30_60', 'bd_60_100', 'bd_100_200')\n",
    "\n",
    "print(bd_env_bands.bandNames().getInfo())"
   ]
  },
  {
   "cell_type": "code",
   "execution_count": 5,
   "id": "b8c5a058-7c2b-42e9-b480-c5ef663779b1",
   "metadata": {},
   "outputs": [
    {
     "data": {
      "text/html": [
       "\n",
       "            <style>\n",
       "                .geemap-dark {\n",
       "                    --jp-widgets-color: white;\n",
       "                    --jp-widgets-label-color: white;\n",
       "                    --jp-ui-font-color1: white;\n",
       "                    --jp-layout-color2: #454545;\n",
       "                    background-color: #383838;\n",
       "                }\n",
       "                    \n",
       "                .geemap-dark .jupyter-button {\n",
       "                    --jp-layout-color3: #383838;\n",
       "                }\n",
       "                \n",
       "                .geemap-colab {\n",
       "                    background-color: var(--colab-primary-surface-color, white);\n",
       "                }\n",
       "                    \n",
       "                .geemap-colab .jupyter-button {\n",
       "                    --jp-layout-color3: var(--colab-primary-surface-color, white);\n",
       "                }\n",
       "            </style>\n",
       "            "
      ],
      "text/plain": [
       "<IPython.core.display.HTML object>"
      ]
     },
     "metadata": {},
     "output_type": "display_data"
    },
    {
     "name": "stdout",
     "output_type": "stream",
     "text": [
      "['clay_0_5', 'clay_5_15', 'clay_15_30', 'clay_30_60', 'clay_60_100', 'clay_100_200']\n"
     ]
    }
   ],
   "source": [
    "clay_0_5 = ee.Image('projects/sat-io/open-datasets/polaris/clay_mean/clay_0_5')\n",
    "clay_5_15 = ee.Image('projects/sat-io/open-datasets/polaris/clay_mean/clay_5_15')\n",
    "clay_15_30 = ee.Image('projects/sat-io/open-datasets/polaris/clay_mean/clay_15_30')\n",
    "clay_30_60 = ee.Image('projects/sat-io/open-datasets/polaris/clay_mean/clay_30_60')\n",
    "clay_60_100 = ee.Image('projects/sat-io/open-datasets/polaris/clay_mean/clay_60_100')\n",
    "clay_100_200 = ee.Image('projects/sat-io/open-datasets/polaris/clay_mean/clay_100_200')\n",
    "\n",
    "clay_env_bands = ee.Image([clay_0_5, clay_5_15, clay_15_30, clay_30_60, clay_60_100, clay_100_200])\n",
    "clay_env_bands = clay_env_bands.select(['b1', 'b1_1', 'b1_2', 'b1_3', 'b1_4', 'b1_5'])\n",
    "clay_env_bands = clay_env_bands.rename('clay_0_5', 'clay_5_15', 'clay_15_30', 'clay_30_60', 'clay_60_100', 'clay_100_200')\n",
    "\n",
    "print(clay_env_bands.bandNames().getInfo())"
   ]
  },
  {
   "cell_type": "code",
   "execution_count": 6,
   "id": "5453306b-ec55-4abd-8d1c-c3a00a7a15ed",
   "metadata": {},
   "outputs": [
    {
     "data": {
      "text/html": [
       "\n",
       "            <style>\n",
       "                .geemap-dark {\n",
       "                    --jp-widgets-color: white;\n",
       "                    --jp-widgets-label-color: white;\n",
       "                    --jp-ui-font-color1: white;\n",
       "                    --jp-layout-color2: #454545;\n",
       "                    background-color: #383838;\n",
       "                }\n",
       "                    \n",
       "                .geemap-dark .jupyter-button {\n",
       "                    --jp-layout-color3: #383838;\n",
       "                }\n",
       "                \n",
       "                .geemap-colab {\n",
       "                    background-color: var(--colab-primary-surface-color, white);\n",
       "                }\n",
       "                    \n",
       "                .geemap-colab .jupyter-button {\n",
       "                    --jp-layout-color3: var(--colab-primary-surface-color, white);\n",
       "                }\n",
       "            </style>\n",
       "            "
      ],
      "text/plain": [
       "<IPython.core.display.HTML object>"
      ]
     },
     "metadata": {},
     "output_type": "display_data"
    },
    {
     "name": "stdout",
     "output_type": "stream",
     "text": [
      "['ksat_0_5', 'ksat_5_15', 'ksat_15_30', 'ksat_30_60', 'ksat_60_100', 'ksat_100_200']\n"
     ]
    }
   ],
   "source": [
    "ksat_0_5 = ee.Image('projects/sat-io/open-datasets/polaris/ksat_mean/ksat_0_5')\n",
    "ksat_5_15 = ee.Image('projects/sat-io/open-datasets/polaris/ksat_mean/ksat_5_15')\n",
    "ksat_15_30 = ee.Image('projects/sat-io/open-datasets/polaris/ksat_mean/ksat_15_30')\n",
    "ksat_30_60 = ee.Image('projects/sat-io/open-datasets/polaris/ksat_mean/ksat_30_60')\n",
    "ksat_60_100 = ee.Image('projects/sat-io/open-datasets/polaris/ksat_mean/ksat_60_100')\n",
    "ksat_100_200 = ee.Image('projects/sat-io/open-datasets/polaris/ksat_mean/ksat_100_200')\n",
    "\n",
    "ksat_env_bands = ee.Image([ksat_0_5, ksat_5_15, ksat_15_30, ksat_30_60, ksat_60_100, ksat_100_200])\n",
    "ksat_env_bands = ksat_env_bands.select(['b1', 'b1_1', 'b1_2', 'b1_3', 'b1_4', 'b1_5'])\n",
    "ksat_env_bands = ksat_env_bands.rename('ksat_0_5', 'ksat_5_15', 'ksat_15_30', 'ksat_30_60', 'ksat_60_100', 'ksat_100_200')\n",
    "\n",
    "print(ksat_env_bands.bandNames().getInfo())"
   ]
  },
  {
   "cell_type": "code",
   "execution_count": 7,
   "id": "0d5b23c6-6879-4e4f-8928-bdb1023eba5b",
   "metadata": {},
   "outputs": [
    {
     "data": {
      "text/html": [
       "\n",
       "            <style>\n",
       "                .geemap-dark {\n",
       "                    --jp-widgets-color: white;\n",
       "                    --jp-widgets-label-color: white;\n",
       "                    --jp-ui-font-color1: white;\n",
       "                    --jp-layout-color2: #454545;\n",
       "                    background-color: #383838;\n",
       "                }\n",
       "                    \n",
       "                .geemap-dark .jupyter-button {\n",
       "                    --jp-layout-color3: #383838;\n",
       "                }\n",
       "                \n",
       "                .geemap-colab {\n",
       "                    background-color: var(--colab-primary-surface-color, white);\n",
       "                }\n",
       "                    \n",
       "                .geemap-colab .jupyter-button {\n",
       "                    --jp-layout-color3: var(--colab-primary-surface-color, white);\n",
       "                }\n",
       "            </style>\n",
       "            "
      ],
      "text/plain": [
       "<IPython.core.display.HTML object>"
      ]
     },
     "metadata": {},
     "output_type": "display_data"
    },
    {
     "name": "stdout",
     "output_type": "stream",
     "text": [
      "['om_0_5', 'om_5_15', 'om_15_30', 'om_30_60', 'om_60_100', 'om_100_200']\n"
     ]
    }
   ],
   "source": [
    "om_0_5 = ee.Image('projects/sat-io/open-datasets/polaris/om_mean/om_0_5')\n",
    "om_5_15 = ee.Image('projects/sat-io/open-datasets/polaris/om_mean/om_5_15')\n",
    "om_15_30 = ee.Image('projects/sat-io/open-datasets/polaris/om_mean/om_15_30')\n",
    "om_30_60 = ee.Image('projects/sat-io/open-datasets/polaris/om_mean/om_30_60')\n",
    "om_60_100 = ee.Image('projects/sat-io/open-datasets/polaris/om_mean/om_60_100')\n",
    "om_100_200 = ee.Image('projects/sat-io/open-datasets/polaris/om_mean/om_100_200')\n",
    "\n",
    "om_env_bands = ee.Image([clay_0_5, clay_5_15, clay_15_30, clay_30_60, clay_60_100, clay_100_200])\n",
    "om_env_bands = om_env_bands.select(['b1', 'b1_1', 'b1_2', 'b1_3', 'b1_4', 'b1_5'])\n",
    "om_env_bands = om_env_bands.rename('om_0_5', 'om_5_15', 'om_15_30', 'om_30_60', 'om_60_100', 'om_100_200')\n",
    "\n",
    "print(om_env_bands.bandNames().getInfo())"
   ]
  },
  {
   "cell_type": "code",
   "execution_count": 8,
   "id": "b0deeba6-aefe-4da1-adbe-8588dd320d81",
   "metadata": {},
   "outputs": [
    {
     "data": {
      "text/html": [
       "\n",
       "            <style>\n",
       "                .geemap-dark {\n",
       "                    --jp-widgets-color: white;\n",
       "                    --jp-widgets-label-color: white;\n",
       "                    --jp-ui-font-color1: white;\n",
       "                    --jp-layout-color2: #454545;\n",
       "                    background-color: #383838;\n",
       "                }\n",
       "                    \n",
       "                .geemap-dark .jupyter-button {\n",
       "                    --jp-layout-color3: #383838;\n",
       "                }\n",
       "                \n",
       "                .geemap-colab {\n",
       "                    background-color: var(--colab-primary-surface-color, white);\n",
       "                }\n",
       "                    \n",
       "                .geemap-colab .jupyter-button {\n",
       "                    --jp-layout-color3: var(--colab-primary-surface-color, white);\n",
       "                }\n",
       "            </style>\n",
       "            "
      ],
      "text/plain": [
       "<IPython.core.display.HTML object>"
      ]
     },
     "metadata": {},
     "output_type": "display_data"
    },
    {
     "name": "stdout",
     "output_type": "stream",
     "text": [
      "['ph_0_5', 'ph_5_15', 'ph_15_30', 'ph_30_60', 'ph_60_100', 'ph_100_200']\n"
     ]
    }
   ],
   "source": [
    "ph_0_5 = ee.Image('projects/sat-io/open-datasets/polaris/ph_mean/ph_0_5')\n",
    "ph_5_15 = ee.Image('projects/sat-io/open-datasets/polaris/ph_mean/ph_5_15')\n",
    "ph_15_30 = ee.Image('projects/sat-io/open-datasets/polaris/ph_mean/ph_15_30')\n",
    "ph_30_60 = ee.Image('projects/sat-io/open-datasets/polaris/ph_mean/ph_30_60')\n",
    "ph_60_100 = ee.Image('projects/sat-io/open-datasets/polaris/ph_mean/ph_60_100')\n",
    "ph_100_200 = ee.Image('projects/sat-io/open-datasets/polaris/ph_mean/ph_100_200')\n",
    "\n",
    "ph_env_bands = ee.Image([clay_0_5, clay_5_15, clay_15_30, clay_30_60, clay_60_100, clay_100_200])\n",
    "ph_env_bands = ph_env_bands.select(['b1', 'b1_1', 'b1_2', 'b1_3', 'b1_4', 'b1_5'])\n",
    "ph_env_bands = ph_env_bands.rename('ph_0_5', 'ph_5_15', 'ph_15_30', 'ph_30_60', 'ph_60_100', 'ph_100_200')\n",
    "\n",
    "print(ph_env_bands.bandNames().getInfo())"
   ]
  },
  {
   "cell_type": "code",
   "execution_count": 9,
   "id": "108cd944-032c-4d59-992a-e5e20ed19a27",
   "metadata": {},
   "outputs": [
    {
     "data": {
      "text/html": [
       "\n",
       "            <style>\n",
       "                .geemap-dark {\n",
       "                    --jp-widgets-color: white;\n",
       "                    --jp-widgets-label-color: white;\n",
       "                    --jp-ui-font-color1: white;\n",
       "                    --jp-layout-color2: #454545;\n",
       "                    background-color: #383838;\n",
       "                }\n",
       "                    \n",
       "                .geemap-dark .jupyter-button {\n",
       "                    --jp-layout-color3: #383838;\n",
       "                }\n",
       "                \n",
       "                .geemap-colab {\n",
       "                    background-color: var(--colab-primary-surface-color, white);\n",
       "                }\n",
       "                    \n",
       "                .geemap-colab .jupyter-button {\n",
       "                    --jp-layout-color3: var(--colab-primary-surface-color, white);\n",
       "                }\n",
       "            </style>\n",
       "            "
      ],
      "text/plain": [
       "<IPython.core.display.HTML object>"
      ]
     },
     "metadata": {},
     "output_type": "display_data"
    },
    {
     "name": "stdout",
     "output_type": "stream",
     "text": [
      "['sand_0_5', 'sand_5_15', 'sand_15_30', 'sand_30_60', 'sand_60_100', 'sand_100_200']\n"
     ]
    }
   ],
   "source": [
    "sand_0_5 = ee.Image('projects/sat-io/open-datasets/polaris/sand_mean/sand_0_5')\n",
    "sand_5_15 = ee.Image('projects/sat-io/open-datasets/polaris/sand_mean/sand_5_15')\n",
    "sand_15_30 = ee.Image('projects/sat-io/open-datasets/polaris/sand_mean/sand_15_30')\n",
    "sand_30_60 = ee.Image('projects/sat-io/open-datasets/polaris/sand_mean/sand_30_60')\n",
    "sand_60_100 = ee.Image('projects/sat-io/open-datasets/polaris/sand_mean/sand_60_100')\n",
    "sand_100_200 = ee.Image('projects/sat-io/open-datasets/polaris/sand_mean/sand_100_200')\n",
    "\n",
    "sand_env_bands = ee.Image([clay_0_5, clay_5_15, clay_15_30, clay_30_60, clay_60_100, clay_100_200])\n",
    "sand_env_bands = sand_env_bands.select(['b1', 'b1_1', 'b1_2', 'b1_3', 'b1_4', 'b1_5'])\n",
    "sand_env_bands = sand_env_bands.rename('sand_0_5', 'sand_5_15', 'sand_15_30', 'sand_30_60', 'sand_60_100', 'sand_100_200')\n",
    "\n",
    "print(sand_env_bands.bandNames().getInfo())"
   ]
  },
  {
   "cell_type": "code",
   "execution_count": 10,
   "id": "d8b9802e-9a7a-4e2b-bba2-7d4f8cf5ab03",
   "metadata": {},
   "outputs": [
    {
     "data": {
      "text/html": [
       "\n",
       "            <style>\n",
       "                .geemap-dark {\n",
       "                    --jp-widgets-color: white;\n",
       "                    --jp-widgets-label-color: white;\n",
       "                    --jp-ui-font-color1: white;\n",
       "                    --jp-layout-color2: #454545;\n",
       "                    background-color: #383838;\n",
       "                }\n",
       "                    \n",
       "                .geemap-dark .jupyter-button {\n",
       "                    --jp-layout-color3: #383838;\n",
       "                }\n",
       "                \n",
       "                .geemap-colab {\n",
       "                    background-color: var(--colab-primary-surface-color, white);\n",
       "                }\n",
       "                    \n",
       "                .geemap-colab .jupyter-button {\n",
       "                    --jp-layout-color3: var(--colab-primary-surface-color, white);\n",
       "                }\n",
       "            </style>\n",
       "            "
      ],
      "text/plain": [
       "<IPython.core.display.HTML object>"
      ]
     },
     "metadata": {},
     "output_type": "display_data"
    },
    {
     "name": "stdout",
     "output_type": "stream",
     "text": [
      "['silt_0_5', 'silt_5_15', 'silt_15_30', 'silt_30_60', 'silt_60_100', 'silt_100_200']\n"
     ]
    }
   ],
   "source": [
    "silt_0_5 = ee.Image('projects/sat-io/open-datasets/polaris/silt_mean/silt_0_5')\n",
    "silt_5_15 = ee.Image('projects/sat-io/open-datasets/polaris/silt_mean/silt_5_15')\n",
    "silt_15_30 = ee.Image('projects/sat-io/open-datasets/polaris/silt_mean/silt_15_30')\n",
    "silt_30_60 = ee.Image('projects/sat-io/open-datasets/polaris/silt_mean/silt_30_60')\n",
    "silt_60_100 = ee.Image('projects/sat-io/open-datasets/polaris/silt_mean/silt_60_100')\n",
    "silt_100_200 = ee.Image('projects/sat-io/open-datasets/polaris/silt_mean/silt_100_200')\n",
    "\n",
    "silt_env_bands = ee.Image([clay_0_5, clay_5_15, clay_15_30, clay_30_60, clay_60_100, clay_100_200])\n",
    "silt_env_bands = silt_env_bands.select(['b1', 'b1_1', 'b1_2', 'b1_3', 'b1_4', 'b1_5'])\n",
    "silt_env_bands = silt_env_bands.rename('silt_0_5', 'silt_5_15', 'silt_15_30', 'silt_30_60', 'silt_60_100', 'silt_100_200')\n",
    "\n",
    "print(silt_env_bands.bandNames().getInfo())"
   ]
  },
  {
   "cell_type": "code",
   "execution_count": 11,
   "id": "1d5bc3b8-81ce-4790-822c-17dfe212e344",
   "metadata": {},
   "outputs": [
    {
     "data": {
      "text/html": [
       "\n",
       "            <style>\n",
       "                .geemap-dark {\n",
       "                    --jp-widgets-color: white;\n",
       "                    --jp-widgets-label-color: white;\n",
       "                    --jp-ui-font-color1: white;\n",
       "                    --jp-layout-color2: #454545;\n",
       "                    background-color: #383838;\n",
       "                }\n",
       "                    \n",
       "                .geemap-dark .jupyter-button {\n",
       "                    --jp-layout-color3: #383838;\n",
       "                }\n",
       "                \n",
       "                .geemap-colab {\n",
       "                    background-color: var(--colab-primary-surface-color, white);\n",
       "                }\n",
       "                    \n",
       "                .geemap-colab .jupyter-button {\n",
       "                    --jp-layout-color3: var(--colab-primary-surface-color, white);\n",
       "                }\n",
       "            </style>\n",
       "            "
      ],
      "text/plain": [
       "<IPython.core.display.HTML object>"
      ]
     },
     "metadata": {},
     "output_type": "display_data"
    },
    {
     "name": "stdout",
     "output_type": "stream",
     "text": [
      "['theta_r_0_5', 'theta_r_5_15', 'theta_r_15_30', 'theta_r_30_60', 'theta_r_60_100', 'theta_r_100_200']\n"
     ]
    }
   ],
   "source": [
    "theta_r_0_5 = ee.Image('projects/sat-io/open-datasets/polaris/theta_r_mean/theta_r_0_5')\n",
    "theta_r_5_15 = ee.Image('projects/sat-io/open-datasets/polaris/theta_r_mean/theta_r_5_15')\n",
    "theta_r_15_30 = ee.Image('projects/sat-io/open-datasets/polaris/theta_r_mean/theta_r_15_30')\n",
    "theta_r_30_60 = ee.Image('projects/sat-io/open-datasets/polaris/theta_r_mean/theta_r_30_60')\n",
    "theta_r_60_100 = ee.Image('projects/sat-io/open-datasets/polaris/theta_r_mean/theta_r_60_100')\n",
    "theta_r_100_200 = ee.Image('projects/sat-io/open-datasets/polaris/theta_r_mean/theta_r_100_200')\n",
    "\n",
    "theta_r_env_bands = ee.Image([clay_0_5, clay_5_15, clay_15_30, clay_30_60, clay_60_100, clay_100_200])\n",
    "theta_r_env_bands = theta_r_env_bands.select(['b1', 'b1_1', 'b1_2', 'b1_3', 'b1_4', 'b1_5'])\n",
    "theta_r_env_bands = theta_r_env_bands.rename('theta_r_0_5', 'theta_r_5_15', 'theta_r_15_30', 'theta_r_30_60', 'theta_r_60_100', 'theta_r_100_200')\n",
    "\n",
    "print(theta_r_env_bands.bandNames().getInfo())"
   ]
  },
  {
   "cell_type": "code",
   "execution_count": 12,
   "id": "67664dad-59a3-447e-a41e-9e5574a4d86a",
   "metadata": {},
   "outputs": [
    {
     "data": {
      "text/html": [
       "\n",
       "            <style>\n",
       "                .geemap-dark {\n",
       "                    --jp-widgets-color: white;\n",
       "                    --jp-widgets-label-color: white;\n",
       "                    --jp-ui-font-color1: white;\n",
       "                    --jp-layout-color2: #454545;\n",
       "                    background-color: #383838;\n",
       "                }\n",
       "                    \n",
       "                .geemap-dark .jupyter-button {\n",
       "                    --jp-layout-color3: #383838;\n",
       "                }\n",
       "                \n",
       "                .geemap-colab {\n",
       "                    background-color: var(--colab-primary-surface-color, white);\n",
       "                }\n",
       "                    \n",
       "                .geemap-colab .jupyter-button {\n",
       "                    --jp-layout-color3: var(--colab-primary-surface-color, white);\n",
       "                }\n",
       "            </style>\n",
       "            "
      ],
      "text/plain": [
       "<IPython.core.display.HTML object>"
      ]
     },
     "metadata": {},
     "output_type": "display_data"
    },
    {
     "name": "stdout",
     "output_type": "stream",
     "text": [
      "['theta_s_0_5', 'theta_s_5_15', 'theta_s_15_30', 'theta_s_30_60', 'theta_s_60_100', 'theta_s_100_200']\n"
     ]
    }
   ],
   "source": [
    "theta_s_0_5 = ee.Image('projects/sat-io/open-datasets/polaris/theta_s_mean/theta_s_0_5')\n",
    "theta_s_5_15 = ee.Image('projects/sat-io/open-datasets/polaris/theta_s_mean/theta_s_5_15')\n",
    "theta_s_15_30 = ee.Image('projects/sat-io/open-datasets/polaris/theta_s_mean/theta_s_15_30')\n",
    "theta_s_30_60 = ee.Image('projects/sat-io/open-datasets/polaris/theta_s_mean/theta_s_30_60')\n",
    "theta_s_60_100 = ee.Image('projects/sat-io/open-datasets/polaris/theta_s_mean/theta_s_60_100')\n",
    "theta_s_100_200 = ee.Image('projects/sat-io/open-datasets/polaris/theta_s_mean/theta_s_100_200')\n",
    "\n",
    "theta_s_env_bands = ee.Image([clay_0_5, clay_5_15, clay_15_30, clay_30_60, clay_60_100, clay_100_200])\n",
    "theta_s_env_bands = theta_s_env_bands.select(['b1', 'b1_1', 'b1_2', 'b1_3', 'b1_4', 'b1_5'])\n",
    "theta_s_env_bands = theta_s_env_bands.rename('theta_s_0_5', 'theta_s_5_15', 'theta_s_15_30', 'theta_s_30_60', 'theta_s_60_100', 'theta_s_100_200')\n",
    "\n",
    "print(theta_s_env_bands.bandNames().getInfo())"
   ]
  },
  {
   "cell_type": "code",
   "execution_count": 13,
   "id": "71356da3-f6d6-41f6-9b5a-76590e100f55",
   "metadata": {},
   "outputs": [
    {
     "data": {
      "text/html": [
       "\n",
       "            <style>\n",
       "                .geemap-dark {\n",
       "                    --jp-widgets-color: white;\n",
       "                    --jp-widgets-label-color: white;\n",
       "                    --jp-ui-font-color1: white;\n",
       "                    --jp-layout-color2: #454545;\n",
       "                    background-color: #383838;\n",
       "                }\n",
       "                    \n",
       "                .geemap-dark .jupyter-button {\n",
       "                    --jp-layout-color3: #383838;\n",
       "                }\n",
       "                \n",
       "                .geemap-colab {\n",
       "                    background-color: var(--colab-primary-surface-color, white);\n",
       "                }\n",
       "                    \n",
       "                .geemap-colab .jupyter-button {\n",
       "                    --jp-layout-color3: var(--colab-primary-surface-color, white);\n",
       "                }\n",
       "            </style>\n",
       "            "
      ],
      "text/plain": [
       "<IPython.core.display.HTML object>"
      ]
     },
     "metadata": {},
     "output_type": "display_data"
    },
    {
     "name": "stdout",
     "output_type": "stream",
     "text": [
      "['bd_0_5', 'bd_5_15', 'bd_15_30', 'bd_30_60', 'bd_60_100', 'bd_100_200', 'clay_0_5', 'clay_5_15', 'clay_15_30', 'clay_30_60', 'clay_60_100', 'clay_100_200', 'ksat_0_5', 'ksat_5_15', 'ksat_15_30', 'ksat_30_60', 'ksat_60_100', 'ksat_100_200', 'om_0_5', 'om_5_15', 'om_15_30', 'om_30_60', 'om_60_100', 'om_100_200', 'ph_0_5', 'ph_5_15', 'ph_15_30', 'ph_30_60', 'ph_60_100', 'ph_100_200', 'sand_0_5', 'sand_5_15', 'sand_15_30', 'sand_30_60', 'sand_60_100', 'sand_100_200', 'silt_0_5', 'silt_5_15', 'silt_15_30', 'silt_30_60', 'silt_60_100', 'silt_100_200', 'theta_r_0_5', 'theta_r_5_15', 'theta_r_15_30', 'theta_r_30_60', 'theta_r_60_100', 'theta_r_100_200', 'theta_s_0_5', 'theta_s_5_15', 'theta_s_15_30', 'theta_s_30_60', 'theta_s_60_100', 'theta_s_100_200']\n"
     ]
    }
   ],
   "source": [
    "env_bands_temp = ee.Image([bd_env_bands, \n",
    "                           clay_env_bands, \n",
    "                           ksat_env_bands, \n",
    "                           om_env_bands, \n",
    "                           ph_env_bands, \n",
    "                           sand_env_bands,\n",
    "                           silt_env_bands,\n",
    "                           theta_r_env_bands,\n",
    "                           theta_s_env_bands])\n",
    "print(env_bands_temp.bandNames().getInfo())"
   ]
  },
  {
   "cell_type": "code",
   "execution_count": 14,
   "id": "9ba1ffd7-3e73-40db-afe2-7e79b20fba1a",
   "metadata": {},
   "outputs": [
    {
     "data": {
      "text/html": [
       "\n",
       "            <style>\n",
       "                .geemap-dark {\n",
       "                    --jp-widgets-color: white;\n",
       "                    --jp-widgets-label-color: white;\n",
       "                    --jp-ui-font-color1: white;\n",
       "                    --jp-layout-color2: #454545;\n",
       "                    background-color: #383838;\n",
       "                }\n",
       "                    \n",
       "                .geemap-dark .jupyter-button {\n",
       "                    --jp-layout-color3: #383838;\n",
       "                }\n",
       "                \n",
       "                .geemap-colab {\n",
       "                    background-color: var(--colab-primary-surface-color, white);\n",
       "                }\n",
       "                    \n",
       "                .geemap-colab .jupyter-button {\n",
       "                    --jp-layout-color3: var(--colab-primary-surface-color, white);\n",
       "                }\n",
       "            </style>\n",
       "            "
      ],
      "text/plain": [
       "<IPython.core.display.HTML object>"
      ]
     },
     "metadata": {},
     "output_type": "display_data"
    }
   ],
   "source": [
    "caco3 = ee.Image('projects/earthengine-legacy/assets/projects/sat-io/open-datasets/CSRL_soil_properties/chemical/caco3')\n",
    "caco3 = caco3.select(['b1'])\n",
    "caco3 = caco3.resample('bicubic').reproject('EPSG:4326', scale = 30)\n",
    "caco3 = caco3.rename('caco3')\n",
    "#print(caco3.bandNames().getInfo())\n",
    "\n",
    "cec = ee.Image('projects/earthengine-legacy/assets/projects/sat-io/open-datasets/CSRL_soil_properties/chemical/cec')\n",
    "cec = cec.select(['b1'])\n",
    "cec = cec.resample('bicubic').reproject('EPSG:4326', scale = 30)\n",
    "cec = cec.rename('cec')\n",
    "\n",
    "ec = ee.Image('projects/earthengine-legacy/assets/projects/sat-io/open-datasets/CSRL_soil_properties/chemical/ec')\n",
    "ec = ec.select(['b1'])\n",
    "ec = ec.resample('bicubic').reproject('EPSG:4326', scale = 30)\n",
    "ec = ec.rename('ec')\n",
    "\n",
    "sar = ee.Image('projects/earthengine-legacy/assets/projects/sat-io/open-datasets/CSRL_soil_properties/chemical/sar')\n",
    "sar = sar.select(['b1'])\n",
    "sar = sar.resample('bicubic').reproject('EPSG:4326', scale = 30)\n",
    "sar = sar.rename('sar')\n",
    "\n",
    "kw_025 = ee.Image('projects/earthengine-legacy/assets/projects/sat-io/open-datasets/CSRL_soil_properties/land_use/kw_025')\n",
    "kw_025 = kw_025.select(['b1'])\n",
    "kw_025 = kw_025.resample('bicubic').reproject('EPSG:4326', scale = 30)\n",
    "kw_025 = kw_025.rename('kw_025')\n",
    "\n",
    "#lcc_i = ee.Image('projects/earthengine-legacy/assets/projects/sat-io/open-datasets/CSRL_soil_properties/land_use/lcc_i')\n",
    "#lcc_i = lcc_i.select(['b1'])\n",
    "#lcc_i = lcc_i.resample('bicubic').reproject('EPSG:4326', scale = 30)\n",
    "#lcc_i = lcc_i.rename('lcc_i')\n",
    "\n",
    "#lcc_ni = ee.Image('projects/earthengine-legacy/assets/projects/sat-io/open-datasets/CSRL_soil_properties/land_use/lcc_ni')\n",
    "#lcc_ni = lcc_ni.select(['b1'])\n",
    "#lcc_ni = lcc_ni.resample('bicubic').reproject('EPSG:4326', scale = 30)\n",
    "#lcc_ni = lcc_ni.rename('lcc_ni')\n",
    "\n",
    "resdept = ee.Image('projects/earthengine-legacy/assets/projects/sat-io/open-datasets/CSRL_soil_properties/land_use/resdept')\n",
    "resdept = resdept.select(['b1'])\n",
    "resdept = resdept.resample('bicubic').reproject('EPSG:4326', scale = 30)\n",
    "resdept = resdept.rename('resdept')\n",
    "\n",
    "soil_depth = ee.Image('projects/earthengine-legacy/assets/projects/sat-io/open-datasets/CSRL_soil_properties/land_use/soil_depth')\n",
    "soil_depth = soil_depth.select(['b1'])\n",
    "soil_depth = soil_depth.resample('bicubic').reproject('EPSG:4326', scale = 30)\n",
    "soil_depth = soil_depth.rename('soil_depth')\n",
    "\n",
    "#soil_temp_regime = ee.Image('projects/earthengine-legacy/assets/projects/sat-io/open-datasets/CSRL_soil_properties/land_use/soil_temp_regime')\n",
    "#soil_temp_regime = soil_temp_regime.select(['b1'])\n",
    "#soil_temp_regime = soil_temp_regime.resample('bicubic').reproject('EPSG:4326', scale = 30)\n",
    "#soil_temp_regime = soil_temp_regime.rename('soil_temp_regime')\n",
    "\n",
    "wind_erodibility_index = ee.Image('projects/earthengine-legacy/assets/projects/sat-io/open-datasets/CSRL_soil_properties/land_use/wind_erodibility_index')\n",
    "wind_erodibility_index = wind_erodibility_index.select(['b1'])\n",
    "wind_erodibility_index = wind_erodibility_index.resample('bicubic').reproject('EPSG:4326', scale = 30)\n",
    "wind_erodibility_index = wind_erodibility_index.rename('wind_erodibility_index')\n",
    "\n",
    "rf_025 = ee.Image('projects/earthengine-legacy/assets/projects/sat-io/open-datasets/CSRL_soil_properties/physical/rf_025')\n",
    "rf_025 = rf_025.select(['b1'])\n",
    "rf_025 = rf_025.resample('bicubic').reproject('EPSG:4326', scale = 30)\n",
    "rf_025 = rf_025.rename('rf_025')\n",
    "\n",
    "water_storage = ee.Image('projects/earthengine-legacy/assets/projects/sat-io/open-datasets/CSRL_soil_properties/physical/water_storage')\n",
    "water_storage = water_storage.select(['b1'])\n",
    "water_storage = water_storage.resample('bicubic').reproject('EPSG:4326', scale = 30)\n",
    "water_storage = water_storage.rename('water_storage')"
   ]
  },
  {
   "cell_type": "code",
   "execution_count": 15,
   "id": "c88f3081-9f14-4b12-a2d9-824a786ad9d4",
   "metadata": {},
   "outputs": [
    {
     "data": {
      "text/html": [
       "\n",
       "            <style>\n",
       "                .geemap-dark {\n",
       "                    --jp-widgets-color: white;\n",
       "                    --jp-widgets-label-color: white;\n",
       "                    --jp-ui-font-color1: white;\n",
       "                    --jp-layout-color2: #454545;\n",
       "                    background-color: #383838;\n",
       "                }\n",
       "                    \n",
       "                .geemap-dark .jupyter-button {\n",
       "                    --jp-layout-color3: #383838;\n",
       "                }\n",
       "                \n",
       "                .geemap-colab {\n",
       "                    background-color: var(--colab-primary-surface-color, white);\n",
       "                }\n",
       "                    \n",
       "                .geemap-colab .jupyter-button {\n",
       "                    --jp-layout-color3: var(--colab-primary-surface-color, white);\n",
       "                }\n",
       "            </style>\n",
       "            "
      ],
      "text/plain": [
       "<IPython.core.display.HTML object>"
      ]
     },
     "metadata": {},
     "output_type": "display_data"
    },
    {
     "name": "stdout",
     "output_type": "stream",
     "text": [
      "['bd_0_5', 'bd_5_15', 'bd_15_30', 'bd_30_60', 'bd_60_100', 'bd_100_200', 'clay_0_5', 'clay_5_15', 'clay_15_30', 'clay_30_60', 'clay_60_100', 'clay_100_200', 'ksat_0_5', 'ksat_5_15', 'ksat_15_30', 'ksat_30_60', 'ksat_60_100', 'ksat_100_200', 'om_0_5', 'om_5_15', 'om_15_30', 'om_30_60', 'om_60_100', 'om_100_200', 'ph_0_5', 'ph_5_15', 'ph_15_30', 'ph_30_60', 'ph_60_100', 'ph_100_200', 'sand_0_5', 'sand_5_15', 'sand_15_30', 'sand_30_60', 'sand_60_100', 'sand_100_200', 'silt_0_5', 'silt_5_15', 'silt_15_30', 'silt_30_60', 'silt_60_100', 'silt_100_200', 'theta_r_0_5', 'theta_r_5_15', 'theta_r_15_30', 'theta_r_30_60', 'theta_r_60_100', 'theta_r_100_200', 'theta_s_0_5', 'theta_s_5_15', 'theta_s_15_30', 'theta_s_30_60', 'theta_s_60_100', 'theta_s_100_200', 'caco3', 'cec', 'ec', 'sar', 'kw_025', 'resdept', 'soil_depth', 'wind_erodibility_index', 'rf_025', 'water_storage']\n"
     ]
    }
   ],
   "source": [
    "env_bands_temp2 = ee.Image([env_bands_temp, \n",
    "                           caco3, \n",
    "                           cec, \n",
    "                           ec, \n",
    "                           sar, \n",
    "                           kw_025,\n",
    "                           #lcc_i,\n",
    "                           #lcc_ni,\n",
    "                           resdept,\n",
    "                           soil_depth,\n",
    "                           #soil_temp_regime,\n",
    "                           wind_erodibility_index,\n",
    "                           rf_025,\n",
    "                           water_storage])\n",
    "print(env_bands_temp2.bandNames().getInfo())"
   ]
  },
  {
   "cell_type": "code",
   "execution_count": 16,
   "id": "73494a5b-db8b-44f1-89da-d42e8ea8df3f",
   "metadata": {},
   "outputs": [
    {
     "data": {
      "text/html": [
       "\n",
       "            <style>\n",
       "                .geemap-dark {\n",
       "                    --jp-widgets-color: white;\n",
       "                    --jp-widgets-label-color: white;\n",
       "                    --jp-ui-font-color1: white;\n",
       "                    --jp-layout-color2: #454545;\n",
       "                    background-color: #383838;\n",
       "                }\n",
       "                    \n",
       "                .geemap-dark .jupyter-button {\n",
       "                    --jp-layout-color3: #383838;\n",
       "                }\n",
       "                \n",
       "                .geemap-colab {\n",
       "                    background-color: var(--colab-primary-surface-color, white);\n",
       "                }\n",
       "                    \n",
       "                .geemap-colab .jupyter-button {\n",
       "                    --jp-layout-color3: var(--colab-primary-surface-color, white);\n",
       "                }\n",
       "            </style>\n",
       "            "
      ],
      "text/plain": [
       "<IPython.core.display.HTML object>"
      ]
     },
     "metadata": {},
     "output_type": "display_data"
    }
   ],
   "source": [
    "bioclim = ee.Image('WORLDCLIM/V1/BIO')\n",
    "ann_rain = bioclim.select(['bio12'])\n",
    "#bioclim_proj = ann_rain.projection().getInfo()\n",
    "#bioclim_crs = bioclim_proj['crs']\n",
    "ann_rain = ann_rain.resample('bicubic').reproject('EPSG:4326', scale = 30)\n",
    "\n",
    "temp_range = bioclim.select(['bio07'])\n",
    "temp_range = temp_range.resample('bicubic').reproject('EPSG:4326', scale = 30)"
   ]
  },
  {
   "cell_type": "code",
   "execution_count": 17,
   "id": "a6d35255-0b51-4500-bf82-f431ecfbeac5",
   "metadata": {},
   "outputs": [
    {
     "data": {
      "text/html": [
       "\n",
       "            <style>\n",
       "                .geemap-dark {\n",
       "                    --jp-widgets-color: white;\n",
       "                    --jp-widgets-label-color: white;\n",
       "                    --jp-ui-font-color1: white;\n",
       "                    --jp-layout-color2: #454545;\n",
       "                    background-color: #383838;\n",
       "                }\n",
       "                    \n",
       "                .geemap-dark .jupyter-button {\n",
       "                    --jp-layout-color3: #383838;\n",
       "                }\n",
       "                \n",
       "                .geemap-colab {\n",
       "                    background-color: var(--colab-primary-surface-color, white);\n",
       "                }\n",
       "                    \n",
       "                .geemap-colab .jupyter-button {\n",
       "                    --jp-layout-color3: var(--colab-primary-surface-color, white);\n",
       "                }\n",
       "            </style>\n",
       "            "
      ],
      "text/plain": [
       "<IPython.core.display.HTML object>"
      ]
     },
     "metadata": {},
     "output_type": "display_data"
    },
    {
     "name": "stdout",
     "output_type": "stream",
     "text": [
      "['bd_0_5', 'bd_5_15', 'bd_15_30', 'bd_30_60', 'bd_60_100', 'bd_100_200', 'clay_0_5', 'clay_5_15', 'clay_15_30', 'clay_30_60', 'clay_60_100', 'clay_100_200', 'ksat_0_5', 'ksat_5_15', 'ksat_15_30', 'ksat_30_60', 'ksat_60_100', 'ksat_100_200', 'om_0_5', 'om_5_15', 'om_15_30', 'om_30_60', 'om_60_100', 'om_100_200', 'ph_0_5', 'ph_5_15', 'ph_15_30', 'ph_30_60', 'ph_60_100', 'ph_100_200', 'sand_0_5', 'sand_5_15', 'sand_15_30', 'sand_30_60', 'sand_60_100', 'sand_100_200', 'silt_0_5', 'silt_5_15', 'silt_15_30', 'silt_30_60', 'silt_60_100', 'silt_100_200', 'theta_r_0_5', 'theta_r_5_15', 'theta_r_15_30', 'theta_r_30_60', 'theta_r_60_100', 'theta_r_100_200', 'theta_s_0_5', 'theta_s_5_15', 'theta_s_15_30', 'theta_s_30_60', 'theta_s_60_100', 'theta_s_100_200', 'caco3', 'cec', 'ec', 'sar', 'kw_025', 'resdept', 'soil_depth', 'wind_erodibility_index', 'rf_025', 'water_storage', 'bio12', 'bio07']\n"
     ]
    }
   ],
   "source": [
    "env_bands_temp3 = ee.Image([env_bands_temp2, ann_rain, temp_range])\n",
    "print(env_bands_temp3.bandNames().getInfo())"
   ]
  },
  {
   "cell_type": "code",
   "execution_count": 18,
   "id": "53f7ea6e-0e7a-4859-ba50-223f7ef84d0f",
   "metadata": {},
   "outputs": [
    {
     "data": {
      "text/html": [
       "\n",
       "            <style>\n",
       "                .geemap-dark {\n",
       "                    --jp-widgets-color: white;\n",
       "                    --jp-widgets-label-color: white;\n",
       "                    --jp-ui-font-color1: white;\n",
       "                    --jp-layout-color2: #454545;\n",
       "                    background-color: #383838;\n",
       "                }\n",
       "                    \n",
       "                .geemap-dark .jupyter-button {\n",
       "                    --jp-layout-color3: #383838;\n",
       "                }\n",
       "                \n",
       "                .geemap-colab {\n",
       "                    background-color: var(--colab-primary-surface-color, white);\n",
       "                }\n",
       "                    \n",
       "                .geemap-colab .jupyter-button {\n",
       "                    --jp-layout-color3: var(--colab-primary-surface-color, white);\n",
       "                }\n",
       "            </style>\n",
       "            "
      ],
      "text/plain": [
       "<IPython.core.display.HTML object>"
      ]
     },
     "metadata": {},
     "output_type": "display_data"
    },
    {
     "name": "stdout",
     "output_type": "stream",
     "text": [
      "['dist_drain']\n"
     ]
    }
   ],
   "source": [
    "nhd_area_nm = ee.FeatureCollection(\"projects/sat-io/open-datasets/NHD/NHD_NM/NHDArea\")\n",
    "nhd_flowline_nm = ee.FeatureCollection(\"projects/sat-io/open-datasets/NHD/NHD_NM/NHDFlowline\")\n",
    "nhd_nm = nhd_area_nm.merge(nhd_flowline_nm)\n",
    "nhd_area_tx = ee.FeatureCollection(\"projects/sat-io/open-datasets/NHD/NHD_TX/NHDArea\")\n",
    "nhd_flowline_tx = ee.FeatureCollection(\"projects/sat-io/open-datasets/NHD/NHD_TX/NHDFlowline\")\n",
    "nhd_tx = nhd_area_tx.merge(nhd_flowline_tx)\n",
    "\n",
    "nhd = nhd_nm.merge(nhd_tx)\n",
    "\n",
    "dist_nhd = nhd.distance(searchRadius=50000, maxError=50)\n",
    "#dist_nhd = dist_nhd.clip(ee_items[num]) #change clip area\n",
    "dist_nhd = dist_nhd.select(['distance'])\n",
    "dist_nhd = dist_nhd.rename('dist_drain')\n",
    "print(dist_nhd.bandNames().getInfo())"
   ]
  },
  {
   "cell_type": "code",
   "execution_count": 19,
   "id": "00c923eb-04fa-4778-970b-585339683ba9",
   "metadata": {},
   "outputs": [
    {
     "data": {
      "text/html": [
       "\n",
       "            <style>\n",
       "                .geemap-dark {\n",
       "                    --jp-widgets-color: white;\n",
       "                    --jp-widgets-label-color: white;\n",
       "                    --jp-ui-font-color1: white;\n",
       "                    --jp-layout-color2: #454545;\n",
       "                    background-color: #383838;\n",
       "                }\n",
       "                    \n",
       "                .geemap-dark .jupyter-button {\n",
       "                    --jp-layout-color3: #383838;\n",
       "                }\n",
       "                \n",
       "                .geemap-colab {\n",
       "                    background-color: var(--colab-primary-surface-color, white);\n",
       "                }\n",
       "                    \n",
       "                .geemap-colab .jupyter-button {\n",
       "                    --jp-layout-color3: var(--colab-primary-surface-color, white);\n",
       "                }\n",
       "            </style>\n",
       "            "
      ],
      "text/plain": [
       "<IPython.core.display.HTML object>"
      ]
     },
     "metadata": {},
     "output_type": "display_data"
    },
    {
     "name": "stdout",
     "output_type": "stream",
     "text": [
      "['dist_road']\n"
     ]
    }
   ],
   "source": [
    "#Dist roads...\n",
    "\n",
    "roads = ee.FeatureCollection('TIGER/2016/Roads')\n",
    "dist_roads = roads.distance(searchRadius=50000, maxError=50)\n",
    "dist_roads = dist_roads.select(['distance'])\n",
    "dist_roads = dist_roads.rename('dist_road')\n",
    "print(dist_roads.bandNames().getInfo())"
   ]
  },
  {
   "cell_type": "code",
   "execution_count": 20,
   "id": "9a319d98-f335-421a-bf0f-ee26e9618b96",
   "metadata": {},
   "outputs": [
    {
     "data": {
      "text/html": [
       "\n",
       "            <style>\n",
       "                .geemap-dark {\n",
       "                    --jp-widgets-color: white;\n",
       "                    --jp-widgets-label-color: white;\n",
       "                    --jp-ui-font-color1: white;\n",
       "                    --jp-layout-color2: #454545;\n",
       "                    background-color: #383838;\n",
       "                }\n",
       "                    \n",
       "                .geemap-dark .jupyter-button {\n",
       "                    --jp-layout-color3: #383838;\n",
       "                }\n",
       "                \n",
       "                .geemap-colab {\n",
       "                    background-color: var(--colab-primary-surface-color, white);\n",
       "                }\n",
       "                    \n",
       "                .geemap-colab .jupyter-button {\n",
       "                    --jp-layout-color3: var(--colab-primary-surface-color, white);\n",
       "                }\n",
       "            </style>\n",
       "            "
      ],
      "text/plain": [
       "<IPython.core.display.HTML object>"
      ]
     },
     "metadata": {},
     "output_type": "display_data"
    },
    {
     "name": "stdout",
     "output_type": "stream",
     "text": [
      "['bd_0_5', 'bd_5_15', 'bd_15_30', 'bd_30_60', 'bd_60_100', 'bd_100_200', 'clay_0_5', 'clay_5_15', 'clay_15_30', 'clay_30_60', 'clay_60_100', 'clay_100_200', 'ksat_0_5', 'ksat_5_15', 'ksat_15_30', 'ksat_30_60', 'ksat_60_100', 'ksat_100_200', 'om_0_5', 'om_5_15', 'om_15_30', 'om_30_60', 'om_60_100', 'om_100_200', 'ph_0_5', 'ph_5_15', 'ph_15_30', 'ph_30_60', 'ph_60_100', 'ph_100_200', 'sand_0_5', 'sand_5_15', 'sand_15_30', 'sand_30_60', 'sand_60_100', 'sand_100_200', 'silt_0_5', 'silt_5_15', 'silt_15_30', 'silt_30_60', 'silt_60_100', 'silt_100_200', 'theta_r_0_5', 'theta_r_5_15', 'theta_r_15_30', 'theta_r_30_60', 'theta_r_60_100', 'theta_r_100_200', 'theta_s_0_5', 'theta_s_5_15', 'theta_s_15_30', 'theta_s_30_60', 'theta_s_60_100', 'theta_s_100_200', 'caco3', 'cec', 'ec', 'sar', 'kw_025', 'resdept', 'soil_depth', 'wind_erodibility_index', 'rf_025', 'water_storage', 'bio12', 'bio07', 'dist_drain', 'dist_road']\n"
     ]
    }
   ],
   "source": [
    "env_bands = ee.Image([env_bands_temp3, dist_nhd, dist_roads])\n",
    "print(env_bands.bandNames().getInfo())"
   ]
  },
  {
   "cell_type": "code",
   "execution_count": 21,
   "id": "215718f1-f385-47ac-890a-9e2113fbad35",
   "metadata": {},
   "outputs": [
    {
     "data": {
      "text/html": [
       "\n",
       "            <style>\n",
       "                .geemap-dark {\n",
       "                    --jp-widgets-color: white;\n",
       "                    --jp-widgets-label-color: white;\n",
       "                    --jp-ui-font-color1: white;\n",
       "                    --jp-layout-color2: #454545;\n",
       "                    background-color: #383838;\n",
       "                }\n",
       "                    \n",
       "                .geemap-dark .jupyter-button {\n",
       "                    --jp-layout-color3: #383838;\n",
       "                }\n",
       "                \n",
       "                .geemap-colab {\n",
       "                    background-color: var(--colab-primary-surface-color, white);\n",
       "                }\n",
       "                    \n",
       "                .geemap-colab .jupyter-button {\n",
       "                    --jp-layout-color3: var(--colab-primary-surface-color, white);\n",
       "                }\n",
       "            </style>\n",
       "            "
      ],
      "text/plain": [
       "<IPython.core.display.HTML object>"
      ]
     },
     "metadata": {},
     "output_type": "display_data"
    }
   ],
   "source": [
    "#buffer = ee.FeatureCollection('users/jdawsey/assets/20km_buffer')\n",
    "#std_env_clip = stdrd_func(env_bands, buffer)"
   ]
  },
  {
   "cell_type": "code",
   "execution_count": 26,
   "id": "0c4e1a96-1d65-40e9-bda2-b121cf8406bf",
   "metadata": {},
   "outputs": [
    {
     "data": {
      "text/html": [
       "\n",
       "            <style>\n",
       "                .geemap-dark {\n",
       "                    --jp-widgets-color: white;\n",
       "                    --jp-widgets-label-color: white;\n",
       "                    --jp-ui-font-color1: white;\n",
       "                    --jp-layout-color2: #454545;\n",
       "                    background-color: #383838;\n",
       "                }\n",
       "                    \n",
       "                .geemap-dark .jupyter-button {\n",
       "                    --jp-layout-color3: #383838;\n",
       "                }\n",
       "                \n",
       "                .geemap-colab {\n",
       "                    background-color: var(--colab-primary-surface-color, white);\n",
       "                }\n",
       "                    \n",
       "                .geemap-colab .jupyter-button {\n",
       "                    --jp-layout-color3: var(--colab-primary-surface-color, white);\n",
       "                }\n",
       "            </style>\n",
       "            "
      ],
      "text/plain": [
       "<IPython.core.display.HTML object>"
      ]
     },
     "metadata": {},
     "output_type": "display_data"
    }
   ],
   "source": [
    "# change per asset being pulled down\n",
    "asset_to_pull = 'hackberry_centroids'\n",
    "points_data = ee.FeatureCollection(f'projects/ee-jdawsey/assets/{asset_to_pull}')\n",
    "\n",
    "#Map.addLayer(points_data, {}, 'points_data')\n",
    "#Map.addLayer(buffer, {}, 'buffer')"
   ]
  },
  {
   "cell_type": "code",
   "execution_count": 27,
   "id": "0201ac29-b206-4105-bb1b-2a8dbe78e53c",
   "metadata": {},
   "outputs": [
    {
     "data": {
      "text/html": [
       "\n",
       "            <style>\n",
       "                .geemap-dark {\n",
       "                    --jp-widgets-color: white;\n",
       "                    --jp-widgets-label-color: white;\n",
       "                    --jp-ui-font-color1: white;\n",
       "                    --jp-layout-color2: #454545;\n",
       "                    background-color: #383838;\n",
       "                }\n",
       "                    \n",
       "                .geemap-dark .jupyter-button {\n",
       "                    --jp-layout-color3: #383838;\n",
       "                }\n",
       "                \n",
       "                .geemap-colab {\n",
       "                    background-color: var(--colab-primary-surface-color, white);\n",
       "                }\n",
       "                    \n",
       "                .geemap-colab .jupyter-button {\n",
       "                    --jp-layout-color3: var(--colab-primary-surface-color, white);\n",
       "                }\n",
       "            </style>\n",
       "            "
      ],
      "text/plain": [
       "<IPython.core.display.HTML object>"
      ]
     },
     "metadata": {},
     "output_type": "display_data"
    },
    {
     "name": "stdout",
     "output_type": "stream",
     "text": [
      "Generating URL ...\n",
      "Downloading data from https://earthengine.googleapis.com/v1/projects/ee-jdawsey/tables/374a098b0ce0f87ece92b1f7255ca470-1a8149592c93044c973315c3d7f6f211:getFeatures\n",
      "Please wait ...\n",
      "Data downloaded to D:\\tifs\\grnd_truth_loc\\hackberry_lake_ohv\\hackberry_centroids_env_data.csv\n"
     ]
    }
   ],
   "source": [
    "# then exporting the data as a csv so that can be used in the xgb algorithm\n",
    "#work_dir = 'D:/!!Research/rgee_test/GEE_LPC/point_data' # use for small test files\n",
    "work_dir = 'D:/tifs/grnd_truth_loc/hackberry_lake_ohv'\n",
    "out_csv = os.path.join(work_dir, f'{asset_to_pull}_env_data.csv')\n",
    "geemap.extract_values_to_points(points_data, env_bands, out_csv)"
   ]
  }
 ],
 "metadata": {
  "kernelspec": {
   "display_name": "Python 3 (ipykernel)",
   "language": "python",
   "name": "python3"
  },
  "language_info": {
   "codemirror_mode": {
    "name": "ipython",
    "version": 3
   },
   "file_extension": ".py",
   "mimetype": "text/x-python",
   "name": "python",
   "nbconvert_exporter": "python",
   "pygments_lexer": "ipython3",
   "version": "3.12.1"
  }
 },
 "nbformat": 4,
 "nbformat_minor": 5
}
