{
 "cells": [
  {
   "cell_type": "code",
   "execution_count": 1,
   "id": "efc87265-f951-4d6d-994a-946947038438",
   "metadata": {},
   "outputs": [],
   "source": [
    "import re\n",
    "import os"
   ]
  },
  {
   "cell_type": "code",
   "execution_count": 2,
   "id": "bfd67fff-03f4-4d75-a9f3-0d4a936e1115",
   "metadata": {
    "scrolled": true
   },
   "outputs": [
    {
     "name": "stdout",
     "output_type": "stream",
     "text": [
      "True\n"
     ]
    }
   ],
   "source": [
    "file_directory = 'D:/tifs/broad_xgb_classification/test_output_fishnet/'\n",
    "file_itself = '/cell_1_gcs.shp'\n",
    "regex_gcs = re.compile(r'[0-9]_gcs+')\n",
    "mo = regex_gcs.search(file_directory) == None\n",
    "print(mo)\n",
    "#delete_file_path = f'{self.folder_directory}/{self.shp_dir}/cell_{index_num}_gcs.csv'\n",
    "\n"
   ]
  },
  {
   "cell_type": "code",
   "execution_count": 7,
   "id": "1717cc2e-515d-4c93-abe8-f5f127a2e80d",
   "metadata": {},
   "outputs": [],
   "source": [
    "file_paths = os.listdir(file_directory)\n",
    "for file in file_paths:\n",
    "    full_path = f'{file_directory}{file}'\n",
    "    if (regex_gcs.search(full_path) == None) == False:\n",
    "        os.remove(full_path)\n",
    "        print(f'removed {full_path}')"
   ]
  }
 ],
 "metadata": {
  "kernelspec": {
   "display_name": "Python 3 (ipykernel)",
   "language": "python",
   "name": "python3"
  },
  "language_info": {
   "codemirror_mode": {
    "name": "ipython",
    "version": 3
   },
   "file_extension": ".py",
   "mimetype": "text/x-python",
   "name": "python",
   "nbconvert_exporter": "python",
   "pygments_lexer": "ipython3",
   "version": "3.12.1"
  }
 },
 "nbformat": 4,
 "nbformat_minor": 5
}
