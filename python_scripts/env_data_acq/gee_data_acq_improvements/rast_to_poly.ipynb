{
 "cells": [
  {
   "cell_type": "markdown",
   "id": "8bc6a7bd-8f30-47e1-9a63-f98cfceffb0a",
   "metadata": {},
   "source": [
    "### Raster to polygon"
   ]
  },
  {
   "cell_type": "code",
   "execution_count": null,
   "id": "da559b5d-1cce-4ecf-9036-3d0bb9f0571b",
   "metadata": {},
   "outputs": [],
   "source": [
    "import rasterio\n",
    "from rasterio.features import shapes\n",
    "import geopandas as gpd\n",
    "from shapely.geometry import shape"
   ]
  },
  {
   "cell_type": "code",
   "execution_count": null,
   "id": "927ac11d-a8fb-4d05-9be6-0717521c6ba3",
   "metadata": {},
   "outputs": [],
   "source": [
    "# Path to the raster file\n",
    "raster_file = 'path/to/your/raster.tif'\n",
    "\n",
    "# Read the raster file\n",
    "with rasterio.open(raster_file) as src:\n",
    "    raster_data = src.read(1)\n",
    "    raster_transform = src.transform\n",
    "    nodata_value = src.nodata\n",
    "\n",
    "# Mask for the class of interest (assuming class value is 1)\n",
    "# Create a mask that ignores NODATA values\n",
    "class_mask = (raster_data == 1) & (raster_data != nodata_value)\n",
    "\n",
    "# Convert the class mask to polygons\n",
    "shapes_generator = shapes(raster_data, mask=class_mask, transform=raster_transform)\n",
    "\n",
    "# Convert shapes to GeoDataFrame\n",
    "polygons = []\n",
    "for geom, value in shapes_generator:\n",
    "    if value == 1:\n",
    "        polygons.append(shape(geom))\n",
    "\n",
    "# Create a GeoDataFrame\n",
    "gdf = gpd.GeoDataFrame({'geometry': polygons}, crs=src.crs)\n",
    "\n",
    "# Save to a file if needed\n",
    "gdf.to_file('path/to/output/polygon.shp')"
   ]
  },
  {
   "cell_type": "code",
   "execution_count": null,
   "id": "0e605dc4-059b-4389-8c7e-e5a8356c2f7e",
   "metadata": {},
   "outputs": [],
   "source": [
    "# If you want to visualize the polygons\n",
    "gdf.plot()"
   ]
  }
 ],
 "metadata": {
  "kernelspec": {
   "display_name": "Python 3 (ipykernel)",
   "language": "python",
   "name": "python3"
  },
  "language_info": {
   "codemirror_mode": {
    "name": "ipython",
    "version": 3
   },
   "file_extension": ".py",
   "mimetype": "text/x-python",
   "name": "python",
   "nbconvert_exporter": "python",
   "pygments_lexer": "ipython3",
   "version": "3.12.1"
  }
 },
 "nbformat": 4,
 "nbformat_minor": 5
}
