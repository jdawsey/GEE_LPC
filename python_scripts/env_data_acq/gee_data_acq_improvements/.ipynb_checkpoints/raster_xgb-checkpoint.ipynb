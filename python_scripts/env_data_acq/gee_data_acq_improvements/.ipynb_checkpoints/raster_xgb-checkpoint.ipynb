{
 "cells": [
  {
   "cell_type": "code",
   "execution_count": 1,
   "id": "f6502942-4de7-4b2a-a020-6e8ff60de8d2",
   "metadata": {},
   "outputs": [],
   "source": [
    "import seaborn as sns\n",
    "import pandas as pd\n",
    "import numpy as np\n",
    "import matplotlib.pyplot as plt\n",
    "import sklearn\n",
    "import xgboost as xgb\n",
    "from osgeo import gdal\n",
    "import raster_to_array as rta"
   ]
  },
  {
   "cell_type": "code",
   "execution_count": 27,
   "id": "5c7da34c-2984-4622-a9d4-290637b36153",
   "metadata": {},
   "outputs": [
    {
     "name": "stdout",
     "output_type": "stream",
     "text": [
      "['clay_0_5', 'clay_5_15', 'clay_15_30', 'clay_30_60', 'clay_60_100', 'clay_100_200', 'sand_0_5', 'sand_5_15', 'sand_15_30', 'sand_30_60', 'sand_60_100', 'sand_100_200', 'silt_0_5', 'silt_5_15', 'silt_15_30', 'silt_30_60', 'silt_60_100', 'silt_100_200', 'bd_0_5', 'bd_5_15', 'bd_15_30', 'bd_30_60', 'bd_60_100', 'bd_100_200', 'om_0_5', 'om_5_15', 'om_15_30', 'om_30_60', 'om_60_100', 'om_100_200', 'ph_0_5', 'ph_5_15', 'ph_15_30', 'ph_30_60', 'ph_60_100', 'ph_100_200', 'ksat_0_5', 'ksat_5_15', 'ksat_15_30', 'ksat_30_60', 'ksat_60_100', 'ksat_100_200', 'theta_r_0_5', 'theta_r_5_15', 'theta_r_15_30', 'theta_r_30_60', 'theta_r_60_100', 'theta_r_100_200', 'theta_s_0_5', 'theta_s_5_15', 'theta_s_15_30', 'theta_s_30_60', 'theta_s_60_100', 'theta_s_100_200', 'caco3', 'cec', 'ec', 'sar', 'kw_025', 'resdept', 'soil_depth', 'wind_erodibility', 'rf_025', 'water_storage', 'ann_rain', 'temp_range', 'elevation', 'slope', 'aspect', 'dist_drain']\n"
     ]
    }
   ],
   "source": [
    "main_dir = 'D:/!!Research/!!!Data/ArcGIS_Projects/buffers_tifs/raster_processing_tests/'\n",
    "# Load model from file\n",
    "model_path = f'{main_dir}model.json'\n",
    "loaded_model = xgb.XGBClassifier()\n",
    "loaded_model.load_model(model_path)"
   ]
  },
  {
   "cell_type": "code",
   "execution_count": 48,
   "id": "585076ed-68ca-4335-aaf6-7c26b7fcb402",
   "metadata": {},
   "outputs": [
    {
     "name": "stdout",
     "output_type": "stream",
     "text": [
      "New raster created at D:/!!Research/!!!Data/ArcGIS_Projects/buffers_tifs/raster_processing_tests/file.tif\n"
     ]
    }
   ],
   "source": [
    "raster_path = f'{main_dir}env_imagery/cell_0_env_image.tif'\n",
    "output_path = f'{main_dir}file.tif'\n",
    "\n",
    "converter = rta.RasterToArrayConverter(raster_path)\n",
    "array = converter.convert()\n",
    "modified_array = converter.apply_model(loaded_model)\n",
    "converter.create_georeferenced_raster(output_path, modified_array)\n",
    "\n",
    "print(f\"New raster created at {output_path}\")"
   ]
  },
  {
   "cell_type": "code",
   "execution_count": null,
   "id": "a3dc952a-6a82-4bce-b569-d20a42df7c72",
   "metadata": {},
   "outputs": [],
   "source": [
    "tif_dir = f'{main_dir}env_imagery'\n",
    "tif_files = [os.path.join(tif_dir, f) for f in os.listdir(tif_dir) if f.endswith('.tif')]\n",
    "out_dir = f'{main_dir}raster_predictions/'\n",
    "\n",
    "tif_number = -1\n",
    "for file in tif_files:\n",
    "    tif_number +=1\n",
    "    out_tif = f'{out_dir}raster_predict_{tif_number}.tif'\n",
    "    converter = rta.RasterToArrayConverter(file)\n",
    "    array = converter.convert()\n",
    "    modified_array = converter.apply_model(loaded_model)\n",
    "    converter.create_georeferenced_raster(out_tif, modified_array)\n",
    "\n",
    "    print(f\"New raster created at {out_dir}\")"
   ]
  }
 ],
 "metadata": {
  "kernelspec": {
   "display_name": "Python 3 (ipykernel)",
   "language": "python",
   "name": "python3"
  },
  "language_info": {
   "codemirror_mode": {
    "name": "ipython",
    "version": 3
   },
   "file_extension": ".py",
   "mimetype": "text/x-python",
   "name": "python",
   "nbconvert_exporter": "python",
   "pygments_lexer": "ipython3",
   "version": "3.12.1"
  }
 },
 "nbformat": 4,
 "nbformat_minor": 5
}
