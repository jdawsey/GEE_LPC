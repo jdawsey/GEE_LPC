{
 "cells": [
  {
   "cell_type": "markdown",
   "id": "39e647cb-20d1-4075-9f05-27c802a3e818",
   "metadata": {},
   "source": [
    "# MASKED BY POLYGONS"
   ]
  },
  {
   "cell_type": "code",
   "execution_count": 1,
   "id": "17f0fcc7-ab3d-4a95-a73c-d92573254a5c",
   "metadata": {},
   "outputs": [],
   "source": [
    "import ee\n",
    "import geemap\n",
    "import rasterio\n",
    "import numpy as np\n",
    "import geopandas as gpd\n",
    "import pandas as pd\n",
    "import gee_data_acq as gda"
   ]
  },
  {
   "cell_type": "code",
   "execution_count": 2,
   "id": "281fdfe6-ea7a-4e47-9077-fe3ab1599e94",
   "metadata": {},
   "outputs": [
    {
     "data": {
      "text/html": [
       "\n",
       "            <style>\n",
       "                .geemap-dark {\n",
       "                    --jp-widgets-color: white;\n",
       "                    --jp-widgets-label-color: white;\n",
       "                    --jp-ui-font-color1: white;\n",
       "                    --jp-layout-color2: #454545;\n",
       "                    background-color: #383838;\n",
       "                }\n",
       "                    \n",
       "                .geemap-dark .jupyter-button {\n",
       "                    --jp-layout-color3: #383838;\n",
       "                }\n",
       "                \n",
       "                .geemap-colab {\n",
       "                    background-color: var(--colab-primary-surface-color, white);\n",
       "                }\n",
       "                    \n",
       "                .geemap-colab .jupyter-button {\n",
       "                    --jp-layout-color3: var(--colab-primary-surface-color, white);\n",
       "                }\n",
       "            </style>\n",
       "            "
      ],
      "text/plain": [
       "<IPython.core.display.HTML object>"
      ]
     },
     "metadata": {},
     "output_type": "display_data"
    }
   ],
   "source": [
    "# Authenticate and initialize the Earth Engine API\n",
    "ee.Authenticate()\n",
    "ee.Initialize()"
   ]
  },
  {
   "cell_type": "code",
   "execution_count": 3,
   "id": "4abff6af-e13b-469b-ad6c-08181ae2e1fb",
   "metadata": {},
   "outputs": [
    {
     "data": {
      "text/html": [
       "\n",
       "            <style>\n",
       "                .geemap-dark {\n",
       "                    --jp-widgets-color: white;\n",
       "                    --jp-widgets-label-color: white;\n",
       "                    --jp-ui-font-color1: white;\n",
       "                    --jp-layout-color2: #454545;\n",
       "                    background-color: #383838;\n",
       "                }\n",
       "                    \n",
       "                .geemap-dark .jupyter-button {\n",
       "                    --jp-layout-color3: #383838;\n",
       "                }\n",
       "                \n",
       "                .geemap-colab {\n",
       "                    background-color: var(--colab-primary-surface-color, white);\n",
       "                }\n",
       "                    \n",
       "                .geemap-colab .jupyter-button {\n",
       "                    --jp-layout-color3: var(--colab-primary-surface-color, white);\n",
       "                }\n",
       "            </style>\n",
       "            "
      ],
      "text/plain": [
       "<IPython.core.display.HTML object>"
      ]
     },
     "metadata": {},
     "output_type": "display_data"
    }
   ],
   "source": [
    "folder_directory = 'D:/!!Research/!!!Data/ArcGIS_Projects'\n",
    "raster_working = f'{folder_directory}/buffers_tifs/raster_processing_tests'\n",
    "poly_dir = f'{raster_working}/poly22'\n",
    "shapefile_path = f'{poly_dir}/poly22_poly.shp'"
   ]
  },
  {
   "cell_type": "code",
   "execution_count": 4,
   "id": "0a5ab388-a433-45bb-8681-ed9977c2a5f1",
   "metadata": {},
   "outputs": [
    {
     "data": {
      "text/html": [
       "\n",
       "            <style>\n",
       "                .geemap-dark {\n",
       "                    --jp-widgets-color: white;\n",
       "                    --jp-widgets-label-color: white;\n",
       "                    --jp-ui-font-color1: white;\n",
       "                    --jp-layout-color2: #454545;\n",
       "                    background-color: #383838;\n",
       "                }\n",
       "                    \n",
       "                .geemap-dark .jupyter-button {\n",
       "                    --jp-layout-color3: #383838;\n",
       "                }\n",
       "                \n",
       "                .geemap-colab {\n",
       "                    background-color: var(--colab-primary-surface-color, white);\n",
       "                }\n",
       "                    \n",
       "                .geemap-colab .jupyter-button {\n",
       "                    --jp-layout-color3: var(--colab-primary-surface-color, white);\n",
       "                }\n",
       "            </style>\n",
       "            "
      ],
      "text/plain": [
       "<IPython.core.display.HTML object>"
      ]
     },
     "metadata": {},
     "output_type": "display_data"
    }
   ],
   "source": [
    "crs = 'EPSG:6350'\n",
    "\n",
    "poly = gda.PolyToGDF(shapefile_path)\n",
    "poly_gdf = poly.poly_to_gdf(crs)"
   ]
  },
  {
   "cell_type": "code",
   "execution_count": 17,
   "id": "79c4cf67-11c3-4a40-a948-050403e9b249",
   "metadata": {},
   "outputs": [
    {
     "data": {
      "text/html": [
       "\n",
       "            <style>\n",
       "                .geemap-dark {\n",
       "                    --jp-widgets-color: white;\n",
       "                    --jp-widgets-label-color: white;\n",
       "                    --jp-ui-font-color1: white;\n",
       "                    --jp-layout-color2: #454545;\n",
       "                    background-color: #383838;\n",
       "                }\n",
       "                    \n",
       "                .geemap-dark .jupyter-button {\n",
       "                    --jp-layout-color3: #383838;\n",
       "                }\n",
       "                \n",
       "                .geemap-colab {\n",
       "                    background-color: var(--colab-primary-surface-color, white);\n",
       "                }\n",
       "                    \n",
       "                .geemap-colab .jupyter-button {\n",
       "                    --jp-layout-color3: var(--colab-primary-surface-color, white);\n",
       "                }\n",
       "            </style>\n",
       "            "
      ],
      "text/plain": [
       "<IPython.core.display.HTML object>"
      ]
     },
     "metadata": {},
     "output_type": "display_data"
    }
   ],
   "source": [
    "# Calculate bounds of the points\n",
    "bounds = poly_gdf.total_bounds  # (xmin, ymin, xmax, ymax)\n",
    "\n",
    "# Define cell size\n",
    "cell_size = 2000\n",
    "\n",
    "# Initialize Fishnet with calculated bounds and specified CRS\n",
    "fishnet = gda.PolygonFishnet(bounds, cell_size, crs)\n",
    "\n",
    "# Count points in the initial fishnet cells\n",
    "fishnet.count_polygons_in_cells(poly_gdf)\n",
    "\n",
    "# Subdivide cells with high point density\n",
    "max_polygons = 100\n",
    "fishnet.subdivide_high_density_cells(poly_gdf, max_polygons)"
   ]
  },
  {
   "cell_type": "code",
   "execution_count": 18,
   "id": "21fa8b45-afd6-4a0c-9596-eecaa41a11d6",
   "metadata": {},
   "outputs": [
    {
     "data": {
      "text/html": [
       "\n",
       "            <style>\n",
       "                .geemap-dark {\n",
       "                    --jp-widgets-color: white;\n",
       "                    --jp-widgets-label-color: white;\n",
       "                    --jp-ui-font-color1: white;\n",
       "                    --jp-layout-color2: #454545;\n",
       "                    background-color: #383838;\n",
       "                }\n",
       "                    \n",
       "                .geemap-dark .jupyter-button {\n",
       "                    --jp-layout-color3: #383838;\n",
       "                }\n",
       "                \n",
       "                .geemap-colab {\n",
       "                    background-color: var(--colab-primary-surface-color, white);\n",
       "                }\n",
       "                    \n",
       "                .geemap-colab .jupyter-button {\n",
       "                    --jp-layout-color3: var(--colab-primary-surface-color, white);\n",
       "                }\n",
       "            </style>\n",
       "            "
      ],
      "text/plain": [
       "<IPython.core.display.HTML object>"
      ]
     },
     "metadata": {},
     "output_type": "display_data"
    },
    {
     "data": {
      "application/vnd.jupyter.widget-view+json": {
       "model_id": "b92137d9751341b698f004d5c0f233e0",
       "version_major": 2,
       "version_minor": 0
      },
      "text/plain": [
       "Map(center=[0, 0], controls=(WidgetControl(options=['position', 'transparent_bg'], widget=SearchDataGUI(childr…"
      ]
     },
     "execution_count": 18,
     "metadata": {},
     "output_type": "execute_result"
    }
   ],
   "source": [
    "Map = geemap.Map()\n",
    "Map"
   ]
  },
  {
   "cell_type": "code",
   "execution_count": 19,
   "id": "0b948927-ce22-426d-8e46-d4f0fcdbe86a",
   "metadata": {},
   "outputs": [
    {
     "data": {
      "text/html": [
       "\n",
       "            <style>\n",
       "                .geemap-dark {\n",
       "                    --jp-widgets-color: white;\n",
       "                    --jp-widgets-label-color: white;\n",
       "                    --jp-ui-font-color1: white;\n",
       "                    --jp-layout-color2: #454545;\n",
       "                    background-color: #383838;\n",
       "                }\n",
       "                    \n",
       "                .geemap-dark .jupyter-button {\n",
       "                    --jp-layout-color3: #383838;\n",
       "                }\n",
       "                \n",
       "                .geemap-colab {\n",
       "                    background-color: var(--colab-primary-surface-color, white);\n",
       "                }\n",
       "                    \n",
       "                .geemap-colab .jupyter-button {\n",
       "                    --jp-layout-color3: var(--colab-primary-surface-color, white);\n",
       "                }\n",
       "            </style>\n",
       "            "
      ],
      "text/plain": [
       "<IPython.core.display.HTML object>"
      ]
     },
     "metadata": {},
     "output_type": "display_data"
    }
   ],
   "source": [
    "# Add fishnet to the map\n",
    "fishnet_layer = geemap.geopandas_to_ee(fishnet.grid)\n",
    "Map.addLayer(fishnet_layer, {}, 'Fishnet')"
   ]
  },
  {
   "cell_type": "code",
   "execution_count": 20,
   "id": "8020cc92-221a-4101-9b7c-f9f34c0003ac",
   "metadata": {
    "scrolled": true
   },
   "outputs": [
    {
     "data": {
      "text/html": [
       "\n",
       "            <style>\n",
       "                .geemap-dark {\n",
       "                    --jp-widgets-color: white;\n",
       "                    --jp-widgets-label-color: white;\n",
       "                    --jp-ui-font-color1: white;\n",
       "                    --jp-layout-color2: #454545;\n",
       "                    background-color: #383838;\n",
       "                }\n",
       "                    \n",
       "                .geemap-dark .jupyter-button {\n",
       "                    --jp-layout-color3: #383838;\n",
       "                }\n",
       "                \n",
       "                .geemap-colab {\n",
       "                    background-color: var(--colab-primary-surface-color, white);\n",
       "                }\n",
       "                    \n",
       "                .geemap-colab .jupyter-button {\n",
       "                    --jp-layout-color3: var(--colab-primary-surface-color, white);\n",
       "                }\n",
       "            </style>\n",
       "            "
      ],
      "text/plain": [
       "<IPython.core.display.HTML object>"
      ]
     },
     "metadata": {},
     "output_type": "display_data"
    }
   ],
   "source": [
    "# No slash needed at end of output directory\n",
    "output_folder_poly = f\"{raster_working}/poly_subdivisions\"\n",
    "fishnet.export_polygons_in_cells(poly_gdf, output_folder_poly)\n",
    "output_folder_fishnet = f\"{raster_working}/poly_fishnet_cells\"\n",
    "fishnet.export_fishnet_cells(output_folder_fishnet)"
   ]
  },
  {
   "cell_type": "code",
   "execution_count": null,
   "id": "ed57faec-db8d-4a5c-b972-b243ae013dcd",
   "metadata": {},
   "outputs": [],
   "source": [
    "# Define the Earth Engine image from which you want to extract data\n",
    "# Replace 'LANDSAT/LC08/C01/T1_SR' with the desired ee.Image ID\n",
    "#image = ee.Image('LANDSAT/LC08/C01/T1_SR')"
   ]
  },
  {
   "cell_type": "code",
   "execution_count": 11,
   "id": "80ef71b1-d0c7-49ca-8d2f-1bc6405fb0e9",
   "metadata": {},
   "outputs": [
    {
     "data": {
      "text/html": [
       "\n",
       "            <style>\n",
       "                .geemap-dark {\n",
       "                    --jp-widgets-color: white;\n",
       "                    --jp-widgets-label-color: white;\n",
       "                    --jp-ui-font-color1: white;\n",
       "                    --jp-layout-color2: #454545;\n",
       "                    background-color: #383838;\n",
       "                }\n",
       "                    \n",
       "                .geemap-dark .jupyter-button {\n",
       "                    --jp-layout-color3: #383838;\n",
       "                }\n",
       "                \n",
       "                .geemap-colab {\n",
       "                    background-color: var(--colab-primary-surface-color, white);\n",
       "                }\n",
       "                    \n",
       "                .geemap-colab .jupyter-button {\n",
       "                    --jp-layout-color3: var(--colab-primary-surface-color, white);\n",
       "                }\n",
       "            </style>\n",
       "            "
      ],
      "text/plain": [
       "<IPython.core.display.HTML object>"
      ]
     },
     "metadata": {},
     "output_type": "display_data"
    },
    {
     "data": {
      "text/html": [
       "<div>\n",
       "<style scoped>\n",
       "    .dataframe tbody tr th:only-of-type {\n",
       "        vertical-align: middle;\n",
       "    }\n",
       "\n",
       "    .dataframe tbody tr th {\n",
       "        vertical-align: top;\n",
       "    }\n",
       "\n",
       "    .dataframe thead th {\n",
       "        text-align: right;\n",
       "    }\n",
       "</style>\n",
       "<table border=\"1\" class=\"dataframe\">\n",
       "  <thead>\n",
       "    <tr style=\"text-align: right;\">\n",
       "      <th></th>\n",
       "      <th>collection</th>\n",
       "      <th>collection_loc</th>\n",
       "      <th>bands</th>\n",
       "      <th>band_rename</th>\n",
       "      <th>base_re</th>\n",
       "      <th>unit</th>\n",
       "      <th>resample</th>\n",
       "      <th>resample_res</th>\n",
       "    </tr>\n",
       "  </thead>\n",
       "  <tbody>\n",
       "    <tr>\n",
       "      <th>0</th>\n",
       "      <td>clay_0_5</td>\n",
       "      <td>projects/sat-io/open-datasets/polaris/clay_mea...</td>\n",
       "      <td>b1</td>\n",
       "      <td>clay_0_5</td>\n",
       "      <td>30</td>\n",
       "      <td>m</td>\n",
       "      <td>True</td>\n",
       "      <td>1</td>\n",
       "    </tr>\n",
       "    <tr>\n",
       "      <th>1</th>\n",
       "      <td>clay_5_15</td>\n",
       "      <td>projects/sat-io/open-datasets/polaris/clay_mea...</td>\n",
       "      <td>b1</td>\n",
       "      <td>clay_5_15</td>\n",
       "      <td>30</td>\n",
       "      <td>m</td>\n",
       "      <td>True</td>\n",
       "      <td>1</td>\n",
       "    </tr>\n",
       "    <tr>\n",
       "      <th>2</th>\n",
       "      <td>clay_15_30</td>\n",
       "      <td>projects/sat-io/open-datasets/polaris/clay_mea...</td>\n",
       "      <td>b1</td>\n",
       "      <td>clay_15_30</td>\n",
       "      <td>30</td>\n",
       "      <td>m</td>\n",
       "      <td>True</td>\n",
       "      <td>1</td>\n",
       "    </tr>\n",
       "    <tr>\n",
       "      <th>3</th>\n",
       "      <td>clay_30_60</td>\n",
       "      <td>projects/sat-io/open-datasets/polaris/clay_mea...</td>\n",
       "      <td>b1</td>\n",
       "      <td>clay_30_60</td>\n",
       "      <td>30</td>\n",
       "      <td>m</td>\n",
       "      <td>True</td>\n",
       "      <td>1</td>\n",
       "    </tr>\n",
       "    <tr>\n",
       "      <th>4</th>\n",
       "      <td>clay_60_100</td>\n",
       "      <td>projects/sat-io/open-datasets/polaris/clay_mea...</td>\n",
       "      <td>b1</td>\n",
       "      <td>clay_60_100</td>\n",
       "      <td>30</td>\n",
       "      <td>m</td>\n",
       "      <td>True</td>\n",
       "      <td>1</td>\n",
       "    </tr>\n",
       "  </tbody>\n",
       "</table>\n",
       "</div>"
      ],
      "text/plain": [
       "    collection                                     collection_loc bands  \\\n",
       "0     clay_0_5  projects/sat-io/open-datasets/polaris/clay_mea...    b1   \n",
       "1    clay_5_15  projects/sat-io/open-datasets/polaris/clay_mea...    b1   \n",
       "2   clay_15_30  projects/sat-io/open-datasets/polaris/clay_mea...    b1   \n",
       "3   clay_30_60  projects/sat-io/open-datasets/polaris/clay_mea...    b1   \n",
       "4  clay_60_100  projects/sat-io/open-datasets/polaris/clay_mea...    b1   \n",
       "\n",
       "   band_rename  base_re unit  resample  resample_res  \n",
       "0     clay_0_5       30    m      True             1  \n",
       "1    clay_5_15       30    m      True             1  \n",
       "2   clay_15_30       30    m      True             1  \n",
       "3   clay_30_60       30    m      True             1  \n",
       "4  clay_60_100       30    m      True             1  "
      ]
     },
     "execution_count": 11,
     "metadata": {},
     "output_type": "execute_result"
    }
   ],
   "source": [
    "bands_csv_name = 'images_and_bands.csv'\n",
    "images_and_bands = pd.read_csv(f'{folder_directory}/buffers_tifs/raster_processing_tests/{bands_csv_name}')\n",
    "images_and_bands.head()"
   ]
  },
  {
   "cell_type": "code",
   "execution_count": 12,
   "id": "60f38704-4c25-41c9-9957-f2b4425882f4",
   "metadata": {},
   "outputs": [
    {
     "data": {
      "text/html": [
       "\n",
       "            <style>\n",
       "                .geemap-dark {\n",
       "                    --jp-widgets-color: white;\n",
       "                    --jp-widgets-label-color: white;\n",
       "                    --jp-ui-font-color1: white;\n",
       "                    --jp-layout-color2: #454545;\n",
       "                    background-color: #383838;\n",
       "                }\n",
       "                    \n",
       "                .geemap-dark .jupyter-button {\n",
       "                    --jp-layout-color3: #383838;\n",
       "                }\n",
       "                \n",
       "                .geemap-colab {\n",
       "                    background-color: var(--colab-primary-surface-color, white);\n",
       "                }\n",
       "                    \n",
       "                .geemap-colab .jupyter-button {\n",
       "                    --jp-layout-color3: var(--colab-primary-surface-color, white);\n",
       "                }\n",
       "            </style>\n",
       "            "
      ],
      "text/plain": [
       "<IPython.core.display.HTML object>"
      ]
     },
     "metadata": {},
     "output_type": "display_data"
    },
    {
     "name": "stdout",
     "output_type": "stream",
     "text": [
      "[<ee.image.Image object at 0x000001D85930F860>, <ee.image.Image object at 0x000001D86090D5B0>, <ee.image.Image object at 0x000001D860997A70>, <ee.image.Image object at 0x000001D860997D40>]\n"
     ]
    }
   ],
   "source": [
    "#shrubs_states = ['california', 'kansas', 'new_mexico', 'nevada', 'texas']\n",
    "#sts_abbvs = ['CA', 'KS', 'NM', 'NV', 'TX']\n",
    "sts_abbrv = ['TX', 'NM']\n",
    "\n",
    "other_bands = []\n",
    "\n",
    "elevation = ee.Image('USGS/3DEP/10m').select(['elevation'])\n",
    "other_bands.append(elevation)\n",
    "slope = ee.Terrain.slope(elevation).select(['slope']).rename(['slope'])\n",
    "other_bands.append(slope)\n",
    "aspect = ee.Terrain.aspect(elevation).select(['aspect']).rename(['aspect'])\n",
    "other_bands.append(aspect)\n",
    "\n",
    "nhd_area_tx = ee.FeatureCollection(f\"projects/sat-io/open-datasets/NHD/NHD_{sts_abbrv[0]}/NHDArea\")\n",
    "nhd_flowline_tx = ee.FeatureCollection(f\"projects/sat-io/open-datasets/NHD/NHD_{sts_abbrv[0]}/NHDFlowline\")\n",
    "nhd_tx = nhd_area_tx.merge(nhd_flowline_tx)\n",
    "nhd_area_nm = ee.FeatureCollection(f\"projects/sat-io/open-datasets/NHD/NHD_{sts_abbrv[1]}/NHDArea\")\n",
    "nhd_flowline_nm = ee.FeatureCollection(f\"projects/sat-io/open-datasets/NHD/NHD_{sts_abbrv[1]}/NHDFlowline\")\n",
    "nhd_nm = nhd_area_nm.merge(nhd_flowline_nm)\n",
    "nhd = nhd_tx.merge(nhd_nm)\n",
    "dist_nhd = nhd.distance(searchRadius=10000, maxError=50) #originally searchRadius = 50000\n",
    "#dist_nhd = dist_nhd.clip(ee_items[num]) #change clip area\n",
    "dist_nhd = dist_nhd.select(['distance'])\n",
    "dist_nhd = dist_nhd.rename('dist_drain')\n",
    "other_bands.append(dist_nhd)\n",
    "\n",
    "#roads = ee.FeatureCollection('TIGER/2016/Roads')\n",
    "#dist_roads = roads.distance(searchRadius=50000, maxError=50)\n",
    "#dist_roads = dist_roads.select(['distance'])\n",
    "#dist_roads = dist_roads.rename('dist_road')\n",
    "#other_bands.append(dist_roads)\n",
    "print(other_bands)"
   ]
  },
  {
   "cell_type": "code",
   "execution_count": 13,
   "id": "80d29774-b749-4af8-8485-07794066ee5d",
   "metadata": {},
   "outputs": [
    {
     "data": {
      "text/html": [
       "\n",
       "            <style>\n",
       "                .geemap-dark {\n",
       "                    --jp-widgets-color: white;\n",
       "                    --jp-widgets-label-color: white;\n",
       "                    --jp-ui-font-color1: white;\n",
       "                    --jp-layout-color2: #454545;\n",
       "                    background-color: #383838;\n",
       "                }\n",
       "                    \n",
       "                .geemap-dark .jupyter-button {\n",
       "                    --jp-layout-color3: #383838;\n",
       "                }\n",
       "                \n",
       "                .geemap-colab {\n",
       "                    background-color: var(--colab-primary-surface-color, white);\n",
       "                }\n",
       "                    \n",
       "                .geemap-colab .jupyter-button {\n",
       "                    --jp-layout-color3: var(--colab-primary-surface-color, white);\n",
       "                }\n",
       "            </style>\n",
       "            "
      ],
      "text/plain": [
       "<IPython.core.display.HTML object>"
      ]
     },
     "metadata": {},
     "output_type": "display_data"
    },
    {
     "name": "stdout",
     "output_type": "stream",
     "text": [
      "['clay_0_5', 'clay_5_15', 'clay_15_30', 'clay_30_60', 'clay_60_100', 'clay_100_200', 'sand_0_5', 'sand_5_15', 'sand_15_30', 'sand_30_60', 'sand_60_100', 'sand_100_200', 'silt_0_5', 'silt_5_15', 'silt_15_30', 'silt_30_60', 'silt_60_100', 'silt_100_200', 'bd_0_5', 'bd_5_15', 'bd_15_30', 'bd_30_60', 'bd_60_100', 'bd_100_200', 'om_0_5', 'om_5_15', 'om_15_30', 'om_30_60', 'om_60_100', 'om_100_200', 'ph_0_5', 'ph_5_15', 'ph_15_30', 'ph_30_60', 'ph_60_100', 'ph_100_200', 'ksat_0_5', 'ksat_5_15', 'ksat_15_30', 'ksat_30_60', 'ksat_60_100', 'ksat_100_200', 'theta_r_0_5', 'theta_r_5_15', 'theta_r_15_30', 'theta_r_30_60', 'theta_r_60_100', 'theta_r_100_200', 'theta_s_0_5', 'theta_s_5_15', 'theta_s_15_30', 'theta_s_30_60', 'theta_s_60_100', 'theta_s_100_200', 'caco3', 'cec', 'ec', 'sar', 'kw_025', 'resdept', 'soil_depth', 'wind_erodibility', 'rf_025', 'water_storage', 'ann_rain', 'temp_range', 'elevation', 'slope', 'aspect', 'dist_drain']\n"
     ]
    }
   ],
   "source": [
    "image_stack_builder = gda.ImageStackBuilder(images_and_bands)\n",
    "rast_crs = 'EPSG:6350'\n",
    "image_stack = image_stack_builder.build_image_stack(other_bands, rast_crs = rast_crs)\n",
    "print(image_stack.bandNames().getInfo())"
   ]
  },
  {
   "cell_type": "markdown",
   "id": "4229d74b-e09c-4bc1-8edb-eab615f1ded3",
   "metadata": {},
   "source": [
    "## This works, but since the polygons take up so much memory, the number of fishnet cells needed to keep things workable will require a ton of time to download data for. It will be easier to download the data (resampled) and mask on my own computer."
   ]
  },
  {
   "cell_type": "code",
   "execution_count": 16,
   "id": "f61f3a0b-1516-42cc-b428-a1bb9fe16193",
   "metadata": {},
   "outputs": [
    {
     "data": {
      "text/html": [
       "\n",
       "            <style>\n",
       "                .geemap-dark {\n",
       "                    --jp-widgets-color: white;\n",
       "                    --jp-widgets-label-color: white;\n",
       "                    --jp-ui-font-color1: white;\n",
       "                    --jp-layout-color2: #454545;\n",
       "                    background-color: #383838;\n",
       "                }\n",
       "                    \n",
       "                .geemap-dark .jupyter-button {\n",
       "                    --jp-layout-color3: #383838;\n",
       "                }\n",
       "                \n",
       "                .geemap-colab {\n",
       "                    background-color: var(--colab-primary-surface-color, white);\n",
       "                }\n",
       "                    \n",
       "                .geemap-colab .jupyter-button {\n",
       "                    --jp-layout-color3: var(--colab-primary-surface-color, white);\n",
       "                }\n",
       "            </style>\n",
       "            "
      ],
      "text/plain": [
       "<IPython.core.display.HTML object>"
      ]
     },
     "metadata": {},
     "output_type": "display_data"
    },
    {
     "name": "stdout",
     "output_type": "stream",
     "text": [
      "Generating URL ...\n",
      "An error occurred while downloading.\n",
      "Total request size (119908296 bytes) must be less than or equal to 50331648 bytes.\n",
      "Export task started.\n",
      "Generating URL ...\n",
      "An error occurred while downloading.\n",
      "Total request size (119908296 bytes) must be less than or equal to 50331648 bytes.\n",
      "Export task started.\n"
     ]
    },
    {
     "ename": "KeyboardInterrupt",
     "evalue": "",
     "output_type": "error",
     "traceback": [
      "\u001b[1;31m---------------------------------------------------------------------------\u001b[0m",
      "\u001b[1;31mKeyboardInterrupt\u001b[0m                         Traceback (most recent call last)",
      "Cell \u001b[1;32mIn[16], line 39\u001b[0m\n\u001b[0;32m     29\u001b[0m geemap\u001b[38;5;241m.\u001b[39mee_export_image(\n\u001b[0;32m     30\u001b[0m     result_image,\n\u001b[0;32m     31\u001b[0m     filename\u001b[38;5;241m=\u001b[39moutput_path,\n\u001b[1;32m   (...)\u001b[0m\n\u001b[0;32m     35\u001b[0m     file_per_band\u001b[38;5;241m=\u001b[39m\u001b[38;5;28;01mFalse\u001b[39;00m  \u001b[38;5;66;03m# Set to True if you want separate files for each band\u001b[39;00m\n\u001b[0;32m     36\u001b[0m )\n\u001b[0;32m     38\u001b[0m \u001b[38;5;28mprint\u001b[39m(\u001b[38;5;124m'\u001b[39m\u001b[38;5;124mExport task started.\u001b[39m\u001b[38;5;124m'\u001b[39m)\n\u001b[1;32m---> 39\u001b[0m \u001b[43mtime\u001b[49m\u001b[38;5;241;43m.\u001b[39;49m\u001b[43msleep\u001b[49m\u001b[43m(\u001b[49m\u001b[38;5;241;43m15\u001b[39;49m\u001b[43m)\u001b[49m\n",
      "\u001b[1;31mKeyboardInterrupt\u001b[0m: "
     ]
    }
   ],
   "source": [
    "import os\n",
    "import time\n",
    "shp_dir = f\"{raster_working}/poly_subdivisions\"\n",
    "fishnet_dir = f\"{raster_working}/poly_fishnet_cells\"\n",
    "crs = 'EPSG:6350'\n",
    "poly_files = [os.path.join(shp_dir, f) for f in os.listdir(shp_dir) if f.endswith('.shp')]\n",
    "fishnet_files = [os.path.join(fishnet_dir, f) for f in os.listdir(fishnet_dir) if f.endswith('.shp')]\n",
    "num = -1\n",
    "for index in range(len(poly_files)):\n",
    "    num += 1\n",
    "    \n",
    "    # Convert the geopandas dataframe to an Earth Engine feature collection\n",
    "    ee_poly = geemap.shp_to_ee(poly_files[index])\n",
    "    ee_fishnet = geemap.shp_to_ee(fishnet_files[index])\n",
    "\n",
    "    bounds = ee_fishnet.geometry().bounds()\n",
    "\n",
    "    # Create a mask image from the feature collection's geometry\n",
    "    geometry = ee_poly.geometry()\n",
    "    mask = ee.Image.constant(1).clip(geometry)\n",
    "    # Mask the Earth Engine image with the raster image\n",
    "    masked_image = image_stack.updateMask(mask)\n",
    "\n",
    "    # Replace non-overlapping pixels with zeros or a specific null value\n",
    "    null_value = ee.Image(0)  # or use ee.Image(0) for zero\n",
    "    result_image = masked_image.unmask(null_value)\n",
    "\n",
    "    output_path = f'{raster_working}/masked_env_data/cell_{num}_masked_env_data.tif'\n",
    "    geemap.ee_export_image(\n",
    "        result_image,\n",
    "        filename=output_path,\n",
    "        scale=1,\n",
    "        region=bounds,\n",
    "        crs=crs,\n",
    "        file_per_band=False  # Set to True if you want separate files for each band\n",
    "    )\n",
    "\n",
    "    print('Export task started.')\n",
    "    time.sleep(15)"
   ]
  }
 ],
 "metadata": {
  "kernelspec": {
   "display_name": "Python 3 (ipykernel)",
   "language": "python",
   "name": "python3"
  },
  "language_info": {
   "codemirror_mode": {
    "name": "ipython",
    "version": 3
   },
   "file_extension": ".py",
   "mimetype": "text/x-python",
   "name": "python",
   "nbconvert_exporter": "python",
   "pygments_lexer": "ipython3",
   "version": "3.12.1"
  }
 },
 "nbformat": 4,
 "nbformat_minor": 5
}
