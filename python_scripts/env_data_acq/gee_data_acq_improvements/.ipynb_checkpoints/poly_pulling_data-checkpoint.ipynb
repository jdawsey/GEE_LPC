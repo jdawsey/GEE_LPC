{
 "cells": [
  {
   "cell_type": "markdown",
   "id": "a26e5846-eb66-4bed-a409-12d9d612ed9e",
   "metadata": {},
   "source": [
    "# USEFUL FOR PULLING ENVIRONMENTAL DATA ACROSS WHOLE REGIONS"
   ]
  },
  {
   "cell_type": "code",
   "execution_count": 1,
   "id": "9627abfb-fbe7-41c9-9ae2-057ec7034e49",
   "metadata": {},
   "outputs": [],
   "source": [
    "import os\n",
    "import geopandas as gpd\n",
    "import pandas as pd\n",
    "import ee\n",
    "import geemap\n",
    "#import gee_data_acq_c as gda\n",
    "import gee_data_acc as gda"
   ]
  },
  {
   "cell_type": "code",
   "execution_count": 3,
   "id": "d26e3140",
   "metadata": {},
   "outputs": [
    {
     "data": {
      "text/html": [
       "\n",
       "            <style>\n",
       "                .geemap-dark {\n",
       "                    --jp-widgets-color: white;\n",
       "                    --jp-widgets-label-color: white;\n",
       "                    --jp-ui-font-color1: white;\n",
       "                    --jp-layout-color2: #454545;\n",
       "                    background-color: #383838;\n",
       "                }\n",
       "                    \n",
       "                .geemap-dark .jupyter-button {\n",
       "                    --jp-layout-color3: #383838;\n",
       "                }\n",
       "                \n",
       "                .geemap-colab {\n",
       "                    background-color: var(--colab-primary-surface-color, white);\n",
       "                }\n",
       "                    \n",
       "                .geemap-colab .jupyter-button {\n",
       "                    --jp-layout-color3: var(--colab-primary-surface-color, white);\n",
       "                }\n",
       "            </style>\n",
       "            "
      ],
      "text/plain": [
       "<IPython.core.display.HTML object>"
      ]
     },
     "metadata": {},
     "output_type": "display_data"
    },
    {
     "data": {
      "text/plain": [
       "True"
      ]
     },
     "execution_count": 3,
     "metadata": {},
     "output_type": "execute_result"
    }
   ],
   "source": [
    "# Authenticate to Earth Engine\n",
    "ee.Authenticate()"
   ]
  },
  {
   "cell_type": "code",
   "execution_count": 2,
   "id": "711b80fe-ec66-4ef3-89dd-7dcaecdb9a4b",
   "metadata": {},
   "outputs": [
    {
     "data": {
      "text/html": [
       "\n",
       "            <style>\n",
       "                .geemap-dark {\n",
       "                    --jp-widgets-color: white;\n",
       "                    --jp-widgets-label-color: white;\n",
       "                    --jp-ui-font-color1: white;\n",
       "                    --jp-layout-color2: #454545;\n",
       "                    background-color: #383838;\n",
       "                }\n",
       "                    \n",
       "                .geemap-dark .jupyter-button {\n",
       "                    --jp-layout-color3: #383838;\n",
       "                }\n",
       "                \n",
       "                .geemap-colab {\n",
       "                    background-color: var(--colab-primary-surface-color, white);\n",
       "                }\n",
       "                    \n",
       "                .geemap-colab .jupyter-button {\n",
       "                    --jp-layout-color3: var(--colab-primary-surface-color, white);\n",
       "                }\n",
       "            </style>\n",
       "            "
      ],
      "text/plain": [
       "<IPython.core.display.HTML object>"
      ]
     },
     "metadata": {},
     "output_type": "display_data"
    }
   ],
   "source": [
    "# Authenticate to Earth Engine\n",
    "#ee.Authenticate()\n",
    "ee.Initialize()"
   ]
  },
  {
   "cell_type": "code",
   "execution_count": 3,
   "id": "85399cda-fe5d-495a-8cd1-f26d6fcf88e2",
   "metadata": {},
   "outputs": [
    {
     "data": {
      "text/html": [
       "\n",
       "            <style>\n",
       "                .geemap-dark {\n",
       "                    --jp-widgets-color: white;\n",
       "                    --jp-widgets-label-color: white;\n",
       "                    --jp-ui-font-color1: white;\n",
       "                    --jp-layout-color2: #454545;\n",
       "                    background-color: #383838;\n",
       "                }\n",
       "                    \n",
       "                .geemap-dark .jupyter-button {\n",
       "                    --jp-layout-color3: #383838;\n",
       "                }\n",
       "                \n",
       "                .geemap-colab {\n",
       "                    background-color: var(--colab-primary-surface-color, white);\n",
       "                }\n",
       "                    \n",
       "                .geemap-colab .jupyter-button {\n",
       "                    --jp-layout-color3: var(--colab-primary-surface-color, white);\n",
       "                }\n",
       "            </style>\n",
       "            "
      ],
      "text/plain": [
       "<IPython.core.display.HTML object>"
      ]
     },
     "metadata": {},
     "output_type": "display_data"
    }
   ],
   "source": [
    "folder_directory = 'D:/!!Research/!!!Data/ArcGIS_Projects'\n",
    "raster_working = f'{folder_directory}/buffers_tifs/raster_processing_tests'"
   ]
  },
  {
   "cell_type": "markdown",
   "id": "32166206-e1fd-4b8c-85eb-810fae8d6fc3",
   "metadata": {},
   "source": [
    "### Fishnetting the polygon"
   ]
  },
  {
   "cell_type": "code",
   "execution_count": 4,
   "id": "99b46f7a-7648-470a-87d9-0179d4177260",
   "metadata": {},
   "outputs": [
    {
     "data": {
      "text/html": [
       "\n",
       "            <style>\n",
       "                .geemap-dark {\n",
       "                    --jp-widgets-color: white;\n",
       "                    --jp-widgets-label-color: white;\n",
       "                    --jp-ui-font-color1: white;\n",
       "                    --jp-layout-color2: #454545;\n",
       "                    background-color: #383838;\n",
       "                }\n",
       "                    \n",
       "                .geemap-dark .jupyter-button {\n",
       "                    --jp-layout-color3: #383838;\n",
       "                }\n",
       "                \n",
       "                .geemap-colab {\n",
       "                    background-color: var(--colab-primary-surface-color, white);\n",
       "                }\n",
       "                    \n",
       "                .geemap-colab .jupyter-button {\n",
       "                    --jp-layout-color3: var(--colab-primary-surface-color, white);\n",
       "                }\n",
       "            </style>\n",
       "            "
      ],
      "text/plain": [
       "<IPython.core.display.HTML object>"
      ]
     },
     "metadata": {},
     "output_type": "display_data"
    }
   ],
   "source": [
    "# with testing data\n",
    "#poly_dir = f'{raster_working}poly_to_divide/'\n",
    "#poly_path = f'{poly_dir}poly_to_divide.shp'\n",
    "\n",
    "# with actual polygons from the a reclassed file\n",
    "poly_dir = f'{folder_directory}/mesq_prediction/test_mesq_prediction_points/poly42/joins_and_such'\n",
    "poly_path = f'{poly_dir}/poly42_rast_to_poly.shp'\n",
    "crs = 'EPSG:6350'\n",
    "\n",
    "poly = gda.PolyToGDF(poly_path)\n",
    "poly_gdf = poly.poly_to_gdf(crs)"
   ]
  },
  {
   "cell_type": "code",
   "execution_count": 5,
   "id": "edcaf84e-82cf-42ae-bb30-13e66a92c176",
   "metadata": {
    "scrolled": true
   },
   "outputs": [
    {
     "data": {
      "text/html": [
       "\n",
       "            <style>\n",
       "                .geemap-dark {\n",
       "                    --jp-widgets-color: white;\n",
       "                    --jp-widgets-label-color: white;\n",
       "                    --jp-ui-font-color1: white;\n",
       "                    --jp-layout-color2: #454545;\n",
       "                    background-color: #383838;\n",
       "                }\n",
       "                    \n",
       "                .geemap-dark .jupyter-button {\n",
       "                    --jp-layout-color3: #383838;\n",
       "                }\n",
       "                \n",
       "                .geemap-colab {\n",
       "                    background-color: var(--colab-primary-surface-color, white);\n",
       "                }\n",
       "                    \n",
       "                .geemap-colab .jupyter-button {\n",
       "                    --jp-layout-color3: var(--colab-primary-surface-color, white);\n",
       "                }\n",
       "            </style>\n",
       "            "
      ],
      "text/plain": [
       "<IPython.core.display.HTML object>"
      ]
     },
     "metadata": {},
     "output_type": "display_data"
    },
    {
     "name": "stdout",
     "output_type": "stream",
     "text": [
      "Initial grid created with 1 cells\n",
      "Counted polygons in cells, 1 cells contain polygons\n",
      "Subdivision iteration 1\n",
      "Initial grid created with 4 cells\n",
      "Counted polygons in cells, 2 cells contain polygons\n",
      "Subdivision iteration 1\n",
      "Initial grid created with 4 cells\n",
      "Counted polygons in cells, 4 cells contain polygons\n",
      "Subdivision iteration 1\n",
      "Initial grid created with 4 cells\n",
      "Counted polygons in cells, 4 cells contain polygons\n",
      "Subdivision iteration 1\n",
      "Initial grid created with 4 cells\n",
      "Counted polygons in cells, 3 cells contain polygons\n",
      "Subdivision iteration 1\n",
      "After subdivision iteration 1, 3 cells created, max polygons in a cell: 1357\n",
      "Initial grid created with 4 cells\n",
      "Counted polygons in cells, 4 cells contain polygons\n",
      "Subdivision iteration 1\n",
      "Initial grid created with 4 cells\n",
      "Counted polygons in cells, 4 cells contain polygons\n",
      "Subdivision iteration 1\n",
      "After subdivision iteration 1, 4 cells created, max polygons in a cell: 1140\n",
      "Initial grid created with 4 cells\n",
      "Counted polygons in cells, 4 cells contain polygons\n",
      "Subdivision iteration 1\n",
      "After subdivision iteration 1, 4 cells created, max polygons in a cell: 925\n",
      "Initial grid created with 4 cells\n",
      "Counted polygons in cells, 4 cells contain polygons\n",
      "Subdivision iteration 1\n",
      "After subdivision iteration 1, 4 cells created, max polygons in a cell: 1091\n",
      "Initial grid created with 4 cells\n",
      "Counted polygons in cells, 4 cells contain polygons\n",
      "Subdivision iteration 1\n",
      "After subdivision iteration 1, 4 cells created, max polygons in a cell: 1576\n",
      "After subdivision iteration 1, 16 cells created, max polygons in a cell: 1576\n",
      "Initial grid created with 4 cells\n",
      "Counted polygons in cells, 4 cells contain polygons\n",
      "Subdivision iteration 1\n",
      "After subdivision iteration 1, 4 cells created, max polygons in a cell: 2021\n",
      "Initial grid created with 4 cells\n",
      "Counted polygons in cells, 4 cells contain polygons\n",
      "Subdivision iteration 1\n",
      "Initial grid created with 4 cells\n",
      "Counted polygons in cells, 4 cells contain polygons\n",
      "Subdivision iteration 1\n",
      "After subdivision iteration 1, 4 cells created, max polygons in a cell: 1138\n",
      "Initial grid created with 4 cells\n",
      "Counted polygons in cells, 4 cells contain polygons\n",
      "Subdivision iteration 1\n",
      "After subdivision iteration 1, 4 cells created, max polygons in a cell: 1818\n",
      "After subdivision iteration 1, 10 cells created, max polygons in a cell: 2145\n",
      "After subdivision iteration 1, 33 cells created, max polygons in a cell: 2145\n",
      "Initial grid created with 4 cells\n",
      "Counted polygons in cells, 4 cells contain polygons\n",
      "Subdivision iteration 1\n",
      "Initial grid created with 4 cells\n",
      "Counted polygons in cells, 4 cells contain polygons\n",
      "Subdivision iteration 1\n",
      "Initial grid created with 4 cells\n",
      "Counted polygons in cells, 4 cells contain polygons\n",
      "Subdivision iteration 1\n",
      "After subdivision iteration 1, 4 cells created, max polygons in a cell: 1028\n",
      "Initial grid created with 4 cells\n",
      "Counted polygons in cells, 4 cells contain polygons\n",
      "Subdivision iteration 1\n",
      "After subdivision iteration 1, 4 cells created, max polygons in a cell: 1010\n",
      "Initial grid created with 4 cells\n",
      "Counted polygons in cells, 4 cells contain polygons\n",
      "Subdivision iteration 1\n",
      "After subdivision iteration 1, 4 cells created, max polygons in a cell: 942\n",
      "After subdivision iteration 1, 13 cells created, max polygons in a cell: 1390\n",
      "Initial grid created with 4 cells\n",
      "Counted polygons in cells, 3 cells contain polygons\n",
      "Subdivision iteration 1\n",
      "Initial grid created with 4 cells\n",
      "Counted polygons in cells, 4 cells contain polygons\n",
      "Subdivision iteration 1\n",
      "After subdivision iteration 1, 4 cells created, max polygons in a cell: 981\n",
      "After subdivision iteration 1, 6 cells created, max polygons in a cell: 981\n",
      "Initial grid created with 4 cells\n",
      "Counted polygons in cells, 4 cells contain polygons\n",
      "Subdivision iteration 1\n",
      "Initial grid created with 4 cells\n",
      "Counted polygons in cells, 4 cells contain polygons\n",
      "Subdivision iteration 1\n",
      "After subdivision iteration 1, 4 cells created, max polygons in a cell: 910\n",
      "Initial grid created with 4 cells\n",
      "Counted polygons in cells, 4 cells contain polygons\n",
      "Subdivision iteration 1\n",
      "After subdivision iteration 1, 4 cells created, max polygons in a cell: 1715\n",
      "After subdivision iteration 1, 10 cells created, max polygons in a cell: 1715\n",
      "Initial grid created with 4 cells\n",
      "Counted polygons in cells, 4 cells contain polygons\n",
      "Subdivision iteration 1\n",
      "Initial grid created with 4 cells\n",
      "Counted polygons in cells, 4 cells contain polygons\n",
      "Subdivision iteration 1\n",
      "After subdivision iteration 1, 4 cells created, max polygons in a cell: 2052\n",
      "Initial grid created with 4 cells\n",
      "Counted polygons in cells, 4 cells contain polygons\n",
      "Subdivision iteration 1\n",
      "After subdivision iteration 1, 4 cells created, max polygons in a cell: 2357\n",
      "Initial grid created with 4 cells\n",
      "Counted polygons in cells, 4 cells contain polygons\n",
      "Subdivision iteration 1\n",
      "After subdivision iteration 1, 4 cells created, max polygons in a cell: 1748\n",
      "Initial grid created with 4 cells\n",
      "Counted polygons in cells, 4 cells contain polygons\n",
      "Subdivision iteration 1\n",
      "After subdivision iteration 1, 4 cells created, max polygons in a cell: 1781\n",
      "After subdivision iteration 1, 16 cells created, max polygons in a cell: 2357\n",
      "After subdivision iteration 1, 45 cells created, max polygons in a cell: 2357\n",
      "Initial grid created with 4 cells\n",
      "Counted polygons in cells, 4 cells contain polygons\n",
      "Subdivision iteration 1\n",
      "Initial grid created with 4 cells\n",
      "Counted polygons in cells, 4 cells contain polygons\n",
      "Subdivision iteration 1\n",
      "After subdivision iteration 1, 4 cells created, max polygons in a cell: 1893\n",
      "Initial grid created with 4 cells\n",
      "Counted polygons in cells, 4 cells contain polygons\n",
      "Subdivision iteration 1\n",
      "After subdivision iteration 1, 4 cells created, max polygons in a cell: 1606\n",
      "Initial grid created with 4 cells\n",
      "Counted polygons in cells, 4 cells contain polygons\n",
      "Subdivision iteration 1\n",
      "After subdivision iteration 1, 4 cells created, max polygons in a cell: 1750\n",
      "After subdivision iteration 1, 13 cells created, max polygons in a cell: 1893\n",
      "Initial grid created with 4 cells\n",
      "Counted polygons in cells, 4 cells contain polygons\n",
      "Subdivision iteration 1\n",
      "Initial grid created with 4 cells\n",
      "Counted polygons in cells, 4 cells contain polygons\n",
      "Subdivision iteration 1\n",
      "Initial grid created with 4 cells\n",
      "Counted polygons in cells, 4 cells contain polygons\n",
      "Subdivision iteration 1\n",
      "After subdivision iteration 1, 4 cells created, max polygons in a cell: 1468\n",
      "After subdivision iteration 1, 7 cells created, max polygons in a cell: 1613\n",
      "Initial grid created with 4 cells\n",
      "Counted polygons in cells, 4 cells contain polygons\n",
      "Subdivision iteration 1\n",
      "Initial grid created with 4 cells\n",
      "Counted polygons in cells, 4 cells contain polygons\n",
      "Subdivision iteration 1\n",
      "After subdivision iteration 1, 4 cells created, max polygons in a cell: 1638\n",
      "Initial grid created with 4 cells\n",
      "Counted polygons in cells, 4 cells contain polygons\n",
      "Subdivision iteration 1\n",
      "After subdivision iteration 1, 4 cells created, max polygons in a cell: 1830\n",
      "After subdivision iteration 1, 10 cells created, max polygons in a cell: 1830\n",
      "Initial grid created with 4 cells\n",
      "Counted polygons in cells, 4 cells contain polygons\n",
      "Subdivision iteration 1\n",
      "Initial grid created with 4 cells\n",
      "Counted polygons in cells, 4 cells contain polygons\n",
      "Subdivision iteration 1\n",
      "After subdivision iteration 1, 4 cells created, max polygons in a cell: 1026\n",
      "After subdivision iteration 1, 7 cells created, max polygons in a cell: 2093\n",
      "After subdivision iteration 1, 25 cells created, max polygons in a cell: 2093\n",
      "After subdivision iteration 1, 116 cells created, max polygons in a cell: 2357\n",
      "After subdivision iteration 1, 117 cells created, max polygons in a cell: 2357\n",
      "After subdivision iteration 1, 117 cells created, max polygons in a cell: 2357\n"
     ]
    }
   ],
   "source": [
    "# Calculate bounds of the points\n",
    "bounds = poly_gdf.total_bounds  # (xmin, ymin, xmax, ymax)\n",
    "\n",
    "# Define cell size\n",
    "cell_size = 20000\n",
    "\n",
    "# Initialize Fishnet with calculated bounds and specified CRS\n",
    "fishnet = gda.PolygonFishnet(bounds, cell_size, crs)\n",
    "\n",
    "# Count points in the initial fishnet cells\n",
    "fishnet.count_polygons_in_cells(poly_gdf)\n",
    "\n",
    "# Subdivide cells with high point density\n",
    "max_polygons = 2500\n",
    "fishnet.subdivide_high_density_cells(poly_gdf, max_polygons)"
   ]
  },
  {
   "cell_type": "code",
   "execution_count": 6,
   "id": "f044cfb2-c741-418f-baaa-4f02ac436992",
   "metadata": {
    "scrolled": true
   },
   "outputs": [
    {
     "data": {
      "text/html": [
       "\n",
       "            <style>\n",
       "                .geemap-dark {\n",
       "                    --jp-widgets-color: white;\n",
       "                    --jp-widgets-label-color: white;\n",
       "                    --jp-ui-font-color1: white;\n",
       "                    --jp-layout-color2: #454545;\n",
       "                    background-color: #383838;\n",
       "                }\n",
       "                    \n",
       "                .geemap-dark .jupyter-button {\n",
       "                    --jp-layout-color3: #383838;\n",
       "                }\n",
       "                \n",
       "                .geemap-colab {\n",
       "                    background-color: var(--colab-primary-surface-color, white);\n",
       "                }\n",
       "                    \n",
       "                .geemap-colab .jupyter-button {\n",
       "                    --jp-layout-color3: var(--colab-primary-surface-color, white);\n",
       "                }\n",
       "            </style>\n",
       "            "
      ],
      "text/plain": [
       "<IPython.core.display.HTML object>"
      ]
     },
     "metadata": {},
     "output_type": "display_data"
    }
   ],
   "source": [
    "# No slash needed at end of output directory\n",
    "output_folder = f\"{raster_working}/poly_subdivisions\"\n",
    "fishnet.export_polygons_in_cells(poly_gdf, output_folder)"
   ]
  },
  {
   "cell_type": "code",
   "execution_count": 7,
   "id": "b25c64dd-3962-42a4-b4a6-a63da963eb9c",
   "metadata": {},
   "outputs": [
    {
     "data": {
      "text/html": [
       "\n",
       "            <style>\n",
       "                .geemap-dark {\n",
       "                    --jp-widgets-color: white;\n",
       "                    --jp-widgets-label-color: white;\n",
       "                    --jp-ui-font-color1: white;\n",
       "                    --jp-layout-color2: #454545;\n",
       "                    background-color: #383838;\n",
       "                }\n",
       "                    \n",
       "                .geemap-dark .jupyter-button {\n",
       "                    --jp-layout-color3: #383838;\n",
       "                }\n",
       "                \n",
       "                .geemap-colab {\n",
       "                    background-color: var(--colab-primary-surface-color, white);\n",
       "                }\n",
       "                    \n",
       "                .geemap-colab .jupyter-button {\n",
       "                    --jp-layout-color3: var(--colab-primary-surface-color, white);\n",
       "                }\n",
       "            </style>\n",
       "            "
      ],
      "text/plain": [
       "<IPython.core.display.HTML object>"
      ]
     },
     "metadata": {},
     "output_type": "display_data"
    },
    {
     "data": {
      "application/vnd.jupyter.widget-view+json": {
       "model_id": "429f06d80bb44eefa2fd6b3c3b056f7d",
       "version_major": 2,
       "version_minor": 0
      },
      "text/plain": [
       "Map(center=[0, 0], controls=(WidgetControl(options=['position', 'transparent_bg'], widget=SearchDataGUI(childr…"
      ]
     },
     "execution_count": 7,
     "metadata": {},
     "output_type": "execute_result"
    }
   ],
   "source": [
    "# Create a map using geemap\n",
    "m = geemap.Map()\n",
    "m"
   ]
  },
  {
   "cell_type": "code",
   "execution_count": 8,
   "id": "565d613a-5a23-4be4-bcb6-c4506bd123eb",
   "metadata": {},
   "outputs": [
    {
     "data": {
      "text/html": [
       "\n",
       "            <style>\n",
       "                .geemap-dark {\n",
       "                    --jp-widgets-color: white;\n",
       "                    --jp-widgets-label-color: white;\n",
       "                    --jp-ui-font-color1: white;\n",
       "                    --jp-layout-color2: #454545;\n",
       "                    background-color: #383838;\n",
       "                }\n",
       "                    \n",
       "                .geemap-dark .jupyter-button {\n",
       "                    --jp-layout-color3: #383838;\n",
       "                }\n",
       "                \n",
       "                .geemap-colab {\n",
       "                    background-color: var(--colab-primary-surface-color, white);\n",
       "                }\n",
       "                    \n",
       "                .geemap-colab .jupyter-button {\n",
       "                    --jp-layout-color3: var(--colab-primary-surface-color, white);\n",
       "                }\n",
       "            </style>\n",
       "            "
      ],
      "text/plain": [
       "<IPython.core.display.HTML object>"
      ]
     },
     "metadata": {},
     "output_type": "display_data"
    }
   ],
   "source": [
    "# Add points to the map\n",
    "#points_layer = geemap.geopandas_to_ee(points_gdf)\n",
    "#m.addLayer(points_gdf, {}, 'Points')\n",
    "\n",
    "# Add fishnet to the map\n",
    "fishnet_layer = geemap.geopandas_to_ee(fishnet.grid)\n",
    "m.addLayer(fishnet_layer, {}, 'Fishnet')"
   ]
  },
  {
   "cell_type": "markdown",
   "id": "35bf9320-e67f-4443-a24c-ebcf2e15a7e9",
   "metadata": {},
   "source": [
    "### Importing CSV of bands to export"
   ]
  },
  {
   "cell_type": "code",
   "execution_count": 9,
   "id": "4511741d-46f8-4d38-bdc8-c03dabd861ce",
   "metadata": {},
   "outputs": [
    {
     "data": {
      "text/html": [
       "\n",
       "            <style>\n",
       "                .geemap-dark {\n",
       "                    --jp-widgets-color: white;\n",
       "                    --jp-widgets-label-color: white;\n",
       "                    --jp-ui-font-color1: white;\n",
       "                    --jp-layout-color2: #454545;\n",
       "                    background-color: #383838;\n",
       "                }\n",
       "                    \n",
       "                .geemap-dark .jupyter-button {\n",
       "                    --jp-layout-color3: #383838;\n",
       "                }\n",
       "                \n",
       "                .geemap-colab {\n",
       "                    background-color: var(--colab-primary-surface-color, white);\n",
       "                }\n",
       "                    \n",
       "                .geemap-colab .jupyter-button {\n",
       "                    --jp-layout-color3: var(--colab-primary-surface-color, white);\n",
       "                }\n",
       "            </style>\n",
       "            "
      ],
      "text/plain": [
       "<IPython.core.display.HTML object>"
      ]
     },
     "metadata": {},
     "output_type": "display_data"
    },
    {
     "data": {
      "text/html": [
       "<div>\n",
       "<style scoped>\n",
       "    .dataframe tbody tr th:only-of-type {\n",
       "        vertical-align: middle;\n",
       "    }\n",
       "\n",
       "    .dataframe tbody tr th {\n",
       "        vertical-align: top;\n",
       "    }\n",
       "\n",
       "    .dataframe thead th {\n",
       "        text-align: right;\n",
       "    }\n",
       "</style>\n",
       "<table border=\"1\" class=\"dataframe\">\n",
       "  <thead>\n",
       "    <tr style=\"text-align: right;\">\n",
       "      <th></th>\n",
       "      <th>collection</th>\n",
       "      <th>collection_loc</th>\n",
       "      <th>bands</th>\n",
       "      <th>band_rename</th>\n",
       "      <th>base_re</th>\n",
       "      <th>unit</th>\n",
       "      <th>resample</th>\n",
       "      <th>resample_res</th>\n",
       "    </tr>\n",
       "  </thead>\n",
       "  <tbody>\n",
       "    <tr>\n",
       "      <th>0</th>\n",
       "      <td>clay_0_5</td>\n",
       "      <td>projects/sat-io/open-datasets/polaris/clay_mea...</td>\n",
       "      <td>b1</td>\n",
       "      <td>clay_0_5</td>\n",
       "      <td>30</td>\n",
       "      <td>m</td>\n",
       "      <td>False</td>\n",
       "      <td>NaN</td>\n",
       "    </tr>\n",
       "    <tr>\n",
       "      <th>1</th>\n",
       "      <td>clay_5_15</td>\n",
       "      <td>projects/sat-io/open-datasets/polaris/clay_mea...</td>\n",
       "      <td>b1</td>\n",
       "      <td>clay_5_15</td>\n",
       "      <td>30</td>\n",
       "      <td>m</td>\n",
       "      <td>False</td>\n",
       "      <td>NaN</td>\n",
       "    </tr>\n",
       "    <tr>\n",
       "      <th>2</th>\n",
       "      <td>clay_15_30</td>\n",
       "      <td>projects/sat-io/open-datasets/polaris/clay_mea...</td>\n",
       "      <td>b1</td>\n",
       "      <td>clay_15_30</td>\n",
       "      <td>30</td>\n",
       "      <td>m</td>\n",
       "      <td>False</td>\n",
       "      <td>NaN</td>\n",
       "    </tr>\n",
       "    <tr>\n",
       "      <th>3</th>\n",
       "      <td>clay_30_60</td>\n",
       "      <td>projects/sat-io/open-datasets/polaris/clay_mea...</td>\n",
       "      <td>b1</td>\n",
       "      <td>clay_30_60</td>\n",
       "      <td>30</td>\n",
       "      <td>m</td>\n",
       "      <td>False</td>\n",
       "      <td>NaN</td>\n",
       "    </tr>\n",
       "    <tr>\n",
       "      <th>4</th>\n",
       "      <td>clay_60_100</td>\n",
       "      <td>projects/sat-io/open-datasets/polaris/clay_mea...</td>\n",
       "      <td>b1</td>\n",
       "      <td>clay_60_100</td>\n",
       "      <td>30</td>\n",
       "      <td>m</td>\n",
       "      <td>False</td>\n",
       "      <td>NaN</td>\n",
       "    </tr>\n",
       "  </tbody>\n",
       "</table>\n",
       "</div>"
      ],
      "text/plain": [
       "    collection                                     collection_loc bands  \\\n",
       "0     clay_0_5  projects/sat-io/open-datasets/polaris/clay_mea...    b1   \n",
       "1    clay_5_15  projects/sat-io/open-datasets/polaris/clay_mea...    b1   \n",
       "2   clay_15_30  projects/sat-io/open-datasets/polaris/clay_mea...    b1   \n",
       "3   clay_30_60  projects/sat-io/open-datasets/polaris/clay_mea...    b1   \n",
       "4  clay_60_100  projects/sat-io/open-datasets/polaris/clay_mea...    b1   \n",
       "\n",
       "   band_rename  base_re unit  resample  resample_res  \n",
       "0     clay_0_5       30    m     False           NaN  \n",
       "1    clay_5_15       30    m     False           NaN  \n",
       "2   clay_15_30       30    m     False           NaN  \n",
       "3   clay_30_60       30    m     False           NaN  \n",
       "4  clay_60_100       30    m     False           NaN  "
      ]
     },
     "execution_count": 9,
     "metadata": {},
     "output_type": "execute_result"
    }
   ],
   "source": [
    "bands_csv_name = 'images_and_bands.csv'\n",
    "images_and_bands = pd.read_csv(f'{folder_directory}/mesq_prediction/test_mesq_prediction_points/{bands_csv_name}')\n",
    "images_and_bands.head()"
   ]
  },
  {
   "cell_type": "markdown",
   "id": "bbd9e0e5-46f1-448b-a5e2-93034ae2423c",
   "metadata": {},
   "source": [
    "### Prepping other bands to download"
   ]
  },
  {
   "cell_type": "code",
   "execution_count": 10,
   "id": "bf94d5bf-6b38-4fc6-9421-c30ec754793d",
   "metadata": {},
   "outputs": [
    {
     "data": {
      "text/html": [
       "\n",
       "            <style>\n",
       "                .geemap-dark {\n",
       "                    --jp-widgets-color: white;\n",
       "                    --jp-widgets-label-color: white;\n",
       "                    --jp-ui-font-color1: white;\n",
       "                    --jp-layout-color2: #454545;\n",
       "                    background-color: #383838;\n",
       "                }\n",
       "                    \n",
       "                .geemap-dark .jupyter-button {\n",
       "                    --jp-layout-color3: #383838;\n",
       "                }\n",
       "                \n",
       "                .geemap-colab {\n",
       "                    background-color: var(--colab-primary-surface-color, white);\n",
       "                }\n",
       "                    \n",
       "                .geemap-colab .jupyter-button {\n",
       "                    --jp-layout-color3: var(--colab-primary-surface-color, white);\n",
       "                }\n",
       "            </style>\n",
       "            "
      ],
      "text/plain": [
       "<IPython.core.display.HTML object>"
      ]
     },
     "metadata": {},
     "output_type": "display_data"
    }
   ],
   "source": [
    "#shrubs_states = ['california', 'kansas', 'new_mexico', 'nevada', 'texas']\n",
    "#sts_abbvs = ['CA', 'KS', 'NM', 'NV', 'TX']\n",
    "sts_abbrv = ['TX', 'NM']"
   ]
  },
  {
   "cell_type": "code",
   "execution_count": 11,
   "id": "470fd723-df63-4fc7-b7cc-9317f796ac72",
   "metadata": {},
   "outputs": [
    {
     "data": {
      "text/html": [
       "\n",
       "            <style>\n",
       "                .geemap-dark {\n",
       "                    --jp-widgets-color: white;\n",
       "                    --jp-widgets-label-color: white;\n",
       "                    --jp-ui-font-color1: white;\n",
       "                    --jp-layout-color2: #454545;\n",
       "                    background-color: #383838;\n",
       "                }\n",
       "                    \n",
       "                .geemap-dark .jupyter-button {\n",
       "                    --jp-layout-color3: #383838;\n",
       "                }\n",
       "                \n",
       "                .geemap-colab {\n",
       "                    background-color: var(--colab-primary-surface-color, white);\n",
       "                }\n",
       "                    \n",
       "                .geemap-colab .jupyter-button {\n",
       "                    --jp-layout-color3: var(--colab-primary-surface-color, white);\n",
       "                }\n",
       "            </style>\n",
       "            "
      ],
      "text/plain": [
       "<IPython.core.display.HTML object>"
      ]
     },
     "metadata": {},
     "output_type": "display_data"
    },
    {
     "name": "stdout",
     "output_type": "stream",
     "text": [
      "[<ee.image.Image object at 0x000002DC036D9580>, <ee.image.Image object at 0x000002DC03683230>, <ee.image.Image object at 0x000002DC09E0ADB0>, <ee.image.Image object at 0x000002DC09E0AB10>]\n"
     ]
    }
   ],
   "source": [
    "other_bands = []\n",
    "\n",
    "elevation = ee.Image('USGS/3DEP/10m').select(['elevation'])\n",
    "other_bands.append(elevation)\n",
    "slope = ee.Terrain.slope(elevation).select(['slope']).rename(['slope'])\n",
    "other_bands.append(slope)\n",
    "aspect = ee.Terrain.aspect(elevation).select(['aspect']).rename(['aspect'])\n",
    "other_bands.append(aspect)\n",
    "\n",
    "nhd_area_tx = ee.FeatureCollection(f\"projects/sat-io/open-datasets/NHD/NHD_{sts_abbrv[0]}/NHDArea\")\n",
    "nhd_flowline_tx = ee.FeatureCollection(f\"projects/sat-io/open-datasets/NHD/NHD_{sts_abbrv[0]}/NHDFlowline\")\n",
    "nhd_tx = nhd_area_tx.merge(nhd_flowline_tx)\n",
    "nhd_area_nm = ee.FeatureCollection(f\"projects/sat-io/open-datasets/NHD/NHD_{sts_abbrv[1]}/NHDArea\")\n",
    "nhd_flowline_nm = ee.FeatureCollection(f\"projects/sat-io/open-datasets/NHD/NHD_{sts_abbrv[1]}/NHDFlowline\")\n",
    "nhd_nm = nhd_area_nm.merge(nhd_flowline_nm)\n",
    "nhd = nhd_tx.merge(nhd_nm)\n",
    "dist_nhd = nhd.distance(searchRadius=10000, maxError=50) #originally searchRadius = 50000\n",
    "#dist_nhd = dist_nhd.clip(ee_items[num]) #change clip area\n",
    "dist_nhd = dist_nhd.select(['distance'])\n",
    "dist_nhd = dist_nhd.rename('dist_drain')\n",
    "other_bands.append(dist_nhd)\n",
    "\n",
    "#roads = ee.FeatureCollection('TIGER/2016/Roads')\n",
    "#dist_roads = roads.distance(searchRadius=50000, maxError=50)\n",
    "#dist_roads = dist_roads.select(['distance'])\n",
    "#dist_roads = dist_roads.rename('dist_road')\n",
    "#other_bands.append(dist_roads)\n",
    "\n",
    "print(other_bands)"
   ]
  },
  {
   "cell_type": "code",
   "execution_count": 12,
   "id": "dd952141-293a-4238-aa96-d1553b5cbb6d",
   "metadata": {},
   "outputs": [
    {
     "data": {
      "text/html": [
       "\n",
       "            <style>\n",
       "                .geemap-dark {\n",
       "                    --jp-widgets-color: white;\n",
       "                    --jp-widgets-label-color: white;\n",
       "                    --jp-ui-font-color1: white;\n",
       "                    --jp-layout-color2: #454545;\n",
       "                    background-color: #383838;\n",
       "                }\n",
       "                    \n",
       "                .geemap-dark .jupyter-button {\n",
       "                    --jp-layout-color3: #383838;\n",
       "                }\n",
       "                \n",
       "                .geemap-colab {\n",
       "                    background-color: var(--colab-primary-surface-color, white);\n",
       "                }\n",
       "                    \n",
       "                .geemap-colab .jupyter-button {\n",
       "                    --jp-layout-color3: var(--colab-primary-surface-color, white);\n",
       "                }\n",
       "            </style>\n",
       "            "
      ],
      "text/plain": [
       "<IPython.core.display.HTML object>"
      ]
     },
     "metadata": {},
     "output_type": "display_data"
    },
    {
     "name": "stdout",
     "output_type": "stream",
     "text": [
      "['clay_0_5', 'clay_5_15', 'clay_15_30', 'clay_30_60', 'clay_60_100', 'clay_100_200', 'sand_0_5', 'sand_5_15', 'sand_15_30', 'sand_30_60', 'sand_60_100', 'sand_100_200', 'silt_0_5', 'silt_5_15', 'silt_15_30', 'silt_30_60', 'silt_60_100', 'silt_100_200', 'bd_0_5', 'bd_5_15', 'bd_15_30', 'bd_30_60', 'bd_60_100', 'bd_100_200', 'om_0_5', 'om_5_15', 'om_15_30', 'om_30_60', 'om_60_100', 'om_100_200', 'ph_0_5', 'ph_5_15', 'ph_15_30', 'ph_30_60', 'ph_60_100', 'ph_100_200', 'ksat_0_5', 'ksat_5_15', 'ksat_15_30', 'ksat_30_60', 'ksat_60_100', 'ksat_100_200', 'theta_r_0_5', 'theta_r_5_15', 'theta_r_15_30', 'theta_r_30_60', 'theta_r_60_100', 'theta_r_100_200', 'theta_s_0_5', 'theta_s_5_15', 'theta_s_15_30', 'theta_s_30_60', 'theta_s_60_100', 'theta_s_100_200', 'caco3', 'cec', 'ec', 'sar', 'kw_025', 'resdept', 'soil_depth', 'wind_erodibility', 'rf_025', 'water_storage', 'ann_rain', 'temp_range', 'elevation', 'slope', 'aspect', 'dist_drain']\n"
     ]
    }
   ],
   "source": [
    "image_stack_builder = gda.ImageStackBuilder(images_and_bands)\n",
    "image_stack = image_stack_builder.build_image_stack(other_bands)\n",
    "print(image_stack.bandNames().getInfo())"
   ]
  },
  {
   "cell_type": "markdown",
   "id": "20ebba5b-3bc0-4e7b-a30b-0a6f2f89629a",
   "metadata": {},
   "source": [
    "### Testing exporting imagery"
   ]
  },
  {
   "cell_type": "code",
   "execution_count": 22,
   "id": "dc22114d-092e-4a64-89f6-d38a1ba7f173",
   "metadata": {},
   "outputs": [
    {
     "data": {
      "text/html": [
       "\n",
       "            <style>\n",
       "                .geemap-dark {\n",
       "                    --jp-widgets-color: white;\n",
       "                    --jp-widgets-label-color: white;\n",
       "                    --jp-ui-font-color1: white;\n",
       "                    --jp-layout-color2: #454545;\n",
       "                    background-color: #383838;\n",
       "                }\n",
       "                    \n",
       "                .geemap-dark .jupyter-button {\n",
       "                    --jp-layout-color3: #383838;\n",
       "                }\n",
       "                \n",
       "                .geemap-colab {\n",
       "                    background-color: var(--colab-primary-surface-color, white);\n",
       "                }\n",
       "                    \n",
       "                .geemap-colab .jupyter-button {\n",
       "                    --jp-layout-color3: var(--colab-primary-surface-color, white);\n",
       "                }\n",
       "            </style>\n",
       "            "
      ],
      "text/plain": [
       "<IPython.core.display.HTML object>"
      ]
     },
     "metadata": {},
     "output_type": "display_data"
    }
   ],
   "source": [
    "# Modify this so that it can clip and export each part of the image stack.\n",
    "\n",
    "\n"
   ]
  },
  {
   "cell_type": "code",
   "execution_count": 13,
   "id": "deedf903-d23f-42d5-bbbb-ab70118ba2dd",
   "metadata": {},
   "outputs": [
    {
     "data": {
      "text/html": [
       "\n",
       "            <style>\n",
       "                .geemap-dark {\n",
       "                    --jp-widgets-color: white;\n",
       "                    --jp-widgets-label-color: white;\n",
       "                    --jp-ui-font-color1: white;\n",
       "                    --jp-layout-color2: #454545;\n",
       "                    background-color: #383838;\n",
       "                }\n",
       "                    \n",
       "                .geemap-dark .jupyter-button {\n",
       "                    --jp-layout-color3: #383838;\n",
       "                }\n",
       "                \n",
       "                .geemap-colab {\n",
       "                    background-color: var(--colab-primary-surface-color, white);\n",
       "                }\n",
       "                    \n",
       "                .geemap-colab .jupyter-button {\n",
       "                    --jp-layout-color3: var(--colab-primary-surface-color, white);\n",
       "                }\n",
       "            </style>\n",
       "            "
      ],
      "text/plain": [
       "<IPython.core.display.HTML object>"
      ]
     },
     "metadata": {},
     "output_type": "display_data"
    }
   ],
   "source": [
    "# no slash needed at end of directory\n",
    "shp_dir = f'{raster_working}/poly_subdivisions'"
   ]
  },
  {
   "cell_type": "code",
   "execution_count": 14,
   "id": "5ee3d1be-4a03-4966-8888-a7155885dbee",
   "metadata": {
    "scrolled": true
   },
   "outputs": [
    {
     "data": {
      "text/html": [
       "\n",
       "            <style>\n",
       "                .geemap-dark {\n",
       "                    --jp-widgets-color: white;\n",
       "                    --jp-widgets-label-color: white;\n",
       "                    --jp-ui-font-color1: white;\n",
       "                    --jp-layout-color2: #454545;\n",
       "                    background-color: #383838;\n",
       "                }\n",
       "                    \n",
       "                .geemap-dark .jupyter-button {\n",
       "                    --jp-layout-color3: #383838;\n",
       "                }\n",
       "                \n",
       "                .geemap-colab {\n",
       "                    background-color: var(--colab-primary-surface-color, white);\n",
       "                }\n",
       "                    \n",
       "                .geemap-colab .jupyter-button {\n",
       "                    --jp-layout-color3: var(--colab-primary-surface-color, white);\n",
       "                }\n",
       "            </style>\n",
       "            "
      ],
      "text/plain": [
       "<IPython.core.display.HTML object>"
      ]
     },
     "metadata": {},
     "output_type": "display_data"
    },
    {
     "name": "stdout",
     "output_type": "stream",
     "text": [
      "Downloading data for 117 files\n",
      "Generating URL ...\n",
      "Downloading data from https://earthengine.googleapis.com/v1/projects/earthengine-legacy/thumbnails/024c96d49cb3bdc99b7d5b7c18dfd139-3242ec4cd093bc4919929bc76cf906a5:getPixels\n",
      "Please wait ...\n",
      "Data downloaded to D:\\!!Research\\!!!Data\\ArcGIS_Projects\\buffers_tifs\\raster_processing_tests\\env_imagery\\cell_0_env_image.tif\n",
      "Export task started for cell_0.shp.\n",
      "Generating URL ...\n",
      "Downloading data from https://earthengine.googleapis.com/v1/projects/earthengine-legacy/thumbnails/4fed413f5fed99dbe81ac884e1706fa3-942489b380e9235700a20ffa66da56f3:getPixels\n",
      "Please wait ...\n",
      "Data downloaded to D:\\!!Research\\!!!Data\\ArcGIS_Projects\\buffers_tifs\\raster_processing_tests\\env_imagery\\cell_1_env_image.tif\n",
      "Export task started for cell_1.shp.\n",
      "Generating URL ...\n",
      "Downloading data from https://earthengine.googleapis.com/v1/projects/earthengine-legacy/thumbnails/8a8c1829615cf6a7571c225d0c295a25-f7958e44b362e1b5999884407a9f6584:getPixels\n",
      "Please wait ...\n",
      "Data downloaded to D:\\!!Research\\!!!Data\\ArcGIS_Projects\\buffers_tifs\\raster_processing_tests\\env_imagery\\cell_2_env_image.tif\n",
      "Export task started for cell_10.shp.\n",
      "Generating URL ...\n",
      "Downloading data from https://earthengine.googleapis.com/v1/projects/earthengine-legacy/thumbnails/09314b0e1acc334f982ec890d5f679a6-0dfb317df91a1e846fb9823f9b5233bb:getPixels\n",
      "Please wait ...\n",
      "Data downloaded to D:\\!!Research\\!!!Data\\ArcGIS_Projects\\buffers_tifs\\raster_processing_tests\\env_imagery\\cell_3_env_image.tif\n",
      "Export task started for cell_100.shp.\n",
      "Generating URL ...\n",
      "Downloading data from https://earthengine.googleapis.com/v1/projects/earthengine-legacy/thumbnails/00b5ec00117842afe18e2227a4e19981-4f477aa5d1bb3462b833c6140bfefec2:getPixels\n",
      "Please wait ...\n",
      "Data downloaded to D:\\!!Research\\!!!Data\\ArcGIS_Projects\\buffers_tifs\\raster_processing_tests\\env_imagery\\cell_4_env_image.tif\n",
      "Export task started for cell_101.shp.\n",
      "Generating URL ...\n",
      "Downloading data from https://earthengine.googleapis.com/v1/projects/earthengine-legacy/thumbnails/e8bf85791d62ec9fa99f5881448adcc8-8c8eade317560000f7d24f049fdd1806:getPixels\n",
      "Please wait ...\n",
      "Data downloaded to D:\\!!Research\\!!!Data\\ArcGIS_Projects\\buffers_tifs\\raster_processing_tests\\env_imagery\\cell_5_env_image.tif\n",
      "Export task started for cell_102.shp.\n",
      "Generating URL ...\n",
      "Downloading data from https://earthengine.googleapis.com/v1/projects/earthengine-legacy/thumbnails/33e5c8c671ff60429a23fc36ae4ab77c-9fd1530ae77161394e5917ef81a6f71e:getPixels\n",
      "Please wait ...\n",
      "Data downloaded to D:\\!!Research\\!!!Data\\ArcGIS_Projects\\buffers_tifs\\raster_processing_tests\\env_imagery\\cell_6_env_image.tif\n",
      "Export task started for cell_103.shp.\n",
      "Generating URL ...\n",
      "Downloading data from https://earthengine.googleapis.com/v1/projects/earthengine-legacy/thumbnails/04ac9d08cafb5ce64dd4fc0e9bb3b929-ec2065f5426fdfc408fb4d0c867481d1:getPixels\n",
      "Please wait ...\n",
      "Data downloaded to D:\\!!Research\\!!!Data\\ArcGIS_Projects\\buffers_tifs\\raster_processing_tests\\env_imagery\\cell_7_env_image.tif\n",
      "Export task started for cell_104.shp.\n",
      "Generating URL ...\n",
      "Downloading data from https://earthengine.googleapis.com/v1/projects/earthengine-legacy/thumbnails/b4a29a95afa293c9e91603634eaa32c2-f2399566b556649a14ae0e89c4ba0069:getPixels\n",
      "Please wait ...\n",
      "Data downloaded to D:\\!!Research\\!!!Data\\ArcGIS_Projects\\buffers_tifs\\raster_processing_tests\\env_imagery\\cell_8_env_image.tif\n",
      "Export task started for cell_105.shp.\n",
      "Generating URL ...\n",
      "Downloading data from https://earthengine.googleapis.com/v1/projects/earthengine-legacy/thumbnails/921472d27b47a60de91642b58826160d-41a07a0f56e1563ddd0e05232711b55f:getPixels\n",
      "Please wait ...\n",
      "Data downloaded to D:\\!!Research\\!!!Data\\ArcGIS_Projects\\buffers_tifs\\raster_processing_tests\\env_imagery\\cell_9_env_image.tif\n",
      "Export task started for cell_106.shp.\n",
      "Generating URL ...\n",
      "Downloading data from https://earthengine.googleapis.com/v1/projects/earthengine-legacy/thumbnails/ac874cc22a208ac8563e17fb5495df98-1fa8485324d255d05e43e279fb47ae81:getPixels\n",
      "Please wait ...\n",
      "Data downloaded to D:\\!!Research\\!!!Data\\ArcGIS_Projects\\buffers_tifs\\raster_processing_tests\\env_imagery\\cell_10_env_image.tif\n",
      "Export task started for cell_107.shp.\n",
      "Generating URL ...\n",
      "Downloading data from https://earthengine.googleapis.com/v1/projects/earthengine-legacy/thumbnails/a09bcdb2274186457d45b5b522c3a84a-f0c5a184b800db3c47f5d764bd2f19f4:getPixels\n",
      "Please wait ...\n",
      "Data downloaded to D:\\!!Research\\!!!Data\\ArcGIS_Projects\\buffers_tifs\\raster_processing_tests\\env_imagery\\cell_11_env_image.tif\n",
      "Export task started for cell_108.shp.\n",
      "Generating URL ...\n",
      "Downloading data from https://earthengine.googleapis.com/v1/projects/earthengine-legacy/thumbnails/bd2a07b31f62f9e932b359f3d4471a19-245f29ec58994a062075813e666656d0:getPixels\n",
      "Please wait ...\n",
      "Data downloaded to D:\\!!Research\\!!!Data\\ArcGIS_Projects\\buffers_tifs\\raster_processing_tests\\env_imagery\\cell_12_env_image.tif\n",
      "Export task started for cell_109.shp.\n",
      "Generating URL ...\n",
      "Downloading data from https://earthengine.googleapis.com/v1/projects/earthengine-legacy/thumbnails/48ab9b6304ec68708821940b74705712-d2d19f32016d3f7214d154f3504d8c1b:getPixels\n",
      "Please wait ...\n",
      "Data downloaded to D:\\!!Research\\!!!Data\\ArcGIS_Projects\\buffers_tifs\\raster_processing_tests\\env_imagery\\cell_13_env_image.tif\n",
      "Export task started for cell_11.shp.\n",
      "Generating URL ...\n",
      "Downloading data from https://earthengine.googleapis.com/v1/projects/earthengine-legacy/thumbnails/3dc5e3d5b06ebb64b56e7d9f251968aa-520be506fedf651b24b6c16d0057f5c8:getPixels\n",
      "Please wait ...\n",
      "Data downloaded to D:\\!!Research\\!!!Data\\ArcGIS_Projects\\buffers_tifs\\raster_processing_tests\\env_imagery\\cell_14_env_image.tif\n",
      "Export task started for cell_110.shp.\n"
     ]
    },
    {
     "ename": "KeyboardInterrupt",
     "evalue": "",
     "output_type": "error",
     "traceback": [
      "\u001b[1;31m---------------------------------------------------------------------------\u001b[0m",
      "\u001b[1;31mKeyboardInterrupt\u001b[0m                         Traceback (most recent call last)",
      "Cell \u001b[1;32mIn[14], line 10\u001b[0m\n\u001b[0;32m      7\u001b[0m \u001b[38;5;66;03m# needs the overarching directory, the folder to put the data into, the stack of images to download, and\u001b[39;00m\n\u001b[0;32m      8\u001b[0m \u001b[38;5;66;03m# the folder containing the polygon shapefiles\u001b[39;00m\n\u001b[0;32m      9\u001b[0m shp_data \u001b[38;5;241m=\u001b[39m gda\u001b[38;5;241m.\u001b[39mImageryDownload(raster_working, data_folder, image_stack, shp_dir)\n\u001b[1;32m---> 10\u001b[0m \u001b[43mshp_data\u001b[49m\u001b[38;5;241;43m.\u001b[39;49m\u001b[43mprocess_shp_files\u001b[49m\u001b[43m(\u001b[49m\u001b[43m)\u001b[49m\n",
      "File \u001b[1;32mD:\\!!Research\\!!!Data\\Scripts_to_test_before_github\\GEE_LPC\\python_scripts\\env_data_acq\\gee_data_acq_improvements\\gee_data_acq_cc.py:368\u001b[0m, in \u001b[0;36mImageryDownload.process_shp_files\u001b[1;34m(self)\u001b[0m\n\u001b[0;32m    366\u001b[0m     geemap\u001b[38;5;241m.\u001b[39mee_export_image(\u001b[38;5;28mself\u001b[39m\u001b[38;5;241m.\u001b[39mimage_stack, image_path, scale \u001b[38;5;241m=\u001b[39m \u001b[38;5;241m30\u001b[39m, region \u001b[38;5;241m=\u001b[39m feature)\n\u001b[0;32m    367\u001b[0m     \u001b[38;5;28mprint\u001b[39m(\u001b[38;5;124mf\u001b[39m\u001b[38;5;124m'\u001b[39m\u001b[38;5;124mExport task started for \u001b[39m\u001b[38;5;132;01m{\u001b[39;00mshp_file\u001b[38;5;132;01m}\u001b[39;00m\u001b[38;5;124m.\u001b[39m\u001b[38;5;124m'\u001b[39m)\n\u001b[1;32m--> 368\u001b[0m     \u001b[43mtime\u001b[49m\u001b[38;5;241;43m.\u001b[39;49m\u001b[43msleep\u001b[49m\u001b[43m(\u001b[49m\u001b[38;5;241;43m15\u001b[39;49m\u001b[43m)\u001b[49m\n\u001b[0;32m    369\u001b[0m \u001b[38;5;28;01melse\u001b[39;00m:\n\u001b[0;32m    370\u001b[0m     \u001b[38;5;28mprint\u001b[39m(\u001b[38;5;124m\"\u001b[39m\u001b[38;5;124mskipping gcs file\u001b[39m\u001b[38;5;124m\"\u001b[39m)\n",
      "\u001b[1;31mKeyboardInterrupt\u001b[0m: "
     ]
    }
   ],
   "source": [
    "#shp_dir = f'{folder_directory}shp_file'\n",
    "# Don't need to repeate the folder directory in an fstring, just need to tack on the\n",
    "# additional directories that lead to the folder you want to store the data in.\n",
    "# e.g. 'test_mesq_prediction_points/acc_points_env_data/env_data_no_ls'\n",
    "data_folder = 'env_imagery'\n",
    "\n",
    "# needs the overarching directory, the folder to put the data into, the stack of images to download, and\n",
    "# the folder containing the polygon shapefiles\n",
    "shp_data = gda.ImageryDownload(raster_working, data_folder, image_stack, shp_dir)\n",
    "shp_data.process_shp_files()"
   ]
  }
 ],
 "metadata": {
  "kernelspec": {
   "display_name": "Python 3 (ipykernel)",
   "language": "python",
   "name": "python3"
  },
  "language_info": {
   "codemirror_mode": {
    "name": "ipython",
    "version": 3
   },
   "file_extension": ".py",
   "mimetype": "text/x-python",
   "name": "python",
   "nbconvert_exporter": "python",
   "pygments_lexer": "ipython3",
   "version": "3.12.1"
  }
 },
 "nbformat": 4,
 "nbformat_minor": 5
}
