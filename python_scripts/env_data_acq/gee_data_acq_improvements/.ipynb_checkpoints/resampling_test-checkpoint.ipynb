{
 "cells": [
  {
   "cell_type": "code",
   "execution_count": 24,
   "id": "cf3ca0be-bef4-438e-8e75-0fbf906e5d59",
   "metadata": {},
   "outputs": [],
   "source": [
    "from osgeo import gdal, ogr, osr\n",
    "import fiona\n",
    "import os\n",
    "from time import sleep"
   ]
  },
  {
   "cell_type": "code",
   "execution_count": 25,
   "id": "0d44258a-6027-4930-bc6f-3798a7a93db1",
   "metadata": {},
   "outputs": [],
   "source": [
    "folder_directory = 'D:/!!Research/!!!Data/ArcGIS_Projects'\n",
    "raster_working = f'{folder_directory}/buffers_tifs/raster_processing_tests'"
   ]
  },
  {
   "cell_type": "code",
   "execution_count": 26,
   "id": "db40bb9e-5221-4bd9-91cf-7e6034936d74",
   "metadata": {},
   "outputs": [
    {
     "name": "stdout",
     "output_type": "stream",
     "text": [
      "Resampling complete. Output written to D:/!!Research/!!!Data/ArcGIS_Projects/buffers_tifs/raster_processing_tests/resampled_imagery/resampled0.tif\n",
      "Resampling complete. Output written to D:/!!Research/!!!Data/ArcGIS_Projects/buffers_tifs/raster_processing_tests/resampled_imagery/resampled1.tif\n",
      "Resampling complete. Output written to D:/!!Research/!!!Data/ArcGIS_Projects/buffers_tifs/raster_processing_tests/resampled_imagery/resampled2.tif\n"
     ]
    },
    {
     "ename": "KeyboardInterrupt",
     "evalue": "",
     "output_type": "error",
     "traceback": [
      "\u001b[1;31m---------------------------------------------------------------------------\u001b[0m",
      "\u001b[1;31mKeyboardInterrupt\u001b[0m                         Traceback (most recent call last)",
      "Cell \u001b[1;32mIn[26], line 18\u001b[0m\n\u001b[0;32m     15\u001b[0m \u001b[38;5;66;03m#resample_alg = 'cubic'\u001b[39;00m\n\u001b[0;32m     16\u001b[0m resample_alg \u001b[38;5;241m=\u001b[39m \u001b[38;5;124m'\u001b[39m\u001b[38;5;124mbilinear\u001b[39m\u001b[38;5;124m'\u001b[39m\n\u001b[1;32m---> 18\u001b[0m ds \u001b[38;5;241m=\u001b[39m \u001b[43mgdal\u001b[49m\u001b[38;5;241;43m.\u001b[39;49m\u001b[43mWarp\u001b[49m\u001b[43m(\u001b[49m\u001b[43moutput_file\u001b[49m\u001b[43m,\u001b[49m\u001b[43m \u001b[49m\u001b[43minput_file\u001b[49m\u001b[43m,\u001b[49m\u001b[43m \u001b[49m\u001b[43mxRes\u001b[49m\u001b[38;5;241;43m=\u001b[39;49m\u001b[43mxres\u001b[49m\u001b[43m,\u001b[49m\u001b[43m \u001b[49m\u001b[43myRes\u001b[49m\u001b[38;5;241;43m=\u001b[39;49m\u001b[43myres\u001b[49m\u001b[43m,\u001b[49m\u001b[43m \u001b[49m\u001b[43mresampleAlg\u001b[49m\u001b[38;5;241;43m=\u001b[39;49m\u001b[43mresample_alg\u001b[49m\u001b[43m)\u001b[49m\n\u001b[0;32m     19\u001b[0m ds \u001b[38;5;241m=\u001b[39m \u001b[38;5;28;01mNone\u001b[39;00m\n\u001b[0;32m     21\u001b[0m \u001b[38;5;28mprint\u001b[39m(\u001b[38;5;124m\"\u001b[39m\u001b[38;5;124mResampling complete. Output written to\u001b[39m\u001b[38;5;124m\"\u001b[39m, output_file)\n",
      "File \u001b[1;32m~\\miniconda3\\envs\\gee_env\\Lib\\site-packages\\osgeo\\gdal.py:1154\u001b[0m, in \u001b[0;36mWarp\u001b[1;34m(destNameOrDestDS, srcDSOrSrcDSTab, **kwargs)\u001b[0m\n\u001b[0;32m   1151\u001b[0m     srcDSTab \u001b[38;5;241m=\u001b[39m [srcDSOrSrcDSTab]\n\u001b[0;32m   1153\u001b[0m \u001b[38;5;28;01mif\u001b[39;00m \u001b[38;5;28misinstance\u001b[39m(destNameOrDestDS, (\u001b[38;5;28mstr\u001b[39m, os\u001b[38;5;241m.\u001b[39mPathLike)):\n\u001b[1;32m-> 1154\u001b[0m     \u001b[38;5;28;01mreturn\u001b[39;00m \u001b[43mwrapper_GDALWarpDestName\u001b[49m\u001b[43m(\u001b[49m\u001b[43mdestNameOrDestDS\u001b[49m\u001b[43m,\u001b[49m\u001b[43m \u001b[49m\u001b[43msrcDSTab\u001b[49m\u001b[43m,\u001b[49m\u001b[43m \u001b[49m\u001b[43mopts\u001b[49m\u001b[43m,\u001b[49m\u001b[43m \u001b[49m\u001b[43mcallback\u001b[49m\u001b[43m,\u001b[49m\u001b[43m \u001b[49m\u001b[43mcallback_data\u001b[49m\u001b[43m)\u001b[49m\n\u001b[0;32m   1155\u001b[0m \u001b[38;5;28;01melse\u001b[39;00m:\n\u001b[0;32m   1156\u001b[0m     \u001b[38;5;28;01mreturn\u001b[39;00m wrapper_GDALWarpDestDS(destNameOrDestDS, srcDSTab, opts, callback, callback_data)\n",
      "File \u001b[1;32m~\\miniconda3\\envs\\gee_env\\Lib\\site-packages\\osgeo\\gdal.py:8999\u001b[0m, in \u001b[0;36mwrapper_GDALWarpDestName\u001b[1;34m(*args)\u001b[0m\n\u001b[0;32m   8997\u001b[0m \u001b[38;5;28;01mdef\u001b[39;00m \u001b[38;5;21mwrapper_GDALWarpDestName\u001b[39m(\u001b[38;5;241m*\u001b[39margs):\n\u001b[0;32m   8998\u001b[0m \u001b[38;5;250m    \u001b[39m\u001b[38;5;124mr\u001b[39m\u001b[38;5;124;03m\"\"\"wrapper_GDALWarpDestName(char const * dest, int object_list_count, GDALWarpAppOptions warpAppOptions, GDALProgressFunc callback=0, void * callback_data=None) -> Dataset\"\"\"\u001b[39;00m\n\u001b[1;32m-> 8999\u001b[0m     \u001b[38;5;28;01mreturn\u001b[39;00m \u001b[43m_gdal\u001b[49m\u001b[38;5;241;43m.\u001b[39;49m\u001b[43mwrapper_GDALWarpDestName\u001b[49m\u001b[43m(\u001b[49m\u001b[38;5;241;43m*\u001b[39;49m\u001b[43margs\u001b[49m\u001b[43m)\u001b[49m\n",
      "\u001b[1;31mKeyboardInterrupt\u001b[0m: "
     ]
    }
   ],
   "source": [
    "# Input and output file paths\n",
    "env_image_dir = f'{raster_working}/env_imagery/'\n",
    "\n",
    "env_image_files = [os.path.join(env_image_dir, f) for f in os.listdir(env_image_dir) if f.endswith('.tif')]\n",
    "num = -1\n",
    "\n",
    "#num += 1\n",
    "#output_file = f'{raster_working}/resampled_imagery/resampled{num}.tif'\n",
    "\n",
    "for input_file in env_image_files:\n",
    "    num += 1\n",
    "    output_file = f'{raster_working}/resampled_imagery/resampled{num}.tif'\n",
    "    xres=1\n",
    "    yres=1\n",
    "    #resample_alg = 'cubic'\n",
    "    resample_alg = 'bilinear'\n",
    "    \n",
    "    ds = gdal.Warp(output_file, input_file, xRes=xres, yRes=yres, resampleAlg=resample_alg)\n",
    "    ds = None\n",
    "    \n",
    "    print(\"Resampling complete. Output written to\", output_file)"
   ]
  },
  {
   "cell_type": "markdown",
   "id": "7dd08df4-0f0d-4fb7-8117-76ed44b4d09b",
   "metadata": {},
   "source": [
    "Masking raster with shapefiles"
   ]
  },
  {
   "cell_type": "code",
   "execution_count": null,
   "id": "35dccfd2-67e2-462c-8246-d52dd55eb88b",
   "metadata": {},
   "outputs": [],
   "source": [
    "from osgeo import gdal, ogr, gdalconst\n",
    "import numpy as np"
   ]
  },
  {
   "cell_type": "code",
   "execution_count": null,
   "id": "fb9b4952-e5d9-4c7b-a2f9-8e4497ae0680",
   "metadata": {},
   "outputs": [],
   "source": [
    "poly_dir = f'{raster_working}/poly22'\n",
    "shapefile_path = f'{poly_dir}/poly22_poly.shp'\n",
    "shape_ds = ogr.Open(shapefile_path)\n",
    "shape_layer = shape_ds.GetLayer()\n",
    "xmin, xmax, ymin, ymax = shape_layer.GetExtent()\n",
    "\n",
    "\n",
    "resamp_dir = f'{raster_working}/resampled_imagery'\n",
    "\n",
    "resamp_files = [os.path.join(resamp_dir, f) for f in os.listdir(resamp_dir) if f.endswith('.tif')]\n",
    "num = -1\n",
    "\n",
    "for raster in resamp_files:\n",
    "    raster_ds = gdal.Open(raster_path, gdalconst.GA_ReadOnly)\n",
    "\n",
    "    \n",
    "    # Create output raster\n",
    "    pixel_size = raster_ds.GetGeoTransform()[1]\n",
    "    x_res = int((xmax - xmin) / pixel_size)\n",
    "    y_res = int((ymax - ymin) / pixel_size)\n",
    "\n",
    "\n",
    "    output_raster = f'{raster_working}/masked_imagery/masked{num}.tif'\n",
    "    driver = gdal.GetDriverByName('GTiff')\n",
    "    out_ds = driver.Create(output_raster, x_res, y_res, 1, gdal.GDT_Float32)\n",
    "    out_ds.SetProjection(raster_ds.GetProjection())\n",
    "    out_ds.SetGeoTransform((xmin, pixel_size, 0, ymax, 0, -pixel_size))\n",
    "    band = out_ds.GetRasterBand(1)\n",
    "    band.SetNoDataValue(0) #was -9999\n",
    "    \n",
    "    # Rasterize shapefile to create mask\n",
    "    gdal.RasterizeLayer(out_ds, [1], shape_layer, burn_values=[1])\n",
    "    \n",
    "    # Apply mask to raster\n",
    "    raster_band = raster_ds.GetRasterBand(1)\n",
    "    raster_array = raster_band.ReadAsArray()\n",
    "    mask_band = out_ds.GetRasterBand(1)\n",
    "    mask_array = mask_band.ReadAsArray()\n",
    "    masked_array = np.where(mask_array == 1, raster_array, np.nan)  # Or use -9999 instead of np.nan if preferred\n",
    "    \n",
    "    # Write masked array to output raster\n",
    "    band.WriteArray(masked_array)\n",
    "    band.FlushCache()\n",
    "    \n",
    "    # Close datasets\n",
    "    raster_ds = None\n",
    "    shape_ds = None\n",
    "    out_ds = None"
   ]
  },
  {
   "cell_type": "code",
   "execution_count": 28,
   "id": "852962d8-ff6e-4a5d-9317-377caf15bcbe",
   "metadata": {},
   "outputs": [],
   "source": [
    "import rasterio\n",
    "from rasterio.mask import mask\n",
    "from rasterio.enums import Resampling\n",
    "import geopandas as gpd\n",
    "from shapely.geometry import mapping\n",
    "from affine import Affine\n",
    "import os"
   ]
  },
  {
   "cell_type": "code",
   "execution_count": 29,
   "id": "b91fa8d9-c1d1-4b4e-8cda-9807a960cb3b",
   "metadata": {},
   "outputs": [],
   "source": [
    "# Read the shapefile\n",
    "folder_directory = 'D:/!!Research/!!!Data/ArcGIS_Projects'\n",
    "raster_working = f'{folder_directory}/buffers_tifs/raster_processing_tests'\n",
    "poly_dir = f'{raster_working}/poly22'\n",
    "shapefile_path = f'{poly_dir}/poly22_poly.shp'\n",
    "gdf = gpd.read_file(shapefile_path)"
   ]
  },
  {
   "cell_type": "code",
   "execution_count": 30,
   "id": "b3f93417-ccbd-49dd-9a15-d45392b11b63",
   "metadata": {},
   "outputs": [
    {
     "ename": "ValueError",
     "evalue": "Source shape (1, 70, 2510, 2526) is inconsistent with given indexes 1",
     "output_type": "error",
     "traceback": [
      "\u001b[1;31m---------------------------------------------------------------------------\u001b[0m",
      "\u001b[1;31mValueError\u001b[0m                                Traceback (most recent call last)",
      "Cell \u001b[1;32mIn[30], line 24\u001b[0m\n\u001b[0;32m     22\u001b[0m out_raster_path \u001b[38;5;241m=\u001b[39m \u001b[38;5;124mf\u001b[39m\u001b[38;5;124m'\u001b[39m\u001b[38;5;132;01m{\u001b[39;00mraster_working\u001b[38;5;132;01m}\u001b[39;00m\u001b[38;5;124m/masked_imagery/masked\u001b[39m\u001b[38;5;132;01m{\u001b[39;00mnum\u001b[38;5;132;01m}\u001b[39;00m\u001b[38;5;124m.tif\u001b[39m\u001b[38;5;124m'\u001b[39m\n\u001b[0;32m     23\u001b[0m \u001b[38;5;28;01mwith\u001b[39;00m rasterio\u001b[38;5;241m.\u001b[39mopen(out_raster_path, \u001b[38;5;124m'\u001b[39m\u001b[38;5;124mw\u001b[39m\u001b[38;5;124m'\u001b[39m, \u001b[38;5;241m*\u001b[39m\u001b[38;5;241m*\u001b[39mout_meta) \u001b[38;5;28;01mas\u001b[39;00m dest:\n\u001b[1;32m---> 24\u001b[0m     \u001b[43mdest\u001b[49m\u001b[38;5;241;43m.\u001b[39;49m\u001b[43mwrite\u001b[49m\u001b[43m(\u001b[49m\u001b[43mout_image\u001b[49m\u001b[43m,\u001b[49m\u001b[43m \u001b[49m\u001b[38;5;241;43m1\u001b[39;49m\u001b[43m)\u001b[49m\n\u001b[0;32m     26\u001b[0m \u001b[38;5;28mprint\u001b[39m(\u001b[38;5;124mf\u001b[39m\u001b[38;5;124m\"\u001b[39m\u001b[38;5;124mMasked raster with 1m resolution saved to \u001b[39m\u001b[38;5;132;01m{\u001b[39;00mout_raster_path\u001b[38;5;132;01m}\u001b[39;00m\u001b[38;5;124m\"\u001b[39m)\n",
      "File \u001b[1;32mrasterio\\\\_io.pyx:1738\u001b[0m, in \u001b[0;36mrasterio._io.DatasetWriterBase.write\u001b[1;34m()\u001b[0m\n",
      "\u001b[1;31mValueError\u001b[0m: Source shape (1, 70, 2510, 2526) is inconsistent with given indexes 1"
     ]
    }
   ],
   "source": [
    "# Input and output file paths\n",
    "resamp_dir = f'{raster_working}/resampled_imagery/'\n",
    "#resamp_dir = f'{raster_working}/env_imagery/'\n",
    "\n",
    "resamp_files = [os.path.join(resamp_dir, f) for f in os.listdir(resamp_dir) if f.endswith('.tif')]\n",
    "num = -1\n",
    "\n",
    "\n",
    "for input_file in resamp_files:\n",
    "    # Read the raster file\n",
    "    raster_path = input_file\n",
    "    with rasterio.open(raster_path) as src:\n",
    "        # Convert the geometries to GeoJSON-like dicts\n",
    "        geometries = [mapping(geom) for geom in gdf.geometry]\n",
    "    \n",
    "        # Mask the raster with the polygons\n",
    "        out_image, out_transform = mask(src, geometries, crop=True)\n",
    "        out_meta = src.meta.copy()\n",
    "    \n",
    "\n",
    "    # Save the masked and resampled raster to a new file\n",
    "    out_raster_path = f'{raster_working}/masked_imagery/masked{num}.tif'\n",
    "    with rasterio.open(out_raster_path, 'w', **out_meta) as dest:\n",
    "        dest.write(out_image, 1)\n",
    "    \n",
    "    print(f\"Masked raster with 1m resolution saved to {out_raster_path}\")"
   ]
  }
 ],
 "metadata": {
  "kernelspec": {
   "display_name": "Python 3 (ipykernel)",
   "language": "python",
   "name": "python3"
  },
  "language_info": {
   "codemirror_mode": {
    "name": "ipython",
    "version": 3
   },
   "file_extension": ".py",
   "mimetype": "text/x-python",
   "name": "python",
   "nbconvert_exporter": "python",
   "pygments_lexer": "ipython3",
   "version": "3.12.1"
  }
 },
 "nbformat": 4,
 "nbformat_minor": 5
}
