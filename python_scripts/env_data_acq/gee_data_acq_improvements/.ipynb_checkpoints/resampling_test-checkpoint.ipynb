{
 "cells": [
  {
   "cell_type": "code",
   "execution_count": 18,
   "id": "cf3ca0be-bef4-438e-8e75-0fbf906e5d59",
   "metadata": {},
   "outputs": [
    {
     "data": {
      "text/html": [
       "\n",
       "            <style>\n",
       "                .geemap-dark {\n",
       "                    --jp-widgets-color: white;\n",
       "                    --jp-widgets-label-color: white;\n",
       "                    --jp-ui-font-color1: white;\n",
       "                    --jp-layout-color2: #454545;\n",
       "                    background-color: #383838;\n",
       "                }\n",
       "                    \n",
       "                .geemap-dark .jupyter-button {\n",
       "                    --jp-layout-color3: #383838;\n",
       "                }\n",
       "                \n",
       "                .geemap-colab {\n",
       "                    background-color: var(--colab-primary-surface-color, white);\n",
       "                }\n",
       "                    \n",
       "                .geemap-colab .jupyter-button {\n",
       "                    --jp-layout-color3: var(--colab-primary-surface-color, white);\n",
       "                }\n",
       "            </style>\n",
       "            "
      ],
      "text/plain": [
       "<IPython.core.display.HTML object>"
      ]
     },
     "metadata": {},
     "output_type": "display_data"
    }
   ],
   "source": [
    "from osgeo import gdal, ogr, osr\n",
    "import fiona\n",
    "import os\n",
    "from time import sleep"
   ]
  },
  {
   "cell_type": "code",
   "execution_count": 19,
   "id": "0d44258a-6027-4930-bc6f-3798a7a93db1",
   "metadata": {},
   "outputs": [
    {
     "data": {
      "text/html": [
       "\n",
       "            <style>\n",
       "                .geemap-dark {\n",
       "                    --jp-widgets-color: white;\n",
       "                    --jp-widgets-label-color: white;\n",
       "                    --jp-ui-font-color1: white;\n",
       "                    --jp-layout-color2: #454545;\n",
       "                    background-color: #383838;\n",
       "                }\n",
       "                    \n",
       "                .geemap-dark .jupyter-button {\n",
       "                    --jp-layout-color3: #383838;\n",
       "                }\n",
       "                \n",
       "                .geemap-colab {\n",
       "                    background-color: var(--colab-primary-surface-color, white);\n",
       "                }\n",
       "                    \n",
       "                .geemap-colab .jupyter-button {\n",
       "                    --jp-layout-color3: var(--colab-primary-surface-color, white);\n",
       "                }\n",
       "            </style>\n",
       "            "
      ],
      "text/plain": [
       "<IPython.core.display.HTML object>"
      ]
     },
     "metadata": {},
     "output_type": "display_data"
    }
   ],
   "source": [
    "folder_directory = 'D:/!!Research/!!!Data/ArcGIS_Projects'\n",
    "raster_working = f'{folder_directory}/buffers_tifs/raster_processing_tests'"
   ]
  },
  {
   "cell_type": "code",
   "execution_count": 20,
   "id": "db40bb9e-5221-4bd9-91cf-7e6034936d74",
   "metadata": {},
   "outputs": [
    {
     "data": {
      "text/html": [
       "\n",
       "            <style>\n",
       "                .geemap-dark {\n",
       "                    --jp-widgets-color: white;\n",
       "                    --jp-widgets-label-color: white;\n",
       "                    --jp-ui-font-color1: white;\n",
       "                    --jp-layout-color2: #454545;\n",
       "                    background-color: #383838;\n",
       "                }\n",
       "                    \n",
       "                .geemap-dark .jupyter-button {\n",
       "                    --jp-layout-color3: #383838;\n",
       "                }\n",
       "                \n",
       "                .geemap-colab {\n",
       "                    background-color: var(--colab-primary-surface-color, white);\n",
       "                }\n",
       "                    \n",
       "                .geemap-colab .jupyter-button {\n",
       "                    --jp-layout-color3: var(--colab-primary-surface-color, white);\n",
       "                }\n",
       "            </style>\n",
       "            "
      ],
      "text/plain": [
       "<IPython.core.display.HTML object>"
      ]
     },
     "metadata": {},
     "output_type": "display_data"
    },
    {
     "name": "stdout",
     "output_type": "stream",
     "text": [
      "Resampling complete. Output written to D:/!!Research/!!!Data/ArcGIS_Projects/buffers_tifs/raster_processing_tests/resampled_imagery/resampled0.tif\n",
      "Resampling complete. Output written to D:/!!Research/!!!Data/ArcGIS_Projects/buffers_tifs/raster_processing_tests/resampled_imagery/resampled1.tif\n",
      "Resampling complete. Output written to D:/!!Research/!!!Data/ArcGIS_Projects/buffers_tifs/raster_processing_tests/resampled_imagery/resampled2.tif\n",
      "Resampling complete. Output written to D:/!!Research/!!!Data/ArcGIS_Projects/buffers_tifs/raster_processing_tests/resampled_imagery/resampled3.tif\n",
      "Resampling complete. Output written to D:/!!Research/!!!Data/ArcGIS_Projects/buffers_tifs/raster_processing_tests/resampled_imagery/resampled4.tif\n",
      "Resampling complete. Output written to D:/!!Research/!!!Data/ArcGIS_Projects/buffers_tifs/raster_processing_tests/resampled_imagery/resampled5.tif\n",
      "Resampling complete. Output written to D:/!!Research/!!!Data/ArcGIS_Projects/buffers_tifs/raster_processing_tests/resampled_imagery/resampled6.tif\n",
      "Resampling complete. Output written to D:/!!Research/!!!Data/ArcGIS_Projects/buffers_tifs/raster_processing_tests/resampled_imagery/resampled7.tif\n",
      "Resampling complete. Output written to D:/!!Research/!!!Data/ArcGIS_Projects/buffers_tifs/raster_processing_tests/resampled_imagery/resampled8.tif\n",
      "Resampling complete. Output written to D:/!!Research/!!!Data/ArcGIS_Projects/buffers_tifs/raster_processing_tests/resampled_imagery/resampled9.tif\n",
      "Resampling complete. Output written to D:/!!Research/!!!Data/ArcGIS_Projects/buffers_tifs/raster_processing_tests/resampled_imagery/resampled10.tif\n",
      "Resampling complete. Output written to D:/!!Research/!!!Data/ArcGIS_Projects/buffers_tifs/raster_processing_tests/resampled_imagery/resampled11.tif\n",
      "Resampling complete. Output written to D:/!!Research/!!!Data/ArcGIS_Projects/buffers_tifs/raster_processing_tests/resampled_imagery/resampled12.tif\n",
      "Resampling complete. Output written to D:/!!Research/!!!Data/ArcGIS_Projects/buffers_tifs/raster_processing_tests/resampled_imagery/resampled13.tif\n",
      "Resampling complete. Output written to D:/!!Research/!!!Data/ArcGIS_Projects/buffers_tifs/raster_processing_tests/resampled_imagery/resampled14.tif\n",
      "Resampling complete. Output written to D:/!!Research/!!!Data/ArcGIS_Projects/buffers_tifs/raster_processing_tests/resampled_imagery/resampled15.tif\n",
      "Resampling complete. Output written to D:/!!Research/!!!Data/ArcGIS_Projects/buffers_tifs/raster_processing_tests/resampled_imagery/resampled16.tif\n",
      "Resampling complete. Output written to D:/!!Research/!!!Data/ArcGIS_Projects/buffers_tifs/raster_processing_tests/resampled_imagery/resampled17.tif\n"
     ]
    }
   ],
   "source": [
    "# Input and output file paths\n",
    "env_image_dir = f'{raster_working}/env_imagery/'\n",
    "\n",
    "env_image_files = [os.path.join(env_image_dir, f) for f in os.listdir(env_image_dir) if f.endswith('.tif')]\n",
    "num = -1\n",
    "\n",
    "#num += 1\n",
    "#output_file = f'{raster_working}/resampled_imagery/resampled{num}.tif'\n",
    "\n",
    "for input_file in env_image_files:\n",
    "    num += 1\n",
    "    output_file = f'{raster_working}/resampled_imagery/resampled{num}.tif'\n",
    "    xres=5\n",
    "    yres=5\n",
    "    #resample_alg = 'cubic'\n",
    "    resample_alg = 'bilinear'\n",
    "    \n",
    "    ds = gdal.Warp(output_file, input_file, xRes=xres, yRes=yres, resampleAlg=resample_alg)\n",
    "    ds = None\n",
    "    \n",
    "    print(\"Resampling complete. Output written to\", output_file)"
   ]
  }
 ],
 "metadata": {
  "kernelspec": {
   "display_name": "Python 3 (ipykernel)",
   "language": "python",
   "name": "python3"
  },
  "language_info": {
   "codemirror_mode": {
    "name": "ipython",
    "version": 3
   },
   "file_extension": ".py",
   "mimetype": "text/x-python",
   "name": "python",
   "nbconvert_exporter": "python",
   "pygments_lexer": "ipython3",
   "version": "3.12.1"
  }
 },
 "nbformat": 4,
 "nbformat_minor": 5
}
