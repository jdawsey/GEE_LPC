{
 "cells": [
  {
   "cell_type": "code",
   "execution_count": null,
   "id": "1a0984fe-7479-4d69-84a6-c467259be7c6",
   "metadata": {},
   "outputs": [],
   "source": [
    "import os\n",
    "import rasterio\n",
    "from rasterio.merge import merge\n",
    "import numpy as np"
   ]
  },
  {
   "cell_type": "code",
   "execution_count": null,
   "id": "6ad6cb25-287c-4e3b-b5e3-bd52616881ec",
   "metadata": {},
   "outputs": [],
   "source": [
    "# Paths to the folders\n",
    "folder1 = 'path/to/folder1'\n",
    "folder2 = 'path/to/folder2'\n",
    "output_folder = 'path/to/output_folder'\n",
    "\n",
    "# Ensure output folder exists\n",
    "os.makedirs(output_folder, exist_ok=True)\n",
    "\n",
    "def merge_bands(folder1, folder2, output_folder):\n",
    "    \n",
    "    # Get list of raster files\n",
    "    raster_files1 = sorted([f for f in os.listdir(folder1) if f.endswith('.tif')])\n",
    "    raster_files2 = sorted([f for f in os.listdir(folder2) if f.endswith('.tif')])\n",
    "\n",
    "    # Ensure both folders have the same number of files\n",
    "    assert len(raster_files1) == len(raster_files2), \"Folders do not contain the same number of rasters.\"\n",
    "\n",
    "    # Function to add bands from one raster to another\n",
    "    def add_bands(raster1_path, raster2_path, output_path):\n",
    "        with rasterio.open(raster1_path) as src1:\n",
    "            with rasterio.open(raster2_path) as src2:\n",
    "                meta = src1.meta\n",
    "                meta.update(count=src1.count + src2.count)\n",
    "    \n",
    "                # Create an empty array to store the new data\n",
    "                new_data = np.zeros((meta['count'], meta['height'], meta['width']), dtype=src1.dtypes[0])\n",
    "    \n",
    "                # Read data from first raster\n",
    "                for i in range(1, src1.count + 1):\n",
    "                    new_data[i-1] = src1.read(i)\n",
    "    \n",
    "                # Read data from second raster\n",
    "                for i in range(1, src2.count + 1):\n",
    "                    new_data[src1.count + i-1] = src2.read(i)\n",
    "    \n",
    "                # Write the new raster\n",
    "                with rasterio.open(output_path, 'w', **meta) as dst:\n",
    "                    for i in range(1, meta['count'] + 1):\n",
    "                        dst.write(new_data[i-1], i)\n",
    "    \n",
    "    # Process each pair of raster files\n",
    "    for file1, file2 in zip(raster_files1, raster_files2):\n",
    "        raster1_path = os.path.join(folder1, file1)\n",
    "        raster2_path = os.path.join(folder2, file2)\n",
    "        output_path = os.path.join(output_folder, file1)  # Save output with the same name as the first raster\n",
    "    \n",
    "        add_bands(raster1_path, raster2_path, output_path)\n",
    "    \n",
    "    print(\"Band addition completed.\")"
   ]
  }
 ],
 "metadata": {
  "kernelspec": {
   "display_name": "Python 3 (ipykernel)",
   "language": "python",
   "name": "python3"
  },
  "language_info": {
   "codemirror_mode": {
    "name": "ipython",
    "version": 3
   },
   "file_extension": ".py",
   "mimetype": "text/x-python",
   "name": "python",
   "nbconvert_exporter": "python",
   "pygments_lexer": "ipython3",
   "version": "3.12.1"
  }
 },
 "nbformat": 4,
 "nbformat_minor": 5
}
