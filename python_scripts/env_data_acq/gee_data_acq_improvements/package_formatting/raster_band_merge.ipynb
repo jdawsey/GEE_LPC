{
 "cells": [
  {
   "cell_type": "code",
   "execution_count": 2,
   "id": "1a0984fe-7479-4d69-84a6-c467259be7c6",
   "metadata": {},
   "outputs": [],
   "source": [
    "import os\n",
    "import rasterio\n",
    "from rasterio.merge import merge\n",
    "import numpy as np\n",
    "import segment_attributes_func as saf"
   ]
  },
  {
   "cell_type": "code",
   "execution_count": 3,
   "id": "6ad6cb25-287c-4e3b-b5e3-bd52616881ec",
   "metadata": {},
   "outputs": [],
   "source": [
    "# Paths to the folders\n",
    "broad_path = 'C:/Users/Justin-Laptop/Documents/Research/!!!Data/shrubmap_modification_tests'\n",
    "folder1 = f'{broad_path}/segmented_images'\n",
    "folder2 = f'{broad_path}/env_data'\n",
    "output_folder = f'{broad_path}/env_and_seg'\n",
    "\n",
    "# Ensure output folder exists\n",
    "os.makedirs(output_folder, exist_ok=True)\n",
    "\n"
   ]
  },
  {
   "cell_type": "code",
   "execution_count": 4,
   "id": "bf10f9d9-86b2-49bc-80aa-3739f4f87f58",
   "metadata": {},
   "outputs": [
    {
     "name": "stdout",
     "output_type": "stream",
     "text": [
      "Band addition completed.\n"
     ]
    }
   ],
   "source": [
    "saf.merge_bands(folder1, folder2, output_folder)"
   ]
  }
 ],
 "metadata": {
  "kernelspec": {
   "display_name": "Python 3 (ipykernel)",
   "language": "python",
   "name": "python3"
  },
  "language_info": {
   "codemirror_mode": {
    "name": "ipython",
    "version": 3
   },
   "file_extension": ".py",
   "mimetype": "text/x-python",
   "name": "python",
   "nbconvert_exporter": "python",
   "pygments_lexer": "ipython3",
   "version": "3.12.1"
  }
 },
 "nbformat": 4,
 "nbformat_minor": 5
}
