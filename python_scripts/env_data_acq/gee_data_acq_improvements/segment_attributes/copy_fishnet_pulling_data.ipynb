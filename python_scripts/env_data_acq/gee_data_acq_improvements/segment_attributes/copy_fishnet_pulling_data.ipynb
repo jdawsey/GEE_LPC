{
 "cells": [
  {
   "cell_type": "markdown",
   "id": "a26e5846-eb66-4bed-a409-12d9d612ed9e",
   "metadata": {},
   "source": [
    "# USEFUL FOR PULLING ENVIRONMENTAL DATA ACROSS WHOLE REGIONS"
   ]
  },
  {
   "cell_type": "code",
   "execution_count": 1,
   "id": "9627abfb-fbe7-41c9-9ae2-057ec7034e49",
   "metadata": {},
   "outputs": [],
   "source": [
    "import os\n",
    "import geopandas as gpd\n",
    "import pandas as pd\n",
    "import ee\n",
    "import geemap\n",
    "import env_data_acq_func as gda\n",
    "import segment_attributes_func as saf"
   ]
  },
  {
   "cell_type": "code",
   "execution_count": 2,
   "id": "711b80fe-ec66-4ef3-89dd-7dcaecdb9a4b",
   "metadata": {},
   "outputs": [
    {
     "data": {
      "text/html": [
       "\n",
       "            <style>\n",
       "                .geemap-dark {\n",
       "                    --jp-widgets-color: white;\n",
       "                    --jp-widgets-label-color: white;\n",
       "                    --jp-ui-font-color1: white;\n",
       "                    --jp-layout-color2: #454545;\n",
       "                    background-color: #383838;\n",
       "                }\n",
       "                    \n",
       "                .geemap-dark .jupyter-button {\n",
       "                    --jp-layout-color3: #383838;\n",
       "                }\n",
       "                \n",
       "                .geemap-colab {\n",
       "                    background-color: var(--colab-primary-surface-color, white);\n",
       "                }\n",
       "                    \n",
       "                .geemap-colab .jupyter-button {\n",
       "                    --jp-layout-color3: var(--colab-primary-surface-color, white);\n",
       "                }\n",
       "            </style>\n",
       "            "
      ],
      "text/plain": [
       "<IPython.core.display.HTML object>"
      ]
     },
     "metadata": {},
     "output_type": "display_data"
    }
   ],
   "source": [
    "# Authenticate to Earth Engine\n",
    "ee.Authenticate()\n",
    "ee.Initialize()"
   ]
  },
  {
   "cell_type": "code",
   "execution_count": 3,
   "id": "ea097b31-f093-4279-b3d7-e89c6d179497",
   "metadata": {},
   "outputs": [
    {
     "data": {
      "text/html": [
       "\n",
       "            <style>\n",
       "                .geemap-dark {\n",
       "                    --jp-widgets-color: white;\n",
       "                    --jp-widgets-label-color: white;\n",
       "                    --jp-ui-font-color1: white;\n",
       "                    --jp-layout-color2: #454545;\n",
       "                    background-color: #383838;\n",
       "                }\n",
       "                    \n",
       "                .geemap-dark .jupyter-button {\n",
       "                    --jp-layout-color3: #383838;\n",
       "                }\n",
       "                \n",
       "                .geemap-colab {\n",
       "                    background-color: var(--colab-primary-surface-color, white);\n",
       "                }\n",
       "                    \n",
       "                .geemap-colab .jupyter-button {\n",
       "                    --jp-layout-color3: var(--colab-primary-surface-color, white);\n",
       "                }\n",
       "            </style>\n",
       "            "
      ],
      "text/plain": [
       "<IPython.core.display.HTML object>"
      ]
     },
     "metadata": {},
     "output_type": "display_data"
    },
    {
     "data": {
      "text/plain": [
       "'C:\\\\Users\\\\Justin-Laptop\\\\Documents'"
      ]
     },
     "execution_count": 3,
     "metadata": {},
     "output_type": "execute_result"
    }
   ],
   "source": [
    "path = 'C:/Users/Justin-Laptop/Documents'\n",
    "os.chdir(path)\n",
    "os.getcwd()"
   ]
  },
  {
   "cell_type": "code",
   "execution_count": 4,
   "id": "85399cda-fe5d-495a-8cd1-f26d6fcf88e2",
   "metadata": {},
   "outputs": [
    {
     "data": {
      "text/html": [
       "\n",
       "            <style>\n",
       "                .geemap-dark {\n",
       "                    --jp-widgets-color: white;\n",
       "                    --jp-widgets-label-color: white;\n",
       "                    --jp-ui-font-color1: white;\n",
       "                    --jp-layout-color2: #454545;\n",
       "                    background-color: #383838;\n",
       "                }\n",
       "                    \n",
       "                .geemap-dark .jupyter-button {\n",
       "                    --jp-layout-color3: #383838;\n",
       "                }\n",
       "                \n",
       "                .geemap-colab {\n",
       "                    background-color: var(--colab-primary-surface-color, white);\n",
       "                }\n",
       "                    \n",
       "                .geemap-colab .jupyter-button {\n",
       "                    --jp-layout-color3: var(--colab-primary-surface-color, white);\n",
       "                }\n",
       "            </style>\n",
       "            "
      ],
      "text/plain": [
       "<IPython.core.display.HTML object>"
      ]
     },
     "metadata": {},
     "output_type": "display_data"
    }
   ],
   "source": [
    "folder_directory = f'{path}/Research/!!!Data'"
   ]
  },
  {
   "cell_type": "markdown",
   "id": "35bf9320-e67f-4443-a24c-ebcf2e15a7e9",
   "metadata": {},
   "source": [
    "### Importing CSV of bands to export"
   ]
  },
  {
   "cell_type": "code",
   "execution_count": 5,
   "id": "4511741d-46f8-4d38-bdc8-c03dabd861ce",
   "metadata": {},
   "outputs": [
    {
     "data": {
      "text/html": [
       "\n",
       "            <style>\n",
       "                .geemap-dark {\n",
       "                    --jp-widgets-color: white;\n",
       "                    --jp-widgets-label-color: white;\n",
       "                    --jp-ui-font-color1: white;\n",
       "                    --jp-layout-color2: #454545;\n",
       "                    background-color: #383838;\n",
       "                }\n",
       "                    \n",
       "                .geemap-dark .jupyter-button {\n",
       "                    --jp-layout-color3: #383838;\n",
       "                }\n",
       "                \n",
       "                .geemap-colab {\n",
       "                    background-color: var(--colab-primary-surface-color, white);\n",
       "                }\n",
       "                    \n",
       "                .geemap-colab .jupyter-button {\n",
       "                    --jp-layout-color3: var(--colab-primary-surface-color, white);\n",
       "                }\n",
       "            </style>\n",
       "            "
      ],
      "text/plain": [
       "<IPython.core.display.HTML object>"
      ]
     },
     "metadata": {},
     "output_type": "display_data"
    },
    {
     "data": {
      "text/html": [
       "<div>\n",
       "<style scoped>\n",
       "    .dataframe tbody tr th:only-of-type {\n",
       "        vertical-align: middle;\n",
       "    }\n",
       "\n",
       "    .dataframe tbody tr th {\n",
       "        vertical-align: top;\n",
       "    }\n",
       "\n",
       "    .dataframe thead th {\n",
       "        text-align: right;\n",
       "    }\n",
       "</style>\n",
       "<table border=\"1\" class=\"dataframe\">\n",
       "  <thead>\n",
       "    <tr style=\"text-align: right;\">\n",
       "      <th></th>\n",
       "      <th>collection</th>\n",
       "      <th>collection_loc</th>\n",
       "      <th>bands</th>\n",
       "      <th>band_rename</th>\n",
       "      <th>base_re</th>\n",
       "      <th>unit</th>\n",
       "      <th>resample</th>\n",
       "      <th>resample_res</th>\n",
       "      <th>resample_method</th>\n",
       "    </tr>\n",
       "  </thead>\n",
       "  <tbody>\n",
       "    <tr>\n",
       "      <th>0</th>\n",
       "      <td>clay_0_5</td>\n",
       "      <td>projects/sat-io/open-datasets/polaris/clay_mea...</td>\n",
       "      <td>b1</td>\n",
       "      <td>clay_0_5</td>\n",
       "      <td>30</td>\n",
       "      <td>m</td>\n",
       "      <td>True</td>\n",
       "      <td>1</td>\n",
       "      <td>bilinear</td>\n",
       "    </tr>\n",
       "    <tr>\n",
       "      <th>1</th>\n",
       "      <td>clay_5_15</td>\n",
       "      <td>projects/sat-io/open-datasets/polaris/clay_mea...</td>\n",
       "      <td>b1</td>\n",
       "      <td>clay_5_15</td>\n",
       "      <td>30</td>\n",
       "      <td>m</td>\n",
       "      <td>True</td>\n",
       "      <td>1</td>\n",
       "      <td>bilinear</td>\n",
       "    </tr>\n",
       "    <tr>\n",
       "      <th>2</th>\n",
       "      <td>clay_15_30</td>\n",
       "      <td>projects/sat-io/open-datasets/polaris/clay_mea...</td>\n",
       "      <td>b1</td>\n",
       "      <td>clay_15_30</td>\n",
       "      <td>30</td>\n",
       "      <td>m</td>\n",
       "      <td>True</td>\n",
       "      <td>1</td>\n",
       "      <td>bilinear</td>\n",
       "    </tr>\n",
       "    <tr>\n",
       "      <th>3</th>\n",
       "      <td>clay_30_60</td>\n",
       "      <td>projects/sat-io/open-datasets/polaris/clay_mea...</td>\n",
       "      <td>b1</td>\n",
       "      <td>clay_30_60</td>\n",
       "      <td>30</td>\n",
       "      <td>m</td>\n",
       "      <td>True</td>\n",
       "      <td>1</td>\n",
       "      <td>bilinear</td>\n",
       "    </tr>\n",
       "    <tr>\n",
       "      <th>4</th>\n",
       "      <td>clay_60_100</td>\n",
       "      <td>projects/sat-io/open-datasets/polaris/clay_mea...</td>\n",
       "      <td>b1</td>\n",
       "      <td>clay_60_100</td>\n",
       "      <td>30</td>\n",
       "      <td>m</td>\n",
       "      <td>True</td>\n",
       "      <td>1</td>\n",
       "      <td>bilinear</td>\n",
       "    </tr>\n",
       "  </tbody>\n",
       "</table>\n",
       "</div>"
      ],
      "text/plain": [
       "    collection                                     collection_loc bands  \\\n",
       "0     clay_0_5  projects/sat-io/open-datasets/polaris/clay_mea...    b1   \n",
       "1    clay_5_15  projects/sat-io/open-datasets/polaris/clay_mea...    b1   \n",
       "2   clay_15_30  projects/sat-io/open-datasets/polaris/clay_mea...    b1   \n",
       "3   clay_30_60  projects/sat-io/open-datasets/polaris/clay_mea...    b1   \n",
       "4  clay_60_100  projects/sat-io/open-datasets/polaris/clay_mea...    b1   \n",
       "\n",
       "   band_rename  base_re unit  resample  resample_res resample_method  \n",
       "0     clay_0_5       30    m      True             1        bilinear  \n",
       "1    clay_5_15       30    m      True             1        bilinear  \n",
       "2   clay_15_30       30    m      True             1        bilinear  \n",
       "3   clay_30_60       30    m      True             1        bilinear  \n",
       "4  clay_60_100       30    m      True             1        bilinear  "
      ]
     },
     "execution_count": 5,
     "metadata": {},
     "output_type": "execute_result"
    }
   ],
   "source": [
    "bands_directory = f'{folder_directory}/shrubmap_modification_tests/images_and_bands.csv'\n",
    "images_and_bands = pd.read_csv(bands_directory)\n",
    "images_and_bands.head()"
   ]
  },
  {
   "cell_type": "markdown",
   "id": "bbd9e0e5-46f1-448b-a5e2-93034ae2423c",
   "metadata": {},
   "source": [
    "### Prepping other bands to download"
   ]
  },
  {
   "cell_type": "code",
   "execution_count": 17,
   "id": "bf94d5bf-6b38-4fc6-9421-c30ec754793d",
   "metadata": {},
   "outputs": [
    {
     "data": {
      "text/html": [
       "\n",
       "            <style>\n",
       "                .geemap-dark {\n",
       "                    --jp-widgets-color: white;\n",
       "                    --jp-widgets-label-color: white;\n",
       "                    --jp-ui-font-color1: white;\n",
       "                    --jp-layout-color2: #454545;\n",
       "                    background-color: #383838;\n",
       "                }\n",
       "                    \n",
       "                .geemap-dark .jupyter-button {\n",
       "                    --jp-layout-color3: #383838;\n",
       "                }\n",
       "                \n",
       "                .geemap-colab {\n",
       "                    background-color: var(--colab-primary-surface-color, white);\n",
       "                }\n",
       "                    \n",
       "                .geemap-colab .jupyter-button {\n",
       "                    --jp-layout-color3: var(--colab-primary-surface-color, white);\n",
       "                }\n",
       "            </style>\n",
       "            "
      ],
      "text/plain": [
       "<IPython.core.display.HTML object>"
      ]
     },
     "metadata": {},
     "output_type": "display_data"
    }
   ],
   "source": [
    "#shrubs_states = ['california', 'kansas', 'new_mexico', 'nevada', 'texas']\n",
    "#sts_abbvs = ['CA', 'KS', 'NM', 'NV', 'TX']\n",
    "sts_abbrv = ['TX', 'NM']"
   ]
  },
  {
   "cell_type": "code",
   "execution_count": 18,
   "id": "470fd723-df63-4fc7-b7cc-9317f796ac72",
   "metadata": {},
   "outputs": [
    {
     "data": {
      "text/html": [
       "\n",
       "            <style>\n",
       "                .geemap-dark {\n",
       "                    --jp-widgets-color: white;\n",
       "                    --jp-widgets-label-color: white;\n",
       "                    --jp-ui-font-color1: white;\n",
       "                    --jp-layout-color2: #454545;\n",
       "                    background-color: #383838;\n",
       "                }\n",
       "                    \n",
       "                .geemap-dark .jupyter-button {\n",
       "                    --jp-layout-color3: #383838;\n",
       "                }\n",
       "                \n",
       "                .geemap-colab {\n",
       "                    background-color: var(--colab-primary-surface-color, white);\n",
       "                }\n",
       "                    \n",
       "                .geemap-colab .jupyter-button {\n",
       "                    --jp-layout-color3: var(--colab-primary-surface-color, white);\n",
       "                }\n",
       "            </style>\n",
       "            "
      ],
      "text/plain": [
       "<IPython.core.display.HTML object>"
      ]
     },
     "metadata": {},
     "output_type": "display_data"
    },
    {
     "name": "stdout",
     "output_type": "stream",
     "text": [
      "[<ee.image.Image object at 0x0000022129CAFF80>, <ee.image.Image object at 0x0000022129CAFEF0>, <ee.image.Image object at 0x0000022129CAF6E0>, <ee.image.Image object at 0x0000022129CC9400>]\n"
     ]
    }
   ],
   "source": [
    "other_bands = []\n",
    "\n",
    "elevation = ee.Image('USGS/3DEP/10m').select(['elevation'])\n",
    "other_bands.append(elevation)\n",
    "slope = ee.Terrain.slope(elevation).select(['slope']).rename(['slope'])\n",
    "other_bands.append(slope)\n",
    "aspect = ee.Terrain.aspect(elevation).select(['aspect']).rename(['aspect'])\n",
    "other_bands.append(aspect)\n",
    "\n",
    "nhd_area_tx = ee.FeatureCollection(f\"projects/sat-io/open-datasets/NHD/NHD_{sts_abbrv[0]}/NHDArea\")\n",
    "nhd_flowline_tx = ee.FeatureCollection(f\"projects/sat-io/open-datasets/NHD/NHD_{sts_abbrv[0]}/NHDFlowline\")\n",
    "nhd_tx = nhd_area_tx.merge(nhd_flowline_tx)\n",
    "nhd_area_nm = ee.FeatureCollection(f\"projects/sat-io/open-datasets/NHD/NHD_{sts_abbrv[1]}/NHDArea\")\n",
    "nhd_flowline_nm = ee.FeatureCollection(f\"projects/sat-io/open-datasets/NHD/NHD_{sts_abbrv[1]}/NHDFlowline\")\n",
    "nhd_nm = nhd_area_nm.merge(nhd_flowline_nm)\n",
    "nhd = nhd_tx.merge(nhd_nm)\n",
    "dist_nhd = nhd.distance(searchRadius=10000, maxError=50) #originally searchRadius = 50000\n",
    "#dist_nhd = dist_nhd.clip(ee_items[num]) #change clip area\n",
    "dist_nhd = dist_nhd.select(['distance'])\n",
    "dist_nhd = dist_nhd.rename('dist_drain')\n",
    "other_bands.append(dist_nhd)\n",
    "\n",
    "#roads = ee.FeatureCollection('TIGER/2016/Roads')\n",
    "#dist_roads = roads.distance(searchRadius=50000, maxError=50)\n",
    "#dist_roads = dist_roads.select(['distance'])\n",
    "#dist_roads = dist_roads.rename('dist_road')\n",
    "#other_bands.append(dist_roads)\n",
    "\n",
    "print(other_bands)"
   ]
  },
  {
   "cell_type": "code",
   "execution_count": 19,
   "id": "dd952141-293a-4238-aa96-d1553b5cbb6d",
   "metadata": {},
   "outputs": [
    {
     "data": {
      "text/html": [
       "\n",
       "            <style>\n",
       "                .geemap-dark {\n",
       "                    --jp-widgets-color: white;\n",
       "                    --jp-widgets-label-color: white;\n",
       "                    --jp-ui-font-color1: white;\n",
       "                    --jp-layout-color2: #454545;\n",
       "                    background-color: #383838;\n",
       "                }\n",
       "                    \n",
       "                .geemap-dark .jupyter-button {\n",
       "                    --jp-layout-color3: #383838;\n",
       "                }\n",
       "                \n",
       "                .geemap-colab {\n",
       "                    background-color: var(--colab-primary-surface-color, white);\n",
       "                }\n",
       "                    \n",
       "                .geemap-colab .jupyter-button {\n",
       "                    --jp-layout-color3: var(--colab-primary-surface-color, white);\n",
       "                }\n",
       "            </style>\n",
       "            "
      ],
      "text/plain": [
       "<IPython.core.display.HTML object>"
      ]
     },
     "metadata": {},
     "output_type": "display_data"
    },
    {
     "name": "stdout",
     "output_type": "stream",
     "text": [
      "['clay_0_5', 'clay_5_15', 'clay_15_30', 'clay_30_60', 'clay_60_100', 'clay_100_200', 'sand_0_5', 'sand_5_15', 'sand_15_30', 'sand_30_60', 'sand_60_100', 'sand_100_200', 'silt_0_5', 'silt_5_15', 'silt_15_30', 'silt_30_60', 'silt_60_100', 'silt_100_200', 'bd_0_5', 'bd_5_15', 'bd_15_30', 'bd_30_60', 'bd_60_100', 'bd_100_200', 'om_0_5', 'om_5_15', 'om_15_30', 'om_30_60', 'om_60_100', 'om_100_200', 'ph_0_5', 'ph_5_15', 'ph_15_30', 'ph_30_60', 'ph_60_100', 'ph_100_200', 'ksat_0_5', 'ksat_5_15', 'ksat_15_30', 'ksat_30_60', 'ksat_60_100', 'ksat_100_200', 'theta_r_0_5', 'theta_r_5_15', 'theta_r_15_30', 'theta_r_30_60', 'theta_r_60_100', 'theta_r_100_200', 'theta_s_0_5', 'theta_s_5_15', 'theta_s_15_30', 'theta_s_30_60', 'theta_s_60_100', 'theta_s_100_200', 'caco3', 'cec', 'ec', 'sar', 'kw_025', 'resdept', 'soil_depth', 'wind_erodibility', 'rf_025', 'water_storage', 'ann_rain', 'temp_range', 'elevation', 'slope', 'aspect', 'dist_drain']\n"
     ]
    }
   ],
   "source": [
    "#image_stack_builder = gda.ImageStackBuilder(images_and_bands)\n",
    "rast_crs = 'EPSG:4326'\n",
    "image_stack = gda.build_image_stack(images_and_bands, other_bands, rast_crs = rast_crs)\n",
    "print(image_stack.bandNames().getInfo())"
   ]
  },
  {
   "cell_type": "code",
   "execution_count": 9,
   "id": "ddff3d6f-0424-410d-becb-b0e589ead174",
   "metadata": {},
   "outputs": [
    {
     "data": {
      "text/html": [
       "\n",
       "            <style>\n",
       "                .geemap-dark {\n",
       "                    --jp-widgets-color: white;\n",
       "                    --jp-widgets-label-color: white;\n",
       "                    --jp-ui-font-color1: white;\n",
       "                    --jp-layout-color2: #454545;\n",
       "                    background-color: #383838;\n",
       "                }\n",
       "                    \n",
       "                .geemap-dark .jupyter-button {\n",
       "                    --jp-layout-color3: #383838;\n",
       "                }\n",
       "                \n",
       "                .geemap-colab {\n",
       "                    background-color: var(--colab-primary-surface-color, white);\n",
       "                }\n",
       "                    \n",
       "                .geemap-colab .jupyter-button {\n",
       "                    --jp-layout-color3: var(--colab-primary-surface-color, white);\n",
       "                }\n",
       "            </style>\n",
       "            "
      ],
      "text/plain": [
       "<IPython.core.display.HTML object>"
      ]
     },
     "metadata": {},
     "output_type": "display_data"
    }
   ],
   "source": [
    "#shp_folder_path = 'C:/Users/Justin-Laptop/Documents/Research/!!!Data/shrubmap_modification_tests/poly_fishnet_cells'\n",
    "#shp_file = '/square.shp'\n",
    "#shp_area = geemap.shp_to_ee(f'{shp_folder_path}{shp_file}')"
   ]
  },
  {
   "cell_type": "markdown",
   "id": "1483ec04-2ed1-40fe-b858-b3c4fa120f55",
   "metadata": {},
   "source": [
    "### Pulling segmented imagery"
   ]
  },
  {
   "cell_type": "code",
   "execution_count": 7,
   "id": "09538b8d-192a-4722-b306-fbcf62e4a23b",
   "metadata": {
    "scrolled": true
   },
   "outputs": [
    {
     "data": {
      "text/html": [
       "\n",
       "            <style>\n",
       "                .geemap-dark {\n",
       "                    --jp-widgets-color: white;\n",
       "                    --jp-widgets-label-color: white;\n",
       "                    --jp-ui-font-color1: white;\n",
       "                    --jp-layout-color2: #454545;\n",
       "                    background-color: #383838;\n",
       "                }\n",
       "                    \n",
       "                .geemap-dark .jupyter-button {\n",
       "                    --jp-layout-color3: #383838;\n",
       "                }\n",
       "                \n",
       "                .geemap-colab {\n",
       "                    background-color: var(--colab-primary-surface-color, white);\n",
       "                }\n",
       "                    \n",
       "                .geemap-colab .jupyter-button {\n",
       "                    --jp-layout-color3: var(--colab-primary-surface-color, white);\n",
       "                }\n",
       "            </style>\n",
       "            "
      ],
      "text/plain": [
       "<IPython.core.display.HTML object>"
      ]
     },
     "metadata": {},
     "output_type": "display_data"
    },
    {
     "name": "stdout",
     "output_type": "stream",
     "text": [
      "Downloading data for 8 files\n",
      "savi ((1 + 0.6) * (b(\"N\") - b(\"R\"))) / (b(\"N\") + b(\"R\") + 0.5)\n",
      "endvi ((b(\"N\") + b(\"G\")) - (2 * b(\"B\"))) / ((b(\"N\") + b(\"G\")) + (2 + b(\"B\")))\n",
      "Generating URL ...\n",
      "Downloading data from https://earthengine.googleapis.com/v1/projects/ee-jdawsey/thumbnails/d4207a32f7a7b1bacf81608d766b1767-2b1922b553a3c6a8a1a95c6899ef2ee3:getPixels\n",
      "Please wait ...\n",
      "Data downloaded to C:\\Users\\Justin-Laptop\\Documents\\Research\\!!!Data\\shrubmap_modification_tests\\segmented_images\\cell_0_segmented_image.tif\n",
      "Export task started for fishnet_cell_0.shp.\n"
     ]
    },
    {
     "ename": "KeyboardInterrupt",
     "evalue": "",
     "output_type": "error",
     "traceback": [
      "\u001b[1;31m---------------------------------------------------------------------------\u001b[0m",
      "\u001b[1;31mKeyboardInterrupt\u001b[0m                         Traceback (most recent call last)",
      "Cell \u001b[1;32mIn[7], line 8\u001b[0m\n\u001b[0;32m      4\u001b[0m shp_dir \u001b[38;5;241m=\u001b[39m \u001b[38;5;124mf\u001b[39m\u001b[38;5;124m'\u001b[39m\u001b[38;5;132;01m{\u001b[39;00mraster_working\u001b[38;5;132;01m}\u001b[39;00m\u001b[38;5;124m/poly_fishnet_cells\u001b[39m\u001b[38;5;124m'\u001b[39m\n\u001b[0;32m      6\u001b[0m data_folder \u001b[38;5;241m=\u001b[39m \u001b[38;5;124m'\u001b[39m\u001b[38;5;124msegmented_images\u001b[39m\u001b[38;5;124m'\u001b[39m\n\u001b[1;32m----> 8\u001b[0m \u001b[43msaf\u001b[49m\u001b[38;5;241;43m.\u001b[39;49m\u001b[43msegmented_download\u001b[49m\u001b[43m(\u001b[49m\u001b[43mraster_working\u001b[49m\u001b[43m,\u001b[49m\u001b[43m \u001b[49m\u001b[43mdata_folder\u001b[49m\u001b[43m,\u001b[49m\u001b[43m \u001b[49m\u001b[43mshp_dir\u001b[49m\u001b[43m,\u001b[49m\u001b[43m \u001b[49m\u001b[43mscale\u001b[49m\u001b[43m \u001b[49m\u001b[38;5;241;43m=\u001b[39;49m\u001b[43m \u001b[49m\u001b[38;5;241;43m1\u001b[39;49m\u001b[43m)\u001b[49m\n",
      "File \u001b[1;32m~\\Documents\\Research\\GEE_LPC\\python_scripts\\env_data_acq\\gee_data_acq_improvements\\segment_attributes\\segment_attributes_func\\segmented_download.py:84\u001b[0m, in \u001b[0;36msegmented_download\u001b[1;34m(folder_directory, data_folder, shp_dir, scale, snic_settings)\u001b[0m\n\u001b[0;32m     82\u001b[0m     geemap\u001b[38;5;241m.\u001b[39mee_export_image(segment_attributes, image_path, scale, region \u001b[38;5;241m=\u001b[39m feature)\n\u001b[0;32m     83\u001b[0m     \u001b[38;5;28mprint\u001b[39m(\u001b[38;5;124mf\u001b[39m\u001b[38;5;124m'\u001b[39m\u001b[38;5;124mExport task started for \u001b[39m\u001b[38;5;132;01m{\u001b[39;00mshp_file\u001b[38;5;132;01m}\u001b[39;00m\u001b[38;5;124m.\u001b[39m\u001b[38;5;124m'\u001b[39m)\n\u001b[1;32m---> 84\u001b[0m     \u001b[43mtime\u001b[49m\u001b[38;5;241;43m.\u001b[39;49m\u001b[43msleep\u001b[49m\u001b[43m(\u001b[49m\u001b[38;5;241;43m15\u001b[39;49m\u001b[43m)\u001b[49m\n\u001b[0;32m     86\u001b[0m \u001b[38;5;28;01melse\u001b[39;00m:\n\u001b[0;32m     87\u001b[0m     \u001b[38;5;28mprint\u001b[39m(\u001b[38;5;124m\"\u001b[39m\u001b[38;5;124mskipping gcs file\u001b[39m\u001b[38;5;124m\"\u001b[39m)\n",
      "\u001b[1;31mKeyboardInterrupt\u001b[0m: "
     ]
    }
   ],
   "source": [
    "raster_working = f'{folder_directory}/shrubmap_modification_tests'\n",
    "\n",
    "# no slash needed at end of directory\n",
    "shp_dir = f'{raster_working}/poly_fishnet_cells'\n",
    "\n",
    "data_folder = 'segmented_images'\n",
    "\n",
    "saf.segmented_download(raster_working, data_folder, shp_dir, scale = 1)"
   ]
  },
  {
   "cell_type": "markdown",
   "id": "20ebba5b-3bc0-4e7b-a30b-0a6f2f89629a",
   "metadata": {},
   "source": [
    "### Pulling environmental layers"
   ]
  },
  {
   "cell_type": "code",
   "execution_count": 21,
   "id": "5ee3d1be-4a03-4966-8888-a7155885dbee",
   "metadata": {
    "scrolled": true
   },
   "outputs": [
    {
     "data": {
      "text/html": [
       "\n",
       "            <style>\n",
       "                .geemap-dark {\n",
       "                    --jp-widgets-color: white;\n",
       "                    --jp-widgets-label-color: white;\n",
       "                    --jp-ui-font-color1: white;\n",
       "                    --jp-layout-color2: #454545;\n",
       "                    background-color: #383838;\n",
       "                }\n",
       "                    \n",
       "                .geemap-dark .jupyter-button {\n",
       "                    --jp-layout-color3: #383838;\n",
       "                }\n",
       "                \n",
       "                .geemap-colab {\n",
       "                    background-color: var(--colab-primary-surface-color, white);\n",
       "                }\n",
       "                    \n",
       "                .geemap-colab .jupyter-button {\n",
       "                    --jp-layout-color3: var(--colab-primary-surface-color, white);\n",
       "                }\n",
       "            </style>\n",
       "            "
      ],
      "text/plain": [
       "<IPython.core.display.HTML object>"
      ]
     },
     "metadata": {},
     "output_type": "display_data"
    },
    {
     "name": "stdout",
     "output_type": "stream",
     "text": [
      "Downloading data for 8 files\n",
      "Generating URL ...\n",
      "Downloading data from https://earthengine.googleapis.com/v1/projects/ee-jdawsey/thumbnails/f63861ac9e854fe03eaa55afeff0409c-90fdff7f35c77cae3aac06b65eec4daa:getPixels\n",
      "Please wait ...\n",
      "Data downloaded to C:\\Users\\Justin-Laptop\\Documents\\Research\\!!!Data\\shrubmap_modification_tests\\env_data\\cell_0_env_image.tif\n",
      "Export task started for fishnet_cell_0.shp.\n",
      "Generating URL ...\n",
      "Downloading data from https://earthengine.googleapis.com/v1/projects/ee-jdawsey/thumbnails/e50f62bb771ef062c5b8834f150aecd1-512b4c1f83611521f4f8a3f981838f37:getPixels\n",
      "Please wait ...\n",
      "Data downloaded to C:\\Users\\Justin-Laptop\\Documents\\Research\\!!!Data\\shrubmap_modification_tests\\env_data\\cell_1_env_image.tif\n",
      "Export task started for fishnet_cell_1.shp.\n",
      "Generating URL ...\n",
      "Downloading data from https://earthengine.googleapis.com/v1/projects/ee-jdawsey/thumbnails/a41f4cafd13243498c83e23a15f5ba49-a750cc7d75d5240b77617d8dcdd25f4e:getPixels\n",
      "Please wait ...\n",
      "Data downloaded to C:\\Users\\Justin-Laptop\\Documents\\Research\\!!!Data\\shrubmap_modification_tests\\env_data\\cell_2_env_image.tif\n",
      "Export task started for fishnet_cell_2.shp.\n",
      "Generating URL ...\n",
      "Downloading data from https://earthengine.googleapis.com/v1/projects/ee-jdawsey/thumbnails/3900afdcb36923f4a0c256acafd0112a-de8e6fc030f84cb055e42ec10961d402:getPixels\n",
      "Please wait ...\n",
      "Data downloaded to C:\\Users\\Justin-Laptop\\Documents\\Research\\!!!Data\\shrubmap_modification_tests\\env_data\\cell_3_env_image.tif\n",
      "Export task started for fishnet_cell_3.shp.\n",
      "Generating URL ...\n",
      "Downloading data from https://earthengine.googleapis.com/v1/projects/ee-jdawsey/thumbnails/eb5d525f6097000c8074d711cd42474a-604b09615c773cfb41b7562dcd4c1bc4:getPixels\n",
      "Please wait ...\n",
      "Data downloaded to C:\\Users\\Justin-Laptop\\Documents\\Research\\!!!Data\\shrubmap_modification_tests\\env_data\\cell_4_env_image.tif\n",
      "Export task started for fishnet_cell_4.shp.\n",
      "Generating URL ...\n",
      "Downloading data from https://earthengine.googleapis.com/v1/projects/ee-jdawsey/thumbnails/d4877a309ef6e3d8fc5c49295caaeb59-4e7ec2c4cc360d1cc579739480300d33:getPixels\n",
      "Please wait ...\n",
      "Data downloaded to C:\\Users\\Justin-Laptop\\Documents\\Research\\!!!Data\\shrubmap_modification_tests\\env_data\\cell_5_env_image.tif\n",
      "Export task started for fishnet_cell_5.shp.\n",
      "Generating URL ...\n",
      "Downloading data from https://earthengine.googleapis.com/v1/projects/ee-jdawsey/thumbnails/cbee06a2aac3c313fbe7fc5e290f38e2-ea28d3d556c59138be223c69ba855d50:getPixels\n",
      "Please wait ...\n",
      "Data downloaded to C:\\Users\\Justin-Laptop\\Documents\\Research\\!!!Data\\shrubmap_modification_tests\\env_data\\cell_6_env_image.tif\n",
      "Export task started for fishnet_cell_6.shp.\n",
      "Generating URL ...\n",
      "Downloading data from https://earthengine.googleapis.com/v1/projects/ee-jdawsey/thumbnails/20659d5498b633e4bd7fc8c587f7ba5b-9a2eb9b20b3e75c620ed4bbfb51e3b65:getPixels\n",
      "Please wait ...\n",
      "Data downloaded to C:\\Users\\Justin-Laptop\\Documents\\Research\\!!!Data\\shrubmap_modification_tests\\env_data\\cell_7_env_image.tif\n",
      "Export task started for fishnet_cell_7.shp.\n"
     ]
    }
   ],
   "source": [
    "raster_working = f'{folder_directory}/shrubmap_modification_tests'\n",
    "\n",
    "# no slash needed at end of directory\n",
    "shp_dir = f'{raster_working}/poly_fishnet_cells'\n",
    "\n",
    "#shp_dir = f'{folder_directory}shp_file'\n",
    "# Don't need to repeate the folder directory in an fstring, just need to tack on the\n",
    "# additional directories that lead to the folder you want to store the data in.\n",
    "# e.g. 'test_mesq_prediction_points/acc_points_env_data/env_data_no_ls'\n",
    "data_folder = 'env_data'\n",
    "\n",
    "# needs the overarching directory, the folder to put the data into, the stack of images to download, and\n",
    "# the folder containing the polygon shapefiles\n",
    "#shp_data = gda.ImageryDownload(raster_working, data_folder, image_stack, shp_dir)\n",
    "gda.imagery_download(raster_working, data_folder, \n",
    "                     image_stack, shp_dir, scale = 1)"
   ]
  }
 ],
 "metadata": {
  "kernelspec": {
   "display_name": "Python 3 (ipykernel)",
   "language": "python",
   "name": "python3"
  },
  "language_info": {
   "codemirror_mode": {
    "name": "ipython",
    "version": 3
   },
   "file_extension": ".py",
   "mimetype": "text/x-python",
   "name": "python",
   "nbconvert_exporter": "python",
   "pygments_lexer": "ipython3",
   "version": "3.12.1"
  }
 },
 "nbformat": 4,
 "nbformat_minor": 5
}
