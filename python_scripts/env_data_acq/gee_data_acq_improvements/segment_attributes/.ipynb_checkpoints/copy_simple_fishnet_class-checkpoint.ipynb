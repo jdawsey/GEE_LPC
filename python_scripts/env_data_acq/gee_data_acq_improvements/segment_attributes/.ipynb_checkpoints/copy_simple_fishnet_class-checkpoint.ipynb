{
 "cells": [
  {
   "cell_type": "code",
   "execution_count": 6,
   "id": "012e8840-1790-421e-8eef-e21f5008c48d",
   "metadata": {},
   "outputs": [
    {
     "data": {
      "text/html": [
       "\n",
       "            <style>\n",
       "                .geemap-dark {\n",
       "                    --jp-widgets-color: white;\n",
       "                    --jp-widgets-label-color: white;\n",
       "                    --jp-ui-font-color1: white;\n",
       "                    --jp-layout-color2: #454545;\n",
       "                    background-color: #383838;\n",
       "                }\n",
       "                    \n",
       "                .geemap-dark .jupyter-button {\n",
       "                    --jp-layout-color3: #383838;\n",
       "                }\n",
       "                \n",
       "                .geemap-colab {\n",
       "                    background-color: var(--colab-primary-surface-color, white);\n",
       "                }\n",
       "                    \n",
       "                .geemap-colab .jupyter-button {\n",
       "                    --jp-layout-color3: var(--colab-primary-surface-color, white);\n",
       "                }\n",
       "            </style>\n",
       "            "
      ],
      "text/plain": [
       "<IPython.core.display.HTML object>"
      ]
     },
     "metadata": {},
     "output_type": "display_data"
    }
   ],
   "source": [
    "import geopandas as gpd\n",
    "from shapely.geometry import box\n",
    "import numpy as np\n",
    "import pandas as pd\n",
    "import os\n",
    "import geemap\n",
    "import gee_data_acq as gda"
   ]
  },
  {
   "cell_type": "code",
   "execution_count": 7,
   "id": "e12b4c5e-68b3-42f9-b153-5096418208ea",
   "metadata": {},
   "outputs": [
    {
     "data": {
      "text/html": [
       "\n",
       "            <style>\n",
       "                .geemap-dark {\n",
       "                    --jp-widgets-color: white;\n",
       "                    --jp-widgets-label-color: white;\n",
       "                    --jp-ui-font-color1: white;\n",
       "                    --jp-layout-color2: #454545;\n",
       "                    background-color: #383838;\n",
       "                }\n",
       "                    \n",
       "                .geemap-dark .jupyter-button {\n",
       "                    --jp-layout-color3: #383838;\n",
       "                }\n",
       "                \n",
       "                .geemap-colab {\n",
       "                    background-color: var(--colab-primary-surface-color, white);\n",
       "                }\n",
       "                    \n",
       "                .geemap-colab .jupyter-button {\n",
       "                    --jp-layout-color3: var(--colab-primary-surface-color, white);\n",
       "                }\n",
       "            </style>\n",
       "            "
      ],
      "text/plain": [
       "<IPython.core.display.HTML object>"
      ]
     },
     "metadata": {},
     "output_type": "display_data"
    }
   ],
   "source": [
    "class SimpleFishnet:\n",
    "    def __init__(self, bounds, cell_size, crs=\"EPSG:4326\"):\n",
    "        self.bounds = bounds\n",
    "        self.cell_size = cell_size\n",
    "        self.crs = crs\n",
    "        self.grid = self.create_fishnet(bounds, cell_size)\n",
    "        print(f\"Initial grid created with {len(self.grid)} cells\")\n",
    "\n",
    "    def create_fishnet(self, bounds, cell_size):\n",
    "        xmin, ymin, xmax, ymax = bounds\n",
    "        rows = int(np.ceil((ymax - ymin) / cell_size))\n",
    "        cols = int(np.ceil((xmax - xmin) / cell_size))\n",
    "        x_left_origin = xmin\n",
    "        x_right_origin = xmin + cell_size\n",
    "        y_top_origin = ymax\n",
    "        y_bottom_origin = ymax - cell_size\n",
    "\n",
    "        polygons = []\n",
    "        for i in range(cols):\n",
    "            y_top = y_top_origin\n",
    "            y_bottom = y_bottom_origin\n",
    "            for j in range(rows):\n",
    "                polygons.append(box(x_left_origin, y_bottom, x_right_origin, y_top))\n",
    "                y_top = y_top - cell_size\n",
    "                y_bottom = y_bottom - cell_size\n",
    "\n",
    "            x_left_origin = x_left_origin + cell_size\n",
    "            x_right_origin = x_right_origin + cell_size\n",
    "\n",
    "        grid = gpd.GeoDataFrame({'geometry': polygons})\n",
    "        grid.set_crs(self.crs, inplace=True)\n",
    "        return grid\n",
    "\n",
    "    def export_fishnet_cells(self, output_folder):\n",
    "        if not os.path.exists(output_folder):\n",
    "            os.makedirs(output_folder)\n",
    "        \n",
    "        for idx, cell in self.grid.iterrows():\n",
    "            cell_gdf = gpd.GeoDataFrame([cell], crs=self.crs)\n",
    "            file_path = os.path.join(output_folder, f'fishnet_cell_{idx}.shp')\n",
    "            cell_gdf.to_file(file_path)"
   ]
  },
  {
   "cell_type": "code",
   "execution_count": 8,
   "id": "02fa2323-5615-482d-8353-fbd19258dbe6",
   "metadata": {},
   "outputs": [
    {
     "data": {
      "text/html": [
       "\n",
       "            <style>\n",
       "                .geemap-dark {\n",
       "                    --jp-widgets-color: white;\n",
       "                    --jp-widgets-label-color: white;\n",
       "                    --jp-ui-font-color1: white;\n",
       "                    --jp-layout-color2: #454545;\n",
       "                    background-color: #383838;\n",
       "                }\n",
       "                    \n",
       "                .geemap-dark .jupyter-button {\n",
       "                    --jp-layout-color3: #383838;\n",
       "                }\n",
       "                \n",
       "                .geemap-colab {\n",
       "                    background-color: var(--colab-primary-surface-color, white);\n",
       "                }\n",
       "                    \n",
       "                .geemap-colab .jupyter-button {\n",
       "                    --jp-layout-color3: var(--colab-primary-surface-color, white);\n",
       "                }\n",
       "            </style>\n",
       "            "
      ],
      "text/plain": [
       "<IPython.core.display.HTML object>"
      ]
     },
     "metadata": {},
     "output_type": "display_data"
    }
   ],
   "source": [
    "folder_directory = 'D:/!!Research/!!!Data/ArcGIS_Projects'\n",
    "raster_working = f'{folder_directory}/buffers_tifs/raster_processing_tests'\n",
    "poly_dir = f'{raster_working}/poly22'\n",
    "shapefile_path = f'{poly_dir}/poly22_poly.shp'"
   ]
  },
  {
   "cell_type": "code",
   "execution_count": 9,
   "id": "0544103f-74fb-4b7e-9825-13acc3861581",
   "metadata": {},
   "outputs": [
    {
     "data": {
      "text/html": [
       "\n",
       "            <style>\n",
       "                .geemap-dark {\n",
       "                    --jp-widgets-color: white;\n",
       "                    --jp-widgets-label-color: white;\n",
       "                    --jp-ui-font-color1: white;\n",
       "                    --jp-layout-color2: #454545;\n",
       "                    background-color: #383838;\n",
       "                }\n",
       "                    \n",
       "                .geemap-dark .jupyter-button {\n",
       "                    --jp-layout-color3: #383838;\n",
       "                }\n",
       "                \n",
       "                .geemap-colab {\n",
       "                    background-color: var(--colab-primary-surface-color, white);\n",
       "                }\n",
       "                    \n",
       "                .geemap-colab .jupyter-button {\n",
       "                    --jp-layout-color3: var(--colab-primary-surface-color, white);\n",
       "                }\n",
       "            </style>\n",
       "            "
      ],
      "text/plain": [
       "<IPython.core.display.HTML object>"
      ]
     },
     "metadata": {},
     "output_type": "display_data"
    }
   ],
   "source": [
    "crs = 'EPSG:6350'\n",
    "\n",
    "poly = gda.PolyToGDF(shapefile_path)\n",
    "poly_gdf = poly.poly_to_gdf(crs)"
   ]
  },
  {
   "cell_type": "code",
   "execution_count": 11,
   "id": "201c89f7-fc2a-4497-b669-fcf3e2c593b4",
   "metadata": {},
   "outputs": [
    {
     "data": {
      "text/html": [
       "\n",
       "            <style>\n",
       "                .geemap-dark {\n",
       "                    --jp-widgets-color: white;\n",
       "                    --jp-widgets-label-color: white;\n",
       "                    --jp-ui-font-color1: white;\n",
       "                    --jp-layout-color2: #454545;\n",
       "                    background-color: #383838;\n",
       "                }\n",
       "                    \n",
       "                .geemap-dark .jupyter-button {\n",
       "                    --jp-layout-color3: #383838;\n",
       "                }\n",
       "                \n",
       "                .geemap-colab {\n",
       "                    background-color: var(--colab-primary-surface-color, white);\n",
       "                }\n",
       "                    \n",
       "                .geemap-colab .jupyter-button {\n",
       "                    --jp-layout-color3: var(--colab-primary-surface-color, white);\n",
       "                }\n",
       "            </style>\n",
       "            "
      ],
      "text/plain": [
       "<IPython.core.display.HTML object>"
      ]
     },
     "metadata": {},
     "output_type": "display_data"
    },
    {
     "name": "stdout",
     "output_type": "stream",
     "text": [
      "Initial grid created with 30 cells\n"
     ]
    }
   ],
   "source": [
    "# Calculate bounds of the points\n",
    "bounds = poly_gdf.total_bounds  # (xmin, ymin, xmax, ymax)\n",
    "\n",
    "# Define cell size\n",
    "cell_size = 2000\n",
    "\n",
    "# Initialize Fishnet with calculated bounds and specified CRS\n",
    "fishnet = SimpleFishnet(bounds, cell_size, crs)"
   ]
  },
  {
   "cell_type": "code",
   "execution_count": null,
   "id": "076b4902-2072-47c3-adc9-e6653280e54f",
   "metadata": {},
   "outputs": [],
   "source": [
    "Map = geemap.Map()\n",
    "Map"
   ]
  },
  {
   "cell_type": "code",
   "execution_count": 18,
   "id": "4de76347-7a4e-4bbc-89c1-bf86b480b08e",
   "metadata": {},
   "outputs": [
    {
     "data": {
      "text/html": [
       "\n",
       "            <style>\n",
       "                .geemap-dark {\n",
       "                    --jp-widgets-color: white;\n",
       "                    --jp-widgets-label-color: white;\n",
       "                    --jp-ui-font-color1: white;\n",
       "                    --jp-layout-color2: #454545;\n",
       "                    background-color: #383838;\n",
       "                }\n",
       "                    \n",
       "                .geemap-dark .jupyter-button {\n",
       "                    --jp-layout-color3: #383838;\n",
       "                }\n",
       "                \n",
       "                .geemap-colab {\n",
       "                    background-color: var(--colab-primary-surface-color, white);\n",
       "                }\n",
       "                    \n",
       "                .geemap-colab .jupyter-button {\n",
       "                    --jp-layout-color3: var(--colab-primary-surface-color, white);\n",
       "                }\n",
       "            </style>\n",
       "            "
      ],
      "text/plain": [
       "<IPython.core.display.HTML object>"
      ]
     },
     "metadata": {},
     "output_type": "display_data"
    }
   ],
   "source": [
    "# Add fishnet to the map\n",
    "fishnet_layer = geemap.geopandas_to_ee(fishnet.grid)\n",
    "Map.addLayer(fishnet_layer, {}, 'Fishnet')"
   ]
  },
  {
   "cell_type": "code",
   "execution_count": 12,
   "id": "bd3191a3-1bdd-4461-82f9-f247a14885c8",
   "metadata": {},
   "outputs": [
    {
     "data": {
      "text/html": [
       "\n",
       "            <style>\n",
       "                .geemap-dark {\n",
       "                    --jp-widgets-color: white;\n",
       "                    --jp-widgets-label-color: white;\n",
       "                    --jp-ui-font-color1: white;\n",
       "                    --jp-layout-color2: #454545;\n",
       "                    background-color: #383838;\n",
       "                }\n",
       "                    \n",
       "                .geemap-dark .jupyter-button {\n",
       "                    --jp-layout-color3: #383838;\n",
       "                }\n",
       "                \n",
       "                .geemap-colab {\n",
       "                    background-color: var(--colab-primary-surface-color, white);\n",
       "                }\n",
       "                    \n",
       "                .geemap-colab .jupyter-button {\n",
       "                    --jp-layout-color3: var(--colab-primary-surface-color, white);\n",
       "                }\n",
       "            </style>\n",
       "            "
      ],
      "text/plain": [
       "<IPython.core.display.HTML object>"
      ]
     },
     "metadata": {},
     "output_type": "display_data"
    }
   ],
   "source": [
    "output_folder_fishnet = f\"{raster_working}/poly_fishnet_cells\"\n",
    "fishnet.export_fishnet_cells(output_folder_fishnet)"
   ]
  }
 ],
 "metadata": {
  "kernelspec": {
   "display_name": "Python 3 (ipykernel)",
   "language": "python",
   "name": "python3"
  },
  "language_info": {
   "codemirror_mode": {
    "name": "ipython",
    "version": 3
   },
   "file_extension": ".py",
   "mimetype": "text/x-python",
   "name": "python",
   "nbconvert_exporter": "python",
   "pygments_lexer": "ipython3",
   "version": "3.12.1"
  }
 },
 "nbformat": 4,
 "nbformat_minor": 5
}
