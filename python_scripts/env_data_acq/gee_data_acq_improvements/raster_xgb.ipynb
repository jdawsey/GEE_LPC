{
 "cells": [
  {
   "cell_type": "code",
   "execution_count": 1,
   "id": "f6502942-4de7-4b2a-a020-6e8ff60de8d2",
   "metadata": {},
   "outputs": [],
   "source": [
    "import seaborn as sns\n",
    "import pandas as pd\n",
    "import numpy as np\n",
    "import matplotlib.pyplot as plt\n",
    "import sklearn\n",
    "import xgboost as xgb\n",
    "from osgeo import gdal\n",
    "import raster_to_array as rta\n",
    "import os"
   ]
  },
  {
   "cell_type": "markdown",
   "id": "1eb2e59c-abc0-414f-b0d8-78b75dee934e",
   "metadata": {},
   "source": [
    "### Loading the model"
   ]
  },
  {
   "cell_type": "code",
   "execution_count": 4,
   "id": "5c7da34c-2984-4622-a9d4-290637b36153",
   "metadata": {},
   "outputs": [],
   "source": [
    "main_dir = 'E:/!!Research/!!!Data/!arc_projects/quick_new_poly/files_for_python'\n",
    "#model_path = 'D:/!!Research/rgee_test/GEE_LPC/xgb_models/model.json'\n",
    "model_path = f'{main_dir}/model.json'\n",
    "# Load model from file\n",
    "loaded_model = xgb.XGBClassifier()\n",
    "loaded_model.load_model(model_path)"
   ]
  },
  {
   "cell_type": "markdown",
   "id": "b398d90c-f0d1-45d6-a8d2-622a3df4f6fe",
   "metadata": {},
   "source": [
    "### Example with a single file"
   ]
  },
  {
   "cell_type": "code",
   "execution_count": 3,
   "id": "585076ed-68ca-4335-aaf6-7c26b7fcb402",
   "metadata": {},
   "outputs": [
    {
     "name": "stderr",
     "output_type": "stream",
     "text": [
      "C:\\Users\\Justin\\miniconda3\\envs\\gee_env\\Lib\\site-packages\\osgeo\\gdal.py:312: FutureWarning: Neither gdal.UseExceptions() nor gdal.DontUseExceptions() has been explicitly called. In GDAL 4.0, exceptions will be enabled by default.\n",
      "  warnings.warn(\n"
     ]
    },
    {
     "name": "stdout",
     "output_type": "stream",
     "text": [
      "New raster created at D:/!!Research/!!!Data/ArcGIS_Projects/buffers_tifs/raster_processing_tests/cell_0_test_file.tif\n"
     ]
    }
   ],
   "source": [
    "raster_path = f'{main_dir}/masked_images/masked0.tif'\n",
    "output_path = f'{main_dir}/cell_0_test_file.tif'\n",
    "\n",
    "converter = rta.RasterToArrayConverter(raster_path)\n",
    "array = converter.convert()\n",
    "modified_array = converter.apply_model(loaded_model)\n",
    "converter.create_georeferenced_raster(output_path, modified_array)\n",
    "\n",
    "print(f\"New raster created at {output_path}\")"
   ]
  },
  {
   "cell_type": "markdown",
   "id": "a6be18d5-f3a1-4cac-b3f6-8894baf3610a",
   "metadata": {},
   "source": [
    "### Using to run the function on a full directory of rasters"
   ]
  },
  {
   "cell_type": "code",
   "execution_count": 5,
   "id": "a3dc952a-6a82-4bce-b569-d20a42df7c72",
   "metadata": {},
   "outputs": [
    {
     "ename": "FileNotFoundError",
     "evalue": "Unable to open E",
     "output_type": "error",
     "traceback": [
      "\u001b[1;31m---------------------------------------------------------------------------\u001b[0m",
      "\u001b[1;31mFileNotFoundError\u001b[0m                         Traceback (most recent call last)",
      "Cell \u001b[1;32mIn[5], line 13\u001b[0m\n\u001b[0;32m     11\u001b[0m out_tif \u001b[38;5;241m=\u001b[39m \u001b[38;5;124mf\u001b[39m\u001b[38;5;124m'\u001b[39m\u001b[38;5;132;01m{\u001b[39;00mout_dir\u001b[38;5;132;01m}\u001b[39;00m\u001b[38;5;124m/raster_predict_\u001b[39m\u001b[38;5;132;01m{\u001b[39;00mtif_number\u001b[38;5;132;01m}\u001b[39;00m\u001b[38;5;124m.tif\u001b[39m\u001b[38;5;124m'\u001b[39m\n\u001b[0;32m     12\u001b[0m converter \u001b[38;5;241m=\u001b[39m rta\u001b[38;5;241m.\u001b[39mRasterToArrayConverter(file)\n\u001b[1;32m---> 13\u001b[0m array \u001b[38;5;241m=\u001b[39m \u001b[43mconverter\u001b[49m\u001b[38;5;241;43m.\u001b[39;49m\u001b[43mconvert\u001b[49m\u001b[43m(\u001b[49m\u001b[43m)\u001b[49m\n\u001b[0;32m     14\u001b[0m modified_array \u001b[38;5;241m=\u001b[39m converter\u001b[38;5;241m.\u001b[39mapply_model(loaded_model)\n\u001b[0;32m     15\u001b[0m converter\u001b[38;5;241m.\u001b[39mcreate_georeferenced_raster(out_tif, modified_array)\n",
      "File \u001b[1;32mD:\\!!Research\\!!!Data\\Scripts_to_test_before_github\\GEE_LPC\\python_scripts\\env_data_acq\\gee_data_acq_improvements\\raster_to_array.py:118\u001b[0m, in \u001b[0;36mRasterToArrayConverter.convert\u001b[1;34m(self)\u001b[0m\n\u001b[0;32m    117\u001b[0m \u001b[38;5;28;01mdef\u001b[39;00m \u001b[38;5;21mconvert\u001b[39m(\u001b[38;5;28mself\u001b[39m):\n\u001b[1;32m--> 118\u001b[0m     \u001b[38;5;28;43mself\u001b[39;49m\u001b[38;5;241;43m.\u001b[39;49m\u001b[43mopen_raster\u001b[49m\u001b[43m(\u001b[49m\u001b[43m)\u001b[49m\n\u001b[0;32m    119\u001b[0m     \u001b[38;5;28mself\u001b[39m\u001b[38;5;241m.\u001b[39mread_bands()\n\u001b[0;32m    120\u001b[0m     \u001b[38;5;28mself\u001b[39m\u001b[38;5;241m.\u001b[39mcombine_bands()\n",
      "File \u001b[1;32mD:\\!!Research\\!!!Data\\Scripts_to_test_before_github\\GEE_LPC\\python_scripts\\env_data_acq\\gee_data_acq_improvements\\raster_to_array.py:25\u001b[0m, in \u001b[0;36mRasterToArrayConverter.open_raster\u001b[1;34m(self)\u001b[0m\n\u001b[0;32m     23\u001b[0m \u001b[38;5;28mself\u001b[39m\u001b[38;5;241m.\u001b[39mdataset \u001b[38;5;241m=\u001b[39m gdal\u001b[38;5;241m.\u001b[39mOpen(\u001b[38;5;28mself\u001b[39m\u001b[38;5;241m.\u001b[39mraster_path, gdal\u001b[38;5;241m.\u001b[39mGA_ReadOnly)\n\u001b[0;32m     24\u001b[0m \u001b[38;5;28;01mif\u001b[39;00m \u001b[38;5;129;01mnot\u001b[39;00m \u001b[38;5;28mself\u001b[39m\u001b[38;5;241m.\u001b[39mdataset:\n\u001b[1;32m---> 25\u001b[0m     \u001b[38;5;28;01mraise\u001b[39;00m \u001b[38;5;167;01mFileNotFoundError\u001b[39;00m(\u001b[38;5;124mf\u001b[39m\u001b[38;5;124m\"\u001b[39m\u001b[38;5;124mUnable to open \u001b[39m\u001b[38;5;132;01m{\u001b[39;00m\u001b[38;5;28mself\u001b[39m\u001b[38;5;241m.\u001b[39mraster_path\u001b[38;5;132;01m}\u001b[39;00m\u001b[38;5;124m\"\u001b[39m)\n\u001b[0;32m     26\u001b[0m \u001b[38;5;28mself\u001b[39m\u001b[38;5;241m.\u001b[39mnum_bands \u001b[38;5;241m=\u001b[39m \u001b[38;5;28mself\u001b[39m\u001b[38;5;241m.\u001b[39mdataset\u001b[38;5;241m.\u001b[39mRasterCount\n\u001b[0;32m     27\u001b[0m \u001b[38;5;28;01mif\u001b[39;00m \u001b[38;5;28mself\u001b[39m\u001b[38;5;241m.\u001b[39mnum_bands \u001b[38;5;241m==\u001b[39m \u001b[38;5;241m0\u001b[39m:\n",
      "\u001b[1;31mFileNotFoundError\u001b[0m: Unable to open E"
     ]
    }
   ],
   "source": [
    "#tif_dir = f'{main_dir}/resampled_imagery'\n",
    "#tif_dir = f'{main_dir}/masked_images'\n",
    "#tif_files = [os.path.join(tif_dir, f) for f in os.listdir(tif_dir) if f.endswith('.tif')]\n",
    "#out_dir = f'{main_dir}/raster_predictions'\n",
    "tif_files = f'{main_dir}/env_data_resamp.tif'\n",
    "out_dir = f'{main_dir}/raster_predictions_masked'\n",
    "\n",
    "tif_number = -1\n",
    "for file in tif_files:\n",
    "    tif_number +=1\n",
    "    out_tif = f'{out_dir}/raster_predict_{tif_number}.tif'\n",
    "    converter = rta.RasterToArrayConverter(file)\n",
    "    array = converter.convert()\n",
    "    modified_array = converter.apply_model(loaded_model)\n",
    "    converter.create_georeferenced_raster(out_tif, modified_array)\n",
    "\n",
    "    print(f\"New raster created at {out_dir}\")"
   ]
  }
 ],
 "metadata": {
  "kernelspec": {
   "display_name": "Python 3 (ipykernel)",
   "language": "python",
   "name": "python3"
  },
  "language_info": {
   "codemirror_mode": {
    "name": "ipython",
    "version": 3
   },
   "file_extension": ".py",
   "mimetype": "text/x-python",
   "name": "python",
   "nbconvert_exporter": "python",
   "pygments_lexer": "ipython3",
   "version": "3.12.1"
  }
 },
 "nbformat": 4,
 "nbformat_minor": 5
}
