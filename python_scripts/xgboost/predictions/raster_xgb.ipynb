{
 "cells": [
  {
   "cell_type": "code",
   "execution_count": 1,
   "id": "f6502942-4de7-4b2a-a020-6e8ff60de8d2",
   "metadata": {},
   "outputs": [],
   "source": [
    "import seaborn as sns\n",
    "import pandas as pd\n",
    "import numpy as np\n",
    "import matplotlib.pyplot as plt\n",
    "import sklearn\n",
    "import xgboost as xgb\n",
    "from osgeo import gdal\n",
    "import raster_to_array as rta\n",
    "import os"
   ]
  },
  {
   "cell_type": "markdown",
   "id": "1eb2e59c-abc0-414f-b0d8-78b75dee934e",
   "metadata": {},
   "source": [
    "### Loading the model"
   ]
  },
  {
   "cell_type": "code",
   "execution_count": 5,
   "id": "5c7da34c-2984-4622-a9d4-290637b36153",
   "metadata": {},
   "outputs": [],
   "source": [
    "main_dir = 'D:/!!Research/!!!Data/review_polys'\n",
    "model_path = 'D:/!!Research_github_repo/rgee_test/GEE_LPC/xgb_models/model.json'\n",
    "#model_path = f'{main_dir}/model.json'\n",
    "# Load model from file\n",
    "loaded_model = xgb.XGBClassifier()\n",
    "loaded_model.load_model(model_path)"
   ]
  },
  {
   "cell_type": "markdown",
   "id": "b398d90c-f0d1-45d6-a8d2-622a3df4f6fe",
   "metadata": {},
   "source": [
    "### Example with a single file"
   ]
  },
  {
   "cell_type": "code",
   "execution_count": 3,
   "id": "585076ed-68ca-4335-aaf6-7c26b7fcb402",
   "metadata": {},
   "outputs": [
    {
     "name": "stderr",
     "output_type": "stream",
     "text": [
      "C:\\Users\\Justin\\miniconda3\\envs\\gee_env\\Lib\\site-packages\\osgeo\\gdal.py:312: FutureWarning: Neither gdal.UseExceptions() nor gdal.DontUseExceptions() has been explicitly called. In GDAL 4.0, exceptions will be enabled by default.\n",
      "  warnings.warn(\n"
     ]
    },
    {
     "name": "stdout",
     "output_type": "stream",
     "text": [
      "New raster created at D:/!!Research/!!!Data/ArcGIS_Projects/buffers_tifs/raster_processing_tests/cell_0_test_file.tif\n"
     ]
    }
   ],
   "source": [
    "raster_path = f'{main_dir}/masked_images/masked0.tif'\n",
    "output_path = f'{main_dir}/cell_0_test_file.tif'\n",
    "\n",
    "converter = rta.RasterToArrayConverter(raster_path)\n",
    "array = converter.convert()\n",
    "modified_array = converter.apply_model(loaded_model)\n",
    "converter.create_georeferenced_raster(output_path, modified_array)\n",
    "\n",
    "print(f\"New raster created at {output_path}\")"
   ]
  },
  {
   "cell_type": "markdown",
   "id": "a6be18d5-f3a1-4cac-b3f6-8894baf3610a",
   "metadata": {},
   "source": [
    "### Using to run the function on a full directory of rasters"
   ]
  },
  {
   "cell_type": "code",
   "execution_count": 8,
   "id": "a3dc952a-6a82-4bce-b569-d20a42df7c72",
   "metadata": {},
   "outputs": [
    {
     "name": "stdout",
     "output_type": "stream",
     "text": [
      "New raster created at D:/!!Research/!!!Data/review_polys/poly14/raster_predictions\n",
      "New raster created at D:/!!Research/!!!Data/review_polys/poly14/raster_predictions\n"
     ]
    },
    {
     "ename": "IndexError",
     "evalue": "index 1 is out of bounds for axis 1 with size 0",
     "output_type": "error",
     "traceback": [
      "\u001b[1;31m---------------------------------------------------------------------------\u001b[0m",
      "\u001b[1;31mIndexError\u001b[0m                                Traceback (most recent call last)",
      "Cell \u001b[1;32mIn[8], line 16\u001b[0m\n\u001b[0;32m     14\u001b[0m converter \u001b[38;5;241m=\u001b[39m rta\u001b[38;5;241m.\u001b[39mRasterToArrayConverter(file)\n\u001b[0;32m     15\u001b[0m array \u001b[38;5;241m=\u001b[39m converter\u001b[38;5;241m.\u001b[39mconvert()\n\u001b[1;32m---> 16\u001b[0m modified_array \u001b[38;5;241m=\u001b[39m \u001b[43mconverter\u001b[49m\u001b[38;5;241;43m.\u001b[39;49m\u001b[43mapply_model\u001b[49m\u001b[43m(\u001b[49m\u001b[43mloaded_model\u001b[49m\u001b[43m)\u001b[49m\n\u001b[0;32m     17\u001b[0m converter\u001b[38;5;241m.\u001b[39mcreate_georeferenced_raster(out_tif, modified_array)\n\u001b[0;32m     19\u001b[0m \u001b[38;5;28mprint\u001b[39m(\u001b[38;5;124mf\u001b[39m\u001b[38;5;124m\"\u001b[39m\u001b[38;5;124mNew raster created at \u001b[39m\u001b[38;5;132;01m{\u001b[39;00mout_dir\u001b[38;5;132;01m}\u001b[39;00m\u001b[38;5;124m\"\u001b[39m)\n",
      "File \u001b[1;32mD:\\!!Research_github_repo\\rgee_test\\GEE_LPC\\python_scripts\\xgboost\\predictions\\raster_to_array.py:83\u001b[0m, in \u001b[0;36mRasterToArrayConverter.apply_model\u001b[1;34m(self, model, binary)\u001b[0m\n\u001b[0;32m     79\u001b[0m proba_predictions \u001b[38;5;241m=\u001b[39m model\u001b[38;5;241m.\u001b[39mpredict_proba(reshaped_array_valid)\n\u001b[0;32m     80\u001b[0m \u001b[38;5;66;03m#predictions = model.predict(reshaped_array)\u001b[39;00m\n\u001b[0;32m     81\u001b[0m \n\u001b[0;32m     82\u001b[0m \u001b[38;5;66;03m# Assuming binary classification and exporting probabilities for the positive class\u001b[39;00m\n\u001b[1;32m---> 83\u001b[0m positive_class_probs \u001b[38;5;241m=\u001b[39m \u001b[43mproba_predictions\u001b[49m\u001b[43m[\u001b[49m\u001b[43m:\u001b[49m\u001b[43m,\u001b[49m\u001b[43m \u001b[49m\u001b[38;5;241;43m1\u001b[39;49m\u001b[43m]\u001b[49m\n\u001b[0;32m     85\u001b[0m \u001b[38;5;66;03m# Convert probabilities to integers (e.g., 0.95 -> 95)\u001b[39;00m\n\u001b[0;32m     86\u001b[0m positive_class_probs_int \u001b[38;5;241m=\u001b[39m (positive_class_probs \u001b[38;5;241m*\u001b[39m \u001b[38;5;241m100\u001b[39m)\u001b[38;5;241m.\u001b[39mastype(\u001b[38;5;28mint\u001b[39m)\n",
      "\u001b[1;31mIndexError\u001b[0m: index 1 is out of bounds for axis 1 with size 0"
     ]
    }
   ],
   "source": [
    "tif_dir = f'{main_dir}/poly14/env_imagery'\n",
    "#tif_dir = f'{main_dir}/masked_images'\n",
    "tif_files = [os.path.join(tif_dir, f) for f in os.listdir(tif_dir) if f.endswith('.tif')]\n",
    "#out_dir = f'{main_dir}/raster_predictions'\n",
    "\n",
    "# if using single image\n",
    "#tif_files = f'{main_dir}/poly14/env_imagery'\n",
    "out_dir = f'{main_dir}/poly14/raster_predictions'\n",
    "\n",
    "tif_number = -1\n",
    "for file in tif_files:\n",
    "    tif_number +=1\n",
    "    out_tif = f'{out_dir}/raster_predict_{tif_number}.tif'\n",
    "    converter = rta.RasterToArrayConverter(file)\n",
    "    array = converter.convert()\n",
    "    modified_array = converter.apply_model(loaded_model)\n",
    "    converter.create_georeferenced_raster(out_tif, modified_array)\n",
    "\n",
    "    print(f\"New raster created at {out_dir}\")"
   ]
  }
 ],
 "metadata": {
  "kernelspec": {
   "display_name": "Python 3 (ipykernel)",
   "language": "python",
   "name": "python3"
  },
  "language_info": {
   "codemirror_mode": {
    "name": "ipython",
    "version": 3
   },
   "file_extension": ".py",
   "mimetype": "text/x-python",
   "name": "python",
   "nbconvert_exporter": "python",
   "pygments_lexer": "ipython3",
   "version": "3.12.1"
  }
 },
 "nbformat": 4,
 "nbformat_minor": 5
}
